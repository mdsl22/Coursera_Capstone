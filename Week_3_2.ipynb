{
  "nbformat": 4,
  "nbformat_minor": 0,
  "metadata": {
    "colab": {
      "name": "Week_3_2.ipynb",
      "provenance": [],
      "collapsed_sections": [],
      "include_colab_link": true
    },
    "kernelspec": {
      "name": "python3",
      "display_name": "Python 3"
    }
  },
  "cells": [
    {
      "cell_type": "markdown",
      "metadata": {
        "id": "view-in-github",
        "colab_type": "text"
      },
      "source": [
        "<a href=\"https://colab.research.google.com/github/mdsl22/Coursera_Capstone/blob/master/Week_3_2.ipynb\" target=\"_parent\"><img src=\"https://colab.research.google.com/assets/colab-badge.svg\" alt=\"Open In Colab\"/></a>"
      ]
    },
    {
      "cell_type": "markdown",
      "metadata": {
        "id": "k_7ro8HwFy64",
        "colab_type": "text"
      },
      "source": [
        "## 1 Introduction\n",
        "\n",
        "This notebook will be used for the week 3 assignment of the Applied Data Science Capstone."
      ]
    },
    {
      "cell_type": "markdown",
      "metadata": {
        "id": "CwRvkBG7ILb3",
        "colab_type": "text"
      },
      "source": [
        "### 1.1 Download the required libraries"
      ]
    },
    {
      "cell_type": "code",
      "metadata": {
        "id": "vJ_cwo7-Fs5-",
        "colab_type": "code",
        "outputId": "dbde2113-0e82-40e6-a683-a0ca26423bba",
        "colab": {
          "base_uri": "https://localhost:8080/",
          "height": 35
        }
      },
      "source": [
        "import numpy as np \n",
        "import pandas as pd\n",
        "\n",
        "pd.set_option('display.max_columns', None)\n",
        "pd.set_option('display.max_rows', None)\n",
        "\n",
        "import json # library to handle JSON files\n",
        "\n",
        "from geopy.geocoders import Nominatim # convert an address into latitude and longitude values\n",
        "\n",
        "import requests # library to handle requests\n",
        "from pandas.io.json import json_normalize # tranform JSON file into a pandas dataframe\n",
        "\n",
        "# Matplotlib and associated plotting modules\n",
        "import matplotlib.cm as cm\n",
        "import matplotlib.colors as colors\n",
        "\n",
        "# import k-means from clustering stage\n",
        "from sklearn.cluster import KMeans\n",
        "\n",
        "import folium # map rendering library\n",
        "\n",
        "print('Libraries imported.')"
      ],
      "execution_count": 1,
      "outputs": [
        {
          "output_type": "stream",
          "text": [
            "Libraries imported.\n"
          ],
          "name": "stdout"
        }
      ]
    },
    {
      "cell_type": "markdown",
      "metadata": {
        "id": "Nts1vAXvJt9x",
        "colab_type": "text"
      },
      "source": [
        "## 2 Download and explore the dataset\n",
        "\n",
        "### 2.1 Install Wikipedia module for Python"
      ]
    },
    {
      "cell_type": "code",
      "metadata": {
        "id": "F1DdwPQmJH0b",
        "colab_type": "code",
        "outputId": "08c22174-fcd6-47dc-9c65-974ad045464c",
        "colab": {
          "base_uri": "https://localhost:8080/",
          "height": 297
        }
      },
      "source": [
        "import sys\n",
        "!{sys.executable} -m pip install wikipedia"
      ],
      "execution_count": 2,
      "outputs": [
        {
          "output_type": "stream",
          "text": [
            "Collecting wikipedia\n",
            "  Downloading https://files.pythonhosted.org/packages/67/35/25e68fbc99e672127cc6fbb14b8ec1ba3dfef035bf1e4c90f78f24a80b7d/wikipedia-1.4.0.tar.gz\n",
            "Requirement already satisfied: beautifulsoup4 in /usr/local/lib/python3.6/dist-packages (from wikipedia) (4.6.3)\n",
            "Requirement already satisfied: requests<3.0.0,>=2.0.0 in /usr/local/lib/python3.6/dist-packages (from wikipedia) (2.21.0)\n",
            "Requirement already satisfied: chardet<3.1.0,>=3.0.2 in /usr/local/lib/python3.6/dist-packages (from requests<3.0.0,>=2.0.0->wikipedia) (3.0.4)\n",
            "Requirement already satisfied: certifi>=2017.4.17 in /usr/local/lib/python3.6/dist-packages (from requests<3.0.0,>=2.0.0->wikipedia) (2019.9.11)\n",
            "Requirement already satisfied: idna<2.9,>=2.5 in /usr/local/lib/python3.6/dist-packages (from requests<3.0.0,>=2.0.0->wikipedia) (2.8)\n",
            "Requirement already satisfied: urllib3<1.25,>=1.21.1 in /usr/local/lib/python3.6/dist-packages (from requests<3.0.0,>=2.0.0->wikipedia) (1.24.3)\n",
            "Building wheels for collected packages: wikipedia\n",
            "  Building wheel for wikipedia (setup.py) ... \u001b[?25l\u001b[?25hdone\n",
            "  Created wheel for wikipedia: filename=wikipedia-1.4.0-cp36-none-any.whl size=11686 sha256=b4d63b9e4c8ef9facf8e292252eee33923825ea69764bf352cd54f4467145ad3\n",
            "  Stored in directory: /root/.cache/pip/wheels/87/2a/18/4e471fd96d12114d16fe4a446d00c3b38fb9efcb744bd31f4a\n",
            "Successfully built wikipedia\n",
            "Installing collected packages: wikipedia\n",
            "Successfully installed wikipedia-1.4.0\n"
          ],
          "name": "stdout"
        }
      ]
    },
    {
      "cell_type": "markdown",
      "metadata": {
        "id": "gT0m5QxQLNDc",
        "colab_type": "text"
      },
      "source": [
        "### 2.2 Scrape data from Wikipedia into a csv file"
      ]
    },
    {
      "cell_type": "code",
      "metadata": {
        "id": "Mw8HJzM9JxlA",
        "colab_type": "code",
        "colab": {}
      },
      "source": [
        "import wikipedia as wp\n",
        " \n",
        "html = wp.page(\"List of postal codes of Canada: M\").html().encode(\"UTF-8\")\n",
        "df = pd.read_html(html)[0]\n",
        "df.to_csv('toronto_data.csv',header=1,index=False)"
      ],
      "execution_count": 0,
      "outputs": []
    },
    {
      "cell_type": "markdown",
      "metadata": {
        "id": "S3Ny_ARQMnBj",
        "colab_type": "text"
      },
      "source": [
        "### 2.3 Transform the data into a pandas dataframe"
      ]
    },
    {
      "cell_type": "code",
      "metadata": {
        "id": "1gExSrT0LqdQ",
        "colab_type": "code",
        "outputId": "25bc5aeb-08b1-4c86-89d3-e0024697b093",
        "colab": {
          "base_uri": "https://localhost:8080/",
          "height": 355
        }
      },
      "source": [
        "# The dataframe will consist of three columns: PostalCode, Borough, and Neighborhood\n",
        "\n",
        "df = pd.read_csv('toronto_data.csv')\n",
        "df.head(10)"
      ],
      "execution_count": 4,
      "outputs": [
        {
          "output_type": "execute_result",
          "data": {
            "text/html": [
              "<div>\n",
              "<style scoped>\n",
              "    .dataframe tbody tr th:only-of-type {\n",
              "        vertical-align: middle;\n",
              "    }\n",
              "\n",
              "    .dataframe tbody tr th {\n",
              "        vertical-align: top;\n",
              "    }\n",
              "\n",
              "    .dataframe thead th {\n",
              "        text-align: right;\n",
              "    }\n",
              "</style>\n",
              "<table border=\"1\" class=\"dataframe\">\n",
              "  <thead>\n",
              "    <tr style=\"text-align: right;\">\n",
              "      <th></th>\n",
              "      <th>Postcode</th>\n",
              "      <th>Borough</th>\n",
              "      <th>Neighbourhood</th>\n",
              "    </tr>\n",
              "  </thead>\n",
              "  <tbody>\n",
              "    <tr>\n",
              "      <th>0</th>\n",
              "      <td>M1A</td>\n",
              "      <td>Not assigned</td>\n",
              "      <td>Not assigned</td>\n",
              "    </tr>\n",
              "    <tr>\n",
              "      <th>1</th>\n",
              "      <td>M2A</td>\n",
              "      <td>Not assigned</td>\n",
              "      <td>Not assigned</td>\n",
              "    </tr>\n",
              "    <tr>\n",
              "      <th>2</th>\n",
              "      <td>M3A</td>\n",
              "      <td>North York</td>\n",
              "      <td>Parkwoods</td>\n",
              "    </tr>\n",
              "    <tr>\n",
              "      <th>3</th>\n",
              "      <td>M4A</td>\n",
              "      <td>North York</td>\n",
              "      <td>Victoria Village</td>\n",
              "    </tr>\n",
              "    <tr>\n",
              "      <th>4</th>\n",
              "      <td>M5A</td>\n",
              "      <td>Downtown Toronto</td>\n",
              "      <td>Harbourfront</td>\n",
              "    </tr>\n",
              "    <tr>\n",
              "      <th>5</th>\n",
              "      <td>M6A</td>\n",
              "      <td>North York</td>\n",
              "      <td>Lawrence Heights</td>\n",
              "    </tr>\n",
              "    <tr>\n",
              "      <th>6</th>\n",
              "      <td>M6A</td>\n",
              "      <td>North York</td>\n",
              "      <td>Lawrence Manor</td>\n",
              "    </tr>\n",
              "    <tr>\n",
              "      <th>7</th>\n",
              "      <td>M7A</td>\n",
              "      <td>Queen's Park</td>\n",
              "      <td>Not assigned</td>\n",
              "    </tr>\n",
              "    <tr>\n",
              "      <th>8</th>\n",
              "      <td>M8A</td>\n",
              "      <td>Not assigned</td>\n",
              "      <td>Not assigned</td>\n",
              "    </tr>\n",
              "    <tr>\n",
              "      <th>9</th>\n",
              "      <td>M9A</td>\n",
              "      <td>Queen's Park</td>\n",
              "      <td>Queen's Park</td>\n",
              "    </tr>\n",
              "  </tbody>\n",
              "</table>\n",
              "</div>"
            ],
            "text/plain": [
              "  Postcode           Borough     Neighbourhood\n",
              "0      M1A      Not assigned      Not assigned\n",
              "1      M2A      Not assigned      Not assigned\n",
              "2      M3A        North York         Parkwoods\n",
              "3      M4A        North York  Victoria Village\n",
              "4      M5A  Downtown Toronto      Harbourfront\n",
              "5      M6A        North York  Lawrence Heights\n",
              "6      M6A        North York    Lawrence Manor\n",
              "7      M7A      Queen's Park      Not assigned\n",
              "8      M8A      Not assigned      Not assigned\n",
              "9      M9A      Queen's Park      Queen's Park"
            ]
          },
          "metadata": {
            "tags": []
          },
          "execution_count": 4
        }
      ]
    },
    {
      "cell_type": "code",
      "metadata": {
        "id": "0phtGXFjQe1Z",
        "colab_type": "code",
        "outputId": "e0e9a851-7d63-4eb6-e2fc-d7385bf00b3a",
        "colab": {
          "base_uri": "https://localhost:8080/",
          "height": 355
        }
      },
      "source": [
        "#  Ignore cells with a borough that is Not assigned\n",
        "\n",
        "df['Borough'].replace('Not assigned', np.nan, inplace=True)\n",
        "df.dropna(subset=['Borough'], inplace=True)\n",
        "\n",
        "df.head(10)"
      ],
      "execution_count": 5,
      "outputs": [
        {
          "output_type": "execute_result",
          "data": {
            "text/html": [
              "<div>\n",
              "<style scoped>\n",
              "    .dataframe tbody tr th:only-of-type {\n",
              "        vertical-align: middle;\n",
              "    }\n",
              "\n",
              "    .dataframe tbody tr th {\n",
              "        vertical-align: top;\n",
              "    }\n",
              "\n",
              "    .dataframe thead th {\n",
              "        text-align: right;\n",
              "    }\n",
              "</style>\n",
              "<table border=\"1\" class=\"dataframe\">\n",
              "  <thead>\n",
              "    <tr style=\"text-align: right;\">\n",
              "      <th></th>\n",
              "      <th>Postcode</th>\n",
              "      <th>Borough</th>\n",
              "      <th>Neighbourhood</th>\n",
              "    </tr>\n",
              "  </thead>\n",
              "  <tbody>\n",
              "    <tr>\n",
              "      <th>2</th>\n",
              "      <td>M3A</td>\n",
              "      <td>North York</td>\n",
              "      <td>Parkwoods</td>\n",
              "    </tr>\n",
              "    <tr>\n",
              "      <th>3</th>\n",
              "      <td>M4A</td>\n",
              "      <td>North York</td>\n",
              "      <td>Victoria Village</td>\n",
              "    </tr>\n",
              "    <tr>\n",
              "      <th>4</th>\n",
              "      <td>M5A</td>\n",
              "      <td>Downtown Toronto</td>\n",
              "      <td>Harbourfront</td>\n",
              "    </tr>\n",
              "    <tr>\n",
              "      <th>5</th>\n",
              "      <td>M6A</td>\n",
              "      <td>North York</td>\n",
              "      <td>Lawrence Heights</td>\n",
              "    </tr>\n",
              "    <tr>\n",
              "      <th>6</th>\n",
              "      <td>M6A</td>\n",
              "      <td>North York</td>\n",
              "      <td>Lawrence Manor</td>\n",
              "    </tr>\n",
              "    <tr>\n",
              "      <th>7</th>\n",
              "      <td>M7A</td>\n",
              "      <td>Queen's Park</td>\n",
              "      <td>Not assigned</td>\n",
              "    </tr>\n",
              "    <tr>\n",
              "      <th>9</th>\n",
              "      <td>M9A</td>\n",
              "      <td>Queen's Park</td>\n",
              "      <td>Queen's Park</td>\n",
              "    </tr>\n",
              "    <tr>\n",
              "      <th>10</th>\n",
              "      <td>M1B</td>\n",
              "      <td>Scarborough</td>\n",
              "      <td>Rouge</td>\n",
              "    </tr>\n",
              "    <tr>\n",
              "      <th>11</th>\n",
              "      <td>M1B</td>\n",
              "      <td>Scarborough</td>\n",
              "      <td>Malvern</td>\n",
              "    </tr>\n",
              "    <tr>\n",
              "      <th>13</th>\n",
              "      <td>M3B</td>\n",
              "      <td>North York</td>\n",
              "      <td>Don Mills North</td>\n",
              "    </tr>\n",
              "  </tbody>\n",
              "</table>\n",
              "</div>"
            ],
            "text/plain": [
              "   Postcode           Borough     Neighbourhood\n",
              "2       M3A        North York         Parkwoods\n",
              "3       M4A        North York  Victoria Village\n",
              "4       M5A  Downtown Toronto      Harbourfront\n",
              "5       M6A        North York  Lawrence Heights\n",
              "6       M6A        North York    Lawrence Manor\n",
              "7       M7A      Queen's Park      Not assigned\n",
              "9       M9A      Queen's Park      Queen's Park\n",
              "10      M1B       Scarborough             Rouge\n",
              "11      M1B       Scarborough           Malvern\n",
              "13      M3B        North York   Don Mills North"
            ]
          },
          "metadata": {
            "tags": []
          },
          "execution_count": 5
        }
      ]
    },
    {
      "cell_type": "code",
      "metadata": {
        "colab_type": "code",
        "id": "Uwznoum2kAk4",
        "colab": {}
      },
      "source": [
        "# If Neighborhood = Not assigned then Neighborhood = Borough"
      ],
      "execution_count": 0,
      "outputs": []
    },
    {
      "cell_type": "code",
      "metadata": {
        "id": "ESihjzpZYR09",
        "colab_type": "code",
        "outputId": "a0f57242-1af4-4817-9e7c-6377a10ca368",
        "colab": {
          "base_uri": "https://localhost:8080/",
          "height": 355
        }
      },
      "source": [
        "df['Neighbourhood'] = np.where(df['Neighbourhood']=='Not assigned', df['Borough'], df['Neighbourhood'])\n",
        "\n",
        "df.head(10)"
      ],
      "execution_count": 7,
      "outputs": [
        {
          "output_type": "execute_result",
          "data": {
            "text/html": [
              "<div>\n",
              "<style scoped>\n",
              "    .dataframe tbody tr th:only-of-type {\n",
              "        vertical-align: middle;\n",
              "    }\n",
              "\n",
              "    .dataframe tbody tr th {\n",
              "        vertical-align: top;\n",
              "    }\n",
              "\n",
              "    .dataframe thead th {\n",
              "        text-align: right;\n",
              "    }\n",
              "</style>\n",
              "<table border=\"1\" class=\"dataframe\">\n",
              "  <thead>\n",
              "    <tr style=\"text-align: right;\">\n",
              "      <th></th>\n",
              "      <th>Postcode</th>\n",
              "      <th>Borough</th>\n",
              "      <th>Neighbourhood</th>\n",
              "    </tr>\n",
              "  </thead>\n",
              "  <tbody>\n",
              "    <tr>\n",
              "      <th>2</th>\n",
              "      <td>M3A</td>\n",
              "      <td>North York</td>\n",
              "      <td>Parkwoods</td>\n",
              "    </tr>\n",
              "    <tr>\n",
              "      <th>3</th>\n",
              "      <td>M4A</td>\n",
              "      <td>North York</td>\n",
              "      <td>Victoria Village</td>\n",
              "    </tr>\n",
              "    <tr>\n",
              "      <th>4</th>\n",
              "      <td>M5A</td>\n",
              "      <td>Downtown Toronto</td>\n",
              "      <td>Harbourfront</td>\n",
              "    </tr>\n",
              "    <tr>\n",
              "      <th>5</th>\n",
              "      <td>M6A</td>\n",
              "      <td>North York</td>\n",
              "      <td>Lawrence Heights</td>\n",
              "    </tr>\n",
              "    <tr>\n",
              "      <th>6</th>\n",
              "      <td>M6A</td>\n",
              "      <td>North York</td>\n",
              "      <td>Lawrence Manor</td>\n",
              "    </tr>\n",
              "    <tr>\n",
              "      <th>7</th>\n",
              "      <td>M7A</td>\n",
              "      <td>Queen's Park</td>\n",
              "      <td>Queen's Park</td>\n",
              "    </tr>\n",
              "    <tr>\n",
              "      <th>9</th>\n",
              "      <td>M9A</td>\n",
              "      <td>Queen's Park</td>\n",
              "      <td>Queen's Park</td>\n",
              "    </tr>\n",
              "    <tr>\n",
              "      <th>10</th>\n",
              "      <td>M1B</td>\n",
              "      <td>Scarborough</td>\n",
              "      <td>Rouge</td>\n",
              "    </tr>\n",
              "    <tr>\n",
              "      <th>11</th>\n",
              "      <td>M1B</td>\n",
              "      <td>Scarborough</td>\n",
              "      <td>Malvern</td>\n",
              "    </tr>\n",
              "    <tr>\n",
              "      <th>13</th>\n",
              "      <td>M3B</td>\n",
              "      <td>North York</td>\n",
              "      <td>Don Mills North</td>\n",
              "    </tr>\n",
              "  </tbody>\n",
              "</table>\n",
              "</div>"
            ],
            "text/plain": [
              "   Postcode           Borough     Neighbourhood\n",
              "2       M3A        North York         Parkwoods\n",
              "3       M4A        North York  Victoria Village\n",
              "4       M5A  Downtown Toronto      Harbourfront\n",
              "5       M6A        North York  Lawrence Heights\n",
              "6       M6A        North York    Lawrence Manor\n",
              "7       M7A      Queen's Park      Queen's Park\n",
              "9       M9A      Queen's Park      Queen's Park\n",
              "10      M1B       Scarborough             Rouge\n",
              "11      M1B       Scarborough           Malvern\n",
              "13      M3B        North York   Don Mills North"
            ]
          },
          "metadata": {
            "tags": []
          },
          "execution_count": 7
        }
      ]
    },
    {
      "cell_type": "code",
      "metadata": {
        "id": "xlWMyPqyWSUO",
        "colab_type": "code",
        "outputId": "98a8d0f5-4b02-4140-e8d7-d69546fe74b2",
        "colab": {
          "base_uri": "https://localhost:8080/",
          "height": 417
        }
      },
      "source": [
        "# Combine the rows of one postal code area\n",
        "\n",
        "df_toronto = df.groupby('Postcode').agg(\n",
        "    {\n",
        "        'Borough':'first', \n",
        "        'Neighbourhood': ', '.join,}\n",
        "    ).reset_index()\n",
        "\n",
        "df_toronto.head(12)"
      ],
      "execution_count": 13,
      "outputs": [
        {
          "output_type": "execute_result",
          "data": {
            "text/html": [
              "<div>\n",
              "<style scoped>\n",
              "    .dataframe tbody tr th:only-of-type {\n",
              "        vertical-align: middle;\n",
              "    }\n",
              "\n",
              "    .dataframe tbody tr th {\n",
              "        vertical-align: top;\n",
              "    }\n",
              "\n",
              "    .dataframe thead th {\n",
              "        text-align: right;\n",
              "    }\n",
              "</style>\n",
              "<table border=\"1\" class=\"dataframe\">\n",
              "  <thead>\n",
              "    <tr style=\"text-align: right;\">\n",
              "      <th></th>\n",
              "      <th>Postcode</th>\n",
              "      <th>Borough</th>\n",
              "      <th>Neighbourhood</th>\n",
              "    </tr>\n",
              "  </thead>\n",
              "  <tbody>\n",
              "    <tr>\n",
              "      <th>0</th>\n",
              "      <td>M1B</td>\n",
              "      <td>Scarborough</td>\n",
              "      <td>Rouge, Malvern</td>\n",
              "    </tr>\n",
              "    <tr>\n",
              "      <th>1</th>\n",
              "      <td>M1C</td>\n",
              "      <td>Scarborough</td>\n",
              "      <td>Highland Creek, Rouge Hill, Port Union</td>\n",
              "    </tr>\n",
              "    <tr>\n",
              "      <th>2</th>\n",
              "      <td>M1E</td>\n",
              "      <td>Scarborough</td>\n",
              "      <td>Guildwood, Morningside, West Hill</td>\n",
              "    </tr>\n",
              "    <tr>\n",
              "      <th>3</th>\n",
              "      <td>M1G</td>\n",
              "      <td>Scarborough</td>\n",
              "      <td>Woburn</td>\n",
              "    </tr>\n",
              "    <tr>\n",
              "      <th>4</th>\n",
              "      <td>M1H</td>\n",
              "      <td>Scarborough</td>\n",
              "      <td>Cedarbrae</td>\n",
              "    </tr>\n",
              "    <tr>\n",
              "      <th>5</th>\n",
              "      <td>M1J</td>\n",
              "      <td>Scarborough</td>\n",
              "      <td>Scarborough Village</td>\n",
              "    </tr>\n",
              "    <tr>\n",
              "      <th>6</th>\n",
              "      <td>M1K</td>\n",
              "      <td>Scarborough</td>\n",
              "      <td>East Birchmount Park, Ionview, Kennedy Park</td>\n",
              "    </tr>\n",
              "    <tr>\n",
              "      <th>7</th>\n",
              "      <td>M1L</td>\n",
              "      <td>Scarborough</td>\n",
              "      <td>Clairlea, Golden Mile, Oakridge</td>\n",
              "    </tr>\n",
              "    <tr>\n",
              "      <th>8</th>\n",
              "      <td>M1M</td>\n",
              "      <td>Scarborough</td>\n",
              "      <td>Cliffcrest, Cliffside, Scarborough Village West</td>\n",
              "    </tr>\n",
              "    <tr>\n",
              "      <th>9</th>\n",
              "      <td>M1N</td>\n",
              "      <td>Scarborough</td>\n",
              "      <td>Birch Cliff, Cliffside West</td>\n",
              "    </tr>\n",
              "    <tr>\n",
              "      <th>10</th>\n",
              "      <td>M1P</td>\n",
              "      <td>Scarborough</td>\n",
              "      <td>Dorset Park, Scarborough Town Centre, Wexford ...</td>\n",
              "    </tr>\n",
              "    <tr>\n",
              "      <th>11</th>\n",
              "      <td>M1R</td>\n",
              "      <td>Scarborough</td>\n",
              "      <td>Maryvale, Wexford</td>\n",
              "    </tr>\n",
              "  </tbody>\n",
              "</table>\n",
              "</div>"
            ],
            "text/plain": [
              "   Postcode      Borough                                      Neighbourhood\n",
              "0       M1B  Scarborough                                     Rouge, Malvern\n",
              "1       M1C  Scarborough             Highland Creek, Rouge Hill, Port Union\n",
              "2       M1E  Scarborough                  Guildwood, Morningside, West Hill\n",
              "3       M1G  Scarborough                                             Woburn\n",
              "4       M1H  Scarborough                                          Cedarbrae\n",
              "5       M1J  Scarborough                                Scarborough Village\n",
              "6       M1K  Scarborough        East Birchmount Park, Ionview, Kennedy Park\n",
              "7       M1L  Scarborough                    Clairlea, Golden Mile, Oakridge\n",
              "8       M1M  Scarborough    Cliffcrest, Cliffside, Scarborough Village West\n",
              "9       M1N  Scarborough                        Birch Cliff, Cliffside West\n",
              "10      M1P  Scarborough  Dorset Park, Scarborough Town Centre, Wexford ...\n",
              "11      M1R  Scarborough                                  Maryvale, Wexford"
            ]
          },
          "metadata": {
            "tags": []
          },
          "execution_count": 13
        }
      ]
    },
    {
      "cell_type": "code",
      "metadata": {
        "id": "lG69vbLpXnmP",
        "colab_type": "code",
        "outputId": "a2e69e86-8c36-4c8d-93fa-982ad4934f86",
        "colab": {
          "base_uri": "https://localhost:8080/",
          "height": 35
        }
      },
      "source": [
        "df_toronto.shape"
      ],
      "execution_count": 11,
      "outputs": [
        {
          "output_type": "execute_result",
          "data": {
            "text/plain": [
              "(103, 3)"
            ]
          },
          "metadata": {
            "tags": []
          },
          "execution_count": 11
        }
      ]
    },
    {
      "cell_type": "markdown",
      "metadata": {
        "id": "G-ENWnNACXHc",
        "colab_type": "text"
      },
      "source": [
        "## 3 Latitude and the longitude coordinates of each neighborhood"
      ]
    },
    {
      "cell_type": "code",
      "metadata": {
        "id": "PXdqleGFrwNd",
        "colab_type": "code",
        "colab": {
          "base_uri": "https://localhost:8080/",
          "height": 627
        },
        "outputId": "97f0e822-3ff9-452a-c192-99fca4baf076"
      },
      "source": [
        "# Obtain coordinates from the given csv file\n",
        "\n",
        "!wget -O GeoCord.csv http://cocl.us/Geospatial_data/"
      ],
      "execution_count": 14,
      "outputs": [
        {
          "output_type": "stream",
          "text": [
            "--2019-11-17 15:56:34--  http://cocl.us/Geospatial_data/\n",
            "Resolving cocl.us (cocl.us)... 161.202.50.39\n",
            "Connecting to cocl.us (cocl.us)|161.202.50.39|:80... connected.\n",
            "HTTP request sent, awaiting response... 301 Moved Permanently\n",
            "Location: https://cocl.us/Geospatial_data/ [following]\n",
            "--2019-11-17 15:56:34--  https://cocl.us/Geospatial_data/\n",
            "Connecting to cocl.us (cocl.us)|161.202.50.39|:443... connected.\n",
            "HTTP request sent, awaiting response... 301 Moved Permanently\n",
            "Location: https://ibm.box.com/shared/static/9afzr83pps4pwf2smjjcf1y5mvgb18rr.csv [following]\n",
            "--2019-11-17 15:56:36--  https://ibm.box.com/shared/static/9afzr83pps4pwf2smjjcf1y5mvgb18rr.csv\n",
            "Resolving ibm.box.com (ibm.box.com)... 103.116.4.197\n",
            "Connecting to ibm.box.com (ibm.box.com)|103.116.4.197|:443... connected.\n",
            "HTTP request sent, awaiting response... 301 Moved Permanently\n",
            "Location: /public/static/9afzr83pps4pwf2smjjcf1y5mvgb18rr.csv [following]\n",
            "--2019-11-17 15:56:37--  https://ibm.box.com/public/static/9afzr83pps4pwf2smjjcf1y5mvgb18rr.csv\n",
            "Reusing existing connection to ibm.box.com:443.\n",
            "HTTP request sent, awaiting response... 301 Moved Permanently\n",
            "Location: https://ibm.ent.box.com/public/static/9afzr83pps4pwf2smjjcf1y5mvgb18rr.csv [following]\n",
            "--2019-11-17 15:56:37--  https://ibm.ent.box.com/public/static/9afzr83pps4pwf2smjjcf1y5mvgb18rr.csv\n",
            "Resolving ibm.ent.box.com (ibm.ent.box.com)... 103.116.4.211\n",
            "Connecting to ibm.ent.box.com (ibm.ent.box.com)|103.116.4.211|:443... connected.\n",
            "HTTP request sent, awaiting response... 302 Found\n",
            "Location: https://public.boxcloud.com/d/1/b1!HZymyaOfsYsXnkixAZHUpJaiJnJBLFw_pm3F4odAipvjuz1SIaLlznRkooQeW7vYIoIJhzXPeKDcmDNT3e_p9UlWNsoWD_AfkQxZragOkAotJ1v3YPTJtKHe0jkRvLREqG6s2FCcFbYAxH-BwWKHuctQdzTO_qOGzAubWmdVsJ72W9BNuTgc9XM5JrISJct0TRQwWJm8TFZwc2jUccAVIlJ1Vqwq3f-D8tohvdOj0zQr2w5TPgvsbHKVJHPvQWnW0pzKZY6M_nQ9rS-7FsMV-x1U4FnfuRfbLKXjIQ2LnXM1yKSW2ZTpm8vu6YJrJW4YdLi0BXznkBpg6wAl80O8u8-53al3Xk53lyilPbNoXBmsU5Ym3jiaLIo0q1WlhVJEMr81k6kKvPZGiY9QZcuDtuPYT-PDolMh_M37-ifk6Sfl1mOTg7dKJd9oGUp1pt9zXQlizkQb8Gnm46B2eW8OBszegu0qJBWidKNnmHURBrHcaKo-qtRpANInngU4r4tPwIuMluS5lJ-jciXCGy-RzpIjQqH-UROCig008jeOqAXKjFH6ngWB70Sx1racXOG_FTbQOtTSw3ycOPR07iTY9__X3BYkPH0GJAjPeGxqbqvDNHsjwMCDs3yIEoBkE96U1R5fiOo6S5zX1Aq752qV47EC4CC3_9mxW0qCKBXAeQHpKd5Lsy86lD6f-C9G_2OlG1ABeZeXzSSSmRWhQM-kCv0mPjP-imGJe7ceZBv6cYdQxAkv1VaQzoBiGNeq1hSYmZrmLUdBQKGHCEE3boN1FcV60LCzdWVWK5-SgfEZM8qMx2SPbWoBV79cwaT6tZ7gue2hH-mO18ok_fGTjyemuLhuK0K4H4UKk5JFQLE9r5AvqfGQ27KxiSSZYvSuWM3eSiKXRhi-KjUqHnvED9ucH4Av2gbRsXT9w0j7Wxb-R6kOsaYSkyfExhtJST0JQg0RD2rdacv_l5nqZ4Jhphqx5Rr45-yEP1vg8G1uXVN3LPmiNduCFhjmcDVW5wduMOrGMmFz1UjA_-jnW41ox_8NHNx8FTRRKlWb8YNHmltQwwxytFDvgJvP1EOnmPYFEyOdg6ns2NrmlRYxAiHnniiain_sHAZG5yPNUegm0EnhlTirC9NPqdltN1D3f-haWBJaEL2staCSBGHktDdZFFrVeH9Tnt3jONjb5ZR1y9UNZ4lG0nw3SAbFnMGOubZw-puXlmjrtT3N1tjjfCTLPdtRMXxZXAn1QCA3OXyNduu1iftQwfEOe95azHWPE12dUK2CMW8wdAdEwC2-QtpXOBhbsPVo6zjAMzxefpqrOt1JLzDHx7VTGnfwH86zkz80K_1tH54mBuC9XuSg0ed8Iy5B7Ck0G2aUSIzBg5hLn-Rdz6lt2vn3cb87LMKsBHQ./download [following]\n",
            "--2019-11-17 15:56:38--  https://public.boxcloud.com/d/1/b1!HZymyaOfsYsXnkixAZHUpJaiJnJBLFw_pm3F4odAipvjuz1SIaLlznRkooQeW7vYIoIJhzXPeKDcmDNT3e_p9UlWNsoWD_AfkQxZragOkAotJ1v3YPTJtKHe0jkRvLREqG6s2FCcFbYAxH-BwWKHuctQdzTO_qOGzAubWmdVsJ72W9BNuTgc9XM5JrISJct0TRQwWJm8TFZwc2jUccAVIlJ1Vqwq3f-D8tohvdOj0zQr2w5TPgvsbHKVJHPvQWnW0pzKZY6M_nQ9rS-7FsMV-x1U4FnfuRfbLKXjIQ2LnXM1yKSW2ZTpm8vu6YJrJW4YdLi0BXznkBpg6wAl80O8u8-53al3Xk53lyilPbNoXBmsU5Ym3jiaLIo0q1WlhVJEMr81k6kKvPZGiY9QZcuDtuPYT-PDolMh_M37-ifk6Sfl1mOTg7dKJd9oGUp1pt9zXQlizkQb8Gnm46B2eW8OBszegu0qJBWidKNnmHURBrHcaKo-qtRpANInngU4r4tPwIuMluS5lJ-jciXCGy-RzpIjQqH-UROCig008jeOqAXKjFH6ngWB70Sx1racXOG_FTbQOtTSw3ycOPR07iTY9__X3BYkPH0GJAjPeGxqbqvDNHsjwMCDs3yIEoBkE96U1R5fiOo6S5zX1Aq752qV47EC4CC3_9mxW0qCKBXAeQHpKd5Lsy86lD6f-C9G_2OlG1ABeZeXzSSSmRWhQM-kCv0mPjP-imGJe7ceZBv6cYdQxAkv1VaQzoBiGNeq1hSYmZrmLUdBQKGHCEE3boN1FcV60LCzdWVWK5-SgfEZM8qMx2SPbWoBV79cwaT6tZ7gue2hH-mO18ok_fGTjyemuLhuK0K4H4UKk5JFQLE9r5AvqfGQ27KxiSSZYvSuWM3eSiKXRhi-KjUqHnvED9ucH4Av2gbRsXT9w0j7Wxb-R6kOsaYSkyfExhtJST0JQg0RD2rdacv_l5nqZ4Jhphqx5Rr45-yEP1vg8G1uXVN3LPmiNduCFhjmcDVW5wduMOrGMmFz1UjA_-jnW41ox_8NHNx8FTRRKlWb8YNHmltQwwxytFDvgJvP1EOnmPYFEyOdg6ns2NrmlRYxAiHnniiain_sHAZG5yPNUegm0EnhlTirC9NPqdltN1D3f-haWBJaEL2staCSBGHktDdZFFrVeH9Tnt3jONjb5ZR1y9UNZ4lG0nw3SAbFnMGOubZw-puXlmjrtT3N1tjjfCTLPdtRMXxZXAn1QCA3OXyNduu1iftQwfEOe95azHWPE12dUK2CMW8wdAdEwC2-QtpXOBhbsPVo6zjAMzxefpqrOt1JLzDHx7VTGnfwH86zkz80K_1tH54mBuC9XuSg0ed8Iy5B7Ck0G2aUSIzBg5hLn-Rdz6lt2vn3cb87LMKsBHQ./download\n",
            "Resolving public.boxcloud.com (public.boxcloud.com)... 103.116.4.200\n",
            "Connecting to public.boxcloud.com (public.boxcloud.com)|103.116.4.200|:443... connected.\n",
            "HTTP request sent, awaiting response... 200 OK\n",
            "Length: 2891 (2.8K) [text/csv]\n",
            "Saving to: ‘GeoCord.csv’\n",
            "\n",
            "GeoCord.csv         100%[===================>]   2.82K  --.-KB/s    in 0s      \n",
            "\n",
            "2019-11-17 15:56:39 (466 MB/s) - ‘GeoCord.csv’ saved [2891/2891]\n",
            "\n"
          ],
          "name": "stdout"
        }
      ]
    },
    {
      "cell_type": "code",
      "metadata": {
        "id": "BIXq0eG9FIFw",
        "colab_type": "code",
        "colab": {
          "base_uri": "https://localhost:8080/",
          "height": 202
        },
        "outputId": "0dda1264-2c50-460b-844c-4651ff7c1d15"
      },
      "source": [
        "# Read the csv data\n",
        "\n",
        "df_cord = pd.read_csv('GeoCord.csv') \n",
        "df_cord.head()"
      ],
      "execution_count": 15,
      "outputs": [
        {
          "output_type": "execute_result",
          "data": {
            "text/html": [
              "<div>\n",
              "<style scoped>\n",
              "    .dataframe tbody tr th:only-of-type {\n",
              "        vertical-align: middle;\n",
              "    }\n",
              "\n",
              "    .dataframe tbody tr th {\n",
              "        vertical-align: top;\n",
              "    }\n",
              "\n",
              "    .dataframe thead th {\n",
              "        text-align: right;\n",
              "    }\n",
              "</style>\n",
              "<table border=\"1\" class=\"dataframe\">\n",
              "  <thead>\n",
              "    <tr style=\"text-align: right;\">\n",
              "      <th></th>\n",
              "      <th>Postal Code</th>\n",
              "      <th>Latitude</th>\n",
              "      <th>Longitude</th>\n",
              "    </tr>\n",
              "  </thead>\n",
              "  <tbody>\n",
              "    <tr>\n",
              "      <th>0</th>\n",
              "      <td>M1B</td>\n",
              "      <td>43.806686</td>\n",
              "      <td>-79.194353</td>\n",
              "    </tr>\n",
              "    <tr>\n",
              "      <th>1</th>\n",
              "      <td>M1C</td>\n",
              "      <td>43.784535</td>\n",
              "      <td>-79.160497</td>\n",
              "    </tr>\n",
              "    <tr>\n",
              "      <th>2</th>\n",
              "      <td>M1E</td>\n",
              "      <td>43.763573</td>\n",
              "      <td>-79.188711</td>\n",
              "    </tr>\n",
              "    <tr>\n",
              "      <th>3</th>\n",
              "      <td>M1G</td>\n",
              "      <td>43.770992</td>\n",
              "      <td>-79.216917</td>\n",
              "    </tr>\n",
              "    <tr>\n",
              "      <th>4</th>\n",
              "      <td>M1H</td>\n",
              "      <td>43.773136</td>\n",
              "      <td>-79.239476</td>\n",
              "    </tr>\n",
              "  </tbody>\n",
              "</table>\n",
              "</div>"
            ],
            "text/plain": [
              "  Postal Code   Latitude  Longitude\n",
              "0         M1B  43.806686 -79.194353\n",
              "1         M1C  43.784535 -79.160497\n",
              "2         M1E  43.763573 -79.188711\n",
              "3         M1G  43.770992 -79.216917\n",
              "4         M1H  43.773136 -79.239476"
            ]
          },
          "metadata": {
            "tags": []
          },
          "execution_count": 15
        }
      ]
    },
    {
      "cell_type": "code",
      "metadata": {
        "id": "f51MADIVFVrP",
        "colab_type": "code",
        "colab": {}
      },
      "source": [
        "# Create Latitude and Longitude columns in the dataframe df_toronto\n",
        "df_toronto['Latitude'] = np.nan\n",
        "df_toronto['Longitude'] = np.nan"
      ],
      "execution_count": 0,
      "outputs": []
    },
    {
      "cell_type": "code",
      "metadata": {
        "id": "raFSAmTjF_VU",
        "colab_type": "code",
        "colab": {
          "base_uri": "https://localhost:8080/",
          "height": 417
        },
        "outputId": "13f4eb7f-4474-45df-eebd-22a8e63ed825"
      },
      "source": [
        "# For each postcode in df_toronto find the corresponding coordinates in df_cord and assign it to df_toronto\n",
        "for idx in df_toronto.index:\n",
        "    cord_idx = df_cord['Postal Code'] == df_toronto.loc[idx, 'Postcode']\n",
        "    df_toronto.at[idx, 'Latitude'] = df_cord.loc[cord_idx, 'Latitude'].values\n",
        "    df_toronto.at[idx, 'Longitude'] = df_cord.loc[cord_idx, 'Longitude'].values\n",
        "\n",
        "df_toronto.head(12)"
      ],
      "execution_count": 17,
      "outputs": [
        {
          "output_type": "execute_result",
          "data": {
            "text/html": [
              "<div>\n",
              "<style scoped>\n",
              "    .dataframe tbody tr th:only-of-type {\n",
              "        vertical-align: middle;\n",
              "    }\n",
              "\n",
              "    .dataframe tbody tr th {\n",
              "        vertical-align: top;\n",
              "    }\n",
              "\n",
              "    .dataframe thead th {\n",
              "        text-align: right;\n",
              "    }\n",
              "</style>\n",
              "<table border=\"1\" class=\"dataframe\">\n",
              "  <thead>\n",
              "    <tr style=\"text-align: right;\">\n",
              "      <th></th>\n",
              "      <th>Postcode</th>\n",
              "      <th>Borough</th>\n",
              "      <th>Neighbourhood</th>\n",
              "      <th>Latitude</th>\n",
              "      <th>Longitude</th>\n",
              "    </tr>\n",
              "  </thead>\n",
              "  <tbody>\n",
              "    <tr>\n",
              "      <th>0</th>\n",
              "      <td>M1B</td>\n",
              "      <td>Scarborough</td>\n",
              "      <td>Rouge, Malvern</td>\n",
              "      <td>43.806686</td>\n",
              "      <td>-79.194353</td>\n",
              "    </tr>\n",
              "    <tr>\n",
              "      <th>1</th>\n",
              "      <td>M1C</td>\n",
              "      <td>Scarborough</td>\n",
              "      <td>Highland Creek, Rouge Hill, Port Union</td>\n",
              "      <td>43.784535</td>\n",
              "      <td>-79.160497</td>\n",
              "    </tr>\n",
              "    <tr>\n",
              "      <th>2</th>\n",
              "      <td>M1E</td>\n",
              "      <td>Scarborough</td>\n",
              "      <td>Guildwood, Morningside, West Hill</td>\n",
              "      <td>43.763573</td>\n",
              "      <td>-79.188711</td>\n",
              "    </tr>\n",
              "    <tr>\n",
              "      <th>3</th>\n",
              "      <td>M1G</td>\n",
              "      <td>Scarborough</td>\n",
              "      <td>Woburn</td>\n",
              "      <td>43.770992</td>\n",
              "      <td>-79.216917</td>\n",
              "    </tr>\n",
              "    <tr>\n",
              "      <th>4</th>\n",
              "      <td>M1H</td>\n",
              "      <td>Scarborough</td>\n",
              "      <td>Cedarbrae</td>\n",
              "      <td>43.773136</td>\n",
              "      <td>-79.239476</td>\n",
              "    </tr>\n",
              "    <tr>\n",
              "      <th>5</th>\n",
              "      <td>M1J</td>\n",
              "      <td>Scarborough</td>\n",
              "      <td>Scarborough Village</td>\n",
              "      <td>43.744734</td>\n",
              "      <td>-79.239476</td>\n",
              "    </tr>\n",
              "    <tr>\n",
              "      <th>6</th>\n",
              "      <td>M1K</td>\n",
              "      <td>Scarborough</td>\n",
              "      <td>East Birchmount Park, Ionview, Kennedy Park</td>\n",
              "      <td>43.727929</td>\n",
              "      <td>-79.262029</td>\n",
              "    </tr>\n",
              "    <tr>\n",
              "      <th>7</th>\n",
              "      <td>M1L</td>\n",
              "      <td>Scarborough</td>\n",
              "      <td>Clairlea, Golden Mile, Oakridge</td>\n",
              "      <td>43.711112</td>\n",
              "      <td>-79.284577</td>\n",
              "    </tr>\n",
              "    <tr>\n",
              "      <th>8</th>\n",
              "      <td>M1M</td>\n",
              "      <td>Scarborough</td>\n",
              "      <td>Cliffcrest, Cliffside, Scarborough Village West</td>\n",
              "      <td>43.716316</td>\n",
              "      <td>-79.239476</td>\n",
              "    </tr>\n",
              "    <tr>\n",
              "      <th>9</th>\n",
              "      <td>M1N</td>\n",
              "      <td>Scarborough</td>\n",
              "      <td>Birch Cliff, Cliffside West</td>\n",
              "      <td>43.692657</td>\n",
              "      <td>-79.264848</td>\n",
              "    </tr>\n",
              "    <tr>\n",
              "      <th>10</th>\n",
              "      <td>M1P</td>\n",
              "      <td>Scarborough</td>\n",
              "      <td>Dorset Park, Scarborough Town Centre, Wexford ...</td>\n",
              "      <td>43.757410</td>\n",
              "      <td>-79.273304</td>\n",
              "    </tr>\n",
              "    <tr>\n",
              "      <th>11</th>\n",
              "      <td>M1R</td>\n",
              "      <td>Scarborough</td>\n",
              "      <td>Maryvale, Wexford</td>\n",
              "      <td>43.750072</td>\n",
              "      <td>-79.295849</td>\n",
              "    </tr>\n",
              "  </tbody>\n",
              "</table>\n",
              "</div>"
            ],
            "text/plain": [
              "   Postcode      Borough                                      Neighbourhood  \\\n",
              "0       M1B  Scarborough                                     Rouge, Malvern   \n",
              "1       M1C  Scarborough             Highland Creek, Rouge Hill, Port Union   \n",
              "2       M1E  Scarborough                  Guildwood, Morningside, West Hill   \n",
              "3       M1G  Scarborough                                             Woburn   \n",
              "4       M1H  Scarborough                                          Cedarbrae   \n",
              "5       M1J  Scarborough                                Scarborough Village   \n",
              "6       M1K  Scarborough        East Birchmount Park, Ionview, Kennedy Park   \n",
              "7       M1L  Scarborough                    Clairlea, Golden Mile, Oakridge   \n",
              "8       M1M  Scarborough    Cliffcrest, Cliffside, Scarborough Village West   \n",
              "9       M1N  Scarborough                        Birch Cliff, Cliffside West   \n",
              "10      M1P  Scarborough  Dorset Park, Scarborough Town Centre, Wexford ...   \n",
              "11      M1R  Scarborough                                  Maryvale, Wexford   \n",
              "\n",
              "     Latitude  Longitude  \n",
              "0   43.806686 -79.194353  \n",
              "1   43.784535 -79.160497  \n",
              "2   43.763573 -79.188711  \n",
              "3   43.770992 -79.216917  \n",
              "4   43.773136 -79.239476  \n",
              "5   43.744734 -79.239476  \n",
              "6   43.727929 -79.262029  \n",
              "7   43.711112 -79.284577  \n",
              "8   43.716316 -79.239476  \n",
              "9   43.692657 -79.264848  \n",
              "10  43.757410 -79.273304  \n",
              "11  43.750072 -79.295849  "
            ]
          },
          "metadata": {
            "tags": []
          },
          "execution_count": 17
        }
      ]
    },
    {
      "cell_type": "code",
      "metadata": {
        "id": "fT94o428GXPe",
        "colab_type": "code",
        "colab": {}
      },
      "source": [
        ""
      ],
      "execution_count": 0,
      "outputs": []
    }
  ]
}