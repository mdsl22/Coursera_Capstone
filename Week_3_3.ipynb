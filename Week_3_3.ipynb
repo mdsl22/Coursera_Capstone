{
  "nbformat": 4,
  "nbformat_minor": 0,
  "metadata": {
    "colab": {
      "name": "Week_3_3.ipynb",
      "provenance": [],
      "collapsed_sections": [],
      "include_colab_link": true
    },
    "kernelspec": {
      "name": "python3",
      "display_name": "Python 3"
    }
  },
  "cells": [
    {
      "cell_type": "markdown",
      "metadata": {
        "id": "view-in-github",
        "colab_type": "text"
      },
      "source": [
        "<a href=\"https://colab.research.google.com/github/mdsl22/Coursera_Capstone/blob/master/Week_3_3.ipynb\" target=\"_parent\"><img src=\"https://colab.research.google.com/assets/colab-badge.svg\" alt=\"Open In Colab\"/></a>"
      ]
    },
    {
      "cell_type": "markdown",
      "metadata": {
        "id": "k_7ro8HwFy64",
        "colab_type": "text"
      },
      "source": [
        "## 1 Introduction\n",
        "\n",
        "This notebook will be used for the week 3 assignment of the Applied Data Science Capstone."
      ]
    },
    {
      "cell_type": "markdown",
      "metadata": {
        "id": "CwRvkBG7ILb3",
        "colab_type": "text"
      },
      "source": [
        "### 1.1 Download the required libraries"
      ]
    },
    {
      "cell_type": "code",
      "metadata": {
        "id": "vJ_cwo7-Fs5-",
        "colab_type": "code",
        "outputId": "fcd35475-1107-4b9c-b8b3-75c56877fdd9",
        "colab": {
          "base_uri": "https://localhost:8080/",
          "height": 35
        }
      },
      "source": [
        "import numpy as np \n",
        "import pandas as pd\n",
        "\n",
        "pd.set_option('display.max_columns', None)\n",
        "pd.set_option('display.max_rows', None)\n",
        "\n",
        "import json # library to handle JSON files\n",
        "\n",
        "from geopy.geocoders import Nominatim # convert an address into latitude and longitude values\n",
        "\n",
        "import requests # library to handle requests\n",
        "from pandas.io.json import json_normalize # tranform JSON file into a pandas dataframe\n",
        "\n",
        "# Matplotlib and associated plotting modules\n",
        "import matplotlib.cm as cm\n",
        "import matplotlib.colors as colors\n",
        "\n",
        "# import k-means from clustering stage\n",
        "from sklearn.cluster import KMeans\n",
        "\n",
        "import folium # map rendering library\n",
        "\n",
        "print('Libraries imported.')"
      ],
      "execution_count": 0,
      "outputs": [
        {
          "output_type": "stream",
          "text": [
            "Libraries imported.\n"
          ],
          "name": "stdout"
        }
      ]
    },
    {
      "cell_type": "markdown",
      "metadata": {
        "id": "Nts1vAXvJt9x",
        "colab_type": "text"
      },
      "source": [
        "## 2 Download and explore the dataset\n",
        "\n",
        "### 2.1 Install Wikipedia module for Python"
      ]
    },
    {
      "cell_type": "code",
      "metadata": {
        "id": "F1DdwPQmJH0b",
        "colab_type": "code",
        "outputId": "39e9a5c5-2068-43ff-cf92-019abd91e4b9",
        "colab": {
          "base_uri": "https://localhost:8080/",
          "height": 139
        }
      },
      "source": [
        "import sys\n",
        "!{sys.executable} -m pip install wikipedia"
      ],
      "execution_count": 31,
      "outputs": [
        {
          "output_type": "stream",
          "text": [
            "Requirement already satisfied: wikipedia in /usr/local/lib/python3.6/dist-packages (1.4.0)\n",
            "Requirement already satisfied: beautifulsoup4 in /usr/local/lib/python3.6/dist-packages (from wikipedia) (4.6.3)\n",
            "Requirement already satisfied: requests<3.0.0,>=2.0.0 in /usr/local/lib/python3.6/dist-packages (from wikipedia) (2.21.0)\n",
            "Requirement already satisfied: chardet<3.1.0,>=3.0.2 in /usr/local/lib/python3.6/dist-packages (from requests<3.0.0,>=2.0.0->wikipedia) (3.0.4)\n",
            "Requirement already satisfied: certifi>=2017.4.17 in /usr/local/lib/python3.6/dist-packages (from requests<3.0.0,>=2.0.0->wikipedia) (2019.9.11)\n",
            "Requirement already satisfied: idna<2.9,>=2.5 in /usr/local/lib/python3.6/dist-packages (from requests<3.0.0,>=2.0.0->wikipedia) (2.8)\n",
            "Requirement already satisfied: urllib3<1.25,>=1.21.1 in /usr/local/lib/python3.6/dist-packages (from requests<3.0.0,>=2.0.0->wikipedia) (1.24.3)\n"
          ],
          "name": "stdout"
        }
      ]
    },
    {
      "cell_type": "markdown",
      "metadata": {
        "id": "gT0m5QxQLNDc",
        "colab_type": "text"
      },
      "source": [
        "### 2.2 Scrape data from Wikipedia into a csv file"
      ]
    },
    {
      "cell_type": "code",
      "metadata": {
        "id": "Mw8HJzM9JxlA",
        "colab_type": "code",
        "colab": {}
      },
      "source": [
        "import wikipedia as wp\n",
        " \n",
        "html = wp.page(\"List of postal codes of Canada: M\").html().encode(\"UTF-8\")\n",
        "df = pd.read_html(html)[0]\n",
        "df.to_csv('toronto_data.csv',header=1,index=False)"
      ],
      "execution_count": 0,
      "outputs": []
    },
    {
      "cell_type": "markdown",
      "metadata": {
        "id": "S3Ny_ARQMnBj",
        "colab_type": "text"
      },
      "source": [
        "### 2.3 Transform the data into a pandas dataframe"
      ]
    },
    {
      "cell_type": "code",
      "metadata": {
        "id": "1gExSrT0LqdQ",
        "colab_type": "code",
        "outputId": "235250ea-705c-4221-bd35-c2dfe85b0411",
        "colab": {
          "base_uri": "https://localhost:8080/",
          "height": 355
        }
      },
      "source": [
        "# The dataframe will consist of three columns: PostalCode, Borough, and Neighborhood\n",
        "\n",
        "df = pd.read_csv('toronto_data.csv')\n",
        "df.head(10)"
      ],
      "execution_count": 33,
      "outputs": [
        {
          "output_type": "execute_result",
          "data": {
            "text/html": [
              "<div>\n",
              "<style scoped>\n",
              "    .dataframe tbody tr th:only-of-type {\n",
              "        vertical-align: middle;\n",
              "    }\n",
              "\n",
              "    .dataframe tbody tr th {\n",
              "        vertical-align: top;\n",
              "    }\n",
              "\n",
              "    .dataframe thead th {\n",
              "        text-align: right;\n",
              "    }\n",
              "</style>\n",
              "<table border=\"1\" class=\"dataframe\">\n",
              "  <thead>\n",
              "    <tr style=\"text-align: right;\">\n",
              "      <th></th>\n",
              "      <th>Postcode</th>\n",
              "      <th>Borough</th>\n",
              "      <th>Neighbourhood</th>\n",
              "    </tr>\n",
              "  </thead>\n",
              "  <tbody>\n",
              "    <tr>\n",
              "      <th>0</th>\n",
              "      <td>M1A</td>\n",
              "      <td>Not assigned</td>\n",
              "      <td>Not assigned</td>\n",
              "    </tr>\n",
              "    <tr>\n",
              "      <th>1</th>\n",
              "      <td>M2A</td>\n",
              "      <td>Not assigned</td>\n",
              "      <td>Not assigned</td>\n",
              "    </tr>\n",
              "    <tr>\n",
              "      <th>2</th>\n",
              "      <td>M3A</td>\n",
              "      <td>North York</td>\n",
              "      <td>Parkwoods</td>\n",
              "    </tr>\n",
              "    <tr>\n",
              "      <th>3</th>\n",
              "      <td>M4A</td>\n",
              "      <td>North York</td>\n",
              "      <td>Victoria Village</td>\n",
              "    </tr>\n",
              "    <tr>\n",
              "      <th>4</th>\n",
              "      <td>M5A</td>\n",
              "      <td>Downtown Toronto</td>\n",
              "      <td>Harbourfront</td>\n",
              "    </tr>\n",
              "    <tr>\n",
              "      <th>5</th>\n",
              "      <td>M6A</td>\n",
              "      <td>North York</td>\n",
              "      <td>Lawrence Heights</td>\n",
              "    </tr>\n",
              "    <tr>\n",
              "      <th>6</th>\n",
              "      <td>M6A</td>\n",
              "      <td>North York</td>\n",
              "      <td>Lawrence Manor</td>\n",
              "    </tr>\n",
              "    <tr>\n",
              "      <th>7</th>\n",
              "      <td>M7A</td>\n",
              "      <td>Queen's Park</td>\n",
              "      <td>Not assigned</td>\n",
              "    </tr>\n",
              "    <tr>\n",
              "      <th>8</th>\n",
              "      <td>M8A</td>\n",
              "      <td>Not assigned</td>\n",
              "      <td>Not assigned</td>\n",
              "    </tr>\n",
              "    <tr>\n",
              "      <th>9</th>\n",
              "      <td>M9A</td>\n",
              "      <td>Queen's Park</td>\n",
              "      <td>Queen's Park</td>\n",
              "    </tr>\n",
              "  </tbody>\n",
              "</table>\n",
              "</div>"
            ],
            "text/plain": [
              "  Postcode           Borough     Neighbourhood\n",
              "0      M1A      Not assigned      Not assigned\n",
              "1      M2A      Not assigned      Not assigned\n",
              "2      M3A        North York         Parkwoods\n",
              "3      M4A        North York  Victoria Village\n",
              "4      M5A  Downtown Toronto      Harbourfront\n",
              "5      M6A        North York  Lawrence Heights\n",
              "6      M6A        North York    Lawrence Manor\n",
              "7      M7A      Queen's Park      Not assigned\n",
              "8      M8A      Not assigned      Not assigned\n",
              "9      M9A      Queen's Park      Queen's Park"
            ]
          },
          "metadata": {
            "tags": []
          },
          "execution_count": 33
        }
      ]
    },
    {
      "cell_type": "code",
      "metadata": {
        "id": "0phtGXFjQe1Z",
        "colab_type": "code",
        "outputId": "7b8439af-7555-4c61-b537-b9b5b1560e5a",
        "colab": {
          "base_uri": "https://localhost:8080/",
          "height": 355
        }
      },
      "source": [
        "#  Ignore cells with a borough that is Not assigned\n",
        "\n",
        "df['Borough'].replace('Not assigned', np.nan, inplace=True)\n",
        "df.dropna(subset=['Borough'], inplace=True)\n",
        "\n",
        "df.head(10)"
      ],
      "execution_count": 34,
      "outputs": [
        {
          "output_type": "execute_result",
          "data": {
            "text/html": [
              "<div>\n",
              "<style scoped>\n",
              "    .dataframe tbody tr th:only-of-type {\n",
              "        vertical-align: middle;\n",
              "    }\n",
              "\n",
              "    .dataframe tbody tr th {\n",
              "        vertical-align: top;\n",
              "    }\n",
              "\n",
              "    .dataframe thead th {\n",
              "        text-align: right;\n",
              "    }\n",
              "</style>\n",
              "<table border=\"1\" class=\"dataframe\">\n",
              "  <thead>\n",
              "    <tr style=\"text-align: right;\">\n",
              "      <th></th>\n",
              "      <th>Postcode</th>\n",
              "      <th>Borough</th>\n",
              "      <th>Neighbourhood</th>\n",
              "    </tr>\n",
              "  </thead>\n",
              "  <tbody>\n",
              "    <tr>\n",
              "      <th>2</th>\n",
              "      <td>M3A</td>\n",
              "      <td>North York</td>\n",
              "      <td>Parkwoods</td>\n",
              "    </tr>\n",
              "    <tr>\n",
              "      <th>3</th>\n",
              "      <td>M4A</td>\n",
              "      <td>North York</td>\n",
              "      <td>Victoria Village</td>\n",
              "    </tr>\n",
              "    <tr>\n",
              "      <th>4</th>\n",
              "      <td>M5A</td>\n",
              "      <td>Downtown Toronto</td>\n",
              "      <td>Harbourfront</td>\n",
              "    </tr>\n",
              "    <tr>\n",
              "      <th>5</th>\n",
              "      <td>M6A</td>\n",
              "      <td>North York</td>\n",
              "      <td>Lawrence Heights</td>\n",
              "    </tr>\n",
              "    <tr>\n",
              "      <th>6</th>\n",
              "      <td>M6A</td>\n",
              "      <td>North York</td>\n",
              "      <td>Lawrence Manor</td>\n",
              "    </tr>\n",
              "    <tr>\n",
              "      <th>7</th>\n",
              "      <td>M7A</td>\n",
              "      <td>Queen's Park</td>\n",
              "      <td>Not assigned</td>\n",
              "    </tr>\n",
              "    <tr>\n",
              "      <th>9</th>\n",
              "      <td>M9A</td>\n",
              "      <td>Queen's Park</td>\n",
              "      <td>Queen's Park</td>\n",
              "    </tr>\n",
              "    <tr>\n",
              "      <th>10</th>\n",
              "      <td>M1B</td>\n",
              "      <td>Scarborough</td>\n",
              "      <td>Rouge</td>\n",
              "    </tr>\n",
              "    <tr>\n",
              "      <th>11</th>\n",
              "      <td>M1B</td>\n",
              "      <td>Scarborough</td>\n",
              "      <td>Malvern</td>\n",
              "    </tr>\n",
              "    <tr>\n",
              "      <th>13</th>\n",
              "      <td>M3B</td>\n",
              "      <td>North York</td>\n",
              "      <td>Don Mills North</td>\n",
              "    </tr>\n",
              "  </tbody>\n",
              "</table>\n",
              "</div>"
            ],
            "text/plain": [
              "   Postcode           Borough     Neighbourhood\n",
              "2       M3A        North York         Parkwoods\n",
              "3       M4A        North York  Victoria Village\n",
              "4       M5A  Downtown Toronto      Harbourfront\n",
              "5       M6A        North York  Lawrence Heights\n",
              "6       M6A        North York    Lawrence Manor\n",
              "7       M7A      Queen's Park      Not assigned\n",
              "9       M9A      Queen's Park      Queen's Park\n",
              "10      M1B       Scarborough             Rouge\n",
              "11      M1B       Scarborough           Malvern\n",
              "13      M3B        North York   Don Mills North"
            ]
          },
          "metadata": {
            "tags": []
          },
          "execution_count": 34
        }
      ]
    },
    {
      "cell_type": "code",
      "metadata": {
        "colab_type": "code",
        "id": "Uwznoum2kAk4",
        "colab": {}
      },
      "source": [
        "# If Neighborhood = Not assigned then Neighborhood = Borough"
      ],
      "execution_count": 0,
      "outputs": []
    },
    {
      "cell_type": "code",
      "metadata": {
        "id": "ESihjzpZYR09",
        "colab_type": "code",
        "outputId": "44dd4426-f630-4120-910e-fc9b87f34440",
        "colab": {
          "base_uri": "https://localhost:8080/",
          "height": 355
        }
      },
      "source": [
        "df['Neighbourhood'] = np.where(df['Neighbourhood']=='Not assigned', df['Borough'], df['Neighbourhood'])\n",
        "\n",
        "df.head(10)"
      ],
      "execution_count": 36,
      "outputs": [
        {
          "output_type": "execute_result",
          "data": {
            "text/html": [
              "<div>\n",
              "<style scoped>\n",
              "    .dataframe tbody tr th:only-of-type {\n",
              "        vertical-align: middle;\n",
              "    }\n",
              "\n",
              "    .dataframe tbody tr th {\n",
              "        vertical-align: top;\n",
              "    }\n",
              "\n",
              "    .dataframe thead th {\n",
              "        text-align: right;\n",
              "    }\n",
              "</style>\n",
              "<table border=\"1\" class=\"dataframe\">\n",
              "  <thead>\n",
              "    <tr style=\"text-align: right;\">\n",
              "      <th></th>\n",
              "      <th>Postcode</th>\n",
              "      <th>Borough</th>\n",
              "      <th>Neighbourhood</th>\n",
              "    </tr>\n",
              "  </thead>\n",
              "  <tbody>\n",
              "    <tr>\n",
              "      <th>2</th>\n",
              "      <td>M3A</td>\n",
              "      <td>North York</td>\n",
              "      <td>Parkwoods</td>\n",
              "    </tr>\n",
              "    <tr>\n",
              "      <th>3</th>\n",
              "      <td>M4A</td>\n",
              "      <td>North York</td>\n",
              "      <td>Victoria Village</td>\n",
              "    </tr>\n",
              "    <tr>\n",
              "      <th>4</th>\n",
              "      <td>M5A</td>\n",
              "      <td>Downtown Toronto</td>\n",
              "      <td>Harbourfront</td>\n",
              "    </tr>\n",
              "    <tr>\n",
              "      <th>5</th>\n",
              "      <td>M6A</td>\n",
              "      <td>North York</td>\n",
              "      <td>Lawrence Heights</td>\n",
              "    </tr>\n",
              "    <tr>\n",
              "      <th>6</th>\n",
              "      <td>M6A</td>\n",
              "      <td>North York</td>\n",
              "      <td>Lawrence Manor</td>\n",
              "    </tr>\n",
              "    <tr>\n",
              "      <th>7</th>\n",
              "      <td>M7A</td>\n",
              "      <td>Queen's Park</td>\n",
              "      <td>Queen's Park</td>\n",
              "    </tr>\n",
              "    <tr>\n",
              "      <th>9</th>\n",
              "      <td>M9A</td>\n",
              "      <td>Queen's Park</td>\n",
              "      <td>Queen's Park</td>\n",
              "    </tr>\n",
              "    <tr>\n",
              "      <th>10</th>\n",
              "      <td>M1B</td>\n",
              "      <td>Scarborough</td>\n",
              "      <td>Rouge</td>\n",
              "    </tr>\n",
              "    <tr>\n",
              "      <th>11</th>\n",
              "      <td>M1B</td>\n",
              "      <td>Scarborough</td>\n",
              "      <td>Malvern</td>\n",
              "    </tr>\n",
              "    <tr>\n",
              "      <th>13</th>\n",
              "      <td>M3B</td>\n",
              "      <td>North York</td>\n",
              "      <td>Don Mills North</td>\n",
              "    </tr>\n",
              "  </tbody>\n",
              "</table>\n",
              "</div>"
            ],
            "text/plain": [
              "   Postcode           Borough     Neighbourhood\n",
              "2       M3A        North York         Parkwoods\n",
              "3       M4A        North York  Victoria Village\n",
              "4       M5A  Downtown Toronto      Harbourfront\n",
              "5       M6A        North York  Lawrence Heights\n",
              "6       M6A        North York    Lawrence Manor\n",
              "7       M7A      Queen's Park      Queen's Park\n",
              "9       M9A      Queen's Park      Queen's Park\n",
              "10      M1B       Scarborough             Rouge\n",
              "11      M1B       Scarborough           Malvern\n",
              "13      M3B        North York   Don Mills North"
            ]
          },
          "metadata": {
            "tags": []
          },
          "execution_count": 36
        }
      ]
    },
    {
      "cell_type": "code",
      "metadata": {
        "id": "xlWMyPqyWSUO",
        "colab_type": "code",
        "outputId": "1485e627-6a52-4460-edef-240d5f875b39",
        "colab": {
          "base_uri": "https://localhost:8080/",
          "height": 417
        }
      },
      "source": [
        "# Combine the rows of one postal code area\n",
        "\n",
        "df_toronto = df.groupby('Postcode').agg(\n",
        "    {\n",
        "        'Borough':'first', \n",
        "        'Neighbourhood': ', '.join,}\n",
        "    ).reset_index()\n",
        "\n",
        "df_toronto.head(12)"
      ],
      "execution_count": 37,
      "outputs": [
        {
          "output_type": "execute_result",
          "data": {
            "text/html": [
              "<div>\n",
              "<style scoped>\n",
              "    .dataframe tbody tr th:only-of-type {\n",
              "        vertical-align: middle;\n",
              "    }\n",
              "\n",
              "    .dataframe tbody tr th {\n",
              "        vertical-align: top;\n",
              "    }\n",
              "\n",
              "    .dataframe thead th {\n",
              "        text-align: right;\n",
              "    }\n",
              "</style>\n",
              "<table border=\"1\" class=\"dataframe\">\n",
              "  <thead>\n",
              "    <tr style=\"text-align: right;\">\n",
              "      <th></th>\n",
              "      <th>Postcode</th>\n",
              "      <th>Borough</th>\n",
              "      <th>Neighbourhood</th>\n",
              "    </tr>\n",
              "  </thead>\n",
              "  <tbody>\n",
              "    <tr>\n",
              "      <th>0</th>\n",
              "      <td>M1B</td>\n",
              "      <td>Scarborough</td>\n",
              "      <td>Rouge, Malvern</td>\n",
              "    </tr>\n",
              "    <tr>\n",
              "      <th>1</th>\n",
              "      <td>M1C</td>\n",
              "      <td>Scarborough</td>\n",
              "      <td>Highland Creek, Rouge Hill, Port Union</td>\n",
              "    </tr>\n",
              "    <tr>\n",
              "      <th>2</th>\n",
              "      <td>M1E</td>\n",
              "      <td>Scarborough</td>\n",
              "      <td>Guildwood, Morningside, West Hill</td>\n",
              "    </tr>\n",
              "    <tr>\n",
              "      <th>3</th>\n",
              "      <td>M1G</td>\n",
              "      <td>Scarborough</td>\n",
              "      <td>Woburn</td>\n",
              "    </tr>\n",
              "    <tr>\n",
              "      <th>4</th>\n",
              "      <td>M1H</td>\n",
              "      <td>Scarborough</td>\n",
              "      <td>Cedarbrae</td>\n",
              "    </tr>\n",
              "    <tr>\n",
              "      <th>5</th>\n",
              "      <td>M1J</td>\n",
              "      <td>Scarborough</td>\n",
              "      <td>Scarborough Village</td>\n",
              "    </tr>\n",
              "    <tr>\n",
              "      <th>6</th>\n",
              "      <td>M1K</td>\n",
              "      <td>Scarborough</td>\n",
              "      <td>East Birchmount Park, Ionview, Kennedy Park</td>\n",
              "    </tr>\n",
              "    <tr>\n",
              "      <th>7</th>\n",
              "      <td>M1L</td>\n",
              "      <td>Scarborough</td>\n",
              "      <td>Clairlea, Golden Mile, Oakridge</td>\n",
              "    </tr>\n",
              "    <tr>\n",
              "      <th>8</th>\n",
              "      <td>M1M</td>\n",
              "      <td>Scarborough</td>\n",
              "      <td>Cliffcrest, Cliffside, Scarborough Village West</td>\n",
              "    </tr>\n",
              "    <tr>\n",
              "      <th>9</th>\n",
              "      <td>M1N</td>\n",
              "      <td>Scarborough</td>\n",
              "      <td>Birch Cliff, Cliffside West</td>\n",
              "    </tr>\n",
              "    <tr>\n",
              "      <th>10</th>\n",
              "      <td>M1P</td>\n",
              "      <td>Scarborough</td>\n",
              "      <td>Dorset Park, Scarborough Town Centre, Wexford ...</td>\n",
              "    </tr>\n",
              "    <tr>\n",
              "      <th>11</th>\n",
              "      <td>M1R</td>\n",
              "      <td>Scarborough</td>\n",
              "      <td>Maryvale, Wexford</td>\n",
              "    </tr>\n",
              "  </tbody>\n",
              "</table>\n",
              "</div>"
            ],
            "text/plain": [
              "   Postcode      Borough                                      Neighbourhood\n",
              "0       M1B  Scarborough                                     Rouge, Malvern\n",
              "1       M1C  Scarborough             Highland Creek, Rouge Hill, Port Union\n",
              "2       M1E  Scarborough                  Guildwood, Morningside, West Hill\n",
              "3       M1G  Scarborough                                             Woburn\n",
              "4       M1H  Scarborough                                          Cedarbrae\n",
              "5       M1J  Scarborough                                Scarborough Village\n",
              "6       M1K  Scarborough        East Birchmount Park, Ionview, Kennedy Park\n",
              "7       M1L  Scarborough                    Clairlea, Golden Mile, Oakridge\n",
              "8       M1M  Scarborough    Cliffcrest, Cliffside, Scarborough Village West\n",
              "9       M1N  Scarborough                        Birch Cliff, Cliffside West\n",
              "10      M1P  Scarborough  Dorset Park, Scarborough Town Centre, Wexford ...\n",
              "11      M1R  Scarborough                                  Maryvale, Wexford"
            ]
          },
          "metadata": {
            "tags": []
          },
          "execution_count": 37
        }
      ]
    },
    {
      "cell_type": "code",
      "metadata": {
        "id": "lG69vbLpXnmP",
        "colab_type": "code",
        "outputId": "c3d8cf97-01e5-4a3b-9afd-036e368e2f79",
        "colab": {
          "base_uri": "https://localhost:8080/",
          "height": 35
        }
      },
      "source": [
        "df_toronto.shape"
      ],
      "execution_count": 38,
      "outputs": [
        {
          "output_type": "execute_result",
          "data": {
            "text/plain": [
              "(103, 3)"
            ]
          },
          "metadata": {
            "tags": []
          },
          "execution_count": 38
        }
      ]
    },
    {
      "cell_type": "markdown",
      "metadata": {
        "id": "G-ENWnNACXHc",
        "colab_type": "text"
      },
      "source": [
        "## 3 Latitude and the longitude coordinates of each neighborhood"
      ]
    },
    {
      "cell_type": "code",
      "metadata": {
        "id": "PXdqleGFrwNd",
        "colab_type": "code",
        "colab": {
          "base_uri": "https://localhost:8080/",
          "height": 627
        },
        "outputId": "b638af6f-7905-4cad-fe10-9d85541a75fc"
      },
      "source": [
        "# Obtain coordinates from the given csv file\n",
        "\n",
        "!wget -O GeoCord.csv http://cocl.us/Geospatial_data/"
      ],
      "execution_count": 39,
      "outputs": [
        {
          "output_type": "stream",
          "text": [
            "--2019-11-17 16:21:06--  http://cocl.us/Geospatial_data/\n",
            "Resolving cocl.us (cocl.us)... 169.48.113.194\n",
            "Connecting to cocl.us (cocl.us)|169.48.113.194|:80... connected.\n",
            "HTTP request sent, awaiting response... 301 Moved Permanently\n",
            "Location: https://cocl.us/Geospatial_data/ [following]\n",
            "--2019-11-17 16:21:06--  https://cocl.us/Geospatial_data/\n",
            "Connecting to cocl.us (cocl.us)|169.48.113.194|:443... connected.\n",
            "HTTP request sent, awaiting response... 301 Moved Permanently\n",
            "Location: https://ibm.box.com/shared/static/9afzr83pps4pwf2smjjcf1y5mvgb18rr.csv [following]\n",
            "--2019-11-17 16:21:08--  https://ibm.box.com/shared/static/9afzr83pps4pwf2smjjcf1y5mvgb18rr.csv\n",
            "Resolving ibm.box.com (ibm.box.com)... 107.152.24.197, 107.152.25.197\n",
            "Connecting to ibm.box.com (ibm.box.com)|107.152.24.197|:443... connected.\n",
            "HTTP request sent, awaiting response... 301 Moved Permanently\n",
            "Location: /public/static/9afzr83pps4pwf2smjjcf1y5mvgb18rr.csv [following]\n",
            "--2019-11-17 16:21:08--  https://ibm.box.com/public/static/9afzr83pps4pwf2smjjcf1y5mvgb18rr.csv\n",
            "Reusing existing connection to ibm.box.com:443.\n",
            "HTTP request sent, awaiting response... 301 Moved Permanently\n",
            "Location: https://ibm.ent.box.com/public/static/9afzr83pps4pwf2smjjcf1y5mvgb18rr.csv [following]\n",
            "--2019-11-17 16:21:08--  https://ibm.ent.box.com/public/static/9afzr83pps4pwf2smjjcf1y5mvgb18rr.csv\n",
            "Resolving ibm.ent.box.com (ibm.ent.box.com)... 107.152.25.211, 107.152.24.211\n",
            "Connecting to ibm.ent.box.com (ibm.ent.box.com)|107.152.25.211|:443... connected.\n",
            "HTTP request sent, awaiting response... 302 Found\n",
            "Location: https://public.boxcloud.com/d/1/b1!m5qtJjaWxOcUjfLRuQcIISD8zNAt8Yt25qaqGm2vpQzSXyM0oqmsejDgq1WB3XLAxiR_eNjkF0iRfWU3BvY2rx2bveNG9ghKEB9xbpz_Vj8zeoyGbR-plq3-gpqdeMJAuFrwhfjOFImvwidCDuJCOhFIA5qXUl2zW8VxkYPfa_BA0EWu785A4pjG40BH7C2A9RaWWmTzZgvwNVbCEgPw5PZ6_6FySoPxst7N87ICvlSW7G1KgwuO_pvf53tfEELyyUizLFO-0ldZLs2QUWinrUbSrahrdTS2r7RgiTJybxI-0kIvLQ5zRMsj36QpT55k-P-akDROlpikGq_BHRewhfa9k7V8gdtAuxvTOD82FGfVcbb2qCkjVQEo31VVQMKAvrLThcVx-dqxRSwYzHrvE3MtTJL6VDEPmUBPaECT0XQfP15P9h-n3y3d7u1dc1qlR3FhdmPr9fcyBF6jYU3g0VXp-ovatvicH0i2JcP51YTyBwU_MMj3eHbk1j9bGEQriLA7NUzppkGydW5R76n0A5MzA6bulr9V6ske5p7zpFnKQGqJTXpZ_xeus7tjTJ5xdYEdPCQ65fyAFahWZAqEFUp0xCjSh45_DZyiam03WKXe7oXjb2P0lBwCHimuDXhFl9tuCxx3EvmveWEnnLs2RFpeDfndkjTFL-PvR-gApCC2zfaEH74OzGSoWMxJSHytcGbOsdvYzwCmXCxZLIOMrOjYt5rCe77PoEq3csBSMCrbc-xbkucEVJNHt9fPMheYct7PqhUwWoB1t2HSLNPv6pT6-uE4G1yRTdgQbB70iMuEf8H0xsBcJwRN2FZJnqyKwDJ8d_PmtlxkokpPbKBKss1gSRVl9SyaeqVh1VmWw8rDYUEMgxYG64X621AEw2N0k8Tpb_JkXoo1kEJDOfHiYDuz1YVsbpl1ClnBH6OQr509Qo9JkqbmP4KWfa85vupEL6aUgRd9g9Q5VjoRgQmnVwlho7z8WrHOFz-NGyD-Lrz2FrtahVvZS2SYjWvFRzf8ARu7Go8WXeWw13jYk_SBB3O0zxZOx3uERv2WN8VGb3L81A5JAMdGYd_gWVoLogseHhNTN3RLrw-VkvFCpsJBv275ZfdwLEIfp4hKu3cn5W4uU6GXXGVlETBjgeo72KZkdlqCelQPKmQf0y_OIkJX1PK4qIgVAXDA4KTHZOV9FsObcQrAzc05222OpEmgwepj2PzQYIoGFUBS6z2NV28RqKnGMZy_gZs5pJuljhcdDNlfteke9lUH16azwsMmCpO0rRhfnjF7wzDIXk5TXz_TyCU4Udi7jhwhD47SYqmpufaL9PlmpzmDVXUHDXk6wB1IctOUj1LlZt7bfP9Zmnd5TzE4Z0spgey-p-AEHmOD--HkA68llJp23LL4WQ../download [following]\n",
            "--2019-11-17 16:21:09--  https://public.boxcloud.com/d/1/b1!m5qtJjaWxOcUjfLRuQcIISD8zNAt8Yt25qaqGm2vpQzSXyM0oqmsejDgq1WB3XLAxiR_eNjkF0iRfWU3BvY2rx2bveNG9ghKEB9xbpz_Vj8zeoyGbR-plq3-gpqdeMJAuFrwhfjOFImvwidCDuJCOhFIA5qXUl2zW8VxkYPfa_BA0EWu785A4pjG40BH7C2A9RaWWmTzZgvwNVbCEgPw5PZ6_6FySoPxst7N87ICvlSW7G1KgwuO_pvf53tfEELyyUizLFO-0ldZLs2QUWinrUbSrahrdTS2r7RgiTJybxI-0kIvLQ5zRMsj36QpT55k-P-akDROlpikGq_BHRewhfa9k7V8gdtAuxvTOD82FGfVcbb2qCkjVQEo31VVQMKAvrLThcVx-dqxRSwYzHrvE3MtTJL6VDEPmUBPaECT0XQfP15P9h-n3y3d7u1dc1qlR3FhdmPr9fcyBF6jYU3g0VXp-ovatvicH0i2JcP51YTyBwU_MMj3eHbk1j9bGEQriLA7NUzppkGydW5R76n0A5MzA6bulr9V6ske5p7zpFnKQGqJTXpZ_xeus7tjTJ5xdYEdPCQ65fyAFahWZAqEFUp0xCjSh45_DZyiam03WKXe7oXjb2P0lBwCHimuDXhFl9tuCxx3EvmveWEnnLs2RFpeDfndkjTFL-PvR-gApCC2zfaEH74OzGSoWMxJSHytcGbOsdvYzwCmXCxZLIOMrOjYt5rCe77PoEq3csBSMCrbc-xbkucEVJNHt9fPMheYct7PqhUwWoB1t2HSLNPv6pT6-uE4G1yRTdgQbB70iMuEf8H0xsBcJwRN2FZJnqyKwDJ8d_PmtlxkokpPbKBKss1gSRVl9SyaeqVh1VmWw8rDYUEMgxYG64X621AEw2N0k8Tpb_JkXoo1kEJDOfHiYDuz1YVsbpl1ClnBH6OQr509Qo9JkqbmP4KWfa85vupEL6aUgRd9g9Q5VjoRgQmnVwlho7z8WrHOFz-NGyD-Lrz2FrtahVvZS2SYjWvFRzf8ARu7Go8WXeWw13jYk_SBB3O0zxZOx3uERv2WN8VGb3L81A5JAMdGYd_gWVoLogseHhNTN3RLrw-VkvFCpsJBv275ZfdwLEIfp4hKu3cn5W4uU6GXXGVlETBjgeo72KZkdlqCelQPKmQf0y_OIkJX1PK4qIgVAXDA4KTHZOV9FsObcQrAzc05222OpEmgwepj2PzQYIoGFUBS6z2NV28RqKnGMZy_gZs5pJuljhcdDNlfteke9lUH16azwsMmCpO0rRhfnjF7wzDIXk5TXz_TyCU4Udi7jhwhD47SYqmpufaL9PlmpzmDVXUHDXk6wB1IctOUj1LlZt7bfP9Zmnd5TzE4Z0spgey-p-AEHmOD--HkA68llJp23LL4WQ../download\n",
            "Resolving public.boxcloud.com (public.boxcloud.com)... 107.152.25.200\n",
            "Connecting to public.boxcloud.com (public.boxcloud.com)|107.152.25.200|:443... connected.\n",
            "HTTP request sent, awaiting response... 200 OK\n",
            "Length: 2891 (2.8K) [text/csv]\n",
            "Saving to: ‘GeoCord.csv’\n",
            "\n",
            "\rGeoCord.csv           0%[                    ]       0  --.-KB/s               \rGeoCord.csv         100%[===================>]   2.82K  --.-KB/s    in 0s      \n",
            "\n",
            "2019-11-17 16:21:09 (494 MB/s) - ‘GeoCord.csv’ saved [2891/2891]\n",
            "\n"
          ],
          "name": "stdout"
        }
      ]
    },
    {
      "cell_type": "code",
      "metadata": {
        "id": "BIXq0eG9FIFw",
        "colab_type": "code",
        "colab": {
          "base_uri": "https://localhost:8080/",
          "height": 202
        },
        "outputId": "277500c7-83e1-46b9-fe3c-ec9af786f1f7"
      },
      "source": [
        "# Read the csv data\n",
        "\n",
        "df_cord = pd.read_csv('GeoCord.csv') \n",
        "df_cord.head()"
      ],
      "execution_count": 40,
      "outputs": [
        {
          "output_type": "execute_result",
          "data": {
            "text/html": [
              "<div>\n",
              "<style scoped>\n",
              "    .dataframe tbody tr th:only-of-type {\n",
              "        vertical-align: middle;\n",
              "    }\n",
              "\n",
              "    .dataframe tbody tr th {\n",
              "        vertical-align: top;\n",
              "    }\n",
              "\n",
              "    .dataframe thead th {\n",
              "        text-align: right;\n",
              "    }\n",
              "</style>\n",
              "<table border=\"1\" class=\"dataframe\">\n",
              "  <thead>\n",
              "    <tr style=\"text-align: right;\">\n",
              "      <th></th>\n",
              "      <th>Postal Code</th>\n",
              "      <th>Latitude</th>\n",
              "      <th>Longitude</th>\n",
              "    </tr>\n",
              "  </thead>\n",
              "  <tbody>\n",
              "    <tr>\n",
              "      <th>0</th>\n",
              "      <td>M1B</td>\n",
              "      <td>43.806686</td>\n",
              "      <td>-79.194353</td>\n",
              "    </tr>\n",
              "    <tr>\n",
              "      <th>1</th>\n",
              "      <td>M1C</td>\n",
              "      <td>43.784535</td>\n",
              "      <td>-79.160497</td>\n",
              "    </tr>\n",
              "    <tr>\n",
              "      <th>2</th>\n",
              "      <td>M1E</td>\n",
              "      <td>43.763573</td>\n",
              "      <td>-79.188711</td>\n",
              "    </tr>\n",
              "    <tr>\n",
              "      <th>3</th>\n",
              "      <td>M1G</td>\n",
              "      <td>43.770992</td>\n",
              "      <td>-79.216917</td>\n",
              "    </tr>\n",
              "    <tr>\n",
              "      <th>4</th>\n",
              "      <td>M1H</td>\n",
              "      <td>43.773136</td>\n",
              "      <td>-79.239476</td>\n",
              "    </tr>\n",
              "  </tbody>\n",
              "</table>\n",
              "</div>"
            ],
            "text/plain": [
              "  Postal Code   Latitude  Longitude\n",
              "0         M1B  43.806686 -79.194353\n",
              "1         M1C  43.784535 -79.160497\n",
              "2         M1E  43.763573 -79.188711\n",
              "3         M1G  43.770992 -79.216917\n",
              "4         M1H  43.773136 -79.239476"
            ]
          },
          "metadata": {
            "tags": []
          },
          "execution_count": 40
        }
      ]
    },
    {
      "cell_type": "code",
      "metadata": {
        "id": "f51MADIVFVrP",
        "colab_type": "code",
        "colab": {}
      },
      "source": [
        "# Create Latitude and Longitude columns in the dataframe df_toronto\n",
        "df_toronto['Latitude'] = np.nan\n",
        "df_toronto['Longitude'] = np.nan"
      ],
      "execution_count": 0,
      "outputs": []
    },
    {
      "cell_type": "code",
      "metadata": {
        "id": "raFSAmTjF_VU",
        "colab_type": "code",
        "colab": {
          "base_uri": "https://localhost:8080/",
          "height": 417
        },
        "outputId": "2a7a016d-e0af-4b00-b0dd-9cf740e813a9"
      },
      "source": [
        "# For each postcode in df_toronto find the corresponding coordinates in df_cord and assign it to df_toronto\n",
        "for idx in df_toronto.index:\n",
        "    cord_idx = df_cord['Postal Code'] == df_toronto.loc[idx, 'Postcode']\n",
        "    df_toronto.at[idx, 'Latitude'] = df_cord.loc[cord_idx, 'Latitude'].values\n",
        "    df_toronto.at[idx, 'Longitude'] = df_cord.loc[cord_idx, 'Longitude'].values\n",
        "\n",
        "df_toronto.head(12)"
      ],
      "execution_count": 51,
      "outputs": [
        {
          "output_type": "execute_result",
          "data": {
            "text/html": [
              "<div>\n",
              "<style scoped>\n",
              "    .dataframe tbody tr th:only-of-type {\n",
              "        vertical-align: middle;\n",
              "    }\n",
              "\n",
              "    .dataframe tbody tr th {\n",
              "        vertical-align: top;\n",
              "    }\n",
              "\n",
              "    .dataframe thead th {\n",
              "        text-align: right;\n",
              "    }\n",
              "</style>\n",
              "<table border=\"1\" class=\"dataframe\">\n",
              "  <thead>\n",
              "    <tr style=\"text-align: right;\">\n",
              "      <th></th>\n",
              "      <th>Postcode</th>\n",
              "      <th>Borough</th>\n",
              "      <th>Neighbourhood</th>\n",
              "      <th>Latitude</th>\n",
              "      <th>Longitude</th>\n",
              "    </tr>\n",
              "  </thead>\n",
              "  <tbody>\n",
              "    <tr>\n",
              "      <th>0</th>\n",
              "      <td>M1B</td>\n",
              "      <td>Scarborough</td>\n",
              "      <td>Rouge, Malvern</td>\n",
              "      <td>43.806686</td>\n",
              "      <td>-79.194353</td>\n",
              "    </tr>\n",
              "    <tr>\n",
              "      <th>1</th>\n",
              "      <td>M1C</td>\n",
              "      <td>Scarborough</td>\n",
              "      <td>Highland Creek, Rouge Hill, Port Union</td>\n",
              "      <td>43.784535</td>\n",
              "      <td>-79.160497</td>\n",
              "    </tr>\n",
              "    <tr>\n",
              "      <th>2</th>\n",
              "      <td>M1E</td>\n",
              "      <td>Scarborough</td>\n",
              "      <td>Guildwood, Morningside, West Hill</td>\n",
              "      <td>43.763573</td>\n",
              "      <td>-79.188711</td>\n",
              "    </tr>\n",
              "    <tr>\n",
              "      <th>3</th>\n",
              "      <td>M1G</td>\n",
              "      <td>Scarborough</td>\n",
              "      <td>Woburn</td>\n",
              "      <td>43.770992</td>\n",
              "      <td>-79.216917</td>\n",
              "    </tr>\n",
              "    <tr>\n",
              "      <th>4</th>\n",
              "      <td>M1H</td>\n",
              "      <td>Scarborough</td>\n",
              "      <td>Cedarbrae</td>\n",
              "      <td>43.773136</td>\n",
              "      <td>-79.239476</td>\n",
              "    </tr>\n",
              "    <tr>\n",
              "      <th>5</th>\n",
              "      <td>M1J</td>\n",
              "      <td>Scarborough</td>\n",
              "      <td>Scarborough Village</td>\n",
              "      <td>43.744734</td>\n",
              "      <td>-79.239476</td>\n",
              "    </tr>\n",
              "    <tr>\n",
              "      <th>6</th>\n",
              "      <td>M1K</td>\n",
              "      <td>Scarborough</td>\n",
              "      <td>East Birchmount Park, Ionview, Kennedy Park</td>\n",
              "      <td>43.727929</td>\n",
              "      <td>-79.262029</td>\n",
              "    </tr>\n",
              "    <tr>\n",
              "      <th>7</th>\n",
              "      <td>M1L</td>\n",
              "      <td>Scarborough</td>\n",
              "      <td>Clairlea, Golden Mile, Oakridge</td>\n",
              "      <td>43.711112</td>\n",
              "      <td>-79.284577</td>\n",
              "    </tr>\n",
              "    <tr>\n",
              "      <th>8</th>\n",
              "      <td>M1M</td>\n",
              "      <td>Scarborough</td>\n",
              "      <td>Cliffcrest, Cliffside, Scarborough Village West</td>\n",
              "      <td>43.716316</td>\n",
              "      <td>-79.239476</td>\n",
              "    </tr>\n",
              "    <tr>\n",
              "      <th>9</th>\n",
              "      <td>M1N</td>\n",
              "      <td>Scarborough</td>\n",
              "      <td>Birch Cliff, Cliffside West</td>\n",
              "      <td>43.692657</td>\n",
              "      <td>-79.264848</td>\n",
              "    </tr>\n",
              "    <tr>\n",
              "      <th>10</th>\n",
              "      <td>M1P</td>\n",
              "      <td>Scarborough</td>\n",
              "      <td>Dorset Park, Scarborough Town Centre, Wexford ...</td>\n",
              "      <td>43.757410</td>\n",
              "      <td>-79.273304</td>\n",
              "    </tr>\n",
              "    <tr>\n",
              "      <th>11</th>\n",
              "      <td>M1R</td>\n",
              "      <td>Scarborough</td>\n",
              "      <td>Maryvale, Wexford</td>\n",
              "      <td>43.750072</td>\n",
              "      <td>-79.295849</td>\n",
              "    </tr>\n",
              "  </tbody>\n",
              "</table>\n",
              "</div>"
            ],
            "text/plain": [
              "   Postcode      Borough                                      Neighbourhood  \\\n",
              "0       M1B  Scarborough                                     Rouge, Malvern   \n",
              "1       M1C  Scarborough             Highland Creek, Rouge Hill, Port Union   \n",
              "2       M1E  Scarborough                  Guildwood, Morningside, West Hill   \n",
              "3       M1G  Scarborough                                             Woburn   \n",
              "4       M1H  Scarborough                                          Cedarbrae   \n",
              "5       M1J  Scarborough                                Scarborough Village   \n",
              "6       M1K  Scarborough        East Birchmount Park, Ionview, Kennedy Park   \n",
              "7       M1L  Scarborough                    Clairlea, Golden Mile, Oakridge   \n",
              "8       M1M  Scarborough    Cliffcrest, Cliffside, Scarborough Village West   \n",
              "9       M1N  Scarborough                        Birch Cliff, Cliffside West   \n",
              "10      M1P  Scarborough  Dorset Park, Scarborough Town Centre, Wexford ...   \n",
              "11      M1R  Scarborough                                  Maryvale, Wexford   \n",
              "\n",
              "     Latitude  Longitude  \n",
              "0   43.806686 -79.194353  \n",
              "1   43.784535 -79.160497  \n",
              "2   43.763573 -79.188711  \n",
              "3   43.770992 -79.216917  \n",
              "4   43.773136 -79.239476  \n",
              "5   43.744734 -79.239476  \n",
              "6   43.727929 -79.262029  \n",
              "7   43.711112 -79.284577  \n",
              "8   43.716316 -79.239476  \n",
              "9   43.692657 -79.264848  \n",
              "10  43.757410 -79.273304  \n",
              "11  43.750072 -79.295849  "
            ]
          },
          "metadata": {
            "tags": []
          },
          "execution_count": 51
        }
      ]
    },
    {
      "cell_type": "markdown",
      "metadata": {
        "id": "z0TpfcUbIukS",
        "colab_type": "text"
      },
      "source": [
        "## 4 Explore and cluster the neighborhoods in Toronto"
      ]
    },
    {
      "cell_type": "code",
      "metadata": {
        "id": "fT94o428GXPe",
        "colab_type": "code",
        "colab": {
          "base_uri": "https://localhost:8080/",
          "height": 35
        },
        "outputId": "4fd6abed-73d3-4b1e-a8de-978587fbfe86"
      },
      "source": [
        "# Geographical coordinates of Toronto\n",
        "\n",
        "address = 'Toronto'\n",
        "\n",
        "geolocator = Nominatim(user_agent=\"coursera\")\n",
        "location = geolocator.geocode(address)\n",
        "latitude = location.latitude\n",
        "longitude = location.longitude\n",
        "print('The geograpical coordinate of Toronto are {}, {}.'.format(latitude, longitude))"
      ],
      "execution_count": 52,
      "outputs": [
        {
          "output_type": "stream",
          "text": [
            "The geograpical coordinate of Toronto are 43.653963, -79.387207.\n"
          ],
          "name": "stdout"
        }
      ]
    },
    {
      "cell_type": "code",
      "metadata": {
        "id": "FuzztxdHLZCl",
        "colab_type": "code",
        "colab": {
          "base_uri": "https://localhost:8080/",
          "height": 703
        },
        "outputId": "05941943-d3b7-4977-c36e-18e5fa507af5"
      },
      "source": [
        "# create map of Toronto using latitude and longitude values\n",
        "map_toronto = folium.Map(location=[latitude, longitude], zoom_start=10)\n",
        "\n",
        "# add markers to map\n",
        "for latitude, longitude, borough, neighborhood in zip(df_toronto['Latitude'], df_toronto['Longitude'], df_toronto['Borough'], df_toronto['Neighbourhood']):\n",
        "    label = '{}, {}'.format(borough, neighborhood)\n",
        "    label = folium.Popup(label, parse_html=True)\n",
        "    folium.CircleMarker(\n",
        "        [latitude, longitude],\n",
        "        radius=5,\n",
        "        popup=label,\n",
        "        color='blue',\n",
        "        fill=True,\n",
        "        fill_color='#3186cc',\n",
        "        fill_opacity=0.7,\n",
        "        parse_html=False).add_to(map_toronto)  \n",
        "\n",
        "map_toronto"
      ],
      "execution_count": 58,
      "outputs": [
        {
          "output_type": "execute_result",
          "data": {
            "text/html": [
              "<div style=\"width:100%;\"><div style=\"position:relative;width:100%;height:0;padding-bottom:60%;\"><iframe src=\"data:text/html;charset=utf-8;base64,PCFET0NUWVBFIGh0bWw+CjxoZWFkPiAgICAKICAgIDxtZXRhIGh0dHAtZXF1aXY9ImNvbnRlbnQtdHlwZSIgY29udGVudD0idGV4dC9odG1sOyBjaGFyc2V0PVVURi04IiAvPgogICAgPHNjcmlwdD5MX1BSRUZFUl9DQU5WQVM9ZmFsc2U7IExfTk9fVE9VQ0g9ZmFsc2U7IExfRElTQUJMRV8zRD1mYWxzZTs8L3NjcmlwdD4KICAgIDxzY3JpcHQgc3JjPSJodHRwczovL2Nkbi5qc2RlbGl2ci5uZXQvbnBtL2xlYWZsZXRAMS40LjAvZGlzdC9sZWFmbGV0LmpzIj48L3NjcmlwdD4KICAgIDxzY3JpcHQgc3JjPSJodHRwczovL2NvZGUuanF1ZXJ5LmNvbS9qcXVlcnktMS4xMi40Lm1pbi5qcyI+PC9zY3JpcHQ+CiAgICA8c2NyaXB0IHNyYz0iaHR0cHM6Ly9tYXhjZG4uYm9vdHN0cmFwY2RuLmNvbS9ib290c3RyYXAvMy4yLjAvanMvYm9vdHN0cmFwLm1pbi5qcyI+PC9zY3JpcHQ+CiAgICA8c2NyaXB0IHNyYz0iaHR0cHM6Ly9jZG5qcy5jbG91ZGZsYXJlLmNvbS9hamF4L2xpYnMvTGVhZmxldC5hd2Vzb21lLW1hcmtlcnMvMi4wLjIvbGVhZmxldC5hd2Vzb21lLW1hcmtlcnMuanMiPjwvc2NyaXB0PgogICAgPGxpbmsgcmVsPSJzdHlsZXNoZWV0IiBocmVmPSJodHRwczovL2Nkbi5qc2RlbGl2ci5uZXQvbnBtL2xlYWZsZXRAMS40LjAvZGlzdC9sZWFmbGV0LmNzcyIvPgogICAgPGxpbmsgcmVsPSJzdHlsZXNoZWV0IiBocmVmPSJodHRwczovL21heGNkbi5ib290c3RyYXBjZG4uY29tL2Jvb3RzdHJhcC8zLjIuMC9jc3MvYm9vdHN0cmFwLm1pbi5jc3MiLz4KICAgIDxsaW5rIHJlbD0ic3R5bGVzaGVldCIgaHJlZj0iaHR0cHM6Ly9tYXhjZG4uYm9vdHN0cmFwY2RuLmNvbS9ib290c3RyYXAvMy4yLjAvY3NzL2Jvb3RzdHJhcC10aGVtZS5taW4uY3NzIi8+CiAgICA8bGluayByZWw9InN0eWxlc2hlZXQiIGhyZWY9Imh0dHBzOi8vbWF4Y2RuLmJvb3RzdHJhcGNkbi5jb20vZm9udC1hd2Vzb21lLzQuNi4zL2Nzcy9mb250LWF3ZXNvbWUubWluLmNzcyIvPgogICAgPGxpbmsgcmVsPSJzdHlsZXNoZWV0IiBocmVmPSJodHRwczovL2NkbmpzLmNsb3VkZmxhcmUuY29tL2FqYXgvbGlicy9MZWFmbGV0LmF3ZXNvbWUtbWFya2Vycy8yLjAuMi9sZWFmbGV0LmF3ZXNvbWUtbWFya2Vycy5jc3MiLz4KICAgIDxsaW5rIHJlbD0ic3R5bGVzaGVldCIgaHJlZj0iaHR0cHM6Ly9yYXdjZG4uZ2l0aGFjay5jb20vcHl0aG9uLXZpc3VhbGl6YXRpb24vZm9saXVtL21hc3Rlci9mb2xpdW0vdGVtcGxhdGVzL2xlYWZsZXQuYXdlc29tZS5yb3RhdGUuY3NzIi8+CiAgICA8c3R5bGU+aHRtbCwgYm9keSB7d2lkdGg6IDEwMCU7aGVpZ2h0OiAxMDAlO21hcmdpbjogMDtwYWRkaW5nOiAwO308L3N0eWxlPgogICAgPHN0eWxlPiNtYXAge3Bvc2l0aW9uOmFic29sdXRlO3RvcDowO2JvdHRvbTowO3JpZ2h0OjA7bGVmdDowO308L3N0eWxlPgogICAgCiAgICA8bWV0YSBuYW1lPSJ2aWV3cG9ydCIgY29udGVudD0id2lkdGg9ZGV2aWNlLXdpZHRoLAogICAgICAgIGluaXRpYWwtc2NhbGU9MS4wLCBtYXhpbXVtLXNjYWxlPTEuMCwgdXNlci1zY2FsYWJsZT1ubyIgLz4KICAgIDxzdHlsZT4jbWFwXzE3YWFjYjJmZDhlODQ0NGU5Njc0YjYwMzVmMmZiM2RhIHsKICAgICAgICBwb3NpdGlvbjogcmVsYXRpdmU7CiAgICAgICAgd2lkdGg6IDEwMC4wJTsKICAgICAgICBoZWlnaHQ6IDEwMC4wJTsKICAgICAgICBsZWZ0OiAwLjAlOwogICAgICAgIHRvcDogMC4wJTsKICAgICAgICB9CiAgICA8L3N0eWxlPgo8L2hlYWQ+Cjxib2R5PiAgICAKICAgIAogICAgPGRpdiBjbGFzcz0iZm9saXVtLW1hcCIgaWQ9Im1hcF8xN2FhY2IyZmQ4ZTg0NDRlOTY3NGI2MDM1ZjJmYjNkYSIgPjwvZGl2Pgo8L2JvZHk+CjxzY3JpcHQ+ICAgIAogICAgCiAgICAKICAgICAgICB2YXIgYm91bmRzID0gbnVsbDsKICAgIAoKICAgIHZhciBtYXBfMTdhYWNiMmZkOGU4NDQ0ZTk2NzRiNjAzNWYyZmIzZGEgPSBMLm1hcCgKICAgICAgICAnbWFwXzE3YWFjYjJmZDhlODQ0NGU5Njc0YjYwMzVmMmZiM2RhJywgewogICAgICAgIGNlbnRlcjogWzQzLjgwNjY4NjI5OTk5OTk5NiwgLTc5LjE5NDM1MzQwMDAwMDAxXSwKICAgICAgICB6b29tOiAxMCwKICAgICAgICBtYXhCb3VuZHM6IGJvdW5kcywKICAgICAgICBsYXllcnM6IFtdLAogICAgICAgIHdvcmxkQ29weUp1bXA6IGZhbHNlLAogICAgICAgIGNyczogTC5DUlMuRVBTRzM4NTcsCiAgICAgICAgem9vbUNvbnRyb2w6IHRydWUsCiAgICAgICAgfSk7CgoKICAgIAogICAgdmFyIHRpbGVfbGF5ZXJfNzYwMjEyMDU3Y2I3NDNlM2FhZWIzMDRhYzlkMmE0YWUgPSBMLnRpbGVMYXllcigKICAgICAgICAnaHR0cHM6Ly97c30udGlsZS5vcGVuc3RyZWV0bWFwLm9yZy97en0ve3h9L3t5fS5wbmcnLAogICAgICAgIHsKICAgICAgICAiYXR0cmlidXRpb24iOiBudWxsLAogICAgICAgICJkZXRlY3RSZXRpbmEiOiBmYWxzZSwKICAgICAgICAibWF4TmF0aXZlWm9vbSI6IDE4LAogICAgICAgICJtYXhab29tIjogMTgsCiAgICAgICAgIm1pblpvb20iOiAwLAogICAgICAgICJub1dyYXAiOiBmYWxzZSwKICAgICAgICAib3BhY2l0eSI6IDEsCiAgICAgICAgInN1YmRvbWFpbnMiOiAiYWJjIiwKICAgICAgICAidG1zIjogZmFsc2UKfSkuYWRkVG8obWFwXzE3YWFjYjJmZDhlODQ0NGU5Njc0YjYwMzVmMmZiM2RhKTsKICAgIAogICAgICAgICAgICB2YXIgY2lyY2xlX21hcmtlcl9kYzI2NTY2YWNkYWE0M2Y0YWQyODIxOGUwYzdmMGIxOSA9IEwuY2lyY2xlTWFya2VyKAogICAgICAgICAgICAgICAgWzQzLjgwNjY4NjI5OTk5OTk5NiwgLTc5LjE5NDM1MzQwMDAwMDAxXSwKICAgICAgICAgICAgICAgIHsKICAiYnViYmxpbmdNb3VzZUV2ZW50cyI6IHRydWUsCiAgImNvbG9yIjogImJsdWUiLAogICJkYXNoQXJyYXkiOiBudWxsLAogICJkYXNoT2Zmc2V0IjogbnVsbCwKICAiZmlsbCI6IHRydWUsCiAgImZpbGxDb2xvciI6ICIjMzE4NmNjIiwKICAiZmlsbE9wYWNpdHkiOiAwLjcsCiAgImZpbGxSdWxlIjogImV2ZW5vZGQiLAogICJsaW5lQ2FwIjogInJvdW5kIiwKICAibGluZUpvaW4iOiAicm91bmQiLAogICJvcGFjaXR5IjogMS4wLAogICJyYWRpdXMiOiA1LAogICJzdHJva2UiOiB0cnVlLAogICJ3ZWlnaHQiOiAzCn0KICAgICAgICAgICAgICAgICkKICAgICAgICAgICAgICAgIC5hZGRUbyhtYXBfMTdhYWNiMmZkOGU4NDQ0ZTk2NzRiNjAzNWYyZmIzZGEpOwogICAgICAgICAgICAKICAgIAogICAgICAgICAgICB2YXIgcG9wdXBfYjM0MTI2YmQwMDQ2NDM5ZWFmZWJkY2EwZTU5Mzc3YWUgPSBMLnBvcHVwKHttYXhXaWR0aDogJzEwMCUnCiAgICAgICAgICAgIAogICAgICAgICAgICB9KTsKCiAgICAgICAgICAgIAogICAgICAgICAgICAgICAgdmFyIGh0bWxfYjEyZGEwYTc4ZjBiNDI1N2IxYzA1MDQyZjcyZjA5NWIgPSAkKGA8ZGl2IGlkPSJodG1sX2IxMmRhMGE3OGYwYjQyNTdiMWMwNTA0MmY3MmYwOTViIiBzdHlsZT0id2lkdGg6IDEwMC4wJTsgaGVpZ2h0OiAxMDAuMCU7Ij5TY2FyYm9yb3VnaCwgUm91Z2UsIE1hbHZlcm48L2Rpdj5gKVswXTsKICAgICAgICAgICAgICAgIHBvcHVwX2IzNDEyNmJkMDA0NjQzOWVhZmViZGNhMGU1OTM3N2FlLnNldENvbnRlbnQoaHRtbF9iMTJkYTBhNzhmMGI0MjU3YjFjMDUwNDJmNzJmMDk1Yik7CiAgICAgICAgICAgIAoKICAgICAgICAgICAgY2lyY2xlX21hcmtlcl9kYzI2NTY2YWNkYWE0M2Y0YWQyODIxOGUwYzdmMGIxOS5iaW5kUG9wdXAocG9wdXBfYjM0MTI2YmQwMDQ2NDM5ZWFmZWJkY2EwZTU5Mzc3YWUpCiAgICAgICAgICAgIDsKCiAgICAgICAgICAgIAogICAgICAgIAogICAgCiAgICAgICAgICAgIHZhciBjaXJjbGVfbWFya2VyXzgyMGNlNzNlYzEwYjRjN2M4NDFhN2RiMjE0ZmUxOTM3ID0gTC5jaXJjbGVNYXJrZXIoCiAgICAgICAgICAgICAgICBbNDMuNzg0NTM1MSwgLTc5LjE2MDQ5NzA5OTk5OTk5XSwKICAgICAgICAgICAgICAgIHsKICAiYnViYmxpbmdNb3VzZUV2ZW50cyI6IHRydWUsCiAgImNvbG9yIjogImJsdWUiLAogICJkYXNoQXJyYXkiOiBudWxsLAogICJkYXNoT2Zmc2V0IjogbnVsbCwKICAiZmlsbCI6IHRydWUsCiAgImZpbGxDb2xvciI6ICIjMzE4NmNjIiwKICAiZmlsbE9wYWNpdHkiOiAwLjcsCiAgImZpbGxSdWxlIjogImV2ZW5vZGQiLAogICJsaW5lQ2FwIjogInJvdW5kIiwKICAibGluZUpvaW4iOiAicm91bmQiLAogICJvcGFjaXR5IjogMS4wLAogICJyYWRpdXMiOiA1LAogICJzdHJva2UiOiB0cnVlLAogICJ3ZWlnaHQiOiAzCn0KICAgICAgICAgICAgICAgICkKICAgICAgICAgICAgICAgIC5hZGRUbyhtYXBfMTdhYWNiMmZkOGU4NDQ0ZTk2NzRiNjAzNWYyZmIzZGEpOwogICAgICAgICAgICAKICAgIAogICAgICAgICAgICB2YXIgcG9wdXBfMjAxM2E0MWE1MGQxNGU2ZDgyNjU3NmE4ZTBkMGUxZWQgPSBMLnBvcHVwKHttYXhXaWR0aDogJzEwMCUnCiAgICAgICAgICAgIAogICAgICAgICAgICB9KTsKCiAgICAgICAgICAgIAogICAgICAgICAgICAgICAgdmFyIGh0bWxfYWQ5MTMzZmViMzYxNGRkM2EwNDY3OTkwYmQwMGZkN2IgPSAkKGA8ZGl2IGlkPSJodG1sX2FkOTEzM2ZlYjM2MTRkZDNhMDQ2Nzk5MGJkMDBmZDdiIiBzdHlsZT0id2lkdGg6IDEwMC4wJTsgaGVpZ2h0OiAxMDAuMCU7Ij5TY2FyYm9yb3VnaCwgSGlnaGxhbmQgQ3JlZWssIFJvdWdlIEhpbGwsIFBvcnQgVW5pb248L2Rpdj5gKVswXTsKICAgICAgICAgICAgICAgIHBvcHVwXzIwMTNhNDFhNTBkMTRlNmQ4MjY1NzZhOGUwZDBlMWVkLnNldENvbnRlbnQoaHRtbF9hZDkxMzNmZWIzNjE0ZGQzYTA0Njc5OTBiZDAwZmQ3Yik7CiAgICAgICAgICAgIAoKICAgICAgICAgICAgY2lyY2xlX21hcmtlcl84MjBjZTczZWMxMGI0YzdjODQxYTdkYjIxNGZlMTkzNy5iaW5kUG9wdXAocG9wdXBfMjAxM2E0MWE1MGQxNGU2ZDgyNjU3NmE4ZTBkMGUxZWQpCiAgICAgICAgICAgIDsKCiAgICAgICAgICAgIAogICAgICAgIAogICAgCiAgICAgICAgICAgIHZhciBjaXJjbGVfbWFya2VyX2NiNGQwODNlNzQ2MzQxY2NiNWE2MDM2MGQzNzc4YzM2ID0gTC5jaXJjbGVNYXJrZXIoCiAgICAgICAgICAgICAgICBbNDMuNzYzNTcyNiwgLTc5LjE4ODcxMTVdLAogICAgICAgICAgICAgICAgewogICJidWJibGluZ01vdXNlRXZlbnRzIjogdHJ1ZSwKICAiY29sb3IiOiAiYmx1ZSIsCiAgImRhc2hBcnJheSI6IG51bGwsCiAgImRhc2hPZmZzZXQiOiBudWxsLAogICJmaWxsIjogdHJ1ZSwKICAiZmlsbENvbG9yIjogIiMzMTg2Y2MiLAogICJmaWxsT3BhY2l0eSI6IDAuNywKICAiZmlsbFJ1bGUiOiAiZXZlbm9kZCIsCiAgImxpbmVDYXAiOiAicm91bmQiLAogICJsaW5lSm9pbiI6ICJyb3VuZCIsCiAgIm9wYWNpdHkiOiAxLjAsCiAgInJhZGl1cyI6IDUsCiAgInN0cm9rZSI6IHRydWUsCiAgIndlaWdodCI6IDMKfQogICAgICAgICAgICAgICAgKQogICAgICAgICAgICAgICAgLmFkZFRvKG1hcF8xN2FhY2IyZmQ4ZTg0NDRlOTY3NGI2MDM1ZjJmYjNkYSk7CiAgICAgICAgICAgIAogICAgCiAgICAgICAgICAgIHZhciBwb3B1cF9mMWQ3MGRhMDRhZWY0MWU3OWYxZGEyNzE2MzM4MGZhYyA9IEwucG9wdXAoe21heFdpZHRoOiAnMTAwJScKICAgICAgICAgICAgCiAgICAgICAgICAgIH0pOwoKICAgICAgICAgICAgCiAgICAgICAgICAgICAgICB2YXIgaHRtbF9hOWFmYmFmOWQwNDI0ZjQ0YWRiY2NjYjZkNzIyZGU2ZCA9ICQoYDxkaXYgaWQ9Imh0bWxfYTlhZmJhZjlkMDQyNGY0NGFkYmNjY2I2ZDcyMmRlNmQiIHN0eWxlPSJ3aWR0aDogMTAwLjAlOyBoZWlnaHQ6IDEwMC4wJTsiPlNjYXJib3JvdWdoLCBHdWlsZHdvb2QsIE1vcm5pbmdzaWRlLCBXZXN0IEhpbGw8L2Rpdj5gKVswXTsKICAgICAgICAgICAgICAgIHBvcHVwX2YxZDcwZGEwNGFlZjQxZTc5ZjFkYTI3MTYzMzgwZmFjLnNldENvbnRlbnQoaHRtbF9hOWFmYmFmOWQwNDI0ZjQ0YWRiY2NjYjZkNzIyZGU2ZCk7CiAgICAgICAgICAgIAoKICAgICAgICAgICAgY2lyY2xlX21hcmtlcl9jYjRkMDgzZTc0NjM0MWNjYjVhNjAzNjBkMzc3OGMzNi5iaW5kUG9wdXAocG9wdXBfZjFkNzBkYTA0YWVmNDFlNzlmMWRhMjcxNjMzODBmYWMpCiAgICAgICAgICAgIDsKCiAgICAgICAgICAgIAogICAgICAgIAogICAgCiAgICAgICAgICAgIHZhciBjaXJjbGVfbWFya2VyXzMxNTM0NTRiZTQxMzQ1MjA5MzM4NzkxNjEyZDVhNzg4ID0gTC5jaXJjbGVNYXJrZXIoCiAgICAgICAgICAgICAgICBbNDMuNzcwOTkyMSwgLTc5LjIxNjkxNzQwMDAwMDAxXSwKICAgICAgICAgICAgICAgIHsKICAiYnViYmxpbmdNb3VzZUV2ZW50cyI6IHRydWUsCiAgImNvbG9yIjogImJsdWUiLAogICJkYXNoQXJyYXkiOiBudWxsLAogICJkYXNoT2Zmc2V0IjogbnVsbCwKICAiZmlsbCI6IHRydWUsCiAgImZpbGxDb2xvciI6ICIjMzE4NmNjIiwKICAiZmlsbE9wYWNpdHkiOiAwLjcsCiAgImZpbGxSdWxlIjogImV2ZW5vZGQiLAogICJsaW5lQ2FwIjogInJvdW5kIiwKICAibGluZUpvaW4iOiAicm91bmQiLAogICJvcGFjaXR5IjogMS4wLAogICJyYWRpdXMiOiA1LAogICJzdHJva2UiOiB0cnVlLAogICJ3ZWlnaHQiOiAzCn0KICAgICAgICAgICAgICAgICkKICAgICAgICAgICAgICAgIC5hZGRUbyhtYXBfMTdhYWNiMmZkOGU4NDQ0ZTk2NzRiNjAzNWYyZmIzZGEpOwogICAgICAgICAgICAKICAgIAogICAgICAgICAgICB2YXIgcG9wdXBfNWJjNTM5OGQxZDdmNDA3NGFlYWEyMWU3NzEwNDU4OTcgPSBMLnBvcHVwKHttYXhXaWR0aDogJzEwMCUnCiAgICAgICAgICAgIAogICAgICAgICAgICB9KTsKCiAgICAgICAgICAgIAogICAgICAgICAgICAgICAgdmFyIGh0bWxfNzQ3MjkzZWE2ZmUxNDNhNGI1MGI4MTVlYjIzYzAzNDkgPSAkKGA8ZGl2IGlkPSJodG1sXzc0NzI5M2VhNmZlMTQzYTRiNTBiODE1ZWIyM2MwMzQ5IiBzdHlsZT0id2lkdGg6IDEwMC4wJTsgaGVpZ2h0OiAxMDAuMCU7Ij5TY2FyYm9yb3VnaCwgV29idXJuPC9kaXY+YClbMF07CiAgICAgICAgICAgICAgICBwb3B1cF81YmM1Mzk4ZDFkN2Y0MDc0YWVhYTIxZTc3MTA0NTg5Ny5zZXRDb250ZW50KGh0bWxfNzQ3MjkzZWE2ZmUxNDNhNGI1MGI4MTVlYjIzYzAzNDkpOwogICAgICAgICAgICAKCiAgICAgICAgICAgIGNpcmNsZV9tYXJrZXJfMzE1MzQ1NGJlNDEzNDUyMDkzMzg3OTE2MTJkNWE3ODguYmluZFBvcHVwKHBvcHVwXzViYzUzOThkMWQ3ZjQwNzRhZWFhMjFlNzcxMDQ1ODk3KQogICAgICAgICAgICA7CgogICAgICAgICAgICAKICAgICAgICAKICAgIAogICAgICAgICAgICB2YXIgY2lyY2xlX21hcmtlcl9mMGNkODdmNzA5YmY0OGY2ODRjNmM1OGNjOTkwNmExNyA9IEwuY2lyY2xlTWFya2VyKAogICAgICAgICAgICAgICAgWzQzLjc3MzEzNiwgLTc5LjIzOTQ3NjA5OTk5OTk5XSwKICAgICAgICAgICAgICAgIHsKICAiYnViYmxpbmdNb3VzZUV2ZW50cyI6IHRydWUsCiAgImNvbG9yIjogImJsdWUiLAogICJkYXNoQXJyYXkiOiBudWxsLAogICJkYXNoT2Zmc2V0IjogbnVsbCwKICAiZmlsbCI6IHRydWUsCiAgImZpbGxDb2xvciI6ICIjMzE4NmNjIiwKICAiZmlsbE9wYWNpdHkiOiAwLjcsCiAgImZpbGxSdWxlIjogImV2ZW5vZGQiLAogICJsaW5lQ2FwIjogInJvdW5kIiwKICAibGluZUpvaW4iOiAicm91bmQiLAogICJvcGFjaXR5IjogMS4wLAogICJyYWRpdXMiOiA1LAogICJzdHJva2UiOiB0cnVlLAogICJ3ZWlnaHQiOiAzCn0KICAgICAgICAgICAgICAgICkKICAgICAgICAgICAgICAgIC5hZGRUbyhtYXBfMTdhYWNiMmZkOGU4NDQ0ZTk2NzRiNjAzNWYyZmIzZGEpOwogICAgICAgICAgICAKICAgIAogICAgICAgICAgICB2YXIgcG9wdXBfNjAxOGRmYmIzZDA2NGExNTlkNzhlNDZlOWQ1MDc3MDYgPSBMLnBvcHVwKHttYXhXaWR0aDogJzEwMCUnCiAgICAgICAgICAgIAogICAgICAgICAgICB9KTsKCiAgICAgICAgICAgIAogICAgICAgICAgICAgICAgdmFyIGh0bWxfMzJiODExMzZmOWZlNGFlM2EyNDM3MmIzZmUyZGEyODAgPSAkKGA8ZGl2IGlkPSJodG1sXzMyYjgxMTM2ZjlmZTRhZTNhMjQzNzJiM2ZlMmRhMjgwIiBzdHlsZT0id2lkdGg6IDEwMC4wJTsgaGVpZ2h0OiAxMDAuMCU7Ij5TY2FyYm9yb3VnaCwgQ2VkYXJicmFlPC9kaXY+YClbMF07CiAgICAgICAgICAgICAgICBwb3B1cF82MDE4ZGZiYjNkMDY0YTE1OWQ3OGU0NmU5ZDUwNzcwNi5zZXRDb250ZW50KGh0bWxfMzJiODExMzZmOWZlNGFlM2EyNDM3MmIzZmUyZGEyODApOwogICAgICAgICAgICAKCiAgICAgICAgICAgIGNpcmNsZV9tYXJrZXJfZjBjZDg3ZjcwOWJmNDhmNjg0YzZjNThjYzk5MDZhMTcuYmluZFBvcHVwKHBvcHVwXzYwMThkZmJiM2QwNjRhMTU5ZDc4ZTQ2ZTlkNTA3NzA2KQogICAgICAgICAgICA7CgogICAgICAgICAgICAKICAgICAgICAKICAgIAogICAgICAgICAgICB2YXIgY2lyY2xlX21hcmtlcl9lMjdlZTU0NTgzNGM0YjM2YTA0NTAxNmU3NmE5YWZkMSA9IEwuY2lyY2xlTWFya2VyKAogICAgICAgICAgICAgICAgWzQzLjc0NDczNDIsIC03OS4yMzk0NzYwOTk5OTk5OV0sCiAgICAgICAgICAgICAgICB7CiAgImJ1YmJsaW5nTW91c2VFdmVudHMiOiB0cnVlLAogICJjb2xvciI6ICJibHVlIiwKICAiZGFzaEFycmF5IjogbnVsbCwKICAiZGFzaE9mZnNldCI6IG51bGwsCiAgImZpbGwiOiB0cnVlLAogICJmaWxsQ29sb3IiOiAiIzMxODZjYyIsCiAgImZpbGxPcGFjaXR5IjogMC43LAogICJmaWxsUnVsZSI6ICJldmVub2RkIiwKICAibGluZUNhcCI6ICJyb3VuZCIsCiAgImxpbmVKb2luIjogInJvdW5kIiwKICAib3BhY2l0eSI6IDEuMCwKICAicmFkaXVzIjogNSwKICAic3Ryb2tlIjogdHJ1ZSwKICAid2VpZ2h0IjogMwp9CiAgICAgICAgICAgICAgICApCiAgICAgICAgICAgICAgICAuYWRkVG8obWFwXzE3YWFjYjJmZDhlODQ0NGU5Njc0YjYwMzVmMmZiM2RhKTsKICAgICAgICAgICAgCiAgICAKICAgICAgICAgICAgdmFyIHBvcHVwX2MzODYzNmNlZWIzMjQ3YTI4N2M0NGY5M2ViZmZkYWMwID0gTC5wb3B1cCh7bWF4V2lkdGg6ICcxMDAlJwogICAgICAgICAgICAKICAgICAgICAgICAgfSk7CgogICAgICAgICAgICAKICAgICAgICAgICAgICAgIHZhciBodG1sXzJkOTU1YWEwNDBiMTQxNTc5YzhkYTE3YmM0YWVlYzgxID0gJChgPGRpdiBpZD0iaHRtbF8yZDk1NWFhMDQwYjE0MTU3OWM4ZGExN2JjNGFlZWM4MSIgc3R5bGU9IndpZHRoOiAxMDAuMCU7IGhlaWdodDogMTAwLjAlOyI+U2NhcmJvcm91Z2gsIFNjYXJib3JvdWdoIFZpbGxhZ2U8L2Rpdj5gKVswXTsKICAgICAgICAgICAgICAgIHBvcHVwX2MzODYzNmNlZWIzMjQ3YTI4N2M0NGY5M2ViZmZkYWMwLnNldENvbnRlbnQoaHRtbF8yZDk1NWFhMDQwYjE0MTU3OWM4ZGExN2JjNGFlZWM4MSk7CiAgICAgICAgICAgIAoKICAgICAgICAgICAgY2lyY2xlX21hcmtlcl9lMjdlZTU0NTgzNGM0YjM2YTA0NTAxNmU3NmE5YWZkMS5iaW5kUG9wdXAocG9wdXBfYzM4NjM2Y2VlYjMyNDdhMjg3YzQ0ZjkzZWJmZmRhYzApCiAgICAgICAgICAgIDsKCiAgICAgICAgICAgIAogICAgICAgIAogICAgCiAgICAgICAgICAgIHZhciBjaXJjbGVfbWFya2VyXzc5NDBlMzQ4ZTRlMTQyM2FhNGQzN2IyMmFmYjNlMDM4ID0gTC5jaXJjbGVNYXJrZXIoCiAgICAgICAgICAgICAgICBbNDMuNzI3OTI5MiwgLTc5LjI2MjAyOTQwMDAwMDAyXSwKICAgICAgICAgICAgICAgIHsKICAiYnViYmxpbmdNb3VzZUV2ZW50cyI6IHRydWUsCiAgImNvbG9yIjogImJsdWUiLAogICJkYXNoQXJyYXkiOiBudWxsLAogICJkYXNoT2Zmc2V0IjogbnVsbCwKICAiZmlsbCI6IHRydWUsCiAgImZpbGxDb2xvciI6ICIjMzE4NmNjIiwKICAiZmlsbE9wYWNpdHkiOiAwLjcsCiAgImZpbGxSdWxlIjogImV2ZW5vZGQiLAogICJsaW5lQ2FwIjogInJvdW5kIiwKICAibGluZUpvaW4iOiAicm91bmQiLAogICJvcGFjaXR5IjogMS4wLAogICJyYWRpdXMiOiA1LAogICJzdHJva2UiOiB0cnVlLAogICJ3ZWlnaHQiOiAzCn0KICAgICAgICAgICAgICAgICkKICAgICAgICAgICAgICAgIC5hZGRUbyhtYXBfMTdhYWNiMmZkOGU4NDQ0ZTk2NzRiNjAzNWYyZmIzZGEpOwogICAgICAgICAgICAKICAgIAogICAgICAgICAgICB2YXIgcG9wdXBfYmNmMWRhNzM1MjcyNDA2NTk4NTE4OTA2NDMyYmNiZGMgPSBMLnBvcHVwKHttYXhXaWR0aDogJzEwMCUnCiAgICAgICAgICAgIAogICAgICAgICAgICB9KTsKCiAgICAgICAgICAgIAogICAgICAgICAgICAgICAgdmFyIGh0bWxfN2E5NTgyOTNhN2EyNGUxMzhmMGViNDI1ZTljY2M4ZjEgPSAkKGA8ZGl2IGlkPSJodG1sXzdhOTU4MjkzYTdhMjRlMTM4ZjBlYjQyNWU5Y2NjOGYxIiBzdHlsZT0id2lkdGg6IDEwMC4wJTsgaGVpZ2h0OiAxMDAuMCU7Ij5TY2FyYm9yb3VnaCwgRWFzdCBCaXJjaG1vdW50IFBhcmssIElvbnZpZXcsIEtlbm5lZHkgUGFyazwvZGl2PmApWzBdOwogICAgICAgICAgICAgICAgcG9wdXBfYmNmMWRhNzM1MjcyNDA2NTk4NTE4OTA2NDMyYmNiZGMuc2V0Q29udGVudChodG1sXzdhOTU4MjkzYTdhMjRlMTM4ZjBlYjQyNWU5Y2NjOGYxKTsKICAgICAgICAgICAgCgogICAgICAgICAgICBjaXJjbGVfbWFya2VyXzc5NDBlMzQ4ZTRlMTQyM2FhNGQzN2IyMmFmYjNlMDM4LmJpbmRQb3B1cChwb3B1cF9iY2YxZGE3MzUyNzI0MDY1OTg1MTg5MDY0MzJiY2JkYykKICAgICAgICAgICAgOwoKICAgICAgICAgICAgCiAgICAgICAgCiAgICAKICAgICAgICAgICAgdmFyIGNpcmNsZV9tYXJrZXJfMWFlOWQ3ZTY0MDM1NDFiOWFlMzQ5NzY4ODRhYzdkMWEgPSBMLmNpcmNsZU1hcmtlcigKICAgICAgICAgICAgICAgIFs0My43MTExMTE3MDAwMDAwMDQsIC03OS4yODQ1NzcyXSwKICAgICAgICAgICAgICAgIHsKICAiYnViYmxpbmdNb3VzZUV2ZW50cyI6IHRydWUsCiAgImNvbG9yIjogImJsdWUiLAogICJkYXNoQXJyYXkiOiBudWxsLAogICJkYXNoT2Zmc2V0IjogbnVsbCwKICAiZmlsbCI6IHRydWUsCiAgImZpbGxDb2xvciI6ICIjMzE4NmNjIiwKICAiZmlsbE9wYWNpdHkiOiAwLjcsCiAgImZpbGxSdWxlIjogImV2ZW5vZGQiLAogICJsaW5lQ2FwIjogInJvdW5kIiwKICAibGluZUpvaW4iOiAicm91bmQiLAogICJvcGFjaXR5IjogMS4wLAogICJyYWRpdXMiOiA1LAogICJzdHJva2UiOiB0cnVlLAogICJ3ZWlnaHQiOiAzCn0KICAgICAgICAgICAgICAgICkKICAgICAgICAgICAgICAgIC5hZGRUbyhtYXBfMTdhYWNiMmZkOGU4NDQ0ZTk2NzRiNjAzNWYyZmIzZGEpOwogICAgICAgICAgICAKICAgIAogICAgICAgICAgICB2YXIgcG9wdXBfMDViNTY5ZWEzOWRhNGU1N2I2MjAxNzkwZjNjMjdhMzUgPSBMLnBvcHVwKHttYXhXaWR0aDogJzEwMCUnCiAgICAgICAgICAgIAogICAgICAgICAgICB9KTsKCiAgICAgICAgICAgIAogICAgICAgICAgICAgICAgdmFyIGh0bWxfN2NiZDE3OTM4MDQ0NGY0ZmJiYjIyNTRlNjkwYzRjNDAgPSAkKGA8ZGl2IGlkPSJodG1sXzdjYmQxNzkzODA0NDRmNGZiYmIyMjU0ZTY5MGM0YzQwIiBzdHlsZT0id2lkdGg6IDEwMC4wJTsgaGVpZ2h0OiAxMDAuMCU7Ij5TY2FyYm9yb3VnaCwgQ2xhaXJsZWEsIEdvbGRlbiBNaWxlLCBPYWtyaWRnZTwvZGl2PmApWzBdOwogICAgICAgICAgICAgICAgcG9wdXBfMDViNTY5ZWEzOWRhNGU1N2I2MjAxNzkwZjNjMjdhMzUuc2V0Q29udGVudChodG1sXzdjYmQxNzkzODA0NDRmNGZiYmIyMjU0ZTY5MGM0YzQwKTsKICAgICAgICAgICAgCgogICAgICAgICAgICBjaXJjbGVfbWFya2VyXzFhZTlkN2U2NDAzNTQxYjlhZTM0OTc2ODg0YWM3ZDFhLmJpbmRQb3B1cChwb3B1cF8wNWI1NjllYTM5ZGE0ZTU3YjYyMDE3OTBmM2MyN2EzNSkKICAgICAgICAgICAgOwoKICAgICAgICAgICAgCiAgICAgICAgCiAgICAKICAgICAgICAgICAgdmFyIGNpcmNsZV9tYXJrZXJfNGRkZTY5MTkzYmYxNDRiYzlkNDU5ODhiNDEyODZjZTcgPSBMLmNpcmNsZU1hcmtlcigKICAgICAgICAgICAgICAgIFs0My43MTYzMTYsIC03OS4yMzk0NzYwOTk5OTk5OV0sCiAgICAgICAgICAgICAgICB7CiAgImJ1YmJsaW5nTW91c2VFdmVudHMiOiB0cnVlLAogICJjb2xvciI6ICJibHVlIiwKICAiZGFzaEFycmF5IjogbnVsbCwKICAiZGFzaE9mZnNldCI6IG51bGwsCiAgImZpbGwiOiB0cnVlLAogICJmaWxsQ29sb3IiOiAiIzMxODZjYyIsCiAgImZpbGxPcGFjaXR5IjogMC43LAogICJmaWxsUnVsZSI6ICJldmVub2RkIiwKICAibGluZUNhcCI6ICJyb3VuZCIsCiAgImxpbmVKb2luIjogInJvdW5kIiwKICAib3BhY2l0eSI6IDEuMCwKICAicmFkaXVzIjogNSwKICAic3Ryb2tlIjogdHJ1ZSwKICAid2VpZ2h0IjogMwp9CiAgICAgICAgICAgICAgICApCiAgICAgICAgICAgICAgICAuYWRkVG8obWFwXzE3YWFjYjJmZDhlODQ0NGU5Njc0YjYwMzVmMmZiM2RhKTsKICAgICAgICAgICAgCiAgICAKICAgICAgICAgICAgdmFyIHBvcHVwX2IwMDE5MjQ0NzU5YzQyYWZiNmU0MTUxY2EzYWM1NDc0ID0gTC5wb3B1cCh7bWF4V2lkdGg6ICcxMDAlJwogICAgICAgICAgICAKICAgICAgICAgICAgfSk7CgogICAgICAgICAgICAKICAgICAgICAgICAgICAgIHZhciBodG1sX2I4YzYyMzYzNmE3YzQ1OWQ5MGQ1YWExNGE2Mzk2YTQ5ID0gJChgPGRpdiBpZD0iaHRtbF9iOGM2MjM2MzZhN2M0NTlkOTBkNWFhMTRhNjM5NmE0OSIgc3R5bGU9IndpZHRoOiAxMDAuMCU7IGhlaWdodDogMTAwLjAlOyI+U2NhcmJvcm91Z2gsIENsaWZmY3Jlc3QsIENsaWZmc2lkZSwgU2NhcmJvcm91Z2ggVmlsbGFnZSBXZXN0PC9kaXY+YClbMF07CiAgICAgICAgICAgICAgICBwb3B1cF9iMDAxOTI0NDc1OWM0MmFmYjZlNDE1MWNhM2FjNTQ3NC5zZXRDb250ZW50KGh0bWxfYjhjNjIzNjM2YTdjNDU5ZDkwZDVhYTE0YTYzOTZhNDkpOwogICAgICAgICAgICAKCiAgICAgICAgICAgIGNpcmNsZV9tYXJrZXJfNGRkZTY5MTkzYmYxNDRiYzlkNDU5ODhiNDEyODZjZTcuYmluZFBvcHVwKHBvcHVwX2IwMDE5MjQ0NzU5YzQyYWZiNmU0MTUxY2EzYWM1NDc0KQogICAgICAgICAgICA7CgogICAgICAgICAgICAKICAgICAgICAKICAgIAogICAgICAgICAgICB2YXIgY2lyY2xlX21hcmtlcl9iNjdlMjQ1NTkxZjE0ZjUzOTBlOWRhMjUwNmNlMDI4YiA9IEwuY2lyY2xlTWFya2VyKAogICAgICAgICAgICAgICAgWzQzLjY5MjY1NzAwMDAwMDAwNCwgLTc5LjI2NDg0ODFdLAogICAgICAgICAgICAgICAgewogICJidWJibGluZ01vdXNlRXZlbnRzIjogdHJ1ZSwKICAiY29sb3IiOiAiYmx1ZSIsCiAgImRhc2hBcnJheSI6IG51bGwsCiAgImRhc2hPZmZzZXQiOiBudWxsLAogICJmaWxsIjogdHJ1ZSwKICAiZmlsbENvbG9yIjogIiMzMTg2Y2MiLAogICJmaWxsT3BhY2l0eSI6IDAuNywKICAiZmlsbFJ1bGUiOiAiZXZlbm9kZCIsCiAgImxpbmVDYXAiOiAicm91bmQiLAogICJsaW5lSm9pbiI6ICJyb3VuZCIsCiAgIm9wYWNpdHkiOiAxLjAsCiAgInJhZGl1cyI6IDUsCiAgInN0cm9rZSI6IHRydWUsCiAgIndlaWdodCI6IDMKfQogICAgICAgICAgICAgICAgKQogICAgICAgICAgICAgICAgLmFkZFRvKG1hcF8xN2FhY2IyZmQ4ZTg0NDRlOTY3NGI2MDM1ZjJmYjNkYSk7CiAgICAgICAgICAgIAogICAgCiAgICAgICAgICAgIHZhciBwb3B1cF9kMDc5MDY3MmU4NzQ0N2VjYWRhMTBiM2JiMTY3MGJiYSA9IEwucG9wdXAoe21heFdpZHRoOiAnMTAwJScKICAgICAgICAgICAgCiAgICAgICAgICAgIH0pOwoKICAgICAgICAgICAgCiAgICAgICAgICAgICAgICB2YXIgaHRtbF85YTVhMmM5NWE1NWQ0ZjAxYjU3NmQxMDcwNzhhOWRkMCA9ICQoYDxkaXYgaWQ9Imh0bWxfOWE1YTJjOTVhNTVkNGYwMWI1NzZkMTA3MDc4YTlkZDAiIHN0eWxlPSJ3aWR0aDogMTAwLjAlOyBoZWlnaHQ6IDEwMC4wJTsiPlNjYXJib3JvdWdoLCBCaXJjaCBDbGlmZiwgQ2xpZmZzaWRlIFdlc3Q8L2Rpdj5gKVswXTsKICAgICAgICAgICAgICAgIHBvcHVwX2QwNzkwNjcyZTg3NDQ3ZWNhZGExMGIzYmIxNjcwYmJhLnNldENvbnRlbnQoaHRtbF85YTVhMmM5NWE1NWQ0ZjAxYjU3NmQxMDcwNzhhOWRkMCk7CiAgICAgICAgICAgIAoKICAgICAgICAgICAgY2lyY2xlX21hcmtlcl9iNjdlMjQ1NTkxZjE0ZjUzOTBlOWRhMjUwNmNlMDI4Yi5iaW5kUG9wdXAocG9wdXBfZDA3OTA2NzJlODc0NDdlY2FkYTEwYjNiYjE2NzBiYmEpCiAgICAgICAgICAgIDsKCiAgICAgICAgICAgIAogICAgICAgIAogICAgCiAgICAgICAgICAgIHZhciBjaXJjbGVfbWFya2VyXzExYjk0ZTZkYzM4ZjRjZTE5MGViNWIwZjM4MTk3Mjc3ID0gTC5jaXJjbGVNYXJrZXIoCiAgICAgICAgICAgICAgICBbNDMuNzU3NDA5NiwgLTc5LjI3MzMwNDAwMDAwMDAxXSwKICAgICAgICAgICAgICAgIHsKICAiYnViYmxpbmdNb3VzZUV2ZW50cyI6IHRydWUsCiAgImNvbG9yIjogImJsdWUiLAogICJkYXNoQXJyYXkiOiBudWxsLAogICJkYXNoT2Zmc2V0IjogbnVsbCwKICAiZmlsbCI6IHRydWUsCiAgImZpbGxDb2xvciI6ICIjMzE4NmNjIiwKICAiZmlsbE9wYWNpdHkiOiAwLjcsCiAgImZpbGxSdWxlIjogImV2ZW5vZGQiLAogICJsaW5lQ2FwIjogInJvdW5kIiwKICAibGluZUpvaW4iOiAicm91bmQiLAogICJvcGFjaXR5IjogMS4wLAogICJyYWRpdXMiOiA1LAogICJzdHJva2UiOiB0cnVlLAogICJ3ZWlnaHQiOiAzCn0KICAgICAgICAgICAgICAgICkKICAgICAgICAgICAgICAgIC5hZGRUbyhtYXBfMTdhYWNiMmZkOGU4NDQ0ZTk2NzRiNjAzNWYyZmIzZGEpOwogICAgICAgICAgICAKICAgIAogICAgICAgICAgICB2YXIgcG9wdXBfZjYzNmE2NjVjZjEwNGQ0Y2I2YWE5ODcwMzA0YmYxOTYgPSBMLnBvcHVwKHttYXhXaWR0aDogJzEwMCUnCiAgICAgICAgICAgIAogICAgICAgICAgICB9KTsKCiAgICAgICAgICAgIAogICAgICAgICAgICAgICAgdmFyIGh0bWxfNjU4NjBjMDNlYmMzNDVmNmFmMjc5Y2Y2NzcyYmRjMmEgPSAkKGA8ZGl2IGlkPSJodG1sXzY1ODYwYzAzZWJjMzQ1ZjZhZjI3OWNmNjc3MmJkYzJhIiBzdHlsZT0id2lkdGg6IDEwMC4wJTsgaGVpZ2h0OiAxMDAuMCU7Ij5TY2FyYm9yb3VnaCwgRG9yc2V0IFBhcmssIFNjYXJib3JvdWdoIFRvd24gQ2VudHJlLCBXZXhmb3JkIEhlaWdodHM8L2Rpdj5gKVswXTsKICAgICAgICAgICAgICAgIHBvcHVwX2Y2MzZhNjY1Y2YxMDRkNGNiNmFhOTg3MDMwNGJmMTk2LnNldENvbnRlbnQoaHRtbF82NTg2MGMwM2ViYzM0NWY2YWYyNzljZjY3NzJiZGMyYSk7CiAgICAgICAgICAgIAoKICAgICAgICAgICAgY2lyY2xlX21hcmtlcl8xMWI5NGU2ZGMzOGY0Y2UxOTBlYjViMGYzODE5NzI3Ny5iaW5kUG9wdXAocG9wdXBfZjYzNmE2NjVjZjEwNGQ0Y2I2YWE5ODcwMzA0YmYxOTYpCiAgICAgICAgICAgIDsKCiAgICAgICAgICAgIAogICAgICAgIAogICAgCiAgICAgICAgICAgIHZhciBjaXJjbGVfbWFya2VyX2Q5NTUzZjYzNGY3MTRhMzA4YWVjYWM2YmUzNDE1YzBhID0gTC5jaXJjbGVNYXJrZXIoCiAgICAgICAgICAgICAgICBbNDMuNzUwMDcxNTAwMDAwMDA0LCAtNzkuMjk1ODQ5MV0sCiAgICAgICAgICAgICAgICB7CiAgImJ1YmJsaW5nTW91c2VFdmVudHMiOiB0cnVlLAogICJjb2xvciI6ICJibHVlIiwKICAiZGFzaEFycmF5IjogbnVsbCwKICAiZGFzaE9mZnNldCI6IG51bGwsCiAgImZpbGwiOiB0cnVlLAogICJmaWxsQ29sb3IiOiAiIzMxODZjYyIsCiAgImZpbGxPcGFjaXR5IjogMC43LAogICJmaWxsUnVsZSI6ICJldmVub2RkIiwKICAibGluZUNhcCI6ICJyb3VuZCIsCiAgImxpbmVKb2luIjogInJvdW5kIiwKICAib3BhY2l0eSI6IDEuMCwKICAicmFkaXVzIjogNSwKICAic3Ryb2tlIjogdHJ1ZSwKICAid2VpZ2h0IjogMwp9CiAgICAgICAgICAgICAgICApCiAgICAgICAgICAgICAgICAuYWRkVG8obWFwXzE3YWFjYjJmZDhlODQ0NGU5Njc0YjYwMzVmMmZiM2RhKTsKICAgICAgICAgICAgCiAgICAKICAgICAgICAgICAgdmFyIHBvcHVwX2Y0MDgyMjM3MGQ1OTQ3MDI5OTliYTc3ZWRhNzAzMzI1ID0gTC5wb3B1cCh7bWF4V2lkdGg6ICcxMDAlJwogICAgICAgICAgICAKICAgICAgICAgICAgfSk7CgogICAgICAgICAgICAKICAgICAgICAgICAgICAgIHZhciBodG1sXzZlNTRjNzMzMGVhYjQ2NDk4ZWQxNjczNDIwZjg1MTE0ID0gJChgPGRpdiBpZD0iaHRtbF82ZTU0YzczMzBlYWI0NjQ5OGVkMTY3MzQyMGY4NTExNCIgc3R5bGU9IndpZHRoOiAxMDAuMCU7IGhlaWdodDogMTAwLjAlOyI+U2NhcmJvcm91Z2gsIE1hcnl2YWxlLCBXZXhmb3JkPC9kaXY+YClbMF07CiAgICAgICAgICAgICAgICBwb3B1cF9mNDA4MjIzNzBkNTk0NzAyOTk5YmE3N2VkYTcwMzMyNS5zZXRDb250ZW50KGh0bWxfNmU1NGM3MzMwZWFiNDY0OThlZDE2NzM0MjBmODUxMTQpOwogICAgICAgICAgICAKCiAgICAgICAgICAgIGNpcmNsZV9tYXJrZXJfZDk1NTNmNjM0ZjcxNGEzMDhhZWNhYzZiZTM0MTVjMGEuYmluZFBvcHVwKHBvcHVwX2Y0MDgyMjM3MGQ1OTQ3MDI5OTliYTc3ZWRhNzAzMzI1KQogICAgICAgICAgICA7CgogICAgICAgICAgICAKICAgICAgICAKICAgIAogICAgICAgICAgICB2YXIgY2lyY2xlX21hcmtlcl8yMTVlNDc2MmM4YjI0NWIyYWM5YTJkZjhkY2Q2NWUxOCA9IEwuY2lyY2xlTWFya2VyKAogICAgICAgICAgICAgICAgWzQzLjc5NDIwMDMsIC03OS4yNjIwMjk0MDAwMDAwMl0sCiAgICAgICAgICAgICAgICB7CiAgImJ1YmJsaW5nTW91c2VFdmVudHMiOiB0cnVlLAogICJjb2xvciI6ICJibHVlIiwKICAiZGFzaEFycmF5IjogbnVsbCwKICAiZGFzaE9mZnNldCI6IG51bGwsCiAgImZpbGwiOiB0cnVlLAogICJmaWxsQ29sb3IiOiAiIzMxODZjYyIsCiAgImZpbGxPcGFjaXR5IjogMC43LAogICJmaWxsUnVsZSI6ICJldmVub2RkIiwKICAibGluZUNhcCI6ICJyb3VuZCIsCiAgImxpbmVKb2luIjogInJvdW5kIiwKICAib3BhY2l0eSI6IDEuMCwKICAicmFkaXVzIjogNSwKICAic3Ryb2tlIjogdHJ1ZSwKICAid2VpZ2h0IjogMwp9CiAgICAgICAgICAgICAgICApCiAgICAgICAgICAgICAgICAuYWRkVG8obWFwXzE3YWFjYjJmZDhlODQ0NGU5Njc0YjYwMzVmMmZiM2RhKTsKICAgICAgICAgICAgCiAgICAKICAgICAgICAgICAgdmFyIHBvcHVwX2ZkNWEwOTFhN2U4YTQ0NjI5ZTZlMjdiMTkxYzJmZTUxID0gTC5wb3B1cCh7bWF4V2lkdGg6ICcxMDAlJwogICAgICAgICAgICAKICAgICAgICAgICAgfSk7CgogICAgICAgICAgICAKICAgICAgICAgICAgICAgIHZhciBodG1sX2Y0YjNhNWRmMDg5ZTRlMjQ5MWU4N2VjMDA3ZjBkZDA2ID0gJChgPGRpdiBpZD0iaHRtbF9mNGIzYTVkZjA4OWU0ZTI0OTFlODdlYzAwN2YwZGQwNiIgc3R5bGU9IndpZHRoOiAxMDAuMCU7IGhlaWdodDogMTAwLjAlOyI+U2NhcmJvcm91Z2gsIEFnaW5jb3VydDwvZGl2PmApWzBdOwogICAgICAgICAgICAgICAgcG9wdXBfZmQ1YTA5MWE3ZThhNDQ2MjllNmUyN2IxOTFjMmZlNTEuc2V0Q29udGVudChodG1sX2Y0YjNhNWRmMDg5ZTRlMjQ5MWU4N2VjMDA3ZjBkZDA2KTsKICAgICAgICAgICAgCgogICAgICAgICAgICBjaXJjbGVfbWFya2VyXzIxNWU0NzYyYzhiMjQ1YjJhYzlhMmRmOGRjZDY1ZTE4LmJpbmRQb3B1cChwb3B1cF9mZDVhMDkxYTdlOGE0NDYyOWU2ZTI3YjE5MWMyZmU1MSkKICAgICAgICAgICAgOwoKICAgICAgICAgICAgCiAgICAgICAgCiAgICAKICAgICAgICAgICAgdmFyIGNpcmNsZV9tYXJrZXJfNGVlMTYyZjNkOWNkNGIxNDg5MmZlMDllNzY1YmM1MGQgPSBMLmNpcmNsZU1hcmtlcigKICAgICAgICAgICAgICAgIFs0My43ODE2Mzc1LCAtNzkuMzA0MzAyMV0sCiAgICAgICAgICAgICAgICB7CiAgImJ1YmJsaW5nTW91c2VFdmVudHMiOiB0cnVlLAogICJjb2xvciI6ICJibHVlIiwKICAiZGFzaEFycmF5IjogbnVsbCwKICAiZGFzaE9mZnNldCI6IG51bGwsCiAgImZpbGwiOiB0cnVlLAogICJmaWxsQ29sb3IiOiAiIzMxODZjYyIsCiAgImZpbGxPcGFjaXR5IjogMC43LAogICJmaWxsUnVsZSI6ICJldmVub2RkIiwKICAibGluZUNhcCI6ICJyb3VuZCIsCiAgImxpbmVKb2luIjogInJvdW5kIiwKICAib3BhY2l0eSI6IDEuMCwKICAicmFkaXVzIjogNSwKICAic3Ryb2tlIjogdHJ1ZSwKICAid2VpZ2h0IjogMwp9CiAgICAgICAgICAgICAgICApCiAgICAgICAgICAgICAgICAuYWRkVG8obWFwXzE3YWFjYjJmZDhlODQ0NGU5Njc0YjYwMzVmMmZiM2RhKTsKICAgICAgICAgICAgCiAgICAKICAgICAgICAgICAgdmFyIHBvcHVwX2YyYmI5ZmVlOWRhZjQxMDQ5OTE0ZmVjMzExMDJmNjk0ID0gTC5wb3B1cCh7bWF4V2lkdGg6ICcxMDAlJwogICAgICAgICAgICAKICAgICAgICAgICAgfSk7CgogICAgICAgICAgICAKICAgICAgICAgICAgICAgIHZhciBodG1sXzMzMDIxMzQ1Y2FmNTRkYTBiOGYwZGZiNTcxZDM0MjVhID0gJChgPGRpdiBpZD0iaHRtbF8zMzAyMTM0NWNhZjU0ZGEwYjhmMGRmYjU3MWQzNDI1YSIgc3R5bGU9IndpZHRoOiAxMDAuMCU7IGhlaWdodDogMTAwLjAlOyI+U2NhcmJvcm91Z2gsIENsYXJrcyBDb3JuZXJzLCBTdWxsaXZhbiwgVGFtIE8mIzM5O1NoYW50ZXI8L2Rpdj5gKVswXTsKICAgICAgICAgICAgICAgIHBvcHVwX2YyYmI5ZmVlOWRhZjQxMDQ5OTE0ZmVjMzExMDJmNjk0LnNldENvbnRlbnQoaHRtbF8zMzAyMTM0NWNhZjU0ZGEwYjhmMGRmYjU3MWQzNDI1YSk7CiAgICAgICAgICAgIAoKICAgICAgICAgICAgY2lyY2xlX21hcmtlcl80ZWUxNjJmM2Q5Y2Q0YjE0ODkyZmUwOWU3NjViYzUwZC5iaW5kUG9wdXAocG9wdXBfZjJiYjlmZWU5ZGFmNDEwNDk5MTRmZWMzMTEwMmY2OTQpCiAgICAgICAgICAgIDsKCiAgICAgICAgICAgIAogICAgICAgIAogICAgCiAgICAgICAgICAgIHZhciBjaXJjbGVfbWFya2VyXzAwYTRkZmFjNWJiYzRiNzM4OTI2ZmZhNTYxN2JmZTA2ID0gTC5jaXJjbGVNYXJrZXIoCiAgICAgICAgICAgICAgICBbNDMuODE1MjUyMiwgLTc5LjI4NDU3NzJdLAogICAgICAgICAgICAgICAgewogICJidWJibGluZ01vdXNlRXZlbnRzIjogdHJ1ZSwKICAiY29sb3IiOiAiYmx1ZSIsCiAgImRhc2hBcnJheSI6IG51bGwsCiAgImRhc2hPZmZzZXQiOiBudWxsLAogICJmaWxsIjogdHJ1ZSwKICAiZmlsbENvbG9yIjogIiMzMTg2Y2MiLAogICJmaWxsT3BhY2l0eSI6IDAuNywKICAiZmlsbFJ1bGUiOiAiZXZlbm9kZCIsCiAgImxpbmVDYXAiOiAicm91bmQiLAogICJsaW5lSm9pbiI6ICJyb3VuZCIsCiAgIm9wYWNpdHkiOiAxLjAsCiAgInJhZGl1cyI6IDUsCiAgInN0cm9rZSI6IHRydWUsCiAgIndlaWdodCI6IDMKfQogICAgICAgICAgICAgICAgKQogICAgICAgICAgICAgICAgLmFkZFRvKG1hcF8xN2FhY2IyZmQ4ZTg0NDRlOTY3NGI2MDM1ZjJmYjNkYSk7CiAgICAgICAgICAgIAogICAgCiAgICAgICAgICAgIHZhciBwb3B1cF81MzZkMDQwOThmNWI0ZDIyODUxMTk1MDRlMjRmZjM4MiA9IEwucG9wdXAoe21heFdpZHRoOiAnMTAwJScKICAgICAgICAgICAgCiAgICAgICAgICAgIH0pOwoKICAgICAgICAgICAgCiAgICAgICAgICAgICAgICB2YXIgaHRtbF9jMmI5M2I0NDNmNzE0YjEwYjFiOTIyYjYyOWNmZWU2YyA9ICQoYDxkaXYgaWQ9Imh0bWxfYzJiOTNiNDQzZjcxNGIxMGIxYjkyMmI2MjljZmVlNmMiIHN0eWxlPSJ3aWR0aDogMTAwLjAlOyBoZWlnaHQ6IDEwMC4wJTsiPlNjYXJib3JvdWdoLCBBZ2luY291cnQgTm9ydGgsIEwmIzM5O0Ftb3JlYXV4IEVhc3QsIE1pbGxpa2VuLCBTdGVlbGVzIEVhc3Q8L2Rpdj5gKVswXTsKICAgICAgICAgICAgICAgIHBvcHVwXzUzNmQwNDA5OGY1YjRkMjI4NTExOTUwNGUyNGZmMzgyLnNldENvbnRlbnQoaHRtbF9jMmI5M2I0NDNmNzE0YjEwYjFiOTIyYjYyOWNmZWU2Yyk7CiAgICAgICAgICAgIAoKICAgICAgICAgICAgY2lyY2xlX21hcmtlcl8wMGE0ZGZhYzViYmM0YjczODkyNmZmYTU2MTdiZmUwNi5iaW5kUG9wdXAocG9wdXBfNTM2ZDA0MDk4ZjViNGQyMjg1MTE5NTA0ZTI0ZmYzODIpCiAgICAgICAgICAgIDsKCiAgICAgICAgICAgIAogICAgICAgIAogICAgCiAgICAgICAgICAgIHZhciBjaXJjbGVfbWFya2VyXzE4NmEyNjEwNDZhYjQzNzg4Yjc3MGI1NWI1YzdjZThiID0gTC5jaXJjbGVNYXJrZXIoCiAgICAgICAgICAgICAgICBbNDMuNzk5NTI1MjAwMDAwMDA1LCAtNzkuMzE4Mzg4N10sCiAgICAgICAgICAgICAgICB7CiAgImJ1YmJsaW5nTW91c2VFdmVudHMiOiB0cnVlLAogICJjb2xvciI6ICJibHVlIiwKICAiZGFzaEFycmF5IjogbnVsbCwKICAiZGFzaE9mZnNldCI6IG51bGwsCiAgImZpbGwiOiB0cnVlLAogICJmaWxsQ29sb3IiOiAiIzMxODZjYyIsCiAgImZpbGxPcGFjaXR5IjogMC43LAogICJmaWxsUnVsZSI6ICJldmVub2RkIiwKICAibGluZUNhcCI6ICJyb3VuZCIsCiAgImxpbmVKb2luIjogInJvdW5kIiwKICAib3BhY2l0eSI6IDEuMCwKICAicmFkaXVzIjogNSwKICAic3Ryb2tlIjogdHJ1ZSwKICAid2VpZ2h0IjogMwp9CiAgICAgICAgICAgICAgICApCiAgICAgICAgICAgICAgICAuYWRkVG8obWFwXzE3YWFjYjJmZDhlODQ0NGU5Njc0YjYwMzVmMmZiM2RhKTsKICAgICAgICAgICAgCiAgICAKICAgICAgICAgICAgdmFyIHBvcHVwX2RlMzM3ZDljNzJhZTQ1ZDY5NmNhZDU2Y2QyMDk2YzU4ID0gTC5wb3B1cCh7bWF4V2lkdGg6ICcxMDAlJwogICAgICAgICAgICAKICAgICAgICAgICAgfSk7CgogICAgICAgICAgICAKICAgICAgICAgICAgICAgIHZhciBodG1sXzgxYjk3YTg4NmEyYjQyMjViMjU1MjJiOWQ4MzcxZjQ2ID0gJChgPGRpdiBpZD0iaHRtbF84MWI5N2E4ODZhMmI0MjI1YjI1NTIyYjlkODM3MWY0NiIgc3R5bGU9IndpZHRoOiAxMDAuMCU7IGhlaWdodDogMTAwLjAlOyI+U2NhcmJvcm91Z2gsIEwmIzM5O0Ftb3JlYXV4IFdlc3Q8L2Rpdj5gKVswXTsKICAgICAgICAgICAgICAgIHBvcHVwX2RlMzM3ZDljNzJhZTQ1ZDY5NmNhZDU2Y2QyMDk2YzU4LnNldENvbnRlbnQoaHRtbF84MWI5N2E4ODZhMmI0MjI1YjI1NTIyYjlkODM3MWY0Nik7CiAgICAgICAgICAgIAoKICAgICAgICAgICAgY2lyY2xlX21hcmtlcl8xODZhMjYxMDQ2YWI0Mzc4OGI3NzBiNTViNWM3Y2U4Yi5iaW5kUG9wdXAocG9wdXBfZGUzMzdkOWM3MmFlNDVkNjk2Y2FkNTZjZDIwOTZjNTgpCiAgICAgICAgICAgIDsKCiAgICAgICAgICAgIAogICAgICAgIAogICAgCiAgICAgICAgICAgIHZhciBjaXJjbGVfbWFya2VyXzdlYzBhYTZjNDkxNjQ0YWY4YzBlYmM5ZmVhZDBlYWE1ID0gTC5jaXJjbGVNYXJrZXIoCiAgICAgICAgICAgICAgICBbNDMuODM2MTI0NzAwMDAwMDA2LCAtNzkuMjA1NjM2MDk5OTk5OTldLAogICAgICAgICAgICAgICAgewogICJidWJibGluZ01vdXNlRXZlbnRzIjogdHJ1ZSwKICAiY29sb3IiOiAiYmx1ZSIsCiAgImRhc2hBcnJheSI6IG51bGwsCiAgImRhc2hPZmZzZXQiOiBudWxsLAogICJmaWxsIjogdHJ1ZSwKICAiZmlsbENvbG9yIjogIiMzMTg2Y2MiLAogICJmaWxsT3BhY2l0eSI6IDAuNywKICAiZmlsbFJ1bGUiOiAiZXZlbm9kZCIsCiAgImxpbmVDYXAiOiAicm91bmQiLAogICJsaW5lSm9pbiI6ICJyb3VuZCIsCiAgIm9wYWNpdHkiOiAxLjAsCiAgInJhZGl1cyI6IDUsCiAgInN0cm9rZSI6IHRydWUsCiAgIndlaWdodCI6IDMKfQogICAgICAgICAgICAgICAgKQogICAgICAgICAgICAgICAgLmFkZFRvKG1hcF8xN2FhY2IyZmQ4ZTg0NDRlOTY3NGI2MDM1ZjJmYjNkYSk7CiAgICAgICAgICAgIAogICAgCiAgICAgICAgICAgIHZhciBwb3B1cF9mMWIyOTA5YTZkNzk0OTM1YTQ5NWY1OTFkZDc4OWQ3NCA9IEwucG9wdXAoe21heFdpZHRoOiAnMTAwJScKICAgICAgICAgICAgCiAgICAgICAgICAgIH0pOwoKICAgICAgICAgICAgCiAgICAgICAgICAgICAgICB2YXIgaHRtbF8wOTAyY2JlNWY5OGI0NTFkYTJmNDdlYWYyMWY3YWJhZiA9ICQoYDxkaXYgaWQ9Imh0bWxfMDkwMmNiZTVmOThiNDUxZGEyZjQ3ZWFmMjFmN2FiYWYiIHN0eWxlPSJ3aWR0aDogMTAwLjAlOyBoZWlnaHQ6IDEwMC4wJTsiPlNjYXJib3JvdWdoLCBVcHBlciBSb3VnZTwvZGl2PmApWzBdOwogICAgICAgICAgICAgICAgcG9wdXBfZjFiMjkwOWE2ZDc5NDkzNWE0OTVmNTkxZGQ3ODlkNzQuc2V0Q29udGVudChodG1sXzA5MDJjYmU1Zjk4YjQ1MWRhMmY0N2VhZjIxZjdhYmFmKTsKICAgICAgICAgICAgCgogICAgICAgICAgICBjaXJjbGVfbWFya2VyXzdlYzBhYTZjNDkxNjQ0YWY4YzBlYmM5ZmVhZDBlYWE1LmJpbmRQb3B1cChwb3B1cF9mMWIyOTA5YTZkNzk0OTM1YTQ5NWY1OTFkZDc4OWQ3NCkKICAgICAgICAgICAgOwoKICAgICAgICAgICAgCiAgICAgICAgCiAgICAKICAgICAgICAgICAgdmFyIGNpcmNsZV9tYXJrZXJfZmNlN2Q3NWYwNDc5NDg2MWIwOWM4YmE4MzE4NjFjMmQgPSBMLmNpcmNsZU1hcmtlcigKICAgICAgICAgICAgICAgIFs0My44MDM3NjIyLCAtNzkuMzYzNDUxN10sCiAgICAgICAgICAgICAgICB7CiAgImJ1YmJsaW5nTW91c2VFdmVudHMiOiB0cnVlLAogICJjb2xvciI6ICJibHVlIiwKICAiZGFzaEFycmF5IjogbnVsbCwKICAiZGFzaE9mZnNldCI6IG51bGwsCiAgImZpbGwiOiB0cnVlLAogICJmaWxsQ29sb3IiOiAiIzMxODZjYyIsCiAgImZpbGxPcGFjaXR5IjogMC43LAogICJmaWxsUnVsZSI6ICJldmVub2RkIiwKICAibGluZUNhcCI6ICJyb3VuZCIsCiAgImxpbmVKb2luIjogInJvdW5kIiwKICAib3BhY2l0eSI6IDEuMCwKICAicmFkaXVzIjogNSwKICAic3Ryb2tlIjogdHJ1ZSwKICAid2VpZ2h0IjogMwp9CiAgICAgICAgICAgICAgICApCiAgICAgICAgICAgICAgICAuYWRkVG8obWFwXzE3YWFjYjJmZDhlODQ0NGU5Njc0YjYwMzVmMmZiM2RhKTsKICAgICAgICAgICAgCiAgICAKICAgICAgICAgICAgdmFyIHBvcHVwX2QyMzVkOTI1YjkwMTRhZmFiNDM2ZGNiNzJlZTE0YjliID0gTC5wb3B1cCh7bWF4V2lkdGg6ICcxMDAlJwogICAgICAgICAgICAKICAgICAgICAgICAgfSk7CgogICAgICAgICAgICAKICAgICAgICAgICAgICAgIHZhciBodG1sXzQ4ZGFjZmM2ZWM3OTQ5NTQ5M2RkZTQzZmQyZWIyNDMzID0gJChgPGRpdiBpZD0iaHRtbF80OGRhY2ZjNmVjNzk0OTU0OTNkZGU0M2ZkMmViMjQzMyIgc3R5bGU9IndpZHRoOiAxMDAuMCU7IGhlaWdodDogMTAwLjAlOyI+Tm9ydGggWW9yaywgSGlsbGNyZXN0IFZpbGxhZ2U8L2Rpdj5gKVswXTsKICAgICAgICAgICAgICAgIHBvcHVwX2QyMzVkOTI1YjkwMTRhZmFiNDM2ZGNiNzJlZTE0YjliLnNldENvbnRlbnQoaHRtbF80OGRhY2ZjNmVjNzk0OTU0OTNkZGU0M2ZkMmViMjQzMyk7CiAgICAgICAgICAgIAoKICAgICAgICAgICAgY2lyY2xlX21hcmtlcl9mY2U3ZDc1ZjA0Nzk0ODYxYjA5YzhiYTgzMTg2MWMyZC5iaW5kUG9wdXAocG9wdXBfZDIzNWQ5MjViOTAxNGFmYWI0MzZkY2I3MmVlMTRiOWIpCiAgICAgICAgICAgIDsKCiAgICAgICAgICAgIAogICAgICAgIAogICAgCiAgICAgICAgICAgIHZhciBjaXJjbGVfbWFya2VyXzIyOGQwMTQyZGZhMzQwMDdiNDY4NWZlNDM2ZjAwNTk0ID0gTC5jaXJjbGVNYXJrZXIoCiAgICAgICAgICAgICAgICBbNDMuNzc4NTE3NSwgLTc5LjM0NjU1NTddLAogICAgICAgICAgICAgICAgewogICJidWJibGluZ01vdXNlRXZlbnRzIjogdHJ1ZSwKICAiY29sb3IiOiAiYmx1ZSIsCiAgImRhc2hBcnJheSI6IG51bGwsCiAgImRhc2hPZmZzZXQiOiBudWxsLAogICJmaWxsIjogdHJ1ZSwKICAiZmlsbENvbG9yIjogIiMzMTg2Y2MiLAogICJmaWxsT3BhY2l0eSI6IDAuNywKICAiZmlsbFJ1bGUiOiAiZXZlbm9kZCIsCiAgImxpbmVDYXAiOiAicm91bmQiLAogICJsaW5lSm9pbiI6ICJyb3VuZCIsCiAgIm9wYWNpdHkiOiAxLjAsCiAgInJhZGl1cyI6IDUsCiAgInN0cm9rZSI6IHRydWUsCiAgIndlaWdodCI6IDMKfQogICAgICAgICAgICAgICAgKQogICAgICAgICAgICAgICAgLmFkZFRvKG1hcF8xN2FhY2IyZmQ4ZTg0NDRlOTY3NGI2MDM1ZjJmYjNkYSk7CiAgICAgICAgICAgIAogICAgCiAgICAgICAgICAgIHZhciBwb3B1cF81MzExMzRkMDY0ZTU0OTUxODJhZDYxOGMxMjMxMmIwZCA9IEwucG9wdXAoe21heFdpZHRoOiAnMTAwJScKICAgICAgICAgICAgCiAgICAgICAgICAgIH0pOwoKICAgICAgICAgICAgCiAgICAgICAgICAgICAgICB2YXIgaHRtbF9jOTI0NThhYjA0YjY0NGJhYTA1NDdjYzA1NTVhMGU5ZiA9ICQoYDxkaXYgaWQ9Imh0bWxfYzkyNDU4YWIwNGI2NDRiYWEwNTQ3Y2MwNTU1YTBlOWYiIHN0eWxlPSJ3aWR0aDogMTAwLjAlOyBoZWlnaHQ6IDEwMC4wJTsiPk5vcnRoIFlvcmssIEZhaXJ2aWV3LCBIZW5yeSBGYXJtLCBPcmlvbGU8L2Rpdj5gKVswXTsKICAgICAgICAgICAgICAgIHBvcHVwXzUzMTEzNGQwNjRlNTQ5NTE4MmFkNjE4YzEyMzEyYjBkLnNldENvbnRlbnQoaHRtbF9jOTI0NThhYjA0YjY0NGJhYTA1NDdjYzA1NTVhMGU5Zik7CiAgICAgICAgICAgIAoKICAgICAgICAgICAgY2lyY2xlX21hcmtlcl8yMjhkMDE0MmRmYTM0MDA3YjQ2ODVmZTQzNmYwMDU5NC5iaW5kUG9wdXAocG9wdXBfNTMxMTM0ZDA2NGU1NDk1MTgyYWQ2MThjMTIzMTJiMGQpCiAgICAgICAgICAgIDsKCiAgICAgICAgICAgIAogICAgICAgIAogICAgCiAgICAgICAgICAgIHZhciBjaXJjbGVfbWFya2VyXzJlNjYzMzVlOGI1OTQ1YzJhMjEwMTc4M2E2YmE5MWE1ID0gTC5jaXJjbGVNYXJrZXIoCiAgICAgICAgICAgICAgICBbNDMuNzg2OTQ3MywgLTc5LjM4NTk3NV0sCiAgICAgICAgICAgICAgICB7CiAgImJ1YmJsaW5nTW91c2VFdmVudHMiOiB0cnVlLAogICJjb2xvciI6ICJibHVlIiwKICAiZGFzaEFycmF5IjogbnVsbCwKICAiZGFzaE9mZnNldCI6IG51bGwsCiAgImZpbGwiOiB0cnVlLAogICJmaWxsQ29sb3IiOiAiIzMxODZjYyIsCiAgImZpbGxPcGFjaXR5IjogMC43LAogICJmaWxsUnVsZSI6ICJldmVub2RkIiwKICAibGluZUNhcCI6ICJyb3VuZCIsCiAgImxpbmVKb2luIjogInJvdW5kIiwKICAib3BhY2l0eSI6IDEuMCwKICAicmFkaXVzIjogNSwKICAic3Ryb2tlIjogdHJ1ZSwKICAid2VpZ2h0IjogMwp9CiAgICAgICAgICAgICAgICApCiAgICAgICAgICAgICAgICAuYWRkVG8obWFwXzE3YWFjYjJmZDhlODQ0NGU5Njc0YjYwMzVmMmZiM2RhKTsKICAgICAgICAgICAgCiAgICAKICAgICAgICAgICAgdmFyIHBvcHVwXzlmYTBiM2Y3MTEzNTRjZGViM2Q5ODg3YjBhNmQ4OWI5ID0gTC5wb3B1cCh7bWF4V2lkdGg6ICcxMDAlJwogICAgICAgICAgICAKICAgICAgICAgICAgfSk7CgogICAgICAgICAgICAKICAgICAgICAgICAgICAgIHZhciBodG1sXzI2OWZjNzliZTI4ODQ3NmJiMDQ2NmFlNTZmY2EyMzA1ID0gJChgPGRpdiBpZD0iaHRtbF8yNjlmYzc5YmUyODg0NzZiYjA0NjZhZTU2ZmNhMjMwNSIgc3R5bGU9IndpZHRoOiAxMDAuMCU7IGhlaWdodDogMTAwLjAlOyI+Tm9ydGggWW9yaywgQmF5dmlldyBWaWxsYWdlPC9kaXY+YClbMF07CiAgICAgICAgICAgICAgICBwb3B1cF85ZmEwYjNmNzExMzU0Y2RlYjNkOTg4N2IwYTZkODliOS5zZXRDb250ZW50KGh0bWxfMjY5ZmM3OWJlMjg4NDc2YmIwNDY2YWU1NmZjYTIzMDUpOwogICAgICAgICAgICAKCiAgICAgICAgICAgIGNpcmNsZV9tYXJrZXJfMmU2NjMzNWU4YjU5NDVjMmEyMTAxNzgzYTZiYTkxYTUuYmluZFBvcHVwKHBvcHVwXzlmYTBiM2Y3MTEzNTRjZGViM2Q5ODg3YjBhNmQ4OWI5KQogICAgICAgICAgICA7CgogICAgICAgICAgICAKICAgICAgICAKICAgIAogICAgICAgICAgICB2YXIgY2lyY2xlX21hcmtlcl9lYTNiMmMyZDZlZTg0YWQwODc0N2RjOGM0MjcwNDYzYyA9IEwuY2lyY2xlTWFya2VyKAogICAgICAgICAgICAgICAgWzQzLjc1NzQ5MDIsIC03OS4zNzQ3MTQwOTk5OTk5OV0sCiAgICAgICAgICAgICAgICB7CiAgImJ1YmJsaW5nTW91c2VFdmVudHMiOiB0cnVlLAogICJjb2xvciI6ICJibHVlIiwKICAiZGFzaEFycmF5IjogbnVsbCwKICAiZGFzaE9mZnNldCI6IG51bGwsCiAgImZpbGwiOiB0cnVlLAogICJmaWxsQ29sb3IiOiAiIzMxODZjYyIsCiAgImZpbGxPcGFjaXR5IjogMC43LAogICJmaWxsUnVsZSI6ICJldmVub2RkIiwKICAibGluZUNhcCI6ICJyb3VuZCIsCiAgImxpbmVKb2luIjogInJvdW5kIiwKICAib3BhY2l0eSI6IDEuMCwKICAicmFkaXVzIjogNSwKICAic3Ryb2tlIjogdHJ1ZSwKICAid2VpZ2h0IjogMwp9CiAgICAgICAgICAgICAgICApCiAgICAgICAgICAgICAgICAuYWRkVG8obWFwXzE3YWFjYjJmZDhlODQ0NGU5Njc0YjYwMzVmMmZiM2RhKTsKICAgICAgICAgICAgCiAgICAKICAgICAgICAgICAgdmFyIHBvcHVwXzZmMTk0NDY4NGU1ZTRlZmZhZjZmZDA0YWYxNTA5M2EyID0gTC5wb3B1cCh7bWF4V2lkdGg6ICcxMDAlJwogICAgICAgICAgICAKICAgICAgICAgICAgfSk7CgogICAgICAgICAgICAKICAgICAgICAgICAgICAgIHZhciBodG1sX2IwNzBlNDRlOWIzYzQ1NTdhZWY1NzVlMTEyYjllNDQ0ID0gJChgPGRpdiBpZD0iaHRtbF9iMDcwZTQ0ZTliM2M0NTU3YWVmNTc1ZTExMmI5ZTQ0NCIgc3R5bGU9IndpZHRoOiAxMDAuMCU7IGhlaWdodDogMTAwLjAlOyI+Tm9ydGggWW9yaywgU2lsdmVyIEhpbGxzLCBZb3JrIE1pbGxzPC9kaXY+YClbMF07CiAgICAgICAgICAgICAgICBwb3B1cF82ZjE5NDQ2ODRlNWU0ZWZmYWY2ZmQwNGFmMTUwOTNhMi5zZXRDb250ZW50KGh0bWxfYjA3MGU0NGU5YjNjNDU1N2FlZjU3NWUxMTJiOWU0NDQpOwogICAgICAgICAgICAKCiAgICAgICAgICAgIGNpcmNsZV9tYXJrZXJfZWEzYjJjMmQ2ZWU4NGFkMDg3NDdkYzhjNDI3MDQ2M2MuYmluZFBvcHVwKHBvcHVwXzZmMTk0NDY4NGU1ZTRlZmZhZjZmZDA0YWYxNTA5M2EyKQogICAgICAgICAgICA7CgogICAgICAgICAgICAKICAgICAgICAKICAgIAogICAgICAgICAgICB2YXIgY2lyY2xlX21hcmtlcl8zOTMxMjI5NzM2NTk0ZDc3OTUzOTc2ZGI4YWRkNTAwYSA9IEwuY2lyY2xlTWFya2VyKAogICAgICAgICAgICAgICAgWzQzLjc4OTA1MywgLTc5LjQwODQ5Mjc5OTk5OTk5XSwKICAgICAgICAgICAgICAgIHsKICAiYnViYmxpbmdNb3VzZUV2ZW50cyI6IHRydWUsCiAgImNvbG9yIjogImJsdWUiLAogICJkYXNoQXJyYXkiOiBudWxsLAogICJkYXNoT2Zmc2V0IjogbnVsbCwKICAiZmlsbCI6IHRydWUsCiAgImZpbGxDb2xvciI6ICIjMzE4NmNjIiwKICAiZmlsbE9wYWNpdHkiOiAwLjcsCiAgImZpbGxSdWxlIjogImV2ZW5vZGQiLAogICJsaW5lQ2FwIjogInJvdW5kIiwKICAibGluZUpvaW4iOiAicm91bmQiLAogICJvcGFjaXR5IjogMS4wLAogICJyYWRpdXMiOiA1LAogICJzdHJva2UiOiB0cnVlLAogICJ3ZWlnaHQiOiAzCn0KICAgICAgICAgICAgICAgICkKICAgICAgICAgICAgICAgIC5hZGRUbyhtYXBfMTdhYWNiMmZkOGU4NDQ0ZTk2NzRiNjAzNWYyZmIzZGEpOwogICAgICAgICAgICAKICAgIAogICAgICAgICAgICB2YXIgcG9wdXBfYWVlOWU2MjE5NTBhNDU2NGE1M2FjY2FhYmVkNGQ5MGQgPSBMLnBvcHVwKHttYXhXaWR0aDogJzEwMCUnCiAgICAgICAgICAgIAogICAgICAgICAgICB9KTsKCiAgICAgICAgICAgIAogICAgICAgICAgICAgICAgdmFyIGh0bWxfODBkOGNiMDE5MDRlNDQ1Yzk3ODkxNTU0MGI5MGNhZDYgPSAkKGA8ZGl2IGlkPSJodG1sXzgwZDhjYjAxOTA0ZTQ0NWM5Nzg5MTU1NDBiOTBjYWQ2IiBzdHlsZT0id2lkdGg6IDEwMC4wJTsgaGVpZ2h0OiAxMDAuMCU7Ij5Ob3J0aCBZb3JrLCBOZXd0b25icm9vaywgV2lsbG93ZGFsZTwvZGl2PmApWzBdOwogICAgICAgICAgICAgICAgcG9wdXBfYWVlOWU2MjE5NTBhNDU2NGE1M2FjY2FhYmVkNGQ5MGQuc2V0Q29udGVudChodG1sXzgwZDhjYjAxOTA0ZTQ0NWM5Nzg5MTU1NDBiOTBjYWQ2KTsKICAgICAgICAgICAgCgogICAgICAgICAgICBjaXJjbGVfbWFya2VyXzM5MzEyMjk3MzY1OTRkNzc5NTM5NzZkYjhhZGQ1MDBhLmJpbmRQb3B1cChwb3B1cF9hZWU5ZTYyMTk1MGE0NTY0YTUzYWNjYWFiZWQ0ZDkwZCkKICAgICAgICAgICAgOwoKICAgICAgICAgICAgCiAgICAgICAgCiAgICAKICAgICAgICAgICAgdmFyIGNpcmNsZV9tYXJrZXJfYTAyMGUyNjUwNGQ0NDBjYmIzZDQ5MGUxNjkxNDBkOWEgPSBMLmNpcmNsZU1hcmtlcigKICAgICAgICAgICAgICAgIFs0My43NzAxMTk5LCAtNzkuNDA4NDkyNzk5OTk5OTldLAogICAgICAgICAgICAgICAgewogICJidWJibGluZ01vdXNlRXZlbnRzIjogdHJ1ZSwKICAiY29sb3IiOiAiYmx1ZSIsCiAgImRhc2hBcnJheSI6IG51bGwsCiAgImRhc2hPZmZzZXQiOiBudWxsLAogICJmaWxsIjogdHJ1ZSwKICAiZmlsbENvbG9yIjogIiMzMTg2Y2MiLAogICJmaWxsT3BhY2l0eSI6IDAuNywKICAiZmlsbFJ1bGUiOiAiZXZlbm9kZCIsCiAgImxpbmVDYXAiOiAicm91bmQiLAogICJsaW5lSm9pbiI6ICJyb3VuZCIsCiAgIm9wYWNpdHkiOiAxLjAsCiAgInJhZGl1cyI6IDUsCiAgInN0cm9rZSI6IHRydWUsCiAgIndlaWdodCI6IDMKfQogICAgICAgICAgICAgICAgKQogICAgICAgICAgICAgICAgLmFkZFRvKG1hcF8xN2FhY2IyZmQ4ZTg0NDRlOTY3NGI2MDM1ZjJmYjNkYSk7CiAgICAgICAgICAgIAogICAgCiAgICAgICAgICAgIHZhciBwb3B1cF9iOTc2N2Y4OTMwNmY0NjE4YmFlOWY5NDYyNzk1NzAwMCA9IEwucG9wdXAoe21heFdpZHRoOiAnMTAwJScKICAgICAgICAgICAgCiAgICAgICAgICAgIH0pOwoKICAgICAgICAgICAgCiAgICAgICAgICAgICAgICB2YXIgaHRtbF84Y2MwNGZhZDM1NzU0NWIzOTM3MTIzOTdmOGYwNGVmNyA9ICQoYDxkaXYgaWQ9Imh0bWxfOGNjMDRmYWQzNTc1NDViMzkzNzEyMzk3ZjhmMDRlZjciIHN0eWxlPSJ3aWR0aDogMTAwLjAlOyBoZWlnaHQ6IDEwMC4wJTsiPk5vcnRoIFlvcmssIFdpbGxvd2RhbGUgU291dGg8L2Rpdj5gKVswXTsKICAgICAgICAgICAgICAgIHBvcHVwX2I5NzY3Zjg5MzA2ZjQ2MThiYWU5Zjk0NjI3OTU3MDAwLnNldENvbnRlbnQoaHRtbF84Y2MwNGZhZDM1NzU0NWIzOTM3MTIzOTdmOGYwNGVmNyk7CiAgICAgICAgICAgIAoKICAgICAgICAgICAgY2lyY2xlX21hcmtlcl9hMDIwZTI2NTA0ZDQ0MGNiYjNkNDkwZTE2OTE0MGQ5YS5iaW5kUG9wdXAocG9wdXBfYjk3NjdmODkzMDZmNDYxOGJhZTlmOTQ2Mjc5NTcwMDApCiAgICAgICAgICAgIDsKCiAgICAgICAgICAgIAogICAgICAgIAogICAgCiAgICAgICAgICAgIHZhciBjaXJjbGVfbWFya2VyXzQ0MTk3MjVjMDE0ZDRjZDliZjUxODZkYzJhYmUwNTA4ID0gTC5jaXJjbGVNYXJrZXIoCiAgICAgICAgICAgICAgICBbNDMuNzUyNzU4Mjk5OTk5OTk2LCAtNzkuNDAwMDQ5M10sCiAgICAgICAgICAgICAgICB7CiAgImJ1YmJsaW5nTW91c2VFdmVudHMiOiB0cnVlLAogICJjb2xvciI6ICJibHVlIiwKICAiZGFzaEFycmF5IjogbnVsbCwKICAiZGFzaE9mZnNldCI6IG51bGwsCiAgImZpbGwiOiB0cnVlLAogICJmaWxsQ29sb3IiOiAiIzMxODZjYyIsCiAgImZpbGxPcGFjaXR5IjogMC43LAogICJmaWxsUnVsZSI6ICJldmVub2RkIiwKICAibGluZUNhcCI6ICJyb3VuZCIsCiAgImxpbmVKb2luIjogInJvdW5kIiwKICAib3BhY2l0eSI6IDEuMCwKICAicmFkaXVzIjogNSwKICAic3Ryb2tlIjogdHJ1ZSwKICAid2VpZ2h0IjogMwp9CiAgICAgICAgICAgICAgICApCiAgICAgICAgICAgICAgICAuYWRkVG8obWFwXzE3YWFjYjJmZDhlODQ0NGU5Njc0YjYwMzVmMmZiM2RhKTsKICAgICAgICAgICAgCiAgICAKICAgICAgICAgICAgdmFyIHBvcHVwX2I4NGNkNTFmNjllYjRjOTliMjA4MDdlMDcyOGQ3ZjMyID0gTC5wb3B1cCh7bWF4V2lkdGg6ICcxMDAlJwogICAgICAgICAgICAKICAgICAgICAgICAgfSk7CgogICAgICAgICAgICAKICAgICAgICAgICAgICAgIHZhciBodG1sXzZiODUyMDNhNWEwYjRlNjQ4NjhjNzg1OTU2OTU4ZDlmID0gJChgPGRpdiBpZD0iaHRtbF82Yjg1MjAzYTVhMGI0ZTY0ODY4Yzc4NTk1Njk1OGQ5ZiIgc3R5bGU9IndpZHRoOiAxMDAuMCU7IGhlaWdodDogMTAwLjAlOyI+Tm9ydGggWW9yaywgWW9yayBNaWxscyBXZXN0PC9kaXY+YClbMF07CiAgICAgICAgICAgICAgICBwb3B1cF9iODRjZDUxZjY5ZWI0Yzk5YjIwODA3ZTA3MjhkN2YzMi5zZXRDb250ZW50KGh0bWxfNmI4NTIwM2E1YTBiNGU2NDg2OGM3ODU5NTY5NThkOWYpOwogICAgICAgICAgICAKCiAgICAgICAgICAgIGNpcmNsZV9tYXJrZXJfNDQxOTcyNWMwMTRkNGNkOWJmNTE4NmRjMmFiZTA1MDguYmluZFBvcHVwKHBvcHVwX2I4NGNkNTFmNjllYjRjOTliMjA4MDdlMDcyOGQ3ZjMyKQogICAgICAgICAgICA7CgogICAgICAgICAgICAKICAgICAgICAKICAgIAogICAgICAgICAgICB2YXIgY2lyY2xlX21hcmtlcl80ZGY2ZWQwZDNlOWI0OTlmYWYwZDM5ODRkZTQ4ZjNiYiA9IEwuY2lyY2xlTWFya2VyKAogICAgICAgICAgICAgICAgWzQzLjc4MjczNjQsIC03OS40NDIyNTkzXSwKICAgICAgICAgICAgICAgIHsKICAiYnViYmxpbmdNb3VzZUV2ZW50cyI6IHRydWUsCiAgImNvbG9yIjogImJsdWUiLAogICJkYXNoQXJyYXkiOiBudWxsLAogICJkYXNoT2Zmc2V0IjogbnVsbCwKICAiZmlsbCI6IHRydWUsCiAgImZpbGxDb2xvciI6ICIjMzE4NmNjIiwKICAiZmlsbE9wYWNpdHkiOiAwLjcsCiAgImZpbGxSdWxlIjogImV2ZW5vZGQiLAogICJsaW5lQ2FwIjogInJvdW5kIiwKICAibGluZUpvaW4iOiAicm91bmQiLAogICJvcGFjaXR5IjogMS4wLAogICJyYWRpdXMiOiA1LAogICJzdHJva2UiOiB0cnVlLAogICJ3ZWlnaHQiOiAzCn0KICAgICAgICAgICAgICAgICkKICAgICAgICAgICAgICAgIC5hZGRUbyhtYXBfMTdhYWNiMmZkOGU4NDQ0ZTk2NzRiNjAzNWYyZmIzZGEpOwogICAgICAgICAgICAKICAgIAogICAgICAgICAgICB2YXIgcG9wdXBfMDU4OWVmMmNhNWM4NDBmOGI4NjZiODMwYzdiMjEzYzcgPSBMLnBvcHVwKHttYXhXaWR0aDogJzEwMCUnCiAgICAgICAgICAgIAogICAgICAgICAgICB9KTsKCiAgICAgICAgICAgIAogICAgICAgICAgICAgICAgdmFyIGh0bWxfZjg1ZDU0MzZhNWI4NGE1OWEwZDM5ZDE2NDhkOTA4YjMgPSAkKGA8ZGl2IGlkPSJodG1sX2Y4NWQ1NDM2YTViODRhNTlhMGQzOWQxNjQ4ZDkwOGIzIiBzdHlsZT0id2lkdGg6IDEwMC4wJTsgaGVpZ2h0OiAxMDAuMCU7Ij5Ob3J0aCBZb3JrLCBXaWxsb3dkYWxlIFdlc3Q8L2Rpdj5gKVswXTsKICAgICAgICAgICAgICAgIHBvcHVwXzA1ODllZjJjYTVjODQwZjhiODY2YjgzMGM3YjIxM2M3LnNldENvbnRlbnQoaHRtbF9mODVkNTQzNmE1Yjg0YTU5YTBkMzlkMTY0OGQ5MDhiMyk7CiAgICAgICAgICAgIAoKICAgICAgICAgICAgY2lyY2xlX21hcmtlcl80ZGY2ZWQwZDNlOWI0OTlmYWYwZDM5ODRkZTQ4ZjNiYi5iaW5kUG9wdXAocG9wdXBfMDU4OWVmMmNhNWM4NDBmOGI4NjZiODMwYzdiMjEzYzcpCiAgICAgICAgICAgIDsKCiAgICAgICAgICAgIAogICAgICAgIAogICAgCiAgICAgICAgICAgIHZhciBjaXJjbGVfbWFya2VyXzMyZTllODg5ZmE5MzQyNzk5ZGIwN2QxOWM0ODJiNjA2ID0gTC5jaXJjbGVNYXJrZXIoCiAgICAgICAgICAgICAgICBbNDMuNzUzMjU4NiwgLTc5LjMyOTY1NjVdLAogICAgICAgICAgICAgICAgewogICJidWJibGluZ01vdXNlRXZlbnRzIjogdHJ1ZSwKICAiY29sb3IiOiAiYmx1ZSIsCiAgImRhc2hBcnJheSI6IG51bGwsCiAgImRhc2hPZmZzZXQiOiBudWxsLAogICJmaWxsIjogdHJ1ZSwKICAiZmlsbENvbG9yIjogIiMzMTg2Y2MiLAogICJmaWxsT3BhY2l0eSI6IDAuNywKICAiZmlsbFJ1bGUiOiAiZXZlbm9kZCIsCiAgImxpbmVDYXAiOiAicm91bmQiLAogICJsaW5lSm9pbiI6ICJyb3VuZCIsCiAgIm9wYWNpdHkiOiAxLjAsCiAgInJhZGl1cyI6IDUsCiAgInN0cm9rZSI6IHRydWUsCiAgIndlaWdodCI6IDMKfQogICAgICAgICAgICAgICAgKQogICAgICAgICAgICAgICAgLmFkZFRvKG1hcF8xN2FhY2IyZmQ4ZTg0NDRlOTY3NGI2MDM1ZjJmYjNkYSk7CiAgICAgICAgICAgIAogICAgCiAgICAgICAgICAgIHZhciBwb3B1cF8xZTI3OTFkMTRlMDA0YzRkYjc4MjQ3NThlZjQ1YjE4OCA9IEwucG9wdXAoe21heFdpZHRoOiAnMTAwJScKICAgICAgICAgICAgCiAgICAgICAgICAgIH0pOwoKICAgICAgICAgICAgCiAgICAgICAgICAgICAgICB2YXIgaHRtbF9mMzJkMzkwNTZhNzM0M2IwYWExMTNhMmVmNDIxY2RjMSA9ICQoYDxkaXYgaWQ9Imh0bWxfZjMyZDM5MDU2YTczNDNiMGFhMTEzYTJlZjQyMWNkYzEiIHN0eWxlPSJ3aWR0aDogMTAwLjAlOyBoZWlnaHQ6IDEwMC4wJTsiPk5vcnRoIFlvcmssIFBhcmt3b29kczwvZGl2PmApWzBdOwogICAgICAgICAgICAgICAgcG9wdXBfMWUyNzkxZDE0ZTAwNGM0ZGI3ODI0NzU4ZWY0NWIxODguc2V0Q29udGVudChodG1sX2YzMmQzOTA1NmE3MzQzYjBhYTExM2EyZWY0MjFjZGMxKTsKICAgICAgICAgICAgCgogICAgICAgICAgICBjaXJjbGVfbWFya2VyXzMyZTllODg5ZmE5MzQyNzk5ZGIwN2QxOWM0ODJiNjA2LmJpbmRQb3B1cChwb3B1cF8xZTI3OTFkMTRlMDA0YzRkYjc4MjQ3NThlZjQ1YjE4OCkKICAgICAgICAgICAgOwoKICAgICAgICAgICAgCiAgICAgICAgCiAgICAKICAgICAgICAgICAgdmFyIGNpcmNsZV9tYXJrZXJfMGI4M2VmMTRmYjYwNDFhNWI0ZGI0ZTQ4NzM5MDRkOWEgPSBMLmNpcmNsZU1hcmtlcigKICAgICAgICAgICAgICAgIFs0My43NDU5MDU3OTk5OTk5OTYsIC03OS4zNTIxODhdLAogICAgICAgICAgICAgICAgewogICJidWJibGluZ01vdXNlRXZlbnRzIjogdHJ1ZSwKICAiY29sb3IiOiAiYmx1ZSIsCiAgImRhc2hBcnJheSI6IG51bGwsCiAgImRhc2hPZmZzZXQiOiBudWxsLAogICJmaWxsIjogdHJ1ZSwKICAiZmlsbENvbG9yIjogIiMzMTg2Y2MiLAogICJmaWxsT3BhY2l0eSI6IDAuNywKICAiZmlsbFJ1bGUiOiAiZXZlbm9kZCIsCiAgImxpbmVDYXAiOiAicm91bmQiLAogICJsaW5lSm9pbiI6ICJyb3VuZCIsCiAgIm9wYWNpdHkiOiAxLjAsCiAgInJhZGl1cyI6IDUsCiAgInN0cm9rZSI6IHRydWUsCiAgIndlaWdodCI6IDMKfQogICAgICAgICAgICAgICAgKQogICAgICAgICAgICAgICAgLmFkZFRvKG1hcF8xN2FhY2IyZmQ4ZTg0NDRlOTY3NGI2MDM1ZjJmYjNkYSk7CiAgICAgICAgICAgIAogICAgCiAgICAgICAgICAgIHZhciBwb3B1cF9iZWE4ZDhiNDBiZWU0ZDdmODdiNjMyYTVhNWU5MTlhMyA9IEwucG9wdXAoe21heFdpZHRoOiAnMTAwJScKICAgICAgICAgICAgCiAgICAgICAgICAgIH0pOwoKICAgICAgICAgICAgCiAgICAgICAgICAgICAgICB2YXIgaHRtbF9hODE2NmU2NGViMGM0NmZlYTVmZTRjNDUwZmQ5MzU5MiA9ICQoYDxkaXYgaWQ9Imh0bWxfYTgxNjZlNjRlYjBjNDZmZWE1ZmU0YzQ1MGZkOTM1OTIiIHN0eWxlPSJ3aWR0aDogMTAwLjAlOyBoZWlnaHQ6IDEwMC4wJTsiPk5vcnRoIFlvcmssIERvbiBNaWxscyBOb3J0aDwvZGl2PmApWzBdOwogICAgICAgICAgICAgICAgcG9wdXBfYmVhOGQ4YjQwYmVlNGQ3Zjg3YjYzMmE1YTVlOTE5YTMuc2V0Q29udGVudChodG1sX2E4MTY2ZTY0ZWIwYzQ2ZmVhNWZlNGM0NTBmZDkzNTkyKTsKICAgICAgICAgICAgCgogICAgICAgICAgICBjaXJjbGVfbWFya2VyXzBiODNlZjE0ZmI2MDQxYTViNGRiNGU0ODczOTA0ZDlhLmJpbmRQb3B1cChwb3B1cF9iZWE4ZDhiNDBiZWU0ZDdmODdiNjMyYTVhNWU5MTlhMykKICAgICAgICAgICAgOwoKICAgICAgICAgICAgCiAgICAgICAgCiAgICAKICAgICAgICAgICAgdmFyIGNpcmNsZV9tYXJrZXJfZDgwZDIzZTk4NDJmNDc2ODk2MmY5ZWYyODUxZTc3MGUgPSBMLmNpcmNsZU1hcmtlcigKICAgICAgICAgICAgICAgIFs0My43MjU4OTk3MDAwMDAwMSwgLTc5LjM0MDkyM10sCiAgICAgICAgICAgICAgICB7CiAgImJ1YmJsaW5nTW91c2VFdmVudHMiOiB0cnVlLAogICJjb2xvciI6ICJibHVlIiwKICAiZGFzaEFycmF5IjogbnVsbCwKICAiZGFzaE9mZnNldCI6IG51bGwsCiAgImZpbGwiOiB0cnVlLAogICJmaWxsQ29sb3IiOiAiIzMxODZjYyIsCiAgImZpbGxPcGFjaXR5IjogMC43LAogICJmaWxsUnVsZSI6ICJldmVub2RkIiwKICAibGluZUNhcCI6ICJyb3VuZCIsCiAgImxpbmVKb2luIjogInJvdW5kIiwKICAib3BhY2l0eSI6IDEuMCwKICAicmFkaXVzIjogNSwKICAic3Ryb2tlIjogdHJ1ZSwKICAid2VpZ2h0IjogMwp9CiAgICAgICAgICAgICAgICApCiAgICAgICAgICAgICAgICAuYWRkVG8obWFwXzE3YWFjYjJmZDhlODQ0NGU5Njc0YjYwMzVmMmZiM2RhKTsKICAgICAgICAgICAgCiAgICAKICAgICAgICAgICAgdmFyIHBvcHVwXzI4MzQ0YjlkZmYyMzQ5MDI5MWFjMjFjYWQ3ZDFlMjRhID0gTC5wb3B1cCh7bWF4V2lkdGg6ICcxMDAlJwogICAgICAgICAgICAKICAgICAgICAgICAgfSk7CgogICAgICAgICAgICAKICAgICAgICAgICAgICAgIHZhciBodG1sXzdlNDNkN2E0YTUwNTRjODg5YzU5MjVmN2Y3YWZlYTcwID0gJChgPGRpdiBpZD0iaHRtbF83ZTQzZDdhNGE1MDU0Yzg4OWM1OTI1ZjdmN2FmZWE3MCIgc3R5bGU9IndpZHRoOiAxMDAuMCU7IGhlaWdodDogMTAwLjAlOyI+Tm9ydGggWW9yaywgRmxlbWluZ2RvbiBQYXJrLCBEb24gTWlsbHMgU291dGg8L2Rpdj5gKVswXTsKICAgICAgICAgICAgICAgIHBvcHVwXzI4MzQ0YjlkZmYyMzQ5MDI5MWFjMjFjYWQ3ZDFlMjRhLnNldENvbnRlbnQoaHRtbF83ZTQzZDdhNGE1MDU0Yzg4OWM1OTI1ZjdmN2FmZWE3MCk7CiAgICAgICAgICAgIAoKICAgICAgICAgICAgY2lyY2xlX21hcmtlcl9kODBkMjNlOTg0MmY0NzY4OTYyZjllZjI4NTFlNzcwZS5iaW5kUG9wdXAocG9wdXBfMjgzNDRiOWRmZjIzNDkwMjkxYWMyMWNhZDdkMWUyNGEpCiAgICAgICAgICAgIDsKCiAgICAgICAgICAgIAogICAgICAgIAogICAgCiAgICAgICAgICAgIHZhciBjaXJjbGVfbWFya2VyXzUxMGJiNDdiOWYzODQ1N2RhZjA4NGM0Mzc0ZjEzOTgyID0gTC5jaXJjbGVNYXJrZXIoCiAgICAgICAgICAgICAgICBbNDMuNzU0MzI4MywgLTc5LjQ0MjI1OTNdLAogICAgICAgICAgICAgICAgewogICJidWJibGluZ01vdXNlRXZlbnRzIjogdHJ1ZSwKICAiY29sb3IiOiAiYmx1ZSIsCiAgImRhc2hBcnJheSI6IG51bGwsCiAgImRhc2hPZmZzZXQiOiBudWxsLAogICJmaWxsIjogdHJ1ZSwKICAiZmlsbENvbG9yIjogIiMzMTg2Y2MiLAogICJmaWxsT3BhY2l0eSI6IDAuNywKICAiZmlsbFJ1bGUiOiAiZXZlbm9kZCIsCiAgImxpbmVDYXAiOiAicm91bmQiLAogICJsaW5lSm9pbiI6ICJyb3VuZCIsCiAgIm9wYWNpdHkiOiAxLjAsCiAgInJhZGl1cyI6IDUsCiAgInN0cm9rZSI6IHRydWUsCiAgIndlaWdodCI6IDMKfQogICAgICAgICAgICAgICAgKQogICAgICAgICAgICAgICAgLmFkZFRvKG1hcF8xN2FhY2IyZmQ4ZTg0NDRlOTY3NGI2MDM1ZjJmYjNkYSk7CiAgICAgICAgICAgIAogICAgCiAgICAgICAgICAgIHZhciBwb3B1cF8xOTUyMTljMjk2YmY0MzE5OGI5YTUxZWI4YmFhMWU1ZiA9IEwucG9wdXAoe21heFdpZHRoOiAnMTAwJScKICAgICAgICAgICAgCiAgICAgICAgICAgIH0pOwoKICAgICAgICAgICAgCiAgICAgICAgICAgICAgICB2YXIgaHRtbF9hMmQ4N2Y3ZjNlMzg0ODQ4YTgwMzI2ZjExMGZkMTYzNyA9ICQoYDxkaXYgaWQ9Imh0bWxfYTJkODdmN2YzZTM4NDg0OGE4MDMyNmYxMTBmZDE2MzciIHN0eWxlPSJ3aWR0aDogMTAwLjAlOyBoZWlnaHQ6IDEwMC4wJTsiPk5vcnRoIFlvcmssIEJhdGh1cnN0IE1hbm9yLCBEb3duc3ZpZXcgTm9ydGgsIFdpbHNvbiBIZWlnaHRzPC9kaXY+YClbMF07CiAgICAgICAgICAgICAgICBwb3B1cF8xOTUyMTljMjk2YmY0MzE5OGI5YTUxZWI4YmFhMWU1Zi5zZXRDb250ZW50KGh0bWxfYTJkODdmN2YzZTM4NDg0OGE4MDMyNmYxMTBmZDE2MzcpOwogICAgICAgICAgICAKCiAgICAgICAgICAgIGNpcmNsZV9tYXJrZXJfNTEwYmI0N2I5ZjM4NDU3ZGFmMDg0YzQzNzRmMTM5ODIuYmluZFBvcHVwKHBvcHVwXzE5NTIxOWMyOTZiZjQzMTk4YjlhNTFlYjhiYWExZTVmKQogICAgICAgICAgICA7CgogICAgICAgICAgICAKICAgICAgICAKICAgIAogICAgICAgICAgICB2YXIgY2lyY2xlX21hcmtlcl8wOTU5OWFmZjlkZjg0ZjgzOGE2MGRjYzEyOWI2YjQ1ZiA9IEwuY2lyY2xlTWFya2VyKAogICAgICAgICAgICAgICAgWzQzLjc2Nzk4MDMsIC03OS40ODcyNjE5MDAwMDAwMV0sCiAgICAgICAgICAgICAgICB7CiAgImJ1YmJsaW5nTW91c2VFdmVudHMiOiB0cnVlLAogICJjb2xvciI6ICJibHVlIiwKICAiZGFzaEFycmF5IjogbnVsbCwKICAiZGFzaE9mZnNldCI6IG51bGwsCiAgImZpbGwiOiB0cnVlLAogICJmaWxsQ29sb3IiOiAiIzMxODZjYyIsCiAgImZpbGxPcGFjaXR5IjogMC43LAogICJmaWxsUnVsZSI6ICJldmVub2RkIiwKICAibGluZUNhcCI6ICJyb3VuZCIsCiAgImxpbmVKb2luIjogInJvdW5kIiwKICAib3BhY2l0eSI6IDEuMCwKICAicmFkaXVzIjogNSwKICAic3Ryb2tlIjogdHJ1ZSwKICAid2VpZ2h0IjogMwp9CiAgICAgICAgICAgICAgICApCiAgICAgICAgICAgICAgICAuYWRkVG8obWFwXzE3YWFjYjJmZDhlODQ0NGU5Njc0YjYwMzVmMmZiM2RhKTsKICAgICAgICAgICAgCiAgICAKICAgICAgICAgICAgdmFyIHBvcHVwXzIxNzAwYWUzY2M5NDQ2OWZiMjU3YTI3MTMzYTExN2RjID0gTC5wb3B1cCh7bWF4V2lkdGg6ICcxMDAlJwogICAgICAgICAgICAKICAgICAgICAgICAgfSk7CgogICAgICAgICAgICAKICAgICAgICAgICAgICAgIHZhciBodG1sXzQyZDQ1MGQ5MTY5YzQxMjU5ODJhMmU4MDdhY2IxMjc3ID0gJChgPGRpdiBpZD0iaHRtbF80MmQ0NTBkOTE2OWM0MTI1OTgyYTJlODA3YWNiMTI3NyIgc3R5bGU9IndpZHRoOiAxMDAuMCU7IGhlaWdodDogMTAwLjAlOyI+Tm9ydGggWW9yaywgTm9ydGh3b29kIFBhcmssIFlvcmsgVW5pdmVyc2l0eTwvZGl2PmApWzBdOwogICAgICAgICAgICAgICAgcG9wdXBfMjE3MDBhZTNjYzk0NDY5ZmIyNTdhMjcxMzNhMTE3ZGMuc2V0Q29udGVudChodG1sXzQyZDQ1MGQ5MTY5YzQxMjU5ODJhMmU4MDdhY2IxMjc3KTsKICAgICAgICAgICAgCgogICAgICAgICAgICBjaXJjbGVfbWFya2VyXzA5NTk5YWZmOWRmODRmODM4YTYwZGNjMTI5YjZiNDVmLmJpbmRQb3B1cChwb3B1cF8yMTcwMGFlM2NjOTQ0NjlmYjI1N2EyNzEzM2ExMTdkYykKICAgICAgICAgICAgOwoKICAgICAgICAgICAgCiAgICAgICAgCiAgICAKICAgICAgICAgICAgdmFyIGNpcmNsZV9tYXJrZXJfY2RlZGI0ZjIwNjI4NDA4ZWFmZjMzMzc5YzE5YjkwNmYgPSBMLmNpcmNsZU1hcmtlcigKICAgICAgICAgICAgICAgIFs0My43Mzc0NzMyMDAwMDAwMDQsIC03OS40NjQ3NjMyOTk5OTk5OV0sCiAgICAgICAgICAgICAgICB7CiAgImJ1YmJsaW5nTW91c2VFdmVudHMiOiB0cnVlLAogICJjb2xvciI6ICJibHVlIiwKICAiZGFzaEFycmF5IjogbnVsbCwKICAiZGFzaE9mZnNldCI6IG51bGwsCiAgImZpbGwiOiB0cnVlLAogICJmaWxsQ29sb3IiOiAiIzMxODZjYyIsCiAgImZpbGxPcGFjaXR5IjogMC43LAogICJmaWxsUnVsZSI6ICJldmVub2RkIiwKICAibGluZUNhcCI6ICJyb3VuZCIsCiAgImxpbmVKb2luIjogInJvdW5kIiwKICAib3BhY2l0eSI6IDEuMCwKICAicmFkaXVzIjogNSwKICAic3Ryb2tlIjogdHJ1ZSwKICAid2VpZ2h0IjogMwp9CiAgICAgICAgICAgICAgICApCiAgICAgICAgICAgICAgICAuYWRkVG8obWFwXzE3YWFjYjJmZDhlODQ0NGU5Njc0YjYwMzVmMmZiM2RhKTsKICAgICAgICAgICAgCiAgICAKICAgICAgICAgICAgdmFyIHBvcHVwXzQ0YjJhNGZiYmY5NDQ4MTJhOWFiN2NhOWE0YWY5YjI1ID0gTC5wb3B1cCh7bWF4V2lkdGg6ICcxMDAlJwogICAgICAgICAgICAKICAgICAgICAgICAgfSk7CgogICAgICAgICAgICAKICAgICAgICAgICAgICAgIHZhciBodG1sXzI5NTRjZjM1ZDIyYTQ2M2M4ZDIyYmQzODkxN2ViMGYxID0gJChgPGRpdiBpZD0iaHRtbF8yOTU0Y2YzNWQyMmE0NjNjOGQyMmJkMzg5MTdlYjBmMSIgc3R5bGU9IndpZHRoOiAxMDAuMCU7IGhlaWdodDogMTAwLjAlOyI+Tm9ydGggWW9yaywgQ0ZCIFRvcm9udG8sIERvd25zdmlldyBFYXN0PC9kaXY+YClbMF07CiAgICAgICAgICAgICAgICBwb3B1cF80NGIyYTRmYmJmOTQ0ODEyYTlhYjdjYTlhNGFmOWIyNS5zZXRDb250ZW50KGh0bWxfMjk1NGNmMzVkMjJhNDYzYzhkMjJiZDM4OTE3ZWIwZjEpOwogICAgICAgICAgICAKCiAgICAgICAgICAgIGNpcmNsZV9tYXJrZXJfY2RlZGI0ZjIwNjI4NDA4ZWFmZjMzMzc5YzE5YjkwNmYuYmluZFBvcHVwKHBvcHVwXzQ0YjJhNGZiYmY5NDQ4MTJhOWFiN2NhOWE0YWY5YjI1KQogICAgICAgICAgICA7CgogICAgICAgICAgICAKICAgICAgICAKICAgIAogICAgICAgICAgICB2YXIgY2lyY2xlX21hcmtlcl9jODdjNDVmYTExOTQ0YjBmOGY2MTNmYjNkMTBiNjE3NyA9IEwuY2lyY2xlTWFya2VyKAogICAgICAgICAgICAgICAgWzQzLjczOTAxNDYsIC03OS41MDY5NDM2XSwKICAgICAgICAgICAgICAgIHsKICAiYnViYmxpbmdNb3VzZUV2ZW50cyI6IHRydWUsCiAgImNvbG9yIjogImJsdWUiLAogICJkYXNoQXJyYXkiOiBudWxsLAogICJkYXNoT2Zmc2V0IjogbnVsbCwKICAiZmlsbCI6IHRydWUsCiAgImZpbGxDb2xvciI6ICIjMzE4NmNjIiwKICAiZmlsbE9wYWNpdHkiOiAwLjcsCiAgImZpbGxSdWxlIjogImV2ZW5vZGQiLAogICJsaW5lQ2FwIjogInJvdW5kIiwKICAibGluZUpvaW4iOiAicm91bmQiLAogICJvcGFjaXR5IjogMS4wLAogICJyYWRpdXMiOiA1LAogICJzdHJva2UiOiB0cnVlLAogICJ3ZWlnaHQiOiAzCn0KICAgICAgICAgICAgICAgICkKICAgICAgICAgICAgICAgIC5hZGRUbyhtYXBfMTdhYWNiMmZkOGU4NDQ0ZTk2NzRiNjAzNWYyZmIzZGEpOwogICAgICAgICAgICAKICAgIAogICAgICAgICAgICB2YXIgcG9wdXBfZmNmNjRjZmM1ZjQ4NDRmNTgzYWQzZGQwZjE1NjNhN2UgPSBMLnBvcHVwKHttYXhXaWR0aDogJzEwMCUnCiAgICAgICAgICAgIAogICAgICAgICAgICB9KTsKCiAgICAgICAgICAgIAogICAgICAgICAgICAgICAgdmFyIGh0bWxfYTYyMzZmMGE5YmMxNDgxMDgyZjljN2VlYTQzYjA2MDQgPSAkKGA8ZGl2IGlkPSJodG1sX2E2MjM2ZjBhOWJjMTQ4MTA4MmY5YzdlZWE0M2IwNjA0IiBzdHlsZT0id2lkdGg6IDEwMC4wJTsgaGVpZ2h0OiAxMDAuMCU7Ij5Ob3J0aCBZb3JrLCBEb3duc3ZpZXcgV2VzdDwvZGl2PmApWzBdOwogICAgICAgICAgICAgICAgcG9wdXBfZmNmNjRjZmM1ZjQ4NDRmNTgzYWQzZGQwZjE1NjNhN2Uuc2V0Q29udGVudChodG1sX2E2MjM2ZjBhOWJjMTQ4MTA4MmY5YzdlZWE0M2IwNjA0KTsKICAgICAgICAgICAgCgogICAgICAgICAgICBjaXJjbGVfbWFya2VyX2M4N2M0NWZhMTE5NDRiMGY4ZjYxM2ZiM2QxMGI2MTc3LmJpbmRQb3B1cChwb3B1cF9mY2Y2NGNmYzVmNDg0NGY1ODNhZDNkZDBmMTU2M2E3ZSkKICAgICAgICAgICAgOwoKICAgICAgICAgICAgCiAgICAgICAgCiAgICAKICAgICAgICAgICAgdmFyIGNpcmNsZV9tYXJrZXJfNjZiNTEwYjMyODIxNGY2NGFhYzFkY2Q0OWQ0NzJkZDYgPSBMLmNpcmNsZU1hcmtlcigKICAgICAgICAgICAgICAgIFs0My43Mjg0OTY0LCAtNzkuNDk1Njk3NDAwMDAwMDFdLAogICAgICAgICAgICAgICAgewogICJidWJibGluZ01vdXNlRXZlbnRzIjogdHJ1ZSwKICAiY29sb3IiOiAiYmx1ZSIsCiAgImRhc2hBcnJheSI6IG51bGwsCiAgImRhc2hPZmZzZXQiOiBudWxsLAogICJmaWxsIjogdHJ1ZSwKICAiZmlsbENvbG9yIjogIiMzMTg2Y2MiLAogICJmaWxsT3BhY2l0eSI6IDAuNywKICAiZmlsbFJ1bGUiOiAiZXZlbm9kZCIsCiAgImxpbmVDYXAiOiAicm91bmQiLAogICJsaW5lSm9pbiI6ICJyb3VuZCIsCiAgIm9wYWNpdHkiOiAxLjAsCiAgInJhZGl1cyI6IDUsCiAgInN0cm9rZSI6IHRydWUsCiAgIndlaWdodCI6IDMKfQogICAgICAgICAgICAgICAgKQogICAgICAgICAgICAgICAgLmFkZFRvKG1hcF8xN2FhY2IyZmQ4ZTg0NDRlOTY3NGI2MDM1ZjJmYjNkYSk7CiAgICAgICAgICAgIAogICAgCiAgICAgICAgICAgIHZhciBwb3B1cF9jNmE5ZGZmOWNhYmM0MzZhYjRkZGNiMjhkZDRhODVhMCA9IEwucG9wdXAoe21heFdpZHRoOiAnMTAwJScKICAgICAgICAgICAgCiAgICAgICAgICAgIH0pOwoKICAgICAgICAgICAgCiAgICAgICAgICAgICAgICB2YXIgaHRtbF9lNGRkMTRmOTZmNjM0MWE5YWQ2NjMzNDUyOGY2NDFlMyA9ICQoYDxkaXYgaWQ9Imh0bWxfZTRkZDE0Zjk2ZjYzNDFhOWFkNjYzMzQ1MjhmNjQxZTMiIHN0eWxlPSJ3aWR0aDogMTAwLjAlOyBoZWlnaHQ6IDEwMC4wJTsiPk5vcnRoIFlvcmssIERvd25zdmlldyBDZW50cmFsPC9kaXY+YClbMF07CiAgICAgICAgICAgICAgICBwb3B1cF9jNmE5ZGZmOWNhYmM0MzZhYjRkZGNiMjhkZDRhODVhMC5zZXRDb250ZW50KGh0bWxfZTRkZDE0Zjk2ZjYzNDFhOWFkNjYzMzQ1MjhmNjQxZTMpOwogICAgICAgICAgICAKCiAgICAgICAgICAgIGNpcmNsZV9tYXJrZXJfNjZiNTEwYjMyODIxNGY2NGFhYzFkY2Q0OWQ0NzJkZDYuYmluZFBvcHVwKHBvcHVwX2M2YTlkZmY5Y2FiYzQzNmFiNGRkY2IyOGRkNGE4NWEwKQogICAgICAgICAgICA7CgogICAgICAgICAgICAKICAgICAgICAKICAgIAogICAgICAgICAgICB2YXIgY2lyY2xlX21hcmtlcl9hYTMyZTBmMmRiMTk0N2Q0YTAxZmUxMDEzYWE5MWRjNiA9IEwuY2lyY2xlTWFya2VyKAogICAgICAgICAgICAgICAgWzQzLjc2MTYzMTMsIC03OS41MjA5OTk0MDAwMDAwMV0sCiAgICAgICAgICAgICAgICB7CiAgImJ1YmJsaW5nTW91c2VFdmVudHMiOiB0cnVlLAogICJjb2xvciI6ICJibHVlIiwKICAiZGFzaEFycmF5IjogbnVsbCwKICAiZGFzaE9mZnNldCI6IG51bGwsCiAgImZpbGwiOiB0cnVlLAogICJmaWxsQ29sb3IiOiAiIzMxODZjYyIsCiAgImZpbGxPcGFjaXR5IjogMC43LAogICJmaWxsUnVsZSI6ICJldmVub2RkIiwKICAibGluZUNhcCI6ICJyb3VuZCIsCiAgImxpbmVKb2luIjogInJvdW5kIiwKICAib3BhY2l0eSI6IDEuMCwKICAicmFkaXVzIjogNSwKICAic3Ryb2tlIjogdHJ1ZSwKICAid2VpZ2h0IjogMwp9CiAgICAgICAgICAgICAgICApCiAgICAgICAgICAgICAgICAuYWRkVG8obWFwXzE3YWFjYjJmZDhlODQ0NGU5Njc0YjYwMzVmMmZiM2RhKTsKICAgICAgICAgICAgCiAgICAKICAgICAgICAgICAgdmFyIHBvcHVwXzVlMjQ2ZThjNmRkMzQ4MDRhNGFmOTUwMzM1MDIyYmI4ID0gTC5wb3B1cCh7bWF4V2lkdGg6ICcxMDAlJwogICAgICAgICAgICAKICAgICAgICAgICAgfSk7CgogICAgICAgICAgICAKICAgICAgICAgICAgICAgIHZhciBodG1sXzIyZTcwNmExYWM0NTQzN2FiNGZiYmYwYTc4ZDE1OGFiID0gJChgPGRpdiBpZD0iaHRtbF8yMmU3MDZhMWFjNDU0MzdhYjRmYmJmMGE3OGQxNThhYiIgc3R5bGU9IndpZHRoOiAxMDAuMCU7IGhlaWdodDogMTAwLjAlOyI+Tm9ydGggWW9yaywgRG93bnN2aWV3IE5vcnRod2VzdDwvZGl2PmApWzBdOwogICAgICAgICAgICAgICAgcG9wdXBfNWUyNDZlOGM2ZGQzNDgwNGE0YWY5NTAzMzUwMjJiYjguc2V0Q29udGVudChodG1sXzIyZTcwNmExYWM0NTQzN2FiNGZiYmYwYTc4ZDE1OGFiKTsKICAgICAgICAgICAgCgogICAgICAgICAgICBjaXJjbGVfbWFya2VyX2FhMzJlMGYyZGIxOTQ3ZDRhMDFmZTEwMTNhYTkxZGM2LmJpbmRQb3B1cChwb3B1cF81ZTI0NmU4YzZkZDM0ODA0YTRhZjk1MDMzNTAyMmJiOCkKICAgICAgICAgICAgOwoKICAgICAgICAgICAgCiAgICAgICAgCiAgICAKICAgICAgICAgICAgdmFyIGNpcmNsZV9tYXJrZXJfNDMzY2MxNjhhMjQ5NGQ0NDlkYjBmZWZhOTRlOTVhY2IgPSBMLmNpcmNsZU1hcmtlcigKICAgICAgICAgICAgICAgIFs0My43MjU4ODIyOTk5OTk5OTUsIC03OS4zMTU1NzE1OTk5OTk5OF0sCiAgICAgICAgICAgICAgICB7CiAgImJ1YmJsaW5nTW91c2VFdmVudHMiOiB0cnVlLAogICJjb2xvciI6ICJibHVlIiwKICAiZGFzaEFycmF5IjogbnVsbCwKICAiZGFzaE9mZnNldCI6IG51bGwsCiAgImZpbGwiOiB0cnVlLAogICJmaWxsQ29sb3IiOiAiIzMxODZjYyIsCiAgImZpbGxPcGFjaXR5IjogMC43LAogICJmaWxsUnVsZSI6ICJldmVub2RkIiwKICAibGluZUNhcCI6ICJyb3VuZCIsCiAgImxpbmVKb2luIjogInJvdW5kIiwKICAib3BhY2l0eSI6IDEuMCwKICAicmFkaXVzIjogNSwKICAic3Ryb2tlIjogdHJ1ZSwKICAid2VpZ2h0IjogMwp9CiAgICAgICAgICAgICAgICApCiAgICAgICAgICAgICAgICAuYWRkVG8obWFwXzE3YWFjYjJmZDhlODQ0NGU5Njc0YjYwMzVmMmZiM2RhKTsKICAgICAgICAgICAgCiAgICAKICAgICAgICAgICAgdmFyIHBvcHVwXzdlMzI5ZGY1ZjY1NDRjYWQ4Y2QzNzU5ZmEyMTI0Yjc0ID0gTC5wb3B1cCh7bWF4V2lkdGg6ICcxMDAlJwogICAgICAgICAgICAKICAgICAgICAgICAgfSk7CgogICAgICAgICAgICAKICAgICAgICAgICAgICAgIHZhciBodG1sX2JjNTZjZjI0ZTRjNjRjOTFhNzk2OWU2YzA3NDlhMTdlID0gJChgPGRpdiBpZD0iaHRtbF9iYzU2Y2YyNGU0YzY0YzkxYTc5NjllNmMwNzQ5YTE3ZSIgc3R5bGU9IndpZHRoOiAxMDAuMCU7IGhlaWdodDogMTAwLjAlOyI+Tm9ydGggWW9yaywgVmljdG9yaWEgVmlsbGFnZTwvZGl2PmApWzBdOwogICAgICAgICAgICAgICAgcG9wdXBfN2UzMjlkZjVmNjU0NGNhZDhjZDM3NTlmYTIxMjRiNzQuc2V0Q29udGVudChodG1sX2JjNTZjZjI0ZTRjNjRjOTFhNzk2OWU2YzA3NDlhMTdlKTsKICAgICAgICAgICAgCgogICAgICAgICAgICBjaXJjbGVfbWFya2VyXzQzM2NjMTY4YTI0OTRkNDQ5ZGIwZmVmYTk0ZTk1YWNiLmJpbmRQb3B1cChwb3B1cF83ZTMyOWRmNWY2NTQ0Y2FkOGNkMzc1OWZhMjEyNGI3NCkKICAgICAgICAgICAgOwoKICAgICAgICAgICAgCiAgICAgICAgCiAgICAKICAgICAgICAgICAgdmFyIGNpcmNsZV9tYXJrZXJfYzk5ZDhjZTJkMmNhNDU5YmI5ZmQ3OGU0N2Y0Y2I1OGEgPSBMLmNpcmNsZU1hcmtlcigKICAgICAgICAgICAgICAgIFs0My43MDYzOTcyLCAtNzkuMzA5OTM3XSwKICAgICAgICAgICAgICAgIHsKICAiYnViYmxpbmdNb3VzZUV2ZW50cyI6IHRydWUsCiAgImNvbG9yIjogImJsdWUiLAogICJkYXNoQXJyYXkiOiBudWxsLAogICJkYXNoT2Zmc2V0IjogbnVsbCwKICAiZmlsbCI6IHRydWUsCiAgImZpbGxDb2xvciI6ICIjMzE4NmNjIiwKICAiZmlsbE9wYWNpdHkiOiAwLjcsCiAgImZpbGxSdWxlIjogImV2ZW5vZGQiLAogICJsaW5lQ2FwIjogInJvdW5kIiwKICAibGluZUpvaW4iOiAicm91bmQiLAogICJvcGFjaXR5IjogMS4wLAogICJyYWRpdXMiOiA1LAogICJzdHJva2UiOiB0cnVlLAogICJ3ZWlnaHQiOiAzCn0KICAgICAgICAgICAgICAgICkKICAgICAgICAgICAgICAgIC5hZGRUbyhtYXBfMTdhYWNiMmZkOGU4NDQ0ZTk2NzRiNjAzNWYyZmIzZGEpOwogICAgICAgICAgICAKICAgIAogICAgICAgICAgICB2YXIgcG9wdXBfMmQxMTlmYTU0ZTFhNDkyY2JjZGIzZTRiODg3NWQwMzUgPSBMLnBvcHVwKHttYXhXaWR0aDogJzEwMCUnCiAgICAgICAgICAgIAogICAgICAgICAgICB9KTsKCiAgICAgICAgICAgIAogICAgICAgICAgICAgICAgdmFyIGh0bWxfMDkyMDhkYmRlMTJmNDE0NjkzMDdjOWQ5NGQ5ZjAyYWYgPSAkKGA8ZGl2IGlkPSJodG1sXzA5MjA4ZGJkZTEyZjQxNDY5MzA3YzlkOTRkOWYwMmFmIiBzdHlsZT0id2lkdGg6IDEwMC4wJTsgaGVpZ2h0OiAxMDAuMCU7Ij5FYXN0IFlvcmssIFdvb2RiaW5lIEdhcmRlbnMsIFBhcmt2aWV3IEhpbGw8L2Rpdj5gKVswXTsKICAgICAgICAgICAgICAgIHBvcHVwXzJkMTE5ZmE1NGUxYTQ5MmNiY2RiM2U0Yjg4NzVkMDM1LnNldENvbnRlbnQoaHRtbF8wOTIwOGRiZGUxMmY0MTQ2OTMwN2M5ZDk0ZDlmMDJhZik7CiAgICAgICAgICAgIAoKICAgICAgICAgICAgY2lyY2xlX21hcmtlcl9jOTlkOGNlMmQyY2E0NTliYjlmZDc4ZTQ3ZjRjYjU4YS5iaW5kUG9wdXAocG9wdXBfMmQxMTlmYTU0ZTFhNDkyY2JjZGIzZTRiODg3NWQwMzUpCiAgICAgICAgICAgIDsKCiAgICAgICAgICAgIAogICAgICAgIAogICAgCiAgICAgICAgICAgIHZhciBjaXJjbGVfbWFya2VyXzA1N2ExZjlhZDJiYzRkN2Q4NGViYTEyZjE2ZDYxNmEwID0gTC5jaXJjbGVNYXJrZXIoCiAgICAgICAgICAgICAgICBbNDMuNjk1MzQzOTAwMDAwMDA1LCAtNzkuMzE4Mzg4N10sCiAgICAgICAgICAgICAgICB7CiAgImJ1YmJsaW5nTW91c2VFdmVudHMiOiB0cnVlLAogICJjb2xvciI6ICJibHVlIiwKICAiZGFzaEFycmF5IjogbnVsbCwKICAiZGFzaE9mZnNldCI6IG51bGwsCiAgImZpbGwiOiB0cnVlLAogICJmaWxsQ29sb3IiOiAiIzMxODZjYyIsCiAgImZpbGxPcGFjaXR5IjogMC43LAogICJmaWxsUnVsZSI6ICJldmVub2RkIiwKICAibGluZUNhcCI6ICJyb3VuZCIsCiAgImxpbmVKb2luIjogInJvdW5kIiwKICAib3BhY2l0eSI6IDEuMCwKICAicmFkaXVzIjogNSwKICAic3Ryb2tlIjogdHJ1ZSwKICAid2VpZ2h0IjogMwp9CiAgICAgICAgICAgICAgICApCiAgICAgICAgICAgICAgICAuYWRkVG8obWFwXzE3YWFjYjJmZDhlODQ0NGU5Njc0YjYwMzVmMmZiM2RhKTsKICAgICAgICAgICAgCiAgICAKICAgICAgICAgICAgdmFyIHBvcHVwXzU2YWY3Yzg4NDg2MjQxZWNiM2U0YTFmNjk5MDRmZmNhID0gTC5wb3B1cCh7bWF4V2lkdGg6ICcxMDAlJwogICAgICAgICAgICAKICAgICAgICAgICAgfSk7CgogICAgICAgICAgICAKICAgICAgICAgICAgICAgIHZhciBodG1sX2ViNTg0MGMzNTY5MjQ5Y2Y5M2YzMTZhNjlkOWFlODExID0gJChgPGRpdiBpZD0iaHRtbF9lYjU4NDBjMzU2OTI0OWNmOTNmMzE2YTY5ZDlhZTgxMSIgc3R5bGU9IndpZHRoOiAxMDAuMCU7IGhlaWdodDogMTAwLjAlOyI+RWFzdCBZb3JrLCBXb29kYmluZSBIZWlnaHRzPC9kaXY+YClbMF07CiAgICAgICAgICAgICAgICBwb3B1cF81NmFmN2M4ODQ4NjI0MWVjYjNlNGExZjY5OTA0ZmZjYS5zZXRDb250ZW50KGh0bWxfZWI1ODQwYzM1NjkyNDljZjkzZjMxNmE2OWQ5YWU4MTEpOwogICAgICAgICAgICAKCiAgICAgICAgICAgIGNpcmNsZV9tYXJrZXJfMDU3YTFmOWFkMmJjNGQ3ZDg0ZWJhMTJmMTZkNjE2YTAuYmluZFBvcHVwKHBvcHVwXzU2YWY3Yzg4NDg2MjQxZWNiM2U0YTFmNjk5MDRmZmNhKQogICAgICAgICAgICA7CgogICAgICAgICAgICAKICAgICAgICAKICAgIAogICAgICAgICAgICB2YXIgY2lyY2xlX21hcmtlcl82OWJkNTMzNDU1NzE0ZGZhODkxMzg5MDE3MmYyZWFjZiA9IEwuY2lyY2xlTWFya2VyKAogICAgICAgICAgICAgICAgWzQzLjY3NjM1NzM5OTk5OTk5LCAtNzkuMjkzMDMxMl0sCiAgICAgICAgICAgICAgICB7CiAgImJ1YmJsaW5nTW91c2VFdmVudHMiOiB0cnVlLAogICJjb2xvciI6ICJibHVlIiwKICAiZGFzaEFycmF5IjogbnVsbCwKICAiZGFzaE9mZnNldCI6IG51bGwsCiAgImZpbGwiOiB0cnVlLAogICJmaWxsQ29sb3IiOiAiIzMxODZjYyIsCiAgImZpbGxPcGFjaXR5IjogMC43LAogICJmaWxsUnVsZSI6ICJldmVub2RkIiwKICAibGluZUNhcCI6ICJyb3VuZCIsCiAgImxpbmVKb2luIjogInJvdW5kIiwKICAib3BhY2l0eSI6IDEuMCwKICAicmFkaXVzIjogNSwKICAic3Ryb2tlIjogdHJ1ZSwKICAid2VpZ2h0IjogMwp9CiAgICAgICAgICAgICAgICApCiAgICAgICAgICAgICAgICAuYWRkVG8obWFwXzE3YWFjYjJmZDhlODQ0NGU5Njc0YjYwMzVmMmZiM2RhKTsKICAgICAgICAgICAgCiAgICAKICAgICAgICAgICAgdmFyIHBvcHVwX2IzMmU5N2VlMDRmYzRiYTlhZDM2Y2IyOGYxNGY2MTNkID0gTC5wb3B1cCh7bWF4V2lkdGg6ICcxMDAlJwogICAgICAgICAgICAKICAgICAgICAgICAgfSk7CgogICAgICAgICAgICAKICAgICAgICAgICAgICAgIHZhciBodG1sXzI3ODYzMzMwNzBiMjQ5YTI4OTVmNjc0NWExOGJhZDc4ID0gJChgPGRpdiBpZD0iaHRtbF8yNzg2MzMzMDcwYjI0OWEyODk1ZjY3NDVhMThiYWQ3OCIgc3R5bGU9IndpZHRoOiAxMDAuMCU7IGhlaWdodDogMTAwLjAlOyI+RWFzdCBUb3JvbnRvLCBUaGUgQmVhY2hlczwvZGl2PmApWzBdOwogICAgICAgICAgICAgICAgcG9wdXBfYjMyZTk3ZWUwNGZjNGJhOWFkMzZjYjI4ZjE0ZjYxM2Quc2V0Q29udGVudChodG1sXzI3ODYzMzMwNzBiMjQ5YTI4OTVmNjc0NWExOGJhZDc4KTsKICAgICAgICAgICAgCgogICAgICAgICAgICBjaXJjbGVfbWFya2VyXzY5YmQ1MzM0NTU3MTRkZmE4OTEzODkwMTcyZjJlYWNmLmJpbmRQb3B1cChwb3B1cF9iMzJlOTdlZTA0ZmM0YmE5YWQzNmNiMjhmMTRmNjEzZCkKICAgICAgICAgICAgOwoKICAgICAgICAgICAgCiAgICAgICAgCiAgICAKICAgICAgICAgICAgdmFyIGNpcmNsZV9tYXJrZXJfY2M3MzI1Y2Q2ZTY1NDA5MmExM2IyY2I1ZWVlOGUwMDQgPSBMLmNpcmNsZU1hcmtlcigKICAgICAgICAgICAgICAgIFs0My43MDkwNjA0LCAtNzkuMzYzNDUxN10sCiAgICAgICAgICAgICAgICB7CiAgImJ1YmJsaW5nTW91c2VFdmVudHMiOiB0cnVlLAogICJjb2xvciI6ICJibHVlIiwKICAiZGFzaEFycmF5IjogbnVsbCwKICAiZGFzaE9mZnNldCI6IG51bGwsCiAgImZpbGwiOiB0cnVlLAogICJmaWxsQ29sb3IiOiAiIzMxODZjYyIsCiAgImZpbGxPcGFjaXR5IjogMC43LAogICJmaWxsUnVsZSI6ICJldmVub2RkIiwKICAibGluZUNhcCI6ICJyb3VuZCIsCiAgImxpbmVKb2luIjogInJvdW5kIiwKICAib3BhY2l0eSI6IDEuMCwKICAicmFkaXVzIjogNSwKICAic3Ryb2tlIjogdHJ1ZSwKICAid2VpZ2h0IjogMwp9CiAgICAgICAgICAgICAgICApCiAgICAgICAgICAgICAgICAuYWRkVG8obWFwXzE3YWFjYjJmZDhlODQ0NGU5Njc0YjYwMzVmMmZiM2RhKTsKICAgICAgICAgICAgCiAgICAKICAgICAgICAgICAgdmFyIHBvcHVwXzIyMDFhYjBkYjIyMDQ0MWE5NGU3YTFkYzlkOGZhZTVlID0gTC5wb3B1cCh7bWF4V2lkdGg6ICcxMDAlJwogICAgICAgICAgICAKICAgICAgICAgICAgfSk7CgogICAgICAgICAgICAKICAgICAgICAgICAgICAgIHZhciBodG1sX2UxOTk1OTZiZDA2MTQwMzNhYTFjN2FjZjk3NDQwNDBjID0gJChgPGRpdiBpZD0iaHRtbF9lMTk5NTk2YmQwNjE0MDMzYWExYzdhY2Y5NzQ0MDQwYyIgc3R5bGU9IndpZHRoOiAxMDAuMCU7IGhlaWdodDogMTAwLjAlOyI+RWFzdCBZb3JrLCBMZWFzaWRlPC9kaXY+YClbMF07CiAgICAgICAgICAgICAgICBwb3B1cF8yMjAxYWIwZGIyMjA0NDFhOTRlN2ExZGM5ZDhmYWU1ZS5zZXRDb250ZW50KGh0bWxfZTE5OTU5NmJkMDYxNDAzM2FhMWM3YWNmOTc0NDA0MGMpOwogICAgICAgICAgICAKCiAgICAgICAgICAgIGNpcmNsZV9tYXJrZXJfY2M3MzI1Y2Q2ZTY1NDA5MmExM2IyY2I1ZWVlOGUwMDQuYmluZFBvcHVwKHBvcHVwXzIyMDFhYjBkYjIyMDQ0MWE5NGU3YTFkYzlkOGZhZTVlKQogICAgICAgICAgICA7CgogICAgICAgICAgICAKICAgICAgICAKICAgIAogICAgICAgICAgICB2YXIgY2lyY2xlX21hcmtlcl80YTllYTIxZDNjMTA0YjNmOWVlZjljM2QxZmNmY2FkOSA9IEwuY2lyY2xlTWFya2VyKAogICAgICAgICAgICAgICAgWzQzLjcwNTM2ODksIC03OS4zNDkzNzE5MDAwMDAwMV0sCiAgICAgICAgICAgICAgICB7CiAgImJ1YmJsaW5nTW91c2VFdmVudHMiOiB0cnVlLAogICJjb2xvciI6ICJibHVlIiwKICAiZGFzaEFycmF5IjogbnVsbCwKICAiZGFzaE9mZnNldCI6IG51bGwsCiAgImZpbGwiOiB0cnVlLAogICJmaWxsQ29sb3IiOiAiIzMxODZjYyIsCiAgImZpbGxPcGFjaXR5IjogMC43LAogICJmaWxsUnVsZSI6ICJldmVub2RkIiwKICAibGluZUNhcCI6ICJyb3VuZCIsCiAgImxpbmVKb2luIjogInJvdW5kIiwKICAib3BhY2l0eSI6IDEuMCwKICAicmFkaXVzIjogNSwKICAic3Ryb2tlIjogdHJ1ZSwKICAid2VpZ2h0IjogMwp9CiAgICAgICAgICAgICAgICApCiAgICAgICAgICAgICAgICAuYWRkVG8obWFwXzE3YWFjYjJmZDhlODQ0NGU5Njc0YjYwMzVmMmZiM2RhKTsKICAgICAgICAgICAgCiAgICAKICAgICAgICAgICAgdmFyIHBvcHVwXzU0ZDI3MTAyOTA2MDQ1ODg4OGI3ODRkNTA1NDhlYjliID0gTC5wb3B1cCh7bWF4V2lkdGg6ICcxMDAlJwogICAgICAgICAgICAKICAgICAgICAgICAgfSk7CgogICAgICAgICAgICAKICAgICAgICAgICAgICAgIHZhciBodG1sXzRmNTI5Yzc1ZTc4YTRhNWE4ZDlhZWJmNzVlZWM0MTY5ID0gJChgPGRpdiBpZD0iaHRtbF80ZjUyOWM3NWU3OGE0YTVhOGQ5YWViZjc1ZWVjNDE2OSIgc3R5bGU9IndpZHRoOiAxMDAuMCU7IGhlaWdodDogMTAwLjAlOyI+RWFzdCBZb3JrLCBUaG9ybmNsaWZmZSBQYXJrPC9kaXY+YClbMF07CiAgICAgICAgICAgICAgICBwb3B1cF81NGQyNzEwMjkwNjA0NTg4ODhiNzg0ZDUwNTQ4ZWI5Yi5zZXRDb250ZW50KGh0bWxfNGY1MjljNzVlNzhhNGE1YThkOWFlYmY3NWVlYzQxNjkpOwogICAgICAgICAgICAKCiAgICAgICAgICAgIGNpcmNsZV9tYXJrZXJfNGE5ZWEyMWQzYzEwNGIzZjllZWY5YzNkMWZjZmNhZDkuYmluZFBvcHVwKHBvcHVwXzU0ZDI3MTAyOTA2MDQ1ODg4OGI3ODRkNTA1NDhlYjliKQogICAgICAgICAgICA7CgogICAgICAgICAgICAKICAgICAgICAKICAgIAogICAgICAgICAgICB2YXIgY2lyY2xlX21hcmtlcl9hNWY3YjNkMmVjYTc0NjdhYTc0ZGU0YTI0MWVhYTZhZCA9IEwuY2lyY2xlTWFya2VyKAogICAgICAgICAgICAgICAgWzQzLjY4NTM0NywgLTc5LjMzODEwNjVdLAogICAgICAgICAgICAgICAgewogICJidWJibGluZ01vdXNlRXZlbnRzIjogdHJ1ZSwKICAiY29sb3IiOiAiYmx1ZSIsCiAgImRhc2hBcnJheSI6IG51bGwsCiAgImRhc2hPZmZzZXQiOiBudWxsLAogICJmaWxsIjogdHJ1ZSwKICAiZmlsbENvbG9yIjogIiMzMTg2Y2MiLAogICJmaWxsT3BhY2l0eSI6IDAuNywKICAiZmlsbFJ1bGUiOiAiZXZlbm9kZCIsCiAgImxpbmVDYXAiOiAicm91bmQiLAogICJsaW5lSm9pbiI6ICJyb3VuZCIsCiAgIm9wYWNpdHkiOiAxLjAsCiAgInJhZGl1cyI6IDUsCiAgInN0cm9rZSI6IHRydWUsCiAgIndlaWdodCI6IDMKfQogICAgICAgICAgICAgICAgKQogICAgICAgICAgICAgICAgLmFkZFRvKG1hcF8xN2FhY2IyZmQ4ZTg0NDRlOTY3NGI2MDM1ZjJmYjNkYSk7CiAgICAgICAgICAgIAogICAgCiAgICAgICAgICAgIHZhciBwb3B1cF80MGI0YTliNTNkOGQ0OWNkYmY1ZjViODY5Y2E0YjQyMSA9IEwucG9wdXAoe21heFdpZHRoOiAnMTAwJScKICAgICAgICAgICAgCiAgICAgICAgICAgIH0pOwoKICAgICAgICAgICAgCiAgICAgICAgICAgICAgICB2YXIgaHRtbF8wMDJmMDZmOGZhNWU0YjcxYTYzMmY4OTZkN2EzODg1YiA9ICQoYDxkaXYgaWQ9Imh0bWxfMDAyZjA2ZjhmYTVlNGI3MWE2MzJmODk2ZDdhMzg4NWIiIHN0eWxlPSJ3aWR0aDogMTAwLjAlOyBoZWlnaHQ6IDEwMC4wJTsiPkVhc3QgWW9yaywgRWFzdCBUb3JvbnRvPC9kaXY+YClbMF07CiAgICAgICAgICAgICAgICBwb3B1cF80MGI0YTliNTNkOGQ0OWNkYmY1ZjViODY5Y2E0YjQyMS5zZXRDb250ZW50KGh0bWxfMDAyZjA2ZjhmYTVlNGI3MWE2MzJmODk2ZDdhMzg4NWIpOwogICAgICAgICAgICAKCiAgICAgICAgICAgIGNpcmNsZV9tYXJrZXJfYTVmN2IzZDJlY2E3NDY3YWE3NGRlNGEyNDFlYWE2YWQuYmluZFBvcHVwKHBvcHVwXzQwYjRhOWI1M2Q4ZDQ5Y2RiZjVmNWI4NjljYTRiNDIxKQogICAgICAgICAgICA7CgogICAgICAgICAgICAKICAgICAgICAKICAgIAogICAgICAgICAgICB2YXIgY2lyY2xlX21hcmtlcl9hNzI2ZGI2ODgzYjI0MjEwOWU1MTcyYjA3YzYzMmFkMCA9IEwuY2lyY2xlTWFya2VyKAogICAgICAgICAgICAgICAgWzQzLjY3OTU1NzEsIC03OS4zNTIxODhdLAogICAgICAgICAgICAgICAgewogICJidWJibGluZ01vdXNlRXZlbnRzIjogdHJ1ZSwKICAiY29sb3IiOiAiYmx1ZSIsCiAgImRhc2hBcnJheSI6IG51bGwsCiAgImRhc2hPZmZzZXQiOiBudWxsLAogICJmaWxsIjogdHJ1ZSwKICAiZmlsbENvbG9yIjogIiMzMTg2Y2MiLAogICJmaWxsT3BhY2l0eSI6IDAuNywKICAiZmlsbFJ1bGUiOiAiZXZlbm9kZCIsCiAgImxpbmVDYXAiOiAicm91bmQiLAogICJsaW5lSm9pbiI6ICJyb3VuZCIsCiAgIm9wYWNpdHkiOiAxLjAsCiAgInJhZGl1cyI6IDUsCiAgInN0cm9rZSI6IHRydWUsCiAgIndlaWdodCI6IDMKfQogICAgICAgICAgICAgICAgKQogICAgICAgICAgICAgICAgLmFkZFRvKG1hcF8xN2FhY2IyZmQ4ZTg0NDRlOTY3NGI2MDM1ZjJmYjNkYSk7CiAgICAgICAgICAgIAogICAgCiAgICAgICAgICAgIHZhciBwb3B1cF9hZjhjNWI4YzQ0ZDU0ZTg1YWFmMzYwNTYzNmMxZWM2ZiA9IEwucG9wdXAoe21heFdpZHRoOiAnMTAwJScKICAgICAgICAgICAgCiAgICAgICAgICAgIH0pOwoKICAgICAgICAgICAgCiAgICAgICAgICAgICAgICB2YXIgaHRtbF8zM2EzMGIxMGZmNzM0NjAzYWFkMWVmODU1NTc3Mzg1NiA9ICQoYDxkaXYgaWQ9Imh0bWxfMzNhMzBiMTBmZjczNDYwM2FhZDFlZjg1NTU3NzM4NTYiIHN0eWxlPSJ3aWR0aDogMTAwLjAlOyBoZWlnaHQ6IDEwMC4wJTsiPkVhc3QgVG9yb250bywgVGhlIERhbmZvcnRoIFdlc3QsIFJpdmVyZGFsZTwvZGl2PmApWzBdOwogICAgICAgICAgICAgICAgcG9wdXBfYWY4YzViOGM0NGQ1NGU4NWFhZjM2MDU2MzZjMWVjNmYuc2V0Q29udGVudChodG1sXzMzYTMwYjEwZmY3MzQ2MDNhYWQxZWY4NTU1NzczODU2KTsKICAgICAgICAgICAgCgogICAgICAgICAgICBjaXJjbGVfbWFya2VyX2E3MjZkYjY4ODNiMjQyMTA5ZTUxNzJiMDdjNjMyYWQwLmJpbmRQb3B1cChwb3B1cF9hZjhjNWI4YzQ0ZDU0ZTg1YWFmMzYwNTYzNmMxZWM2ZikKICAgICAgICAgICAgOwoKICAgICAgICAgICAgCiAgICAgICAgCiAgICAKICAgICAgICAgICAgdmFyIGNpcmNsZV9tYXJrZXJfNTkwODM5MjExY2MyNDVmMzljMmUxZmU2N2JlYjc5NzUgPSBMLmNpcmNsZU1hcmtlcigKICAgICAgICAgICAgICAgIFs0My42Njg5OTg1LCAtNzkuMzE1NTcxNTk5OTk5OThdLAogICAgICAgICAgICAgICAgewogICJidWJibGluZ01vdXNlRXZlbnRzIjogdHJ1ZSwKICAiY29sb3IiOiAiYmx1ZSIsCiAgImRhc2hBcnJheSI6IG51bGwsCiAgImRhc2hPZmZzZXQiOiBudWxsLAogICJmaWxsIjogdHJ1ZSwKICAiZmlsbENvbG9yIjogIiMzMTg2Y2MiLAogICJmaWxsT3BhY2l0eSI6IDAuNywKICAiZmlsbFJ1bGUiOiAiZXZlbm9kZCIsCiAgImxpbmVDYXAiOiAicm91bmQiLAogICJsaW5lSm9pbiI6ICJyb3VuZCIsCiAgIm9wYWNpdHkiOiAxLjAsCiAgInJhZGl1cyI6IDUsCiAgInN0cm9rZSI6IHRydWUsCiAgIndlaWdodCI6IDMKfQogICAgICAgICAgICAgICAgKQogICAgICAgICAgICAgICAgLmFkZFRvKG1hcF8xN2FhY2IyZmQ4ZTg0NDRlOTY3NGI2MDM1ZjJmYjNkYSk7CiAgICAgICAgICAgIAogICAgCiAgICAgICAgICAgIHZhciBwb3B1cF80MDlkMmUzMGY0MjA0N2U4YWYyZDljNmJmZDk2ODY4ZCA9IEwucG9wdXAoe21heFdpZHRoOiAnMTAwJScKICAgICAgICAgICAgCiAgICAgICAgICAgIH0pOwoKICAgICAgICAgICAgCiAgICAgICAgICAgICAgICB2YXIgaHRtbF9iYTY3NjNkNzFjY2Y0MzlmYWUyNjkxODdkYjE4N2M1NyA9ICQoYDxkaXYgaWQ9Imh0bWxfYmE2NzYzZDcxY2NmNDM5ZmFlMjY5MTg3ZGIxODdjNTciIHN0eWxlPSJ3aWR0aDogMTAwLjAlOyBoZWlnaHQ6IDEwMC4wJTsiPkVhc3QgVG9yb250bywgVGhlIEJlYWNoZXMgV2VzdCwgSW5kaWEgQmF6YWFyPC9kaXY+YClbMF07CiAgICAgICAgICAgICAgICBwb3B1cF80MDlkMmUzMGY0MjA0N2U4YWYyZDljNmJmZDk2ODY4ZC5zZXRDb250ZW50KGh0bWxfYmE2NzYzZDcxY2NmNDM5ZmFlMjY5MTg3ZGIxODdjNTcpOwogICAgICAgICAgICAKCiAgICAgICAgICAgIGNpcmNsZV9tYXJrZXJfNTkwODM5MjExY2MyNDVmMzljMmUxZmU2N2JlYjc5NzUuYmluZFBvcHVwKHBvcHVwXzQwOWQyZTMwZjQyMDQ3ZThhZjJkOWM2YmZkOTY4NjhkKQogICAgICAgICAgICA7CgogICAgICAgICAgICAKICAgICAgICAKICAgIAogICAgICAgICAgICB2YXIgY2lyY2xlX21hcmtlcl9lNGJhZmM1MWQ3MWE0NThkYWU2YzE4MmU1YmU1NGRmZiA9IEwuY2lyY2xlTWFya2VyKAogICAgICAgICAgICAgICAgWzQzLjY1OTUyNTUsIC03OS4zNDA5MjNdLAogICAgICAgICAgICAgICAgewogICJidWJibGluZ01vdXNlRXZlbnRzIjogdHJ1ZSwKICAiY29sb3IiOiAiYmx1ZSIsCiAgImRhc2hBcnJheSI6IG51bGwsCiAgImRhc2hPZmZzZXQiOiBudWxsLAogICJmaWxsIjogdHJ1ZSwKICAiZmlsbENvbG9yIjogIiMzMTg2Y2MiLAogICJmaWxsT3BhY2l0eSI6IDAuNywKICAiZmlsbFJ1bGUiOiAiZXZlbm9kZCIsCiAgImxpbmVDYXAiOiAicm91bmQiLAogICJsaW5lSm9pbiI6ICJyb3VuZCIsCiAgIm9wYWNpdHkiOiAxLjAsCiAgInJhZGl1cyI6IDUsCiAgInN0cm9rZSI6IHRydWUsCiAgIndlaWdodCI6IDMKfQogICAgICAgICAgICAgICAgKQogICAgICAgICAgICAgICAgLmFkZFRvKG1hcF8xN2FhY2IyZmQ4ZTg0NDRlOTY3NGI2MDM1ZjJmYjNkYSk7CiAgICAgICAgICAgIAogICAgCiAgICAgICAgICAgIHZhciBwb3B1cF9jNDNiZDYxZTI0NmE0MTY4YTMzMmQxMTkzNWEwM2RmOSA9IEwucG9wdXAoe21heFdpZHRoOiAnMTAwJScKICAgICAgICAgICAgCiAgICAgICAgICAgIH0pOwoKICAgICAgICAgICAgCiAgICAgICAgICAgICAgICB2YXIgaHRtbF9hMzAwODQ4NzQ5ODU0NDQ1YTY5MDRjYWYxYWNjOTA2YyA9ICQoYDxkaXYgaWQ9Imh0bWxfYTMwMDg0ODc0OTg1NDQ0NWE2OTA0Y2FmMWFjYzkwNmMiIHN0eWxlPSJ3aWR0aDogMTAwLjAlOyBoZWlnaHQ6IDEwMC4wJTsiPkVhc3QgVG9yb250bywgU3R1ZGlvIERpc3RyaWN0PC9kaXY+YClbMF07CiAgICAgICAgICAgICAgICBwb3B1cF9jNDNiZDYxZTI0NmE0MTY4YTMzMmQxMTkzNWEwM2RmOS5zZXRDb250ZW50KGh0bWxfYTMwMDg0ODc0OTg1NDQ0NWE2OTA0Y2FmMWFjYzkwNmMpOwogICAgICAgICAgICAKCiAgICAgICAgICAgIGNpcmNsZV9tYXJrZXJfZTRiYWZjNTFkNzFhNDU4ZGFlNmMxODJlNWJlNTRkZmYuYmluZFBvcHVwKHBvcHVwX2M0M2JkNjFlMjQ2YTQxNjhhMzMyZDExOTM1YTAzZGY5KQogICAgICAgICAgICA7CgogICAgICAgICAgICAKICAgICAgICAKICAgIAogICAgICAgICAgICB2YXIgY2lyY2xlX21hcmtlcl81MDY5ZmZmYmMxNDA0NDA1ODUyMWNjY2M0Y2JkYTUyNiA9IEwuY2lyY2xlTWFya2VyKAogICAgICAgICAgICAgICAgWzQzLjcyODAyMDUsIC03OS4zODg3OTAxXSwKICAgICAgICAgICAgICAgIHsKICAiYnViYmxpbmdNb3VzZUV2ZW50cyI6IHRydWUsCiAgImNvbG9yIjogImJsdWUiLAogICJkYXNoQXJyYXkiOiBudWxsLAogICJkYXNoT2Zmc2V0IjogbnVsbCwKICAiZmlsbCI6IHRydWUsCiAgImZpbGxDb2xvciI6ICIjMzE4NmNjIiwKICAiZmlsbE9wYWNpdHkiOiAwLjcsCiAgImZpbGxSdWxlIjogImV2ZW5vZGQiLAogICJsaW5lQ2FwIjogInJvdW5kIiwKICAibGluZUpvaW4iOiAicm91bmQiLAogICJvcGFjaXR5IjogMS4wLAogICJyYWRpdXMiOiA1LAogICJzdHJva2UiOiB0cnVlLAogICJ3ZWlnaHQiOiAzCn0KICAgICAgICAgICAgICAgICkKICAgICAgICAgICAgICAgIC5hZGRUbyhtYXBfMTdhYWNiMmZkOGU4NDQ0ZTk2NzRiNjAzNWYyZmIzZGEpOwogICAgICAgICAgICAKICAgIAogICAgICAgICAgICB2YXIgcG9wdXBfYTk0ZDExZjkwYjVjNDhmNTllZDUyNGUxMGVhYjdiYTUgPSBMLnBvcHVwKHttYXhXaWR0aDogJzEwMCUnCiAgICAgICAgICAgIAogICAgICAgICAgICB9KTsKCiAgICAgICAgICAgIAogICAgICAgICAgICAgICAgdmFyIGh0bWxfMDgzNGFhZTk5MzIyNDczYzk2ZGM2YmU3ZTI5NmNhMmEgPSAkKGA8ZGl2IGlkPSJodG1sXzA4MzRhYWU5OTMyMjQ3M2M5NmRjNmJlN2UyOTZjYTJhIiBzdHlsZT0id2lkdGg6IDEwMC4wJTsgaGVpZ2h0OiAxMDAuMCU7Ij5DZW50cmFsIFRvcm9udG8sIExhd3JlbmNlIFBhcms8L2Rpdj5gKVswXTsKICAgICAgICAgICAgICAgIHBvcHVwX2E5NGQxMWY5MGI1YzQ4ZjU5ZWQ1MjRlMTBlYWI3YmE1LnNldENvbnRlbnQoaHRtbF8wODM0YWFlOTkzMjI0NzNjOTZkYzZiZTdlMjk2Y2EyYSk7CiAgICAgICAgICAgIAoKICAgICAgICAgICAgY2lyY2xlX21hcmtlcl81MDY5ZmZmYmMxNDA0NDA1ODUyMWNjY2M0Y2JkYTUyNi5iaW5kUG9wdXAocG9wdXBfYTk0ZDExZjkwYjVjNDhmNTllZDUyNGUxMGVhYjdiYTUpCiAgICAgICAgICAgIDsKCiAgICAgICAgICAgIAogICAgICAgIAogICAgCiAgICAgICAgICAgIHZhciBjaXJjbGVfbWFya2VyXzE5NWUyMWMzNWY1NDQ0ZGViY2UzMGU0MWI4NjBkZWRhID0gTC5jaXJjbGVNYXJrZXIoCiAgICAgICAgICAgICAgICBbNDMuNzEyNzUxMSwgLTc5LjM5MDE5NzVdLAogICAgICAgICAgICAgICAgewogICJidWJibGluZ01vdXNlRXZlbnRzIjogdHJ1ZSwKICAiY29sb3IiOiAiYmx1ZSIsCiAgImRhc2hBcnJheSI6IG51bGwsCiAgImRhc2hPZmZzZXQiOiBudWxsLAogICJmaWxsIjogdHJ1ZSwKICAiZmlsbENvbG9yIjogIiMzMTg2Y2MiLAogICJmaWxsT3BhY2l0eSI6IDAuNywKICAiZmlsbFJ1bGUiOiAiZXZlbm9kZCIsCiAgImxpbmVDYXAiOiAicm91bmQiLAogICJsaW5lSm9pbiI6ICJyb3VuZCIsCiAgIm9wYWNpdHkiOiAxLjAsCiAgInJhZGl1cyI6IDUsCiAgInN0cm9rZSI6IHRydWUsCiAgIndlaWdodCI6IDMKfQogICAgICAgICAgICAgICAgKQogICAgICAgICAgICAgICAgLmFkZFRvKG1hcF8xN2FhY2IyZmQ4ZTg0NDRlOTY3NGI2MDM1ZjJmYjNkYSk7CiAgICAgICAgICAgIAogICAgCiAgICAgICAgICAgIHZhciBwb3B1cF9lNzUwNGM5Y2I0Nzg0MzZhYTFhOTA2NGZlZjU1MDQ2NCA9IEwucG9wdXAoe21heFdpZHRoOiAnMTAwJScKICAgICAgICAgICAgCiAgICAgICAgICAgIH0pOwoKICAgICAgICAgICAgCiAgICAgICAgICAgICAgICB2YXIgaHRtbF80NWQyY2IyYjgyZTE0YmUwYjA5NGExYWEyYzVkZGM5MSA9ICQoYDxkaXYgaWQ9Imh0bWxfNDVkMmNiMmI4MmUxNGJlMGIwOTRhMWFhMmM1ZGRjOTEiIHN0eWxlPSJ3aWR0aDogMTAwLjAlOyBoZWlnaHQ6IDEwMC4wJTsiPkNlbnRyYWwgVG9yb250bywgRGF2aXN2aWxsZSBOb3J0aDwvZGl2PmApWzBdOwogICAgICAgICAgICAgICAgcG9wdXBfZTc1MDRjOWNiNDc4NDM2YWExYTkwNjRmZWY1NTA0NjQuc2V0Q29udGVudChodG1sXzQ1ZDJjYjJiODJlMTRiZTBiMDk0YTFhYTJjNWRkYzkxKTsKICAgICAgICAgICAgCgogICAgICAgICAgICBjaXJjbGVfbWFya2VyXzE5NWUyMWMzNWY1NDQ0ZGViY2UzMGU0MWI4NjBkZWRhLmJpbmRQb3B1cChwb3B1cF9lNzUwNGM5Y2I0Nzg0MzZhYTFhOTA2NGZlZjU1MDQ2NCkKICAgICAgICAgICAgOwoKICAgICAgICAgICAgCiAgICAgICAgCiAgICAKICAgICAgICAgICAgdmFyIGNpcmNsZV9tYXJrZXJfZGE1N2RlNTMxNTU1NGRiNGI5MmY0ZTY0ZjY1MDM4MmYgPSBMLmNpcmNsZU1hcmtlcigKICAgICAgICAgICAgICAgIFs0My43MTUzODM0LCAtNzkuNDA1Njc4NDAwMDAwMDFdLAogICAgICAgICAgICAgICAgewogICJidWJibGluZ01vdXNlRXZlbnRzIjogdHJ1ZSwKICAiY29sb3IiOiAiYmx1ZSIsCiAgImRhc2hBcnJheSI6IG51bGwsCiAgImRhc2hPZmZzZXQiOiBudWxsLAogICJmaWxsIjogdHJ1ZSwKICAiZmlsbENvbG9yIjogIiMzMTg2Y2MiLAogICJmaWxsT3BhY2l0eSI6IDAuNywKICAiZmlsbFJ1bGUiOiAiZXZlbm9kZCIsCiAgImxpbmVDYXAiOiAicm91bmQiLAogICJsaW5lSm9pbiI6ICJyb3VuZCIsCiAgIm9wYWNpdHkiOiAxLjAsCiAgInJhZGl1cyI6IDUsCiAgInN0cm9rZSI6IHRydWUsCiAgIndlaWdodCI6IDMKfQogICAgICAgICAgICAgICAgKQogICAgICAgICAgICAgICAgLmFkZFRvKG1hcF8xN2FhY2IyZmQ4ZTg0NDRlOTY3NGI2MDM1ZjJmYjNkYSk7CiAgICAgICAgICAgIAogICAgCiAgICAgICAgICAgIHZhciBwb3B1cF8xMTIzYmIyZTU4YmY0OTNmODU3MTBhMGFiNGVhMGUyMSA9IEwucG9wdXAoe21heFdpZHRoOiAnMTAwJScKICAgICAgICAgICAgCiAgICAgICAgICAgIH0pOwoKICAgICAgICAgICAgCiAgICAgICAgICAgICAgICB2YXIgaHRtbF82NmE1MGU4M2Q4YjU0ZTIyODFiOWNkYjBiNzkzOWNjNSA9ICQoYDxkaXYgaWQ9Imh0bWxfNjZhNTBlODNkOGI1NGUyMjgxYjljZGIwYjc5MzljYzUiIHN0eWxlPSJ3aWR0aDogMTAwLjAlOyBoZWlnaHQ6IDEwMC4wJTsiPkNlbnRyYWwgVG9yb250bywgTm9ydGggVG9yb250byBXZXN0PC9kaXY+YClbMF07CiAgICAgICAgICAgICAgICBwb3B1cF8xMTIzYmIyZTU4YmY0OTNmODU3MTBhMGFiNGVhMGUyMS5zZXRDb250ZW50KGh0bWxfNjZhNTBlODNkOGI1NGUyMjgxYjljZGIwYjc5MzljYzUpOwogICAgICAgICAgICAKCiAgICAgICAgICAgIGNpcmNsZV9tYXJrZXJfZGE1N2RlNTMxNTU1NGRiNGI5MmY0ZTY0ZjY1MDM4MmYuYmluZFBvcHVwKHBvcHVwXzExMjNiYjJlNThiZjQ5M2Y4NTcxMGEwYWI0ZWEwZTIxKQogICAgICAgICAgICA7CgogICAgICAgICAgICAKICAgICAgICAKICAgIAogICAgICAgICAgICB2YXIgY2lyY2xlX21hcmtlcl9iODkzOTZkNTRlNmI0NjJkYTEzZGE5MzNhN2FiYTkyYyA9IEwuY2lyY2xlTWFya2VyKAogICAgICAgICAgICAgICAgWzQzLjcwNDMyNDQsIC03OS4zODg3OTAxXSwKICAgICAgICAgICAgICAgIHsKICAiYnViYmxpbmdNb3VzZUV2ZW50cyI6IHRydWUsCiAgImNvbG9yIjogImJsdWUiLAogICJkYXNoQXJyYXkiOiBudWxsLAogICJkYXNoT2Zmc2V0IjogbnVsbCwKICAiZmlsbCI6IHRydWUsCiAgImZpbGxDb2xvciI6ICIjMzE4NmNjIiwKICAiZmlsbE9wYWNpdHkiOiAwLjcsCiAgImZpbGxSdWxlIjogImV2ZW5vZGQiLAogICJsaW5lQ2FwIjogInJvdW5kIiwKICAibGluZUpvaW4iOiAicm91bmQiLAogICJvcGFjaXR5IjogMS4wLAogICJyYWRpdXMiOiA1LAogICJzdHJva2UiOiB0cnVlLAogICJ3ZWlnaHQiOiAzCn0KICAgICAgICAgICAgICAgICkKICAgICAgICAgICAgICAgIC5hZGRUbyhtYXBfMTdhYWNiMmZkOGU4NDQ0ZTk2NzRiNjAzNWYyZmIzZGEpOwogICAgICAgICAgICAKICAgIAogICAgICAgICAgICB2YXIgcG9wdXBfMTZhOWJjZWU4MzM0NDVmMWIwZWQ1ZDE5N2Y3ZTVkZWQgPSBMLnBvcHVwKHttYXhXaWR0aDogJzEwMCUnCiAgICAgICAgICAgIAogICAgICAgICAgICB9KTsKCiAgICAgICAgICAgIAogICAgICAgICAgICAgICAgdmFyIGh0bWxfOTQ3NzljMTU0MGE2NGRkNzkzM2ZiYjRiOWRkYjRkZWQgPSAkKGA8ZGl2IGlkPSJodG1sXzk0Nzc5YzE1NDBhNjRkZDc5MzNmYmI0YjlkZGI0ZGVkIiBzdHlsZT0id2lkdGg6IDEwMC4wJTsgaGVpZ2h0OiAxMDAuMCU7Ij5DZW50cmFsIFRvcm9udG8sIERhdmlzdmlsbGU8L2Rpdj5gKVswXTsKICAgICAgICAgICAgICAgIHBvcHVwXzE2YTliY2VlODMzNDQ1ZjFiMGVkNWQxOTdmN2U1ZGVkLnNldENvbnRlbnQoaHRtbF85NDc3OWMxNTQwYTY0ZGQ3OTMzZmJiNGI5ZGRiNGRlZCk7CiAgICAgICAgICAgIAoKICAgICAgICAgICAgY2lyY2xlX21hcmtlcl9iODkzOTZkNTRlNmI0NjJkYTEzZGE5MzNhN2FiYTkyYy5iaW5kUG9wdXAocG9wdXBfMTZhOWJjZWU4MzM0NDVmMWIwZWQ1ZDE5N2Y3ZTVkZWQpCiAgICAgICAgICAgIDsKCiAgICAgICAgICAgIAogICAgICAgIAogICAgCiAgICAgICAgICAgIHZhciBjaXJjbGVfbWFya2VyXzUzMDFlMmJlYTg3MzQ4MTBhM2JiMTFiNjA3NjY0ODMyID0gTC5jaXJjbGVNYXJrZXIoCiAgICAgICAgICAgICAgICBbNDMuNjg5NTc0MywgLTc5LjM4MzE1OTkwMDAwMDAxXSwKICAgICAgICAgICAgICAgIHsKICAiYnViYmxpbmdNb3VzZUV2ZW50cyI6IHRydWUsCiAgImNvbG9yIjogImJsdWUiLAogICJkYXNoQXJyYXkiOiBudWxsLAogICJkYXNoT2Zmc2V0IjogbnVsbCwKICAiZmlsbCI6IHRydWUsCiAgImZpbGxDb2xvciI6ICIjMzE4NmNjIiwKICAiZmlsbE9wYWNpdHkiOiAwLjcsCiAgImZpbGxSdWxlIjogImV2ZW5vZGQiLAogICJsaW5lQ2FwIjogInJvdW5kIiwKICAibGluZUpvaW4iOiAicm91bmQiLAogICJvcGFjaXR5IjogMS4wLAogICJyYWRpdXMiOiA1LAogICJzdHJva2UiOiB0cnVlLAogICJ3ZWlnaHQiOiAzCn0KICAgICAgICAgICAgICAgICkKICAgICAgICAgICAgICAgIC5hZGRUbyhtYXBfMTdhYWNiMmZkOGU4NDQ0ZTk2NzRiNjAzNWYyZmIzZGEpOwogICAgICAgICAgICAKICAgIAogICAgICAgICAgICB2YXIgcG9wdXBfNmQ5ODliZjEyMGVmNGJiMThjODMwYmY4OGQ0YWIxZmUgPSBMLnBvcHVwKHttYXhXaWR0aDogJzEwMCUnCiAgICAgICAgICAgIAogICAgICAgICAgICB9KTsKCiAgICAgICAgICAgIAogICAgICAgICAgICAgICAgdmFyIGh0bWxfYzgyNjNjOTcxZjJiNDBiYThjMGVmMDIyZTFmY2ZhOTMgPSAkKGA8ZGl2IGlkPSJodG1sX2M4MjYzYzk3MWYyYjQwYmE4YzBlZjAyMmUxZmNmYTkzIiBzdHlsZT0id2lkdGg6IDEwMC4wJTsgaGVpZ2h0OiAxMDAuMCU7Ij5DZW50cmFsIFRvcm9udG8sIE1vb3JlIFBhcmssIFN1bW1lcmhpbGwgRWFzdDwvZGl2PmApWzBdOwogICAgICAgICAgICAgICAgcG9wdXBfNmQ5ODliZjEyMGVmNGJiMThjODMwYmY4OGQ0YWIxZmUuc2V0Q29udGVudChodG1sX2M4MjYzYzk3MWYyYjQwYmE4YzBlZjAyMmUxZmNmYTkzKTsKICAgICAgICAgICAgCgogICAgICAgICAgICBjaXJjbGVfbWFya2VyXzUzMDFlMmJlYTg3MzQ4MTBhM2JiMTFiNjA3NjY0ODMyLmJpbmRQb3B1cChwb3B1cF82ZDk4OWJmMTIwZWY0YmIxOGM4MzBiZjg4ZDRhYjFmZSkKICAgICAgICAgICAgOwoKICAgICAgICAgICAgCiAgICAgICAgCiAgICAKICAgICAgICAgICAgdmFyIGNpcmNsZV9tYXJrZXJfOTdhNTM4ODhkNDg3NDVmMDkyODdlZDQyODc0NWQ1ZmIgPSBMLmNpcmNsZU1hcmtlcigKICAgICAgICAgICAgICAgIFs0My42ODY0MTIyOTk5OTk5OSwgLTc5LjQwMDA0OTNdLAogICAgICAgICAgICAgICAgewogICJidWJibGluZ01vdXNlRXZlbnRzIjogdHJ1ZSwKICAiY29sb3IiOiAiYmx1ZSIsCiAgImRhc2hBcnJheSI6IG51bGwsCiAgImRhc2hPZmZzZXQiOiBudWxsLAogICJmaWxsIjogdHJ1ZSwKICAiZmlsbENvbG9yIjogIiMzMTg2Y2MiLAogICJmaWxsT3BhY2l0eSI6IDAuNywKICAiZmlsbFJ1bGUiOiAiZXZlbm9kZCIsCiAgImxpbmVDYXAiOiAicm91bmQiLAogICJsaW5lSm9pbiI6ICJyb3VuZCIsCiAgIm9wYWNpdHkiOiAxLjAsCiAgInJhZGl1cyI6IDUsCiAgInN0cm9rZSI6IHRydWUsCiAgIndlaWdodCI6IDMKfQogICAgICAgICAgICAgICAgKQogICAgICAgICAgICAgICAgLmFkZFRvKG1hcF8xN2FhY2IyZmQ4ZTg0NDRlOTY3NGI2MDM1ZjJmYjNkYSk7CiAgICAgICAgICAgIAogICAgCiAgICAgICAgICAgIHZhciBwb3B1cF8yMjdiOGU0MmFkNDc0ZWZiYTg1MWUxYzlmNGUyYTYzYiA9IEwucG9wdXAoe21heFdpZHRoOiAnMTAwJScKICAgICAgICAgICAgCiAgICAgICAgICAgIH0pOwoKICAgICAgICAgICAgCiAgICAgICAgICAgICAgICB2YXIgaHRtbF9lYmE4MDJhMGI5YWQ0MjQ5OGNkOWI5YWI0ODBhMjUyOCA9ICQoYDxkaXYgaWQ9Imh0bWxfZWJhODAyYTBiOWFkNDI0OThjZDliOWFiNDgwYTI1MjgiIHN0eWxlPSJ3aWR0aDogMTAwLjAlOyBoZWlnaHQ6IDEwMC4wJTsiPkNlbnRyYWwgVG9yb250bywgRGVlciBQYXJrLCBGb3Jlc3QgSGlsbCBTRSwgUmF0aG5lbGx5LCBTb3V0aCBIaWxsLCBTdW1tZXJoaWxsIFdlc3Q8L2Rpdj5gKVswXTsKICAgICAgICAgICAgICAgIHBvcHVwXzIyN2I4ZTQyYWQ0NzRlZmJhODUxZTFjOWY0ZTJhNjNiLnNldENvbnRlbnQoaHRtbF9lYmE4MDJhMGI5YWQ0MjQ5OGNkOWI5YWI0ODBhMjUyOCk7CiAgICAgICAgICAgIAoKICAgICAgICAgICAgY2lyY2xlX21hcmtlcl85N2E1Mzg4OGQ0ODc0NWYwOTI4N2VkNDI4NzQ1ZDVmYi5iaW5kUG9wdXAocG9wdXBfMjI3YjhlNDJhZDQ3NGVmYmE4NTFlMWM5ZjRlMmE2M2IpCiAgICAgICAgICAgIDsKCiAgICAgICAgICAgIAogICAgICAgIAogICAgCiAgICAgICAgICAgIHZhciBjaXJjbGVfbWFya2VyXzNkM2M1ZjdkNDY0NzQyYjM4MGJkYjdjNTczMzMwOTE1ID0gTC5jaXJjbGVNYXJrZXIoCiAgICAgICAgICAgICAgICBbNDMuNjc5NTYyNiwgLTc5LjM3NzUyOTQwMDAwMDAxXSwKICAgICAgICAgICAgICAgIHsKICAiYnViYmxpbmdNb3VzZUV2ZW50cyI6IHRydWUsCiAgImNvbG9yIjogImJsdWUiLAogICJkYXNoQXJyYXkiOiBudWxsLAogICJkYXNoT2Zmc2V0IjogbnVsbCwKICAiZmlsbCI6IHRydWUsCiAgImZpbGxDb2xvciI6ICIjMzE4NmNjIiwKICAiZmlsbE9wYWNpdHkiOiAwLjcsCiAgImZpbGxSdWxlIjogImV2ZW5vZGQiLAogICJsaW5lQ2FwIjogInJvdW5kIiwKICAibGluZUpvaW4iOiAicm91bmQiLAogICJvcGFjaXR5IjogMS4wLAogICJyYWRpdXMiOiA1LAogICJzdHJva2UiOiB0cnVlLAogICJ3ZWlnaHQiOiAzCn0KICAgICAgICAgICAgICAgICkKICAgICAgICAgICAgICAgIC5hZGRUbyhtYXBfMTdhYWNiMmZkOGU4NDQ0ZTk2NzRiNjAzNWYyZmIzZGEpOwogICAgICAgICAgICAKICAgIAogICAgICAgICAgICB2YXIgcG9wdXBfNDExZjM0OTJkYmM2NDBhOGFhZmI1YjdmYWU1N2VkNGQgPSBMLnBvcHVwKHttYXhXaWR0aDogJzEwMCUnCiAgICAgICAgICAgIAogICAgICAgICAgICB9KTsKCiAgICAgICAgICAgIAogICAgICAgICAgICAgICAgdmFyIGh0bWxfYzYyYmVmM2VjNTM3NDAzMmIzNjU5NzY0MGY4MDM4NmQgPSAkKGA8ZGl2IGlkPSJodG1sX2M2MmJlZjNlYzUzNzQwMzJiMzY1OTc2NDBmODAzODZkIiBzdHlsZT0id2lkdGg6IDEwMC4wJTsgaGVpZ2h0OiAxMDAuMCU7Ij5Eb3dudG93biBUb3JvbnRvLCBSb3NlZGFsZTwvZGl2PmApWzBdOwogICAgICAgICAgICAgICAgcG9wdXBfNDExZjM0OTJkYmM2NDBhOGFhZmI1YjdmYWU1N2VkNGQuc2V0Q29udGVudChodG1sX2M2MmJlZjNlYzUzNzQwMzJiMzY1OTc2NDBmODAzODZkKTsKICAgICAgICAgICAgCgogICAgICAgICAgICBjaXJjbGVfbWFya2VyXzNkM2M1ZjdkNDY0NzQyYjM4MGJkYjdjNTczMzMwOTE1LmJpbmRQb3B1cChwb3B1cF80MTFmMzQ5MmRiYzY0MGE4YWFmYjViN2ZhZTU3ZWQ0ZCkKICAgICAgICAgICAgOwoKICAgICAgICAgICAgCiAgICAgICAgCiAgICAKICAgICAgICAgICAgdmFyIGNpcmNsZV9tYXJrZXJfZDk0YmNmNWZlNGJhNDA5NDk5ZjkzMjBiODAxNTgyODAgPSBMLmNpcmNsZU1hcmtlcigKICAgICAgICAgICAgICAgIFs0My42Njc5NjcsIC03OS4zNjc2NzUzXSwKICAgICAgICAgICAgICAgIHsKICAiYnViYmxpbmdNb3VzZUV2ZW50cyI6IHRydWUsCiAgImNvbG9yIjogImJsdWUiLAogICJkYXNoQXJyYXkiOiBudWxsLAogICJkYXNoT2Zmc2V0IjogbnVsbCwKICAiZmlsbCI6IHRydWUsCiAgImZpbGxDb2xvciI6ICIjMzE4NmNjIiwKICAiZmlsbE9wYWNpdHkiOiAwLjcsCiAgImZpbGxSdWxlIjogImV2ZW5vZGQiLAogICJsaW5lQ2FwIjogInJvdW5kIiwKICAibGluZUpvaW4iOiAicm91bmQiLAogICJvcGFjaXR5IjogMS4wLAogICJyYWRpdXMiOiA1LAogICJzdHJva2UiOiB0cnVlLAogICJ3ZWlnaHQiOiAzCn0KICAgICAgICAgICAgICAgICkKICAgICAgICAgICAgICAgIC5hZGRUbyhtYXBfMTdhYWNiMmZkOGU4NDQ0ZTk2NzRiNjAzNWYyZmIzZGEpOwogICAgICAgICAgICAKICAgIAogICAgICAgICAgICB2YXIgcG9wdXBfMzVlYWZjODEzMjVjNDE4NWI2MDYwODA0ZWQwYjM3MmYgPSBMLnBvcHVwKHttYXhXaWR0aDogJzEwMCUnCiAgICAgICAgICAgIAogICAgICAgICAgICB9KTsKCiAgICAgICAgICAgIAogICAgICAgICAgICAgICAgdmFyIGh0bWxfMWRiMTcxODFkNjVkNDM4Yzg5NWM1YTQ2YmE1MjYzODAgPSAkKGA8ZGl2IGlkPSJodG1sXzFkYjE3MTgxZDY1ZDQzOGM4OTVjNWE0NmJhNTI2MzgwIiBzdHlsZT0id2lkdGg6IDEwMC4wJTsgaGVpZ2h0OiAxMDAuMCU7Ij5Eb3dudG93biBUb3JvbnRvLCBDYWJiYWdldG93biwgU3QuIEphbWVzIFRvd248L2Rpdj5gKVswXTsKICAgICAgICAgICAgICAgIHBvcHVwXzM1ZWFmYzgxMzI1YzQxODViNjA2MDgwNGVkMGIzNzJmLnNldENvbnRlbnQoaHRtbF8xZGIxNzE4MWQ2NWQ0MzhjODk1YzVhNDZiYTUyNjM4MCk7CiAgICAgICAgICAgIAoKICAgICAgICAgICAgY2lyY2xlX21hcmtlcl9kOTRiY2Y1ZmU0YmE0MDk0OTlmOTMyMGI4MDE1ODI4MC5iaW5kUG9wdXAocG9wdXBfMzVlYWZjODEzMjVjNDE4NWI2MDYwODA0ZWQwYjM3MmYpCiAgICAgICAgICAgIDsKCiAgICAgICAgICAgIAogICAgICAgIAogICAgCiAgICAgICAgICAgIHZhciBjaXJjbGVfbWFya2VyXzliZDk0MDA1YWZhYjQ0NWU4NWQ5Yjc2MmRkYThiNzViID0gTC5jaXJjbGVNYXJrZXIoCiAgICAgICAgICAgICAgICBbNDMuNjY1ODU5OSwgLTc5LjM4MzE1OTkwMDAwMDAxXSwKICAgICAgICAgICAgICAgIHsKICAiYnViYmxpbmdNb3VzZUV2ZW50cyI6IHRydWUsCiAgImNvbG9yIjogImJsdWUiLAogICJkYXNoQXJyYXkiOiBudWxsLAogICJkYXNoT2Zmc2V0IjogbnVsbCwKICAiZmlsbCI6IHRydWUsCiAgImZpbGxDb2xvciI6ICIjMzE4NmNjIiwKICAiZmlsbE9wYWNpdHkiOiAwLjcsCiAgImZpbGxSdWxlIjogImV2ZW5vZGQiLAogICJsaW5lQ2FwIjogInJvdW5kIiwKICAibGluZUpvaW4iOiAicm91bmQiLAogICJvcGFjaXR5IjogMS4wLAogICJyYWRpdXMiOiA1LAogICJzdHJva2UiOiB0cnVlLAogICJ3ZWlnaHQiOiAzCn0KICAgICAgICAgICAgICAgICkKICAgICAgICAgICAgICAgIC5hZGRUbyhtYXBfMTdhYWNiMmZkOGU4NDQ0ZTk2NzRiNjAzNWYyZmIzZGEpOwogICAgICAgICAgICAKICAgIAogICAgICAgICAgICB2YXIgcG9wdXBfYjM5NTM2MWRjMTMwNDI4Yzk0MjU3YjY2ZDEwMmVlZTggPSBMLnBvcHVwKHttYXhXaWR0aDogJzEwMCUnCiAgICAgICAgICAgIAogICAgICAgICAgICB9KTsKCiAgICAgICAgICAgIAogICAgICAgICAgICAgICAgdmFyIGh0bWxfMmY5YjZlNzUzODhiNGJlMmI1MGEwYTg5Yzg1NzYzNWIgPSAkKGA8ZGl2IGlkPSJodG1sXzJmOWI2ZTc1Mzg4YjRiZTJiNTBhMGE4OWM4NTc2MzViIiBzdHlsZT0id2lkdGg6IDEwMC4wJTsgaGVpZ2h0OiAxMDAuMCU7Ij5Eb3dudG93biBUb3JvbnRvLCBDaHVyY2ggYW5kIFdlbGxlc2xleTwvZGl2PmApWzBdOwogICAgICAgICAgICAgICAgcG9wdXBfYjM5NTM2MWRjMTMwNDI4Yzk0MjU3YjY2ZDEwMmVlZTguc2V0Q29udGVudChodG1sXzJmOWI2ZTc1Mzg4YjRiZTJiNTBhMGE4OWM4NTc2MzViKTsKICAgICAgICAgICAgCgogICAgICAgICAgICBjaXJjbGVfbWFya2VyXzliZDk0MDA1YWZhYjQ0NWU4NWQ5Yjc2MmRkYThiNzViLmJpbmRQb3B1cChwb3B1cF9iMzk1MzYxZGMxMzA0MjhjOTQyNTdiNjZkMTAyZWVlOCkKICAgICAgICAgICAgOwoKICAgICAgICAgICAgCiAgICAgICAgCiAgICAKICAgICAgICAgICAgdmFyIGNpcmNsZV9tYXJrZXJfZWY4NTYxNjRlYzA3NDA1YWFlZGY3ZTVlMmExYjA3YjUgPSBMLmNpcmNsZU1hcmtlcigKICAgICAgICAgICAgICAgIFs0My42NTQyNTk5LCAtNzkuMzYwNjM1OV0sCiAgICAgICAgICAgICAgICB7CiAgImJ1YmJsaW5nTW91c2VFdmVudHMiOiB0cnVlLAogICJjb2xvciI6ICJibHVlIiwKICAiZGFzaEFycmF5IjogbnVsbCwKICAiZGFzaE9mZnNldCI6IG51bGwsCiAgImZpbGwiOiB0cnVlLAogICJmaWxsQ29sb3IiOiAiIzMxODZjYyIsCiAgImZpbGxPcGFjaXR5IjogMC43LAogICJmaWxsUnVsZSI6ICJldmVub2RkIiwKICAibGluZUNhcCI6ICJyb3VuZCIsCiAgImxpbmVKb2luIjogInJvdW5kIiwKICAib3BhY2l0eSI6IDEuMCwKICAicmFkaXVzIjogNSwKICAic3Ryb2tlIjogdHJ1ZSwKICAid2VpZ2h0IjogMwp9CiAgICAgICAgICAgICAgICApCiAgICAgICAgICAgICAgICAuYWRkVG8obWFwXzE3YWFjYjJmZDhlODQ0NGU5Njc0YjYwMzVmMmZiM2RhKTsKICAgICAgICAgICAgCiAgICAKICAgICAgICAgICAgdmFyIHBvcHVwX2FhZDE1NmQ0MzE0MzRkYWZiNzY1MGQwYTJkNTA1Y2UwID0gTC5wb3B1cCh7bWF4V2lkdGg6ICcxMDAlJwogICAgICAgICAgICAKICAgICAgICAgICAgfSk7CgogICAgICAgICAgICAKICAgICAgICAgICAgICAgIHZhciBodG1sXzFhNzcwYWUyNDhiMDQ3M2RiNmJmOWUyZDdkNjc5ZTk3ID0gJChgPGRpdiBpZD0iaHRtbF8xYTc3MGFlMjQ4YjA0NzNkYjZiZjllMmQ3ZDY3OWU5NyIgc3R5bGU9IndpZHRoOiAxMDAuMCU7IGhlaWdodDogMTAwLjAlOyI+RG93bnRvd24gVG9yb250bywgSGFyYm91cmZyb250PC9kaXY+YClbMF07CiAgICAgICAgICAgICAgICBwb3B1cF9hYWQxNTZkNDMxNDM0ZGFmYjc2NTBkMGEyZDUwNWNlMC5zZXRDb250ZW50KGh0bWxfMWE3NzBhZTI0OGIwNDczZGI2YmY5ZTJkN2Q2NzllOTcpOwogICAgICAgICAgICAKCiAgICAgICAgICAgIGNpcmNsZV9tYXJrZXJfZWY4NTYxNjRlYzA3NDA1YWFlZGY3ZTVlMmExYjA3YjUuYmluZFBvcHVwKHBvcHVwX2FhZDE1NmQ0MzE0MzRkYWZiNzY1MGQwYTJkNTA1Y2UwKQogICAgICAgICAgICA7CgogICAgICAgICAgICAKICAgICAgICAKICAgIAogICAgICAgICAgICB2YXIgY2lyY2xlX21hcmtlcl81OGU3NGYwZThhOWY0MWNjOTVmZjdhNDE4NGZkODZjMyA9IEwuY2lyY2xlTWFya2VyKAogICAgICAgICAgICAgICAgWzQzLjY1NzE2MTgsIC03OS4zNzg5MzcwOTk5OTk5OV0sCiAgICAgICAgICAgICAgICB7CiAgImJ1YmJsaW5nTW91c2VFdmVudHMiOiB0cnVlLAogICJjb2xvciI6ICJibHVlIiwKICAiZGFzaEFycmF5IjogbnVsbCwKICAiZGFzaE9mZnNldCI6IG51bGwsCiAgImZpbGwiOiB0cnVlLAogICJmaWxsQ29sb3IiOiAiIzMxODZjYyIsCiAgImZpbGxPcGFjaXR5IjogMC43LAogICJmaWxsUnVsZSI6ICJldmVub2RkIiwKICAibGluZUNhcCI6ICJyb3VuZCIsCiAgImxpbmVKb2luIjogInJvdW5kIiwKICAib3BhY2l0eSI6IDEuMCwKICAicmFkaXVzIjogNSwKICAic3Ryb2tlIjogdHJ1ZSwKICAid2VpZ2h0IjogMwp9CiAgICAgICAgICAgICAgICApCiAgICAgICAgICAgICAgICAuYWRkVG8obWFwXzE3YWFjYjJmZDhlODQ0NGU5Njc0YjYwMzVmMmZiM2RhKTsKICAgICAgICAgICAgCiAgICAKICAgICAgICAgICAgdmFyIHBvcHVwXzU2MTFmZDg4ZjM3MTQwYzU5OWZmZjE0YzFiMmYyNWY2ID0gTC5wb3B1cCh7bWF4V2lkdGg6ICcxMDAlJwogICAgICAgICAgICAKICAgICAgICAgICAgfSk7CgogICAgICAgICAgICAKICAgICAgICAgICAgICAgIHZhciBodG1sXzc2YmRmOThiZjQ5ZDRmOTVhNWYyMDZlMTgzYjI2YzRkID0gJChgPGRpdiBpZD0iaHRtbF83NmJkZjk4YmY0OWQ0Zjk1YTVmMjA2ZTE4M2IyNmM0ZCIgc3R5bGU9IndpZHRoOiAxMDAuMCU7IGhlaWdodDogMTAwLjAlOyI+RG93bnRvd24gVG9yb250bywgUnllcnNvbiwgR2FyZGVuIERpc3RyaWN0PC9kaXY+YClbMF07CiAgICAgICAgICAgICAgICBwb3B1cF81NjExZmQ4OGYzNzE0MGM1OTlmZmYxNGMxYjJmMjVmNi5zZXRDb250ZW50KGh0bWxfNzZiZGY5OGJmNDlkNGY5NWE1ZjIwNmUxODNiMjZjNGQpOwogICAgICAgICAgICAKCiAgICAgICAgICAgIGNpcmNsZV9tYXJrZXJfNThlNzRmMGU4YTlmNDFjYzk1ZmY3YTQxODRmZDg2YzMuYmluZFBvcHVwKHBvcHVwXzU2MTFmZDg4ZjM3MTQwYzU5OWZmZjE0YzFiMmYyNWY2KQogICAgICAgICAgICA7CgogICAgICAgICAgICAKICAgICAgICAKICAgIAogICAgICAgICAgICB2YXIgY2lyY2xlX21hcmtlcl80ZWIwMTQ3MzVmYzI0M2RmODZjOWU3NWRhNWRhMjQ3MiA9IEwuY2lyY2xlTWFya2VyKAogICAgICAgICAgICAgICAgWzQzLjY1MTQ5MzksIC03OS4zNzU0MTc5XSwKICAgICAgICAgICAgICAgIHsKICAiYnViYmxpbmdNb3VzZUV2ZW50cyI6IHRydWUsCiAgImNvbG9yIjogImJsdWUiLAogICJkYXNoQXJyYXkiOiBudWxsLAogICJkYXNoT2Zmc2V0IjogbnVsbCwKICAiZmlsbCI6IHRydWUsCiAgImZpbGxDb2xvciI6ICIjMzE4NmNjIiwKICAiZmlsbE9wYWNpdHkiOiAwLjcsCiAgImZpbGxSdWxlIjogImV2ZW5vZGQiLAogICJsaW5lQ2FwIjogInJvdW5kIiwKICAibGluZUpvaW4iOiAicm91bmQiLAogICJvcGFjaXR5IjogMS4wLAogICJyYWRpdXMiOiA1LAogICJzdHJva2UiOiB0cnVlLAogICJ3ZWlnaHQiOiAzCn0KICAgICAgICAgICAgICAgICkKICAgICAgICAgICAgICAgIC5hZGRUbyhtYXBfMTdhYWNiMmZkOGU4NDQ0ZTk2NzRiNjAzNWYyZmIzZGEpOwogICAgICAgICAgICAKICAgIAogICAgICAgICAgICB2YXIgcG9wdXBfZDRkNDE5MjhmYWEwNDVjMWIxMjlkMjU2OWUxYzlkM2EgPSBMLnBvcHVwKHttYXhXaWR0aDogJzEwMCUnCiAgICAgICAgICAgIAogICAgICAgICAgICB9KTsKCiAgICAgICAgICAgIAogICAgICAgICAgICAgICAgdmFyIGh0bWxfNmFmZGE2MjEzNWU5NGZjYWFkNDU3MWY2MGE2ODZiYzQgPSAkKGA8ZGl2IGlkPSJodG1sXzZhZmRhNjIxMzVlOTRmY2FhZDQ1NzFmNjBhNjg2YmM0IiBzdHlsZT0id2lkdGg6IDEwMC4wJTsgaGVpZ2h0OiAxMDAuMCU7Ij5Eb3dudG93biBUb3JvbnRvLCBTdC4gSmFtZXMgVG93bjwvZGl2PmApWzBdOwogICAgICAgICAgICAgICAgcG9wdXBfZDRkNDE5MjhmYWEwNDVjMWIxMjlkMjU2OWUxYzlkM2Euc2V0Q29udGVudChodG1sXzZhZmRhNjIxMzVlOTRmY2FhZDQ1NzFmNjBhNjg2YmM0KTsKICAgICAgICAgICAgCgogICAgICAgICAgICBjaXJjbGVfbWFya2VyXzRlYjAxNDczNWZjMjQzZGY4NmM5ZTc1ZGE1ZGEyNDcyLmJpbmRQb3B1cChwb3B1cF9kNGQ0MTkyOGZhYTA0NWMxYjEyOWQyNTY5ZTFjOWQzYSkKICAgICAgICAgICAgOwoKICAgICAgICAgICAgCiAgICAgICAgCiAgICAKICAgICAgICAgICAgdmFyIGNpcmNsZV9tYXJrZXJfMzYzYWIzMjQ1ZmM0NDAwZmE2MTY0NTE2Y2NlY2Y5NTMgPSBMLmNpcmNsZU1hcmtlcigKICAgICAgICAgICAgICAgIFs0My42NDQ3NzA3OTk5OTk5OTYsIC03OS4zNzMzMDY0XSwKICAgICAgICAgICAgICAgIHsKICAiYnViYmxpbmdNb3VzZUV2ZW50cyI6IHRydWUsCiAgImNvbG9yIjogImJsdWUiLAogICJkYXNoQXJyYXkiOiBudWxsLAogICJkYXNoT2Zmc2V0IjogbnVsbCwKICAiZmlsbCI6IHRydWUsCiAgImZpbGxDb2xvciI6ICIjMzE4NmNjIiwKICAiZmlsbE9wYWNpdHkiOiAwLjcsCiAgImZpbGxSdWxlIjogImV2ZW5vZGQiLAogICJsaW5lQ2FwIjogInJvdW5kIiwKICAibGluZUpvaW4iOiAicm91bmQiLAogICJvcGFjaXR5IjogMS4wLAogICJyYWRpdXMiOiA1LAogICJzdHJva2UiOiB0cnVlLAogICJ3ZWlnaHQiOiAzCn0KICAgICAgICAgICAgICAgICkKICAgICAgICAgICAgICAgIC5hZGRUbyhtYXBfMTdhYWNiMmZkOGU4NDQ0ZTk2NzRiNjAzNWYyZmIzZGEpOwogICAgICAgICAgICAKICAgIAogICAgICAgICAgICB2YXIgcG9wdXBfYTUwNjM2MWE1ODQyNGY2OGJlZTI5MjgxZDljZDNhMmUgPSBMLnBvcHVwKHttYXhXaWR0aDogJzEwMCUnCiAgICAgICAgICAgIAogICAgICAgICAgICB9KTsKCiAgICAgICAgICAgIAogICAgICAgICAgICAgICAgdmFyIGh0bWxfOGVmNjFjZGNlMjk0NDAzNjg1NDljM2I4NzQ1NjBiYmMgPSAkKGA8ZGl2IGlkPSJodG1sXzhlZjYxY2RjZTI5NDQwMzY4NTQ5YzNiODc0NTYwYmJjIiBzdHlsZT0id2lkdGg6IDEwMC4wJTsgaGVpZ2h0OiAxMDAuMCU7Ij5Eb3dudG93biBUb3JvbnRvLCBCZXJjenkgUGFyazwvZGl2PmApWzBdOwogICAgICAgICAgICAgICAgcG9wdXBfYTUwNjM2MWE1ODQyNGY2OGJlZTI5MjgxZDljZDNhMmUuc2V0Q29udGVudChodG1sXzhlZjYxY2RjZTI5NDQwMzY4NTQ5YzNiODc0NTYwYmJjKTsKICAgICAgICAgICAgCgogICAgICAgICAgICBjaXJjbGVfbWFya2VyXzM2M2FiMzI0NWZjNDQwMGZhNjE2NDUxNmNjZWNmOTUzLmJpbmRQb3B1cChwb3B1cF9hNTA2MzYxYTU4NDI0ZjY4YmVlMjkyODFkOWNkM2EyZSkKICAgICAgICAgICAgOwoKICAgICAgICAgICAgCiAgICAgICAgCiAgICAKICAgICAgICAgICAgdmFyIGNpcmNsZV9tYXJrZXJfZjYxNGFjOGRkZTRhNGNiNWE3MmYzMDcwMWNkODI4ZTAgPSBMLmNpcmNsZU1hcmtlcigKICAgICAgICAgICAgICAgIFs0My42NTc5NTI0LCAtNzkuMzg3MzgyNl0sCiAgICAgICAgICAgICAgICB7CiAgImJ1YmJsaW5nTW91c2VFdmVudHMiOiB0cnVlLAogICJjb2xvciI6ICJibHVlIiwKICAiZGFzaEFycmF5IjogbnVsbCwKICAiZGFzaE9mZnNldCI6IG51bGwsCiAgImZpbGwiOiB0cnVlLAogICJmaWxsQ29sb3IiOiAiIzMxODZjYyIsCiAgImZpbGxPcGFjaXR5IjogMC43LAogICJmaWxsUnVsZSI6ICJldmVub2RkIiwKICAibGluZUNhcCI6ICJyb3VuZCIsCiAgImxpbmVKb2luIjogInJvdW5kIiwKICAib3BhY2l0eSI6IDEuMCwKICAicmFkaXVzIjogNSwKICAic3Ryb2tlIjogdHJ1ZSwKICAid2VpZ2h0IjogMwp9CiAgICAgICAgICAgICAgICApCiAgICAgICAgICAgICAgICAuYWRkVG8obWFwXzE3YWFjYjJmZDhlODQ0NGU5Njc0YjYwMzVmMmZiM2RhKTsKICAgICAgICAgICAgCiAgICAKICAgICAgICAgICAgdmFyIHBvcHVwXzhjOGQ0ZjkyZTdhNDRhMmVhMTUzNWI4N2E3MTE1ZDgyID0gTC5wb3B1cCh7bWF4V2lkdGg6ICcxMDAlJwogICAgICAgICAgICAKICAgICAgICAgICAgfSk7CgogICAgICAgICAgICAKICAgICAgICAgICAgICAgIHZhciBodG1sX2MxNzFjMDZlMzM5ZTRlMzdhYjMzYzk0NGVhODlkZDIxID0gJChgPGRpdiBpZD0iaHRtbF9jMTcxYzA2ZTMzOWU0ZTM3YWIzM2M5NDRlYTg5ZGQyMSIgc3R5bGU9IndpZHRoOiAxMDAuMCU7IGhlaWdodDogMTAwLjAlOyI+RG93bnRvd24gVG9yb250bywgQ2VudHJhbCBCYXkgU3RyZWV0PC9kaXY+YClbMF07CiAgICAgICAgICAgICAgICBwb3B1cF84YzhkNGY5MmU3YTQ0YTJlYTE1MzViODdhNzExNWQ4Mi5zZXRDb250ZW50KGh0bWxfYzE3MWMwNmUzMzllNGUzN2FiMzNjOTQ0ZWE4OWRkMjEpOwogICAgICAgICAgICAKCiAgICAgICAgICAgIGNpcmNsZV9tYXJrZXJfZjYxNGFjOGRkZTRhNGNiNWE3MmYzMDcwMWNkODI4ZTAuYmluZFBvcHVwKHBvcHVwXzhjOGQ0ZjkyZTdhNDRhMmVhMTUzNWI4N2E3MTE1ZDgyKQogICAgICAgICAgICA7CgogICAgICAgICAgICAKICAgICAgICAKICAgIAogICAgICAgICAgICB2YXIgY2lyY2xlX21hcmtlcl82OWU3ZDMyZTJhZmE0MzdjYTYxZWQ4Y2IwNmE4YmNhNSA9IEwuY2lyY2xlTWFya2VyKAogICAgICAgICAgICAgICAgWzQzLjY1MDU3MTIwMDAwMDAxLCAtNzkuMzg0NTY3NV0sCiAgICAgICAgICAgICAgICB7CiAgImJ1YmJsaW5nTW91c2VFdmVudHMiOiB0cnVlLAogICJjb2xvciI6ICJibHVlIiwKICAiZGFzaEFycmF5IjogbnVsbCwKICAiZGFzaE9mZnNldCI6IG51bGwsCiAgImZpbGwiOiB0cnVlLAogICJmaWxsQ29sb3IiOiAiIzMxODZjYyIsCiAgImZpbGxPcGFjaXR5IjogMC43LAogICJmaWxsUnVsZSI6ICJldmVub2RkIiwKICAibGluZUNhcCI6ICJyb3VuZCIsCiAgImxpbmVKb2luIjogInJvdW5kIiwKICAib3BhY2l0eSI6IDEuMCwKICAicmFkaXVzIjogNSwKICAic3Ryb2tlIjogdHJ1ZSwKICAid2VpZ2h0IjogMwp9CiAgICAgICAgICAgICAgICApCiAgICAgICAgICAgICAgICAuYWRkVG8obWFwXzE3YWFjYjJmZDhlODQ0NGU5Njc0YjYwMzVmMmZiM2RhKTsKICAgICAgICAgICAgCiAgICAKICAgICAgICAgICAgdmFyIHBvcHVwXzIwZDMzOWJiYWFiZDRmMDc5ZGY1MTFkNWFiN2JiZWU5ID0gTC5wb3B1cCh7bWF4V2lkdGg6ICcxMDAlJwogICAgICAgICAgICAKICAgICAgICAgICAgfSk7CgogICAgICAgICAgICAKICAgICAgICAgICAgICAgIHZhciBodG1sXzU3MWQ3NjJmODY5NDQ2ZGU4NGFmMWI2OTllYWUyMjNjID0gJChgPGRpdiBpZD0iaHRtbF81NzFkNzYyZjg2OTQ0NmRlODRhZjFiNjk5ZWFlMjIzYyIgc3R5bGU9IndpZHRoOiAxMDAuMCU7IGhlaWdodDogMTAwLjAlOyI+RG93bnRvd24gVG9yb250bywgQWRlbGFpZGUsIEtpbmcsIFJpY2htb25kPC9kaXY+YClbMF07CiAgICAgICAgICAgICAgICBwb3B1cF8yMGQzMzliYmFhYmQ0ZjA3OWRmNTExZDVhYjdiYmVlOS5zZXRDb250ZW50KGh0bWxfNTcxZDc2MmY4Njk0NDZkZTg0YWYxYjY5OWVhZTIyM2MpOwogICAgICAgICAgICAKCiAgICAgICAgICAgIGNpcmNsZV9tYXJrZXJfNjllN2QzMmUyYWZhNDM3Y2E2MWVkOGNiMDZhOGJjYTUuYmluZFBvcHVwKHBvcHVwXzIwZDMzOWJiYWFiZDRmMDc5ZGY1MTFkNWFiN2JiZWU5KQogICAgICAgICAgICA7CgogICAgICAgICAgICAKICAgICAgICAKICAgIAogICAgICAgICAgICB2YXIgY2lyY2xlX21hcmtlcl8wMzExMjI1NDc2MmY0YmY2OWQ5YTM0ZmIyNTgzNDlkZSA9IEwuY2lyY2xlTWFya2VyKAogICAgICAgICAgICAgICAgWzQzLjY0MDgxNTcsIC03OS4zODE3NTIyOTk5OTk5OV0sCiAgICAgICAgICAgICAgICB7CiAgImJ1YmJsaW5nTW91c2VFdmVudHMiOiB0cnVlLAogICJjb2xvciI6ICJibHVlIiwKICAiZGFzaEFycmF5IjogbnVsbCwKICAiZGFzaE9mZnNldCI6IG51bGwsCiAgImZpbGwiOiB0cnVlLAogICJmaWxsQ29sb3IiOiAiIzMxODZjYyIsCiAgImZpbGxPcGFjaXR5IjogMC43LAogICJmaWxsUnVsZSI6ICJldmVub2RkIiwKICAibGluZUNhcCI6ICJyb3VuZCIsCiAgImxpbmVKb2luIjogInJvdW5kIiwKICAib3BhY2l0eSI6IDEuMCwKICAicmFkaXVzIjogNSwKICAic3Ryb2tlIjogdHJ1ZSwKICAid2VpZ2h0IjogMwp9CiAgICAgICAgICAgICAgICApCiAgICAgICAgICAgICAgICAuYWRkVG8obWFwXzE3YWFjYjJmZDhlODQ0NGU5Njc0YjYwMzVmMmZiM2RhKTsKICAgICAgICAgICAgCiAgICAKICAgICAgICAgICAgdmFyIHBvcHVwX2U5MDJlMzA0NTdjMDRmZWViNzBlNDQyNDc5YTA4NmM2ID0gTC5wb3B1cCh7bWF4V2lkdGg6ICcxMDAlJwogICAgICAgICAgICAKICAgICAgICAgICAgfSk7CgogICAgICAgICAgICAKICAgICAgICAgICAgICAgIHZhciBodG1sXzU4ZTAyZDZjNzU2ZTQzNWU4NTZjYTlhMzlhNzhkZDU5ID0gJChgPGRpdiBpZD0iaHRtbF81OGUwMmQ2Yzc1NmU0MzVlODU2Y2E5YTM5YTc4ZGQ1OSIgc3R5bGU9IndpZHRoOiAxMDAuMCU7IGhlaWdodDogMTAwLjAlOyI+RG93bnRvd24gVG9yb250bywgSGFyYm91cmZyb250IEVhc3QsIFRvcm9udG8gSXNsYW5kcywgVW5pb24gU3RhdGlvbjwvZGl2PmApWzBdOwogICAgICAgICAgICAgICAgcG9wdXBfZTkwMmUzMDQ1N2MwNGZlZWI3MGU0NDI0NzlhMDg2YzYuc2V0Q29udGVudChodG1sXzU4ZTAyZDZjNzU2ZTQzNWU4NTZjYTlhMzlhNzhkZDU5KTsKICAgICAgICAgICAgCgogICAgICAgICAgICBjaXJjbGVfbWFya2VyXzAzMTEyMjU0NzYyZjRiZjY5ZDlhMzRmYjI1ODM0OWRlLmJpbmRQb3B1cChwb3B1cF9lOTAyZTMwNDU3YzA0ZmVlYjcwZTQ0MjQ3OWEwODZjNikKICAgICAgICAgICAgOwoKICAgICAgICAgICAgCiAgICAgICAgCiAgICAKICAgICAgICAgICAgdmFyIGNpcmNsZV9tYXJrZXJfYTMyZjQyNGE3ZjBmNDU0NmI1ZDBiNzdiMjEwM2EyODUgPSBMLmNpcmNsZU1hcmtlcigKICAgICAgICAgICAgICAgIFs0My42NDcxNzY4LCAtNzkuMzgxNTc2NDAwMDAwMDFdLAogICAgICAgICAgICAgICAgewogICJidWJibGluZ01vdXNlRXZlbnRzIjogdHJ1ZSwKICAiY29sb3IiOiAiYmx1ZSIsCiAgImRhc2hBcnJheSI6IG51bGwsCiAgImRhc2hPZmZzZXQiOiBudWxsLAogICJmaWxsIjogdHJ1ZSwKICAiZmlsbENvbG9yIjogIiMzMTg2Y2MiLAogICJmaWxsT3BhY2l0eSI6IDAuNywKICAiZmlsbFJ1bGUiOiAiZXZlbm9kZCIsCiAgImxpbmVDYXAiOiAicm91bmQiLAogICJsaW5lSm9pbiI6ICJyb3VuZCIsCiAgIm9wYWNpdHkiOiAxLjAsCiAgInJhZGl1cyI6IDUsCiAgInN0cm9rZSI6IHRydWUsCiAgIndlaWdodCI6IDMKfQogICAgICAgICAgICAgICAgKQogICAgICAgICAgICAgICAgLmFkZFRvKG1hcF8xN2FhY2IyZmQ4ZTg0NDRlOTY3NGI2MDM1ZjJmYjNkYSk7CiAgICAgICAgICAgIAogICAgCiAgICAgICAgICAgIHZhciBwb3B1cF82MmM1ZDEwYWYzNWM0OTQwOWFkMzc5NTAyOTU0MDg4MyA9IEwucG9wdXAoe21heFdpZHRoOiAnMTAwJScKICAgICAgICAgICAgCiAgICAgICAgICAgIH0pOwoKICAgICAgICAgICAgCiAgICAgICAgICAgICAgICB2YXIgaHRtbF8wMWE4ZjNjZTYyMzA0NGZlYWJkNjNjNDZlNGYzODI0MSA9ICQoYDxkaXYgaWQ9Imh0bWxfMDFhOGYzY2U2MjMwNDRmZWFiZDYzYzQ2ZTRmMzgyNDEiIHN0eWxlPSJ3aWR0aDogMTAwLjAlOyBoZWlnaHQ6IDEwMC4wJTsiPkRvd250b3duIFRvcm9udG8sIERlc2lnbiBFeGNoYW5nZSwgVG9yb250byBEb21pbmlvbiBDZW50cmU8L2Rpdj5gKVswXTsKICAgICAgICAgICAgICAgIHBvcHVwXzYyYzVkMTBhZjM1YzQ5NDA5YWQzNzk1MDI5NTQwODgzLnNldENvbnRlbnQoaHRtbF8wMWE4ZjNjZTYyMzA0NGZlYWJkNjNjNDZlNGYzODI0MSk7CiAgICAgICAgICAgIAoKICAgICAgICAgICAgY2lyY2xlX21hcmtlcl9hMzJmNDI0YTdmMGY0NTQ2YjVkMGI3N2IyMTAzYTI4NS5iaW5kUG9wdXAocG9wdXBfNjJjNWQxMGFmMzVjNDk0MDlhZDM3OTUwMjk1NDA4ODMpCiAgICAgICAgICAgIDsKCiAgICAgICAgICAgIAogICAgICAgIAogICAgCiAgICAgICAgICAgIHZhciBjaXJjbGVfbWFya2VyX2Q4OTA4NGRiMWY1OTQ4MzViZDYzY2I4Mzc2MDVmMTdkID0gTC5jaXJjbGVNYXJrZXIoCiAgICAgICAgICAgICAgICBbNDMuNjQ4MTk4NSwgLTc5LjM3OTgxNjkwMDAwMDAxXSwKICAgICAgICAgICAgICAgIHsKICAiYnViYmxpbmdNb3VzZUV2ZW50cyI6IHRydWUsCiAgImNvbG9yIjogImJsdWUiLAogICJkYXNoQXJyYXkiOiBudWxsLAogICJkYXNoT2Zmc2V0IjogbnVsbCwKICAiZmlsbCI6IHRydWUsCiAgImZpbGxDb2xvciI6ICIjMzE4NmNjIiwKICAiZmlsbE9wYWNpdHkiOiAwLjcsCiAgImZpbGxSdWxlIjogImV2ZW5vZGQiLAogICJsaW5lQ2FwIjogInJvdW5kIiwKICAibGluZUpvaW4iOiAicm91bmQiLAogICJvcGFjaXR5IjogMS4wLAogICJyYWRpdXMiOiA1LAogICJzdHJva2UiOiB0cnVlLAogICJ3ZWlnaHQiOiAzCn0KICAgICAgICAgICAgICAgICkKICAgICAgICAgICAgICAgIC5hZGRUbyhtYXBfMTdhYWNiMmZkOGU4NDQ0ZTk2NzRiNjAzNWYyZmIzZGEpOwogICAgICAgICAgICAKICAgIAogICAgICAgICAgICB2YXIgcG9wdXBfZGIwMzRhODBhMjEwNDUxMTkzNTU2YmQ4NmU4NWIyOGEgPSBMLnBvcHVwKHttYXhXaWR0aDogJzEwMCUnCiAgICAgICAgICAgIAogICAgICAgICAgICB9KTsKCiAgICAgICAgICAgIAogICAgICAgICAgICAgICAgdmFyIGh0bWxfYTVkYjgzMDU4MjBkNDVkNDkxYWE4ZjA0YzAxOWY0YjAgPSAkKGA8ZGl2IGlkPSJodG1sX2E1ZGI4MzA1ODIwZDQ1ZDQ5MWFhOGYwNGMwMTlmNGIwIiBzdHlsZT0id2lkdGg6IDEwMC4wJTsgaGVpZ2h0OiAxMDAuMCU7Ij5Eb3dudG93biBUb3JvbnRvLCBDb21tZXJjZSBDb3VydCwgVmljdG9yaWEgSG90ZWw8L2Rpdj5gKVswXTsKICAgICAgICAgICAgICAgIHBvcHVwX2RiMDM0YTgwYTIxMDQ1MTE5MzU1NmJkODZlODViMjhhLnNldENvbnRlbnQoaHRtbF9hNWRiODMwNTgyMGQ0NWQ0OTFhYThmMDRjMDE5ZjRiMCk7CiAgICAgICAgICAgIAoKICAgICAgICAgICAgY2lyY2xlX21hcmtlcl9kODkwODRkYjFmNTk0ODM1YmQ2M2NiODM3NjA1ZjE3ZC5iaW5kUG9wdXAocG9wdXBfZGIwMzRhODBhMjEwNDUxMTkzNTU2YmQ4NmU4NWIyOGEpCiAgICAgICAgICAgIDsKCiAgICAgICAgICAgIAogICAgICAgIAogICAgCiAgICAgICAgICAgIHZhciBjaXJjbGVfbWFya2VyX2QwOGIzNWNiMjZmZjQyYzc5ZTk2NWZiYzQyMDUzYTg4ID0gTC5jaXJjbGVNYXJrZXIoCiAgICAgICAgICAgICAgICBbNDMuNzMzMjgyNSwgLTc5LjQxOTc0OTddLAogICAgICAgICAgICAgICAgewogICJidWJibGluZ01vdXNlRXZlbnRzIjogdHJ1ZSwKICAiY29sb3IiOiAiYmx1ZSIsCiAgImRhc2hBcnJheSI6IG51bGwsCiAgImRhc2hPZmZzZXQiOiBudWxsLAogICJmaWxsIjogdHJ1ZSwKICAiZmlsbENvbG9yIjogIiMzMTg2Y2MiLAogICJmaWxsT3BhY2l0eSI6IDAuNywKICAiZmlsbFJ1bGUiOiAiZXZlbm9kZCIsCiAgImxpbmVDYXAiOiAicm91bmQiLAogICJsaW5lSm9pbiI6ICJyb3VuZCIsCiAgIm9wYWNpdHkiOiAxLjAsCiAgInJhZGl1cyI6IDUsCiAgInN0cm9rZSI6IHRydWUsCiAgIndlaWdodCI6IDMKfQogICAgICAgICAgICAgICAgKQogICAgICAgICAgICAgICAgLmFkZFRvKG1hcF8xN2FhY2IyZmQ4ZTg0NDRlOTY3NGI2MDM1ZjJmYjNkYSk7CiAgICAgICAgICAgIAogICAgCiAgICAgICAgICAgIHZhciBwb3B1cF80MjZlNzA5ZjZkNzg0MTYzYjM5OGVjZjg5YTFiNGM3MyA9IEwucG9wdXAoe21heFdpZHRoOiAnMTAwJScKICAgICAgICAgICAgCiAgICAgICAgICAgIH0pOwoKICAgICAgICAgICAgCiAgICAgICAgICAgICAgICB2YXIgaHRtbF9mZmQxYzhlYjBjZWU0M2JjOWNjNTM4YTdjNmFhYTZkYiA9ICQoYDxkaXYgaWQ9Imh0bWxfZmZkMWM4ZWIwY2VlNDNiYzljYzUzOGE3YzZhYWE2ZGIiIHN0eWxlPSJ3aWR0aDogMTAwLjAlOyBoZWlnaHQ6IDEwMC4wJTsiPk5vcnRoIFlvcmssIEJlZGZvcmQgUGFyaywgTGF3cmVuY2UgTWFub3IgRWFzdDwvZGl2PmApWzBdOwogICAgICAgICAgICAgICAgcG9wdXBfNDI2ZTcwOWY2ZDc4NDE2M2IzOThlY2Y4OWExYjRjNzMuc2V0Q29udGVudChodG1sX2ZmZDFjOGViMGNlZTQzYmM5Y2M1MzhhN2M2YWFhNmRiKTsKICAgICAgICAgICAgCgogICAgICAgICAgICBjaXJjbGVfbWFya2VyX2QwOGIzNWNiMjZmZjQyYzc5ZTk2NWZiYzQyMDUzYTg4LmJpbmRQb3B1cChwb3B1cF80MjZlNzA5ZjZkNzg0MTYzYjM5OGVjZjg5YTFiNGM3MykKICAgICAgICAgICAgOwoKICAgICAgICAgICAgCiAgICAgICAgCiAgICAKICAgICAgICAgICAgdmFyIGNpcmNsZV9tYXJrZXJfNDE0ZTA0MDU2MTViNDk3NThhNzAyNzg4OGZiMjgzNmQgPSBMLmNpcmNsZU1hcmtlcigKICAgICAgICAgICAgICAgIFs0My43MTE2OTQ4LCAtNzkuNDE2OTM1NTk5OTk5OTldLAogICAgICAgICAgICAgICAgewogICJidWJibGluZ01vdXNlRXZlbnRzIjogdHJ1ZSwKICAiY29sb3IiOiAiYmx1ZSIsCiAgImRhc2hBcnJheSI6IG51bGwsCiAgImRhc2hPZmZzZXQiOiBudWxsLAogICJmaWxsIjogdHJ1ZSwKICAiZmlsbENvbG9yIjogIiMzMTg2Y2MiLAogICJmaWxsT3BhY2l0eSI6IDAuNywKICAiZmlsbFJ1bGUiOiAiZXZlbm9kZCIsCiAgImxpbmVDYXAiOiAicm91bmQiLAogICJsaW5lSm9pbiI6ICJyb3VuZCIsCiAgIm9wYWNpdHkiOiAxLjAsCiAgInJhZGl1cyI6IDUsCiAgInN0cm9rZSI6IHRydWUsCiAgIndlaWdodCI6IDMKfQogICAgICAgICAgICAgICAgKQogICAgICAgICAgICAgICAgLmFkZFRvKG1hcF8xN2FhY2IyZmQ4ZTg0NDRlOTY3NGI2MDM1ZjJmYjNkYSk7CiAgICAgICAgICAgIAogICAgCiAgICAgICAgICAgIHZhciBwb3B1cF81ZjgxMzRiMzM4ODE0OGY0ODU5ZjNhYWQwZDk5ZTliOCA9IEwucG9wdXAoe21heFdpZHRoOiAnMTAwJScKICAgICAgICAgICAgCiAgICAgICAgICAgIH0pOwoKICAgICAgICAgICAgCiAgICAgICAgICAgICAgICB2YXIgaHRtbF81MTkwMjBhZGJkOTc0ODFiYjAwNWE5NjgwOGFlYzlhNyA9ICQoYDxkaXYgaWQ9Imh0bWxfNTE5MDIwYWRiZDk3NDgxYmIwMDVhOTY4MDhhZWM5YTciIHN0eWxlPSJ3aWR0aDogMTAwLjAlOyBoZWlnaHQ6IDEwMC4wJTsiPkNlbnRyYWwgVG9yb250bywgUm9zZWxhd248L2Rpdj5gKVswXTsKICAgICAgICAgICAgICAgIHBvcHVwXzVmODEzNGIzMzg4MTQ4ZjQ4NTlmM2FhZDBkOTllOWI4LnNldENvbnRlbnQoaHRtbF81MTkwMjBhZGJkOTc0ODFiYjAwNWE5NjgwOGFlYzlhNyk7CiAgICAgICAgICAgIAoKICAgICAgICAgICAgY2lyY2xlX21hcmtlcl80MTRlMDQwNTYxNWI0OTc1OGE3MDI3ODg4ZmIyODM2ZC5iaW5kUG9wdXAocG9wdXBfNWY4MTM0YjMzODgxNDhmNDg1OWYzYWFkMGQ5OWU5YjgpCiAgICAgICAgICAgIDsKCiAgICAgICAgICAgIAogICAgICAgIAogICAgCiAgICAgICAgICAgIHZhciBjaXJjbGVfbWFya2VyX2QzYjNlMmJjYmI3MzRkYTJiZDE0Njc4MjRlZWVjNjdjID0gTC5jaXJjbGVNYXJrZXIoCiAgICAgICAgICAgICAgICBbNDMuNjk2OTQ3NiwgLTc5LjQxMTMwNzIwMDAwMDAxXSwKICAgICAgICAgICAgICAgIHsKICAiYnViYmxpbmdNb3VzZUV2ZW50cyI6IHRydWUsCiAgImNvbG9yIjogImJsdWUiLAogICJkYXNoQXJyYXkiOiBudWxsLAogICJkYXNoT2Zmc2V0IjogbnVsbCwKICAiZmlsbCI6IHRydWUsCiAgImZpbGxDb2xvciI6ICIjMzE4NmNjIiwKICAiZmlsbE9wYWNpdHkiOiAwLjcsCiAgImZpbGxSdWxlIjogImV2ZW5vZGQiLAogICJsaW5lQ2FwIjogInJvdW5kIiwKICAibGluZUpvaW4iOiAicm91bmQiLAogICJvcGFjaXR5IjogMS4wLAogICJyYWRpdXMiOiA1LAogICJzdHJva2UiOiB0cnVlLAogICJ3ZWlnaHQiOiAzCn0KICAgICAgICAgICAgICAgICkKICAgICAgICAgICAgICAgIC5hZGRUbyhtYXBfMTdhYWNiMmZkOGU4NDQ0ZTk2NzRiNjAzNWYyZmIzZGEpOwogICAgICAgICAgICAKICAgIAogICAgICAgICAgICB2YXIgcG9wdXBfZDExODU0MTJkZDBjNGM4Mjk4MzcxNjQ3MTU5NDg0MGQgPSBMLnBvcHVwKHttYXhXaWR0aDogJzEwMCUnCiAgICAgICAgICAgIAogICAgICAgICAgICB9KTsKCiAgICAgICAgICAgIAogICAgICAgICAgICAgICAgdmFyIGh0bWxfMDQ2MGMxMDc1ODE1NGRkOGFiYmFiNjAxMzdlMTBlYWQgPSAkKGA8ZGl2IGlkPSJodG1sXzA0NjBjMTA3NTgxNTRkZDhhYmJhYjYwMTM3ZTEwZWFkIiBzdHlsZT0id2lkdGg6IDEwMC4wJTsgaGVpZ2h0OiAxMDAuMCU7Ij5DZW50cmFsIFRvcm9udG8sIEZvcmVzdCBIaWxsIE5vcnRoLCBGb3Jlc3QgSGlsbCBXZXN0PC9kaXY+YClbMF07CiAgICAgICAgICAgICAgICBwb3B1cF9kMTE4NTQxMmRkMGM0YzgyOTgzNzE2NDcxNTk0ODQwZC5zZXRDb250ZW50KGh0bWxfMDQ2MGMxMDc1ODE1NGRkOGFiYmFiNjAxMzdlMTBlYWQpOwogICAgICAgICAgICAKCiAgICAgICAgICAgIGNpcmNsZV9tYXJrZXJfZDNiM2UyYmNiYjczNGRhMmJkMTQ2NzgyNGVlZWM2N2MuYmluZFBvcHVwKHBvcHVwX2QxMTg1NDEyZGQwYzRjODI5ODM3MTY0NzE1OTQ4NDBkKQogICAgICAgICAgICA7CgogICAgICAgICAgICAKICAgICAgICAKICAgIAogICAgICAgICAgICB2YXIgY2lyY2xlX21hcmtlcl84ZDAwNzM5YTdiNzI0ZjU3YjQ3YWYzYTg2YzhkZTNjYiA9IEwuY2lyY2xlTWFya2VyKAogICAgICAgICAgICAgICAgWzQzLjY3MjcwOTcsIC03OS40MDU2Nzg0MDAwMDAwMV0sCiAgICAgICAgICAgICAgICB7CiAgImJ1YmJsaW5nTW91c2VFdmVudHMiOiB0cnVlLAogICJjb2xvciI6ICJibHVlIiwKICAiZGFzaEFycmF5IjogbnVsbCwKICAiZGFzaE9mZnNldCI6IG51bGwsCiAgImZpbGwiOiB0cnVlLAogICJmaWxsQ29sb3IiOiAiIzMxODZjYyIsCiAgImZpbGxPcGFjaXR5IjogMC43LAogICJmaWxsUnVsZSI6ICJldmVub2RkIiwKICAibGluZUNhcCI6ICJyb3VuZCIsCiAgImxpbmVKb2luIjogInJvdW5kIiwKICAib3BhY2l0eSI6IDEuMCwKICAicmFkaXVzIjogNSwKICAic3Ryb2tlIjogdHJ1ZSwKICAid2VpZ2h0IjogMwp9CiAgICAgICAgICAgICAgICApCiAgICAgICAgICAgICAgICAuYWRkVG8obWFwXzE3YWFjYjJmZDhlODQ0NGU5Njc0YjYwMzVmMmZiM2RhKTsKICAgICAgICAgICAgCiAgICAKICAgICAgICAgICAgdmFyIHBvcHVwX2M4YTBlNjM3MTIwNjQ4M2NhZGRhNjNkYjI4NmMxN2NmID0gTC5wb3B1cCh7bWF4V2lkdGg6ICcxMDAlJwogICAgICAgICAgICAKICAgICAgICAgICAgfSk7CgogICAgICAgICAgICAKICAgICAgICAgICAgICAgIHZhciBodG1sX2IxZTA0OGFkZjUwMDRiMWE5YjAzNTMxNGY4NDViY2M5ID0gJChgPGRpdiBpZD0iaHRtbF9iMWUwNDhhZGY1MDA0YjFhOWIwMzUzMTRmODQ1YmNjOSIgc3R5bGU9IndpZHRoOiAxMDAuMCU7IGhlaWdodDogMTAwLjAlOyI+Q2VudHJhbCBUb3JvbnRvLCBUaGUgQW5uZXgsIE5vcnRoIE1pZHRvd24sIFlvcmt2aWxsZTwvZGl2PmApWzBdOwogICAgICAgICAgICAgICAgcG9wdXBfYzhhMGU2MzcxMjA2NDgzY2FkZGE2M2RiMjg2YzE3Y2Yuc2V0Q29udGVudChodG1sX2IxZTA0OGFkZjUwMDRiMWE5YjAzNTMxNGY4NDViY2M5KTsKICAgICAgICAgICAgCgogICAgICAgICAgICBjaXJjbGVfbWFya2VyXzhkMDA3MzlhN2I3MjRmNTdiNDdhZjNhODZjOGRlM2NiLmJpbmRQb3B1cChwb3B1cF9jOGEwZTYzNzEyMDY0ODNjYWRkYTYzZGIyODZjMTdjZikKICAgICAgICAgICAgOwoKICAgICAgICAgICAgCiAgICAgICAgCiAgICAKICAgICAgICAgICAgdmFyIGNpcmNsZV9tYXJrZXJfOWJhNWUzYTU0MGRmNGU0Njg1NGI1YjA4N2I1NDk4ZjMgPSBMLmNpcmNsZU1hcmtlcigKICAgICAgICAgICAgICAgIFs0My42NjI2OTU2LCAtNzkuNDAwMDQ5M10sCiAgICAgICAgICAgICAgICB7CiAgImJ1YmJsaW5nTW91c2VFdmVudHMiOiB0cnVlLAogICJjb2xvciI6ICJibHVlIiwKICAiZGFzaEFycmF5IjogbnVsbCwKICAiZGFzaE9mZnNldCI6IG51bGwsCiAgImZpbGwiOiB0cnVlLAogICJmaWxsQ29sb3IiOiAiIzMxODZjYyIsCiAgImZpbGxPcGFjaXR5IjogMC43LAogICJmaWxsUnVsZSI6ICJldmVub2RkIiwKICAibGluZUNhcCI6ICJyb3VuZCIsCiAgImxpbmVKb2luIjogInJvdW5kIiwKICAib3BhY2l0eSI6IDEuMCwKICAicmFkaXVzIjogNSwKICAic3Ryb2tlIjogdHJ1ZSwKICAid2VpZ2h0IjogMwp9CiAgICAgICAgICAgICAgICApCiAgICAgICAgICAgICAgICAuYWRkVG8obWFwXzE3YWFjYjJmZDhlODQ0NGU5Njc0YjYwMzVmMmZiM2RhKTsKICAgICAgICAgICAgCiAgICAKICAgICAgICAgICAgdmFyIHBvcHVwXzg1MjQ4NmY3MWMyODQ2YTNhZTMwNWUyMmEzNmExOWUwID0gTC5wb3B1cCh7bWF4V2lkdGg6ICcxMDAlJwogICAgICAgICAgICAKICAgICAgICAgICAgfSk7CgogICAgICAgICAgICAKICAgICAgICAgICAgICAgIHZhciBodG1sX2I5YTQ0ZmZhYmE5OTQyNDBhYWQwMjBiYjNkNTdiMGMzID0gJChgPGRpdiBpZD0iaHRtbF9iOWE0NGZmYWJhOTk0MjQwYWFkMDIwYmIzZDU3YjBjMyIgc3R5bGU9IndpZHRoOiAxMDAuMCU7IGhlaWdodDogMTAwLjAlOyI+RG93bnRvd24gVG9yb250bywgSGFyYm9yZCwgVW5pdmVyc2l0eSBvZiBUb3JvbnRvPC9kaXY+YClbMF07CiAgICAgICAgICAgICAgICBwb3B1cF84NTI0ODZmNzFjMjg0NmEzYWUzMDVlMjJhMzZhMTllMC5zZXRDb250ZW50KGh0bWxfYjlhNDRmZmFiYTk5NDI0MGFhZDAyMGJiM2Q1N2IwYzMpOwogICAgICAgICAgICAKCiAgICAgICAgICAgIGNpcmNsZV9tYXJrZXJfOWJhNWUzYTU0MGRmNGU0Njg1NGI1YjA4N2I1NDk4ZjMuYmluZFBvcHVwKHBvcHVwXzg1MjQ4NmY3MWMyODQ2YTNhZTMwNWUyMmEzNmExOWUwKQogICAgICAgICAgICA7CgogICAgICAgICAgICAKICAgICAgICAKICAgIAogICAgICAgICAgICB2YXIgY2lyY2xlX21hcmtlcl9kZmNiMzdkZmFkODI0ODZiOTliNWNlMTViMWFjM2M2MCA9IEwuY2lyY2xlTWFya2VyKAogICAgICAgICAgICAgICAgWzQzLjY1MzIwNTcsIC03OS40MDAwNDkzXSwKICAgICAgICAgICAgICAgIHsKICAiYnViYmxpbmdNb3VzZUV2ZW50cyI6IHRydWUsCiAgImNvbG9yIjogImJsdWUiLAogICJkYXNoQXJyYXkiOiBudWxsLAogICJkYXNoT2Zmc2V0IjogbnVsbCwKICAiZmlsbCI6IHRydWUsCiAgImZpbGxDb2xvciI6ICIjMzE4NmNjIiwKICAiZmlsbE9wYWNpdHkiOiAwLjcsCiAgImZpbGxSdWxlIjogImV2ZW5vZGQiLAogICJsaW5lQ2FwIjogInJvdW5kIiwKICAibGluZUpvaW4iOiAicm91bmQiLAogICJvcGFjaXR5IjogMS4wLAogICJyYWRpdXMiOiA1LAogICJzdHJva2UiOiB0cnVlLAogICJ3ZWlnaHQiOiAzCn0KICAgICAgICAgICAgICAgICkKICAgICAgICAgICAgICAgIC5hZGRUbyhtYXBfMTdhYWNiMmZkOGU4NDQ0ZTk2NzRiNjAzNWYyZmIzZGEpOwogICAgICAgICAgICAKICAgIAogICAgICAgICAgICB2YXIgcG9wdXBfZWNmYzQzZDI4YWFlNGU1MDljNDM4NjJjY2RiYTE2ZDYgPSBMLnBvcHVwKHttYXhXaWR0aDogJzEwMCUnCiAgICAgICAgICAgIAogICAgICAgICAgICB9KTsKCiAgICAgICAgICAgIAogICAgICAgICAgICAgICAgdmFyIGh0bWxfNDU5NjdlODU2ZjMzNGNjZGJhMjY3ODRkYzNkMWE2MmQgPSAkKGA8ZGl2IGlkPSJodG1sXzQ1OTY3ZTg1NmYzMzRjY2RiYTI2Nzg0ZGMzZDFhNjJkIiBzdHlsZT0id2lkdGg6IDEwMC4wJTsgaGVpZ2h0OiAxMDAuMCU7Ij5Eb3dudG93biBUb3JvbnRvLCBDaGluYXRvd24sIEdyYW5nZSBQYXJrLCBLZW5zaW5ndG9uIE1hcmtldDwvZGl2PmApWzBdOwogICAgICAgICAgICAgICAgcG9wdXBfZWNmYzQzZDI4YWFlNGU1MDljNDM4NjJjY2RiYTE2ZDYuc2V0Q29udGVudChodG1sXzQ1OTY3ZTg1NmYzMzRjY2RiYTI2Nzg0ZGMzZDFhNjJkKTsKICAgICAgICAgICAgCgogICAgICAgICAgICBjaXJjbGVfbWFya2VyX2RmY2IzN2RmYWQ4MjQ4NmI5OWI1Y2UxNWIxYWMzYzYwLmJpbmRQb3B1cChwb3B1cF9lY2ZjNDNkMjhhYWU0ZTUwOWM0Mzg2MmNjZGJhMTZkNikKICAgICAgICAgICAgOwoKICAgICAgICAgICAgCiAgICAgICAgCiAgICAKICAgICAgICAgICAgdmFyIGNpcmNsZV9tYXJrZXJfNTYwMWZiOGVmNTY1NGI4ZGEyZTlhZThkNjkwMDE3MGEgPSBMLmNpcmNsZU1hcmtlcigKICAgICAgICAgICAgICAgIFs0My42Mjg5NDY3LCAtNzkuMzk0NDE5OV0sCiAgICAgICAgICAgICAgICB7CiAgImJ1YmJsaW5nTW91c2VFdmVudHMiOiB0cnVlLAogICJjb2xvciI6ICJibHVlIiwKICAiZGFzaEFycmF5IjogbnVsbCwKICAiZGFzaE9mZnNldCI6IG51bGwsCiAgImZpbGwiOiB0cnVlLAogICJmaWxsQ29sb3IiOiAiIzMxODZjYyIsCiAgImZpbGxPcGFjaXR5IjogMC43LAogICJmaWxsUnVsZSI6ICJldmVub2RkIiwKICAibGluZUNhcCI6ICJyb3VuZCIsCiAgImxpbmVKb2luIjogInJvdW5kIiwKICAib3BhY2l0eSI6IDEuMCwKICAicmFkaXVzIjogNSwKICAic3Ryb2tlIjogdHJ1ZSwKICAid2VpZ2h0IjogMwp9CiAgICAgICAgICAgICAgICApCiAgICAgICAgICAgICAgICAuYWRkVG8obWFwXzE3YWFjYjJmZDhlODQ0NGU5Njc0YjYwMzVmMmZiM2RhKTsKICAgICAgICAgICAgCiAgICAKICAgICAgICAgICAgdmFyIHBvcHVwXzUxYzYyMjFmMjAxODRjNDlhZjcyOGY5ZTE0Zjg0MTZhID0gTC5wb3B1cCh7bWF4V2lkdGg6ICcxMDAlJwogICAgICAgICAgICAKICAgICAgICAgICAgfSk7CgogICAgICAgICAgICAKICAgICAgICAgICAgICAgIHZhciBodG1sX2ZkZjAxNGU2ZTRhNjRmNDU4ZTJhNGQ0NDk3ZDMwOTQ3ID0gJChgPGRpdiBpZD0iaHRtbF9mZGYwMTRlNmU0YTY0ZjQ1OGUyYTRkNDQ5N2QzMDk0NyIgc3R5bGU9IndpZHRoOiAxMDAuMCU7IGhlaWdodDogMTAwLjAlOyI+RG93bnRvd24gVG9yb250bywgQ04gVG93ZXIsIEJhdGh1cnN0IFF1YXksIElzbGFuZCBhaXJwb3J0LCBIYXJib3VyZnJvbnQgV2VzdCwgS2luZyBhbmQgU3BhZGluYSwgUmFpbHdheSBMYW5kcywgU291dGggTmlhZ2FyYTwvZGl2PmApWzBdOwogICAgICAgICAgICAgICAgcG9wdXBfNTFjNjIyMWYyMDE4NGM0OWFmNzI4ZjllMTRmODQxNmEuc2V0Q29udGVudChodG1sX2ZkZjAxNGU2ZTRhNjRmNDU4ZTJhNGQ0NDk3ZDMwOTQ3KTsKICAgICAgICAgICAgCgogICAgICAgICAgICBjaXJjbGVfbWFya2VyXzU2MDFmYjhlZjU2NTRiOGRhMmU5YWU4ZDY5MDAxNzBhLmJpbmRQb3B1cChwb3B1cF81MWM2MjIxZjIwMTg0YzQ5YWY3MjhmOWUxNGY4NDE2YSkKICAgICAgICAgICAgOwoKICAgICAgICAgICAgCiAgICAgICAgCiAgICAKICAgICAgICAgICAgdmFyIGNpcmNsZV9tYXJrZXJfZDhhNmVmMGEwNjM5NDBiNWI0NzE0NDUyMDNkNTk2OGQgPSBMLmNpcmNsZU1hcmtlcigKICAgICAgICAgICAgICAgIFs0My42NDY0MzUyLCAtNzkuMzc0ODQ1OTk5OTk5OTldLAogICAgICAgICAgICAgICAgewogICJidWJibGluZ01vdXNlRXZlbnRzIjogdHJ1ZSwKICAiY29sb3IiOiAiYmx1ZSIsCiAgImRhc2hBcnJheSI6IG51bGwsCiAgImRhc2hPZmZzZXQiOiBudWxsLAogICJmaWxsIjogdHJ1ZSwKICAiZmlsbENvbG9yIjogIiMzMTg2Y2MiLAogICJmaWxsT3BhY2l0eSI6IDAuNywKICAiZmlsbFJ1bGUiOiAiZXZlbm9kZCIsCiAgImxpbmVDYXAiOiAicm91bmQiLAogICJsaW5lSm9pbiI6ICJyb3VuZCIsCiAgIm9wYWNpdHkiOiAxLjAsCiAgInJhZGl1cyI6IDUsCiAgInN0cm9rZSI6IHRydWUsCiAgIndlaWdodCI6IDMKfQogICAgICAgICAgICAgICAgKQogICAgICAgICAgICAgICAgLmFkZFRvKG1hcF8xN2FhY2IyZmQ4ZTg0NDRlOTY3NGI2MDM1ZjJmYjNkYSk7CiAgICAgICAgICAgIAogICAgCiAgICAgICAgICAgIHZhciBwb3B1cF9iMWRlZjM1MDg2Mjk0ZjhkYjg0YmQ5MmFkNjY3Zjk3MiA9IEwucG9wdXAoe21heFdpZHRoOiAnMTAwJScKICAgICAgICAgICAgCiAgICAgICAgICAgIH0pOwoKICAgICAgICAgICAgCiAgICAgICAgICAgICAgICB2YXIgaHRtbF9hYzlhZjg5OGUyNzI0MjVmOGMxMDA0ODNlZGQxY2JiOSA9ICQoYDxkaXYgaWQ9Imh0bWxfYWM5YWY4OThlMjcyNDI1ZjhjMTAwNDgzZWRkMWNiYjkiIHN0eWxlPSJ3aWR0aDogMTAwLjAlOyBoZWlnaHQ6IDEwMC4wJTsiPkRvd250b3duIFRvcm9udG8sIFN0biBBIFBPIEJveGVzIDI1IFRoZSBFc3BsYW5hZGU8L2Rpdj5gKVswXTsKICAgICAgICAgICAgICAgIHBvcHVwX2IxZGVmMzUwODYyOTRmOGRiODRiZDkyYWQ2NjdmOTcyLnNldENvbnRlbnQoaHRtbF9hYzlhZjg5OGUyNzI0MjVmOGMxMDA0ODNlZGQxY2JiOSk7CiAgICAgICAgICAgIAoKICAgICAgICAgICAgY2lyY2xlX21hcmtlcl9kOGE2ZWYwYTA2Mzk0MGI1YjQ3MTQ0NTIwM2Q1OTY4ZC5iaW5kUG9wdXAocG9wdXBfYjFkZWYzNTA4NjI5NGY4ZGI4NGJkOTJhZDY2N2Y5NzIpCiAgICAgICAgICAgIDsKCiAgICAgICAgICAgIAogICAgICAgIAogICAgCiAgICAgICAgICAgIHZhciBjaXJjbGVfbWFya2VyXzJkMzc1YjZmNjUzMDRhNmRhNTVlNjA4NzM3ZWM5MWQ0ID0gTC5jaXJjbGVNYXJrZXIoCiAgICAgICAgICAgICAgICBbNDMuNjQ4NDI5MiwgLTc5LjM4MjI4MDJdLAogICAgICAgICAgICAgICAgewogICJidWJibGluZ01vdXNlRXZlbnRzIjogdHJ1ZSwKICAiY29sb3IiOiAiYmx1ZSIsCiAgImRhc2hBcnJheSI6IG51bGwsCiAgImRhc2hPZmZzZXQiOiBudWxsLAogICJmaWxsIjogdHJ1ZSwKICAiZmlsbENvbG9yIjogIiMzMTg2Y2MiLAogICJmaWxsT3BhY2l0eSI6IDAuNywKICAiZmlsbFJ1bGUiOiAiZXZlbm9kZCIsCiAgImxpbmVDYXAiOiAicm91bmQiLAogICJsaW5lSm9pbiI6ICJyb3VuZCIsCiAgIm9wYWNpdHkiOiAxLjAsCiAgInJhZGl1cyI6IDUsCiAgInN0cm9rZSI6IHRydWUsCiAgIndlaWdodCI6IDMKfQogICAgICAgICAgICAgICAgKQogICAgICAgICAgICAgICAgLmFkZFRvKG1hcF8xN2FhY2IyZmQ4ZTg0NDRlOTY3NGI2MDM1ZjJmYjNkYSk7CiAgICAgICAgICAgIAogICAgCiAgICAgICAgICAgIHZhciBwb3B1cF8zMGU2ZTFlZmJhMTM0MjQ3YjJlYWM0MzU4Nzg5MzYyOCA9IEwucG9wdXAoe21heFdpZHRoOiAnMTAwJScKICAgICAgICAgICAgCiAgICAgICAgICAgIH0pOwoKICAgICAgICAgICAgCiAgICAgICAgICAgICAgICB2YXIgaHRtbF9mZGI4Mjg2ZWQ2OTY0NGQ1YjcwNjA4ODQxM2IyODgyYiA9ICQoYDxkaXYgaWQ9Imh0bWxfZmRiODI4NmVkNjk2NDRkNWI3MDYwODg0MTNiMjg4MmIiIHN0eWxlPSJ3aWR0aDogMTAwLjAlOyBoZWlnaHQ6IDEwMC4wJTsiPkRvd250b3duIFRvcm9udG8sIEZpcnN0IENhbmFkaWFuIFBsYWNlLCBVbmRlcmdyb3VuZCBjaXR5PC9kaXY+YClbMF07CiAgICAgICAgICAgICAgICBwb3B1cF8zMGU2ZTFlZmJhMTM0MjQ3YjJlYWM0MzU4Nzg5MzYyOC5zZXRDb250ZW50KGh0bWxfZmRiODI4NmVkNjk2NDRkNWI3MDYwODg0MTNiMjg4MmIpOwogICAgICAgICAgICAKCiAgICAgICAgICAgIGNpcmNsZV9tYXJrZXJfMmQzNzViNmY2NTMwNGE2ZGE1NWU2MDg3MzdlYzkxZDQuYmluZFBvcHVwKHBvcHVwXzMwZTZlMWVmYmExMzQyNDdiMmVhYzQzNTg3ODkzNjI4KQogICAgICAgICAgICA7CgogICAgICAgICAgICAKICAgICAgICAKICAgIAogICAgICAgICAgICB2YXIgY2lyY2xlX21hcmtlcl9jNjNkZTFjMDUwYWE0MjExODExZGJmYWFhM2VlZWVjYSA9IEwuY2lyY2xlTWFya2VyKAogICAgICAgICAgICAgICAgWzQzLjcxODUxNzk5OTk5OTk5NiwgLTc5LjQ2NDc2MzI5OTk5OTk5XSwKICAgICAgICAgICAgICAgIHsKICAiYnViYmxpbmdNb3VzZUV2ZW50cyI6IHRydWUsCiAgImNvbG9yIjogImJsdWUiLAogICJkYXNoQXJyYXkiOiBudWxsLAogICJkYXNoT2Zmc2V0IjogbnVsbCwKICAiZmlsbCI6IHRydWUsCiAgImZpbGxDb2xvciI6ICIjMzE4NmNjIiwKICAiZmlsbE9wYWNpdHkiOiAwLjcsCiAgImZpbGxSdWxlIjogImV2ZW5vZGQiLAogICJsaW5lQ2FwIjogInJvdW5kIiwKICAibGluZUpvaW4iOiAicm91bmQiLAogICJvcGFjaXR5IjogMS4wLAogICJyYWRpdXMiOiA1LAogICJzdHJva2UiOiB0cnVlLAogICJ3ZWlnaHQiOiAzCn0KICAgICAgICAgICAgICAgICkKICAgICAgICAgICAgICAgIC5hZGRUbyhtYXBfMTdhYWNiMmZkOGU4NDQ0ZTk2NzRiNjAzNWYyZmIzZGEpOwogICAgICAgICAgICAKICAgIAogICAgICAgICAgICB2YXIgcG9wdXBfODVjMTAxMWZlOGE4NGZiMmExOGI5Nzk1NzViNzVjZjkgPSBMLnBvcHVwKHttYXhXaWR0aDogJzEwMCUnCiAgICAgICAgICAgIAogICAgICAgICAgICB9KTsKCiAgICAgICAgICAgIAogICAgICAgICAgICAgICAgdmFyIGh0bWxfMWU2ZTIzODRjYmQwNGVjYTk3ZTZkODdmYjI2NzczMDkgPSAkKGA8ZGl2IGlkPSJodG1sXzFlNmUyMzg0Y2JkMDRlY2E5N2U2ZDg3ZmIyNjc3MzA5IiBzdHlsZT0id2lkdGg6IDEwMC4wJTsgaGVpZ2h0OiAxMDAuMCU7Ij5Ob3J0aCBZb3JrLCBMYXdyZW5jZSBIZWlnaHRzLCBMYXdyZW5jZSBNYW5vcjwvZGl2PmApWzBdOwogICAgICAgICAgICAgICAgcG9wdXBfODVjMTAxMWZlOGE4NGZiMmExOGI5Nzk1NzViNzVjZjkuc2V0Q29udGVudChodG1sXzFlNmUyMzg0Y2JkMDRlY2E5N2U2ZDg3ZmIyNjc3MzA5KTsKICAgICAgICAgICAgCgogICAgICAgICAgICBjaXJjbGVfbWFya2VyX2M2M2RlMWMwNTBhYTQyMTE4MTFkYmZhYWEzZWVlZWNhLmJpbmRQb3B1cChwb3B1cF84NWMxMDExZmU4YTg0ZmIyYTE4Yjk3OTU3NWI3NWNmOSkKICAgICAgICAgICAgOwoKICAgICAgICAgICAgCiAgICAgICAgCiAgICAKICAgICAgICAgICAgdmFyIGNpcmNsZV9tYXJrZXJfMTdjMjk1ODBhYmZkNDA1YWFkMzdmMjYyMjRlOGIxYjYgPSBMLmNpcmNsZU1hcmtlcigKICAgICAgICAgICAgICAgIFs0My43MDk1NzcsIC03OS40NDUwNzI1OTk5OTk5OV0sCiAgICAgICAgICAgICAgICB7CiAgImJ1YmJsaW5nTW91c2VFdmVudHMiOiB0cnVlLAogICJjb2xvciI6ICJibHVlIiwKICAiZGFzaEFycmF5IjogbnVsbCwKICAiZGFzaE9mZnNldCI6IG51bGwsCiAgImZpbGwiOiB0cnVlLAogICJmaWxsQ29sb3IiOiAiIzMxODZjYyIsCiAgImZpbGxPcGFjaXR5IjogMC43LAogICJmaWxsUnVsZSI6ICJldmVub2RkIiwKICAibGluZUNhcCI6ICJyb3VuZCIsCiAgImxpbmVKb2luIjogInJvdW5kIiwKICAib3BhY2l0eSI6IDEuMCwKICAicmFkaXVzIjogNSwKICAic3Ryb2tlIjogdHJ1ZSwKICAid2VpZ2h0IjogMwp9CiAgICAgICAgICAgICAgICApCiAgICAgICAgICAgICAgICAuYWRkVG8obWFwXzE3YWFjYjJmZDhlODQ0NGU5Njc0YjYwMzVmMmZiM2RhKTsKICAgICAgICAgICAgCiAgICAKICAgICAgICAgICAgdmFyIHBvcHVwX2ZjNWE4NTIxMTRmYzQ1YzlhNDVlMjk2Mjk0NWVlZTEyID0gTC5wb3B1cCh7bWF4V2lkdGg6ICcxMDAlJwogICAgICAgICAgICAKICAgICAgICAgICAgfSk7CgogICAgICAgICAgICAKICAgICAgICAgICAgICAgIHZhciBodG1sX2NlZjJlMWQzNDcwZDRjZTE4ODg2NDg2ZTcxYjQ4ZGVlID0gJChgPGRpdiBpZD0iaHRtbF9jZWYyZTFkMzQ3MGQ0Y2UxODg4NjQ4NmU3MWI0OGRlZSIgc3R5bGU9IndpZHRoOiAxMDAuMCU7IGhlaWdodDogMTAwLjAlOyI+Tm9ydGggWW9yaywgR2xlbmNhaXJuPC9kaXY+YClbMF07CiAgICAgICAgICAgICAgICBwb3B1cF9mYzVhODUyMTE0ZmM0NWM5YTQ1ZTI5NjI5NDVlZWUxMi5zZXRDb250ZW50KGh0bWxfY2VmMmUxZDM0NzBkNGNlMTg4ODY0ODZlNzFiNDhkZWUpOwogICAgICAgICAgICAKCiAgICAgICAgICAgIGNpcmNsZV9tYXJrZXJfMTdjMjk1ODBhYmZkNDA1YWFkMzdmMjYyMjRlOGIxYjYuYmluZFBvcHVwKHBvcHVwX2ZjNWE4NTIxMTRmYzQ1YzlhNDVlMjk2Mjk0NWVlZTEyKQogICAgICAgICAgICA7CgogICAgICAgICAgICAKICAgICAgICAKICAgIAogICAgICAgICAgICB2YXIgY2lyY2xlX21hcmtlcl9lNTdkMmQxZDlkZDE0N2U5ODI2ZDQ0NDY3OTQ3M2Y2ZiA9IEwuY2lyY2xlTWFya2VyKAogICAgICAgICAgICAgICAgWzQzLjY5Mzc4MTMsIC03OS40MjgxOTE0MDAwMDAwMl0sCiAgICAgICAgICAgICAgICB7CiAgImJ1YmJsaW5nTW91c2VFdmVudHMiOiB0cnVlLAogICJjb2xvciI6ICJibHVlIiwKICAiZGFzaEFycmF5IjogbnVsbCwKICAiZGFzaE9mZnNldCI6IG51bGwsCiAgImZpbGwiOiB0cnVlLAogICJmaWxsQ29sb3IiOiAiIzMxODZjYyIsCiAgImZpbGxPcGFjaXR5IjogMC43LAogICJmaWxsUnVsZSI6ICJldmVub2RkIiwKICAibGluZUNhcCI6ICJyb3VuZCIsCiAgImxpbmVKb2luIjogInJvdW5kIiwKICAib3BhY2l0eSI6IDEuMCwKICAicmFkaXVzIjogNSwKICAic3Ryb2tlIjogdHJ1ZSwKICAid2VpZ2h0IjogMwp9CiAgICAgICAgICAgICAgICApCiAgICAgICAgICAgICAgICAuYWRkVG8obWFwXzE3YWFjYjJmZDhlODQ0NGU5Njc0YjYwMzVmMmZiM2RhKTsKICAgICAgICAgICAgCiAgICAKICAgICAgICAgICAgdmFyIHBvcHVwX2MyYzk2NTAzZjYwOTQ3NmNhOWNjYzRjM2Q5MjAxOTk1ID0gTC5wb3B1cCh7bWF4V2lkdGg6ICcxMDAlJwogICAgICAgICAgICAKICAgICAgICAgICAgfSk7CgogICAgICAgICAgICAKICAgICAgICAgICAgICAgIHZhciBodG1sXzdjNjE5MTczMDJmNzRkYWFhZTA3YmI0OTY3MmRlNzVjID0gJChgPGRpdiBpZD0iaHRtbF83YzYxOTE3MzAyZjc0ZGFhYWUwN2JiNDk2NzJkZTc1YyIgc3R5bGU9IndpZHRoOiAxMDAuMCU7IGhlaWdodDogMTAwLjAlOyI+WW9yaywgSHVtZXdvb2QtQ2VkYXJ2YWxlPC9kaXY+YClbMF07CiAgICAgICAgICAgICAgICBwb3B1cF9jMmM5NjUwM2Y2MDk0NzZjYTljY2M0YzNkOTIwMTk5NS5zZXRDb250ZW50KGh0bWxfN2M2MTkxNzMwMmY3NGRhYWFlMDdiYjQ5NjcyZGU3NWMpOwogICAgICAgICAgICAKCiAgICAgICAgICAgIGNpcmNsZV9tYXJrZXJfZTU3ZDJkMWQ5ZGQxNDdlOTgyNmQ0NDQ2Nzk0NzNmNmYuYmluZFBvcHVwKHBvcHVwX2MyYzk2NTAzZjYwOTQ3NmNhOWNjYzRjM2Q5MjAxOTk1KQogICAgICAgICAgICA7CgogICAgICAgICAgICAKICAgICAgICAKICAgIAogICAgICAgICAgICB2YXIgY2lyY2xlX21hcmtlcl9lM2YzMzk5MWMwMmE0ZDRmYTAwOGZkN2U3OWIxYmE2NCA9IEwuY2lyY2xlTWFya2VyKAogICAgICAgICAgICAgICAgWzQzLjY4OTAyNTYsIC03OS40NTM1MTJdLAogICAgICAgICAgICAgICAgewogICJidWJibGluZ01vdXNlRXZlbnRzIjogdHJ1ZSwKICAiY29sb3IiOiAiYmx1ZSIsCiAgImRhc2hBcnJheSI6IG51bGwsCiAgImRhc2hPZmZzZXQiOiBudWxsLAogICJmaWxsIjogdHJ1ZSwKICAiZmlsbENvbG9yIjogIiMzMTg2Y2MiLAogICJmaWxsT3BhY2l0eSI6IDAuNywKICAiZmlsbFJ1bGUiOiAiZXZlbm9kZCIsCiAgImxpbmVDYXAiOiAicm91bmQiLAogICJsaW5lSm9pbiI6ICJyb3VuZCIsCiAgIm9wYWNpdHkiOiAxLjAsCiAgInJhZGl1cyI6IDUsCiAgInN0cm9rZSI6IHRydWUsCiAgIndlaWdodCI6IDMKfQogICAgICAgICAgICAgICAgKQogICAgICAgICAgICAgICAgLmFkZFRvKG1hcF8xN2FhY2IyZmQ4ZTg0NDRlOTY3NGI2MDM1ZjJmYjNkYSk7CiAgICAgICAgICAgIAogICAgCiAgICAgICAgICAgIHZhciBwb3B1cF82NTRkMzAwZDc3ZDc0MDE2OTNhODFiMzZhNzJlODMxMSA9IEwucG9wdXAoe21heFdpZHRoOiAnMTAwJScKICAgICAgICAgICAgCiAgICAgICAgICAgIH0pOwoKICAgICAgICAgICAgCiAgICAgICAgICAgICAgICB2YXIgaHRtbF8yYWJjYTQwZDdmMGY0NzBkYTEzNmVkNmI1ZThmODg2NiA9ICQoYDxkaXYgaWQ9Imh0bWxfMmFiY2E0MGQ3ZjBmNDcwZGExMzZlZDZiNWU4Zjg4NjYiIHN0eWxlPSJ3aWR0aDogMTAwLjAlOyBoZWlnaHQ6IDEwMC4wJTsiPllvcmssIENhbGVkb25pYS1GYWlyYmFua3M8L2Rpdj5gKVswXTsKICAgICAgICAgICAgICAgIHBvcHVwXzY1NGQzMDBkNzdkNzQwMTY5M2E4MWIzNmE3MmU4MzExLnNldENvbnRlbnQoaHRtbF8yYWJjYTQwZDdmMGY0NzBkYTEzNmVkNmI1ZThmODg2Nik7CiAgICAgICAgICAgIAoKICAgICAgICAgICAgY2lyY2xlX21hcmtlcl9lM2YzMzk5MWMwMmE0ZDRmYTAwOGZkN2U3OWIxYmE2NC5iaW5kUG9wdXAocG9wdXBfNjU0ZDMwMGQ3N2Q3NDAxNjkzYTgxYjM2YTcyZTgzMTEpCiAgICAgICAgICAgIDsKCiAgICAgICAgICAgIAogICAgICAgIAogICAgCiAgICAgICAgICAgIHZhciBjaXJjbGVfbWFya2VyX2M5YTQ1NTI2Mzc0ODQxNTZiNzFkNjI0MTkyM2U4ZTgzID0gTC5jaXJjbGVNYXJrZXIoCiAgICAgICAgICAgICAgICBbNDMuNjY5NTQyLCAtNzkuNDIyNTYzN10sCiAgICAgICAgICAgICAgICB7CiAgImJ1YmJsaW5nTW91c2VFdmVudHMiOiB0cnVlLAogICJjb2xvciI6ICJibHVlIiwKICAiZGFzaEFycmF5IjogbnVsbCwKICAiZGFzaE9mZnNldCI6IG51bGwsCiAgImZpbGwiOiB0cnVlLAogICJmaWxsQ29sb3IiOiAiIzMxODZjYyIsCiAgImZpbGxPcGFjaXR5IjogMC43LAogICJmaWxsUnVsZSI6ICJldmVub2RkIiwKICAibGluZUNhcCI6ICJyb3VuZCIsCiAgImxpbmVKb2luIjogInJvdW5kIiwKICAib3BhY2l0eSI6IDEuMCwKICAicmFkaXVzIjogNSwKICAic3Ryb2tlIjogdHJ1ZSwKICAid2VpZ2h0IjogMwp9CiAgICAgICAgICAgICAgICApCiAgICAgICAgICAgICAgICAuYWRkVG8obWFwXzE3YWFjYjJmZDhlODQ0NGU5Njc0YjYwMzVmMmZiM2RhKTsKICAgICAgICAgICAgCiAgICAKICAgICAgICAgICAgdmFyIHBvcHVwXzg3YTQxNjg1MTc1ZTQ3NTI5MzYwNjViOTJiYzAzOTY0ID0gTC5wb3B1cCh7bWF4V2lkdGg6ICcxMDAlJwogICAgICAgICAgICAKICAgICAgICAgICAgfSk7CgogICAgICAgICAgICAKICAgICAgICAgICAgICAgIHZhciBodG1sXzdkOGM3MzVjYTg2ZTQ0YmI5YWU1ZTUxMDhlYzM3YzhkID0gJChgPGRpdiBpZD0iaHRtbF83ZDhjNzM1Y2E4NmU0NGJiOWFlNWU1MTA4ZWMzN2M4ZCIgc3R5bGU9IndpZHRoOiAxMDAuMCU7IGhlaWdodDogMTAwLjAlOyI+RG93bnRvd24gVG9yb250bywgQ2hyaXN0aWU8L2Rpdj5gKVswXTsKICAgICAgICAgICAgICAgIHBvcHVwXzg3YTQxNjg1MTc1ZTQ3NTI5MzYwNjViOTJiYzAzOTY0LnNldENvbnRlbnQoaHRtbF83ZDhjNzM1Y2E4NmU0NGJiOWFlNWU1MTA4ZWMzN2M4ZCk7CiAgICAgICAgICAgIAoKICAgICAgICAgICAgY2lyY2xlX21hcmtlcl9jOWE0NTUyNjM3NDg0MTU2YjcxZDYyNDE5MjNlOGU4My5iaW5kUG9wdXAocG9wdXBfODdhNDE2ODUxNzVlNDc1MjkzNjA2NWI5MmJjMDM5NjQpCiAgICAgICAgICAgIDsKCiAgICAgICAgICAgIAogICAgICAgIAogICAgCiAgICAgICAgICAgIHZhciBjaXJjbGVfbWFya2VyXzg2ODM2OTUyODkyODRhYTU4YmQzNWM5YTE0ODhkMTY2ID0gTC5jaXJjbGVNYXJrZXIoCiAgICAgICAgICAgICAgICBbNDMuNjY5MDA1MTAwMDAwMDEsIC03OS40NDIyNTkzXSwKICAgICAgICAgICAgICAgIHsKICAiYnViYmxpbmdNb3VzZUV2ZW50cyI6IHRydWUsCiAgImNvbG9yIjogImJsdWUiLAogICJkYXNoQXJyYXkiOiBudWxsLAogICJkYXNoT2Zmc2V0IjogbnVsbCwKICAiZmlsbCI6IHRydWUsCiAgImZpbGxDb2xvciI6ICIjMzE4NmNjIiwKICAiZmlsbE9wYWNpdHkiOiAwLjcsCiAgImZpbGxSdWxlIjogImV2ZW5vZGQiLAogICJsaW5lQ2FwIjogInJvdW5kIiwKICAibGluZUpvaW4iOiAicm91bmQiLAogICJvcGFjaXR5IjogMS4wLAogICJyYWRpdXMiOiA1LAogICJzdHJva2UiOiB0cnVlLAogICJ3ZWlnaHQiOiAzCn0KICAgICAgICAgICAgICAgICkKICAgICAgICAgICAgICAgIC5hZGRUbyhtYXBfMTdhYWNiMmZkOGU4NDQ0ZTk2NzRiNjAzNWYyZmIzZGEpOwogICAgICAgICAgICAKICAgIAogICAgICAgICAgICB2YXIgcG9wdXBfZTk3YzNhYjZkZDAzNDQ2MzlkODYwNWUwOGEyODQ4YzggPSBMLnBvcHVwKHttYXhXaWR0aDogJzEwMCUnCiAgICAgICAgICAgIAogICAgICAgICAgICB9KTsKCiAgICAgICAgICAgIAogICAgICAgICAgICAgICAgdmFyIGh0bWxfZDRkYTk3NGRkZGRiNGQxODhhN2Q5YzY3Mzk2ZWU2NjAgPSAkKGA8ZGl2IGlkPSJodG1sX2Q0ZGE5NzRkZGRkYjRkMTg4YTdkOWM2NzM5NmVlNjYwIiBzdHlsZT0id2lkdGg6IDEwMC4wJTsgaGVpZ2h0OiAxMDAuMCU7Ij5XZXN0IFRvcm9udG8sIERvdmVyY291cnQgVmlsbGFnZSwgRHVmZmVyaW48L2Rpdj5gKVswXTsKICAgICAgICAgICAgICAgIHBvcHVwX2U5N2MzYWI2ZGQwMzQ0NjM5ZDg2MDVlMDhhMjg0OGM4LnNldENvbnRlbnQoaHRtbF9kNGRhOTc0ZGRkZGI0ZDE4OGE3ZDljNjczOTZlZTY2MCk7CiAgICAgICAgICAgIAoKICAgICAgICAgICAgY2lyY2xlX21hcmtlcl84NjgzNjk1Mjg5Mjg0YWE1OGJkMzVjOWExNDg4ZDE2Ni5iaW5kUG9wdXAocG9wdXBfZTk3YzNhYjZkZDAzNDQ2MzlkODYwNWUwOGEyODQ4YzgpCiAgICAgICAgICAgIDsKCiAgICAgICAgICAgIAogICAgICAgIAogICAgCiAgICAgICAgICAgIHZhciBjaXJjbGVfbWFya2VyXzNjOTZmNWZhZDc3YjQwMWU4MjU0NGQ1ZjZiY2MyNGU0ID0gTC5jaXJjbGVNYXJrZXIoCiAgICAgICAgICAgICAgICBbNDMuNjQ3OTI2NzAwMDAwMDA2LCAtNzkuNDE5NzQ5N10sCiAgICAgICAgICAgICAgICB7CiAgImJ1YmJsaW5nTW91c2VFdmVudHMiOiB0cnVlLAogICJjb2xvciI6ICJibHVlIiwKICAiZGFzaEFycmF5IjogbnVsbCwKICAiZGFzaE9mZnNldCI6IG51bGwsCiAgImZpbGwiOiB0cnVlLAogICJmaWxsQ29sb3IiOiAiIzMxODZjYyIsCiAgImZpbGxPcGFjaXR5IjogMC43LAogICJmaWxsUnVsZSI6ICJldmVub2RkIiwKICAibGluZUNhcCI6ICJyb3VuZCIsCiAgImxpbmVKb2luIjogInJvdW5kIiwKICAib3BhY2l0eSI6IDEuMCwKICAicmFkaXVzIjogNSwKICAic3Ryb2tlIjogdHJ1ZSwKICAid2VpZ2h0IjogMwp9CiAgICAgICAgICAgICAgICApCiAgICAgICAgICAgICAgICAuYWRkVG8obWFwXzE3YWFjYjJmZDhlODQ0NGU5Njc0YjYwMzVmMmZiM2RhKTsKICAgICAgICAgICAgCiAgICAKICAgICAgICAgICAgdmFyIHBvcHVwX2MzN2YzNTU2OWIyZDRiODg5OGVmYjEzNTlhOTg5ZTQyID0gTC5wb3B1cCh7bWF4V2lkdGg6ICcxMDAlJwogICAgICAgICAgICAKICAgICAgICAgICAgfSk7CgogICAgICAgICAgICAKICAgICAgICAgICAgICAgIHZhciBodG1sXzFkN2I3YWVlOWFlZjQ0MmZhZWU1YmY5NjRhODlkZjBjID0gJChgPGRpdiBpZD0iaHRtbF8xZDdiN2FlZTlhZWY0NDJmYWVlNWJmOTY0YTg5ZGYwYyIgc3R5bGU9IndpZHRoOiAxMDAuMCU7IGhlaWdodDogMTAwLjAlOyI+V2VzdCBUb3JvbnRvLCBMaXR0bGUgUG9ydHVnYWwsIFRyaW5pdHk8L2Rpdj5gKVswXTsKICAgICAgICAgICAgICAgIHBvcHVwX2MzN2YzNTU2OWIyZDRiODg5OGVmYjEzNTlhOTg5ZTQyLnNldENvbnRlbnQoaHRtbF8xZDdiN2FlZTlhZWY0NDJmYWVlNWJmOTY0YTg5ZGYwYyk7CiAgICAgICAgICAgIAoKICAgICAgICAgICAgY2lyY2xlX21hcmtlcl8zYzk2ZjVmYWQ3N2I0MDFlODI1NDRkNWY2YmNjMjRlNC5iaW5kUG9wdXAocG9wdXBfYzM3ZjM1NTY5YjJkNGI4ODk4ZWZiMTM1OWE5ODllNDIpCiAgICAgICAgICAgIDsKCiAgICAgICAgICAgIAogICAgICAgIAogICAgCiAgICAgICAgICAgIHZhciBjaXJjbGVfbWFya2VyX2VmZTU2N2VjN2M2NjRlYjA5YmYzYzRjYmEyOGU5MGQyID0gTC5jaXJjbGVNYXJrZXIoCiAgICAgICAgICAgICAgICBbNDMuNjM2ODQ3MiwgLTc5LjQyODE5MTQwMDAwMDAyXSwKICAgICAgICAgICAgICAgIHsKICAiYnViYmxpbmdNb3VzZUV2ZW50cyI6IHRydWUsCiAgImNvbG9yIjogImJsdWUiLAogICJkYXNoQXJyYXkiOiBudWxsLAogICJkYXNoT2Zmc2V0IjogbnVsbCwKICAiZmlsbCI6IHRydWUsCiAgImZpbGxDb2xvciI6ICIjMzE4NmNjIiwKICAiZmlsbE9wYWNpdHkiOiAwLjcsCiAgImZpbGxSdWxlIjogImV2ZW5vZGQiLAogICJsaW5lQ2FwIjogInJvdW5kIiwKICAibGluZUpvaW4iOiAicm91bmQiLAogICJvcGFjaXR5IjogMS4wLAogICJyYWRpdXMiOiA1LAogICJzdHJva2UiOiB0cnVlLAogICJ3ZWlnaHQiOiAzCn0KICAgICAgICAgICAgICAgICkKICAgICAgICAgICAgICAgIC5hZGRUbyhtYXBfMTdhYWNiMmZkOGU4NDQ0ZTk2NzRiNjAzNWYyZmIzZGEpOwogICAgICAgICAgICAKICAgIAogICAgICAgICAgICB2YXIgcG9wdXBfNDdjZTU5ODZlZDRkNGViZjlhMzM0ZjUzMzk3NTIzM2MgPSBMLnBvcHVwKHttYXhXaWR0aDogJzEwMCUnCiAgICAgICAgICAgIAogICAgICAgICAgICB9KTsKCiAgICAgICAgICAgIAogICAgICAgICAgICAgICAgdmFyIGh0bWxfYzBlZWNhZDNmZjI1NGE4Yzk1MDQ4ZmVjNDEzNmEzYzIgPSAkKGA8ZGl2IGlkPSJodG1sX2MwZWVjYWQzZmYyNTRhOGM5NTA0OGZlYzQxMzZhM2MyIiBzdHlsZT0id2lkdGg6IDEwMC4wJTsgaGVpZ2h0OiAxMDAuMCU7Ij5XZXN0IFRvcm9udG8sIEJyb2NrdG9uLCBFeGhpYml0aW9uIFBsYWNlLCBQYXJrZGFsZSBWaWxsYWdlPC9kaXY+YClbMF07CiAgICAgICAgICAgICAgICBwb3B1cF80N2NlNTk4NmVkNGQ0ZWJmOWEzMzRmNTMzOTc1MjMzYy5zZXRDb250ZW50KGh0bWxfYzBlZWNhZDNmZjI1NGE4Yzk1MDQ4ZmVjNDEzNmEzYzIpOwogICAgICAgICAgICAKCiAgICAgICAgICAgIGNpcmNsZV9tYXJrZXJfZWZlNTY3ZWM3YzY2NGViMDliZjNjNGNiYTI4ZTkwZDIuYmluZFBvcHVwKHBvcHVwXzQ3Y2U1OTg2ZWQ0ZDRlYmY5YTMzNGY1MzM5NzUyMzNjKQogICAgICAgICAgICA7CgogICAgICAgICAgICAKICAgICAgICAKICAgIAogICAgICAgICAgICB2YXIgY2lyY2xlX21hcmtlcl84Y2ZkZWExYjYxOTM0ZGVjYjQ3NTc3NDAwOTcxNmQ0YiA9IEwuY2lyY2xlTWFya2VyKAogICAgICAgICAgICAgICAgWzQzLjcxMzc1NjIwMDAwMDAwNiwgLTc5LjQ5MDA3MzhdLAogICAgICAgICAgICAgICAgewogICJidWJibGluZ01vdXNlRXZlbnRzIjogdHJ1ZSwKICAiY29sb3IiOiAiYmx1ZSIsCiAgImRhc2hBcnJheSI6IG51bGwsCiAgImRhc2hPZmZzZXQiOiBudWxsLAogICJmaWxsIjogdHJ1ZSwKICAiZmlsbENvbG9yIjogIiMzMTg2Y2MiLAogICJmaWxsT3BhY2l0eSI6IDAuNywKICAiZmlsbFJ1bGUiOiAiZXZlbm9kZCIsCiAgImxpbmVDYXAiOiAicm91bmQiLAogICJsaW5lSm9pbiI6ICJyb3VuZCIsCiAgIm9wYWNpdHkiOiAxLjAsCiAgInJhZGl1cyI6IDUsCiAgInN0cm9rZSI6IHRydWUsCiAgIndlaWdodCI6IDMKfQogICAgICAgICAgICAgICAgKQogICAgICAgICAgICAgICAgLmFkZFRvKG1hcF8xN2FhY2IyZmQ4ZTg0NDRlOTY3NGI2MDM1ZjJmYjNkYSk7CiAgICAgICAgICAgIAogICAgCiAgICAgICAgICAgIHZhciBwb3B1cF8yM2E1MDFhMjNjN2Y0MzA2OWUwYTFlZjI4ZDZiYzM1YSA9IEwucG9wdXAoe21heFdpZHRoOiAnMTAwJScKICAgICAgICAgICAgCiAgICAgICAgICAgIH0pOwoKICAgICAgICAgICAgCiAgICAgICAgICAgICAgICB2YXIgaHRtbF8zYWYwMGE1YjU5M2Q0YzYzYTFiNjU1ZGEyOWFlM2I4MCA9ICQoYDxkaXYgaWQ9Imh0bWxfM2FmMDBhNWI1OTNkNGM2M2ExYjY1NWRhMjlhZTNiODAiIHN0eWxlPSJ3aWR0aDogMTAwLjAlOyBoZWlnaHQ6IDEwMC4wJTsiPk5vcnRoIFlvcmssIERvd25zdmlldywgTm9ydGggUGFyaywgVXB3b29kIFBhcms8L2Rpdj5gKVswXTsKICAgICAgICAgICAgICAgIHBvcHVwXzIzYTUwMWEyM2M3ZjQzMDY5ZTBhMWVmMjhkNmJjMzVhLnNldENvbnRlbnQoaHRtbF8zYWYwMGE1YjU5M2Q0YzYzYTFiNjU1ZGEyOWFlM2I4MCk7CiAgICAgICAgICAgIAoKICAgICAgICAgICAgY2lyY2xlX21hcmtlcl84Y2ZkZWExYjYxOTM0ZGVjYjQ3NTc3NDAwOTcxNmQ0Yi5iaW5kUG9wdXAocG9wdXBfMjNhNTAxYTIzYzdmNDMwNjllMGExZWYyOGQ2YmMzNWEpCiAgICAgICAgICAgIDsKCiAgICAgICAgICAgIAogICAgICAgIAogICAgCiAgICAgICAgICAgIHZhciBjaXJjbGVfbWFya2VyXzM3NmQyYzljZWQ3MzQ3ZmFiNTY5MjBlMWRiYTRiZTQ3ID0gTC5jaXJjbGVNYXJrZXIoCiAgICAgICAgICAgICAgICBbNDMuNjkxMTE1OCwgLTc5LjQ3NjAxMzI5OTk5OTk5XSwKICAgICAgICAgICAgICAgIHsKICAiYnViYmxpbmdNb3VzZUV2ZW50cyI6IHRydWUsCiAgImNvbG9yIjogImJsdWUiLAogICJkYXNoQXJyYXkiOiBudWxsLAogICJkYXNoT2Zmc2V0IjogbnVsbCwKICAiZmlsbCI6IHRydWUsCiAgImZpbGxDb2xvciI6ICIjMzE4NmNjIiwKICAiZmlsbE9wYWNpdHkiOiAwLjcsCiAgImZpbGxSdWxlIjogImV2ZW5vZGQiLAogICJsaW5lQ2FwIjogInJvdW5kIiwKICAibGluZUpvaW4iOiAicm91bmQiLAogICJvcGFjaXR5IjogMS4wLAogICJyYWRpdXMiOiA1LAogICJzdHJva2UiOiB0cnVlLAogICJ3ZWlnaHQiOiAzCn0KICAgICAgICAgICAgICAgICkKICAgICAgICAgICAgICAgIC5hZGRUbyhtYXBfMTdhYWNiMmZkOGU4NDQ0ZTk2NzRiNjAzNWYyZmIzZGEpOwogICAgICAgICAgICAKICAgIAogICAgICAgICAgICB2YXIgcG9wdXBfMWYxNDA4MDU2ODJlNDIyMWIzNjkwMzc3NWU1YjVlNGMgPSBMLnBvcHVwKHttYXhXaWR0aDogJzEwMCUnCiAgICAgICAgICAgIAogICAgICAgICAgICB9KTsKCiAgICAgICAgICAgIAogICAgICAgICAgICAgICAgdmFyIGh0bWxfMDI4MTFmYWFkMjNmNDhhMGIzNTJjMDA2YTlkYjU0ZjMgPSAkKGA8ZGl2IGlkPSJodG1sXzAyODExZmFhZDIzZjQ4YTBiMzUyYzAwNmE5ZGI1NGYzIiBzdHlsZT0id2lkdGg6IDEwMC4wJTsgaGVpZ2h0OiAxMDAuMCU7Ij5Zb3JrLCBEZWwgUmF5LCBLZWVsZXNkYWxlLCBNb3VudCBEZW5uaXMsIFNpbHZlcnRob3JuPC9kaXY+YClbMF07CiAgICAgICAgICAgICAgICBwb3B1cF8xZjE0MDgwNTY4MmU0MjIxYjM2OTAzNzc1ZTViNWU0Yy5zZXRDb250ZW50KGh0bWxfMDI4MTFmYWFkMjNmNDhhMGIzNTJjMDA2YTlkYjU0ZjMpOwogICAgICAgICAgICAKCiAgICAgICAgICAgIGNpcmNsZV9tYXJrZXJfMzc2ZDJjOWNlZDczNDdmYWI1NjkyMGUxZGJhNGJlNDcuYmluZFBvcHVwKHBvcHVwXzFmMTQwODA1NjgyZTQyMjFiMzY5MDM3NzVlNWI1ZTRjKQogICAgICAgICAgICA7CgogICAgICAgICAgICAKICAgICAgICAKICAgIAogICAgICAgICAgICB2YXIgY2lyY2xlX21hcmtlcl81ZmRiNzFkMzhhNzA0ZjcxODQyMWY4ZGNjZGI1Y2RhNCA9IEwuY2lyY2xlTWFya2VyKAogICAgICAgICAgICAgICAgWzQzLjY3MzE4NTI5OTk5OTk5LCAtNzkuNDg3MjYxOTAwMDAwMDFdLAogICAgICAgICAgICAgICAgewogICJidWJibGluZ01vdXNlRXZlbnRzIjogdHJ1ZSwKICAiY29sb3IiOiAiYmx1ZSIsCiAgImRhc2hBcnJheSI6IG51bGwsCiAgImRhc2hPZmZzZXQiOiBudWxsLAogICJmaWxsIjogdHJ1ZSwKICAiZmlsbENvbG9yIjogIiMzMTg2Y2MiLAogICJmaWxsT3BhY2l0eSI6IDAuNywKICAiZmlsbFJ1bGUiOiAiZXZlbm9kZCIsCiAgImxpbmVDYXAiOiAicm91bmQiLAogICJsaW5lSm9pbiI6ICJyb3VuZCIsCiAgIm9wYWNpdHkiOiAxLjAsCiAgInJhZGl1cyI6IDUsCiAgInN0cm9rZSI6IHRydWUsCiAgIndlaWdodCI6IDMKfQogICAgICAgICAgICAgICAgKQogICAgICAgICAgICAgICAgLmFkZFRvKG1hcF8xN2FhY2IyZmQ4ZTg0NDRlOTY3NGI2MDM1ZjJmYjNkYSk7CiAgICAgICAgICAgIAogICAgCiAgICAgICAgICAgIHZhciBwb3B1cF83ZWE4NDMyN2Q2MmI0NmJmYmI2MTYyMDY2MzgzNDczOSA9IEwucG9wdXAoe21heFdpZHRoOiAnMTAwJScKICAgICAgICAgICAgCiAgICAgICAgICAgIH0pOwoKICAgICAgICAgICAgCiAgICAgICAgICAgICAgICB2YXIgaHRtbF9kMzEwYWZhY2E5Mzg0OGRiYWZmMWZiZGI2NTJmNzdlZiA9ICQoYDxkaXYgaWQ9Imh0bWxfZDMxMGFmYWNhOTM4NDhkYmFmZjFmYmRiNjUyZjc3ZWYiIHN0eWxlPSJ3aWR0aDogMTAwLjAlOyBoZWlnaHQ6IDEwMC4wJTsiPllvcmssIFRoZSBKdW5jdGlvbiBOb3J0aCwgUnVubnltZWRlPC9kaXY+YClbMF07CiAgICAgICAgICAgICAgICBwb3B1cF83ZWE4NDMyN2Q2MmI0NmJmYmI2MTYyMDY2MzgzNDczOS5zZXRDb250ZW50KGh0bWxfZDMxMGFmYWNhOTM4NDhkYmFmZjFmYmRiNjUyZjc3ZWYpOwogICAgICAgICAgICAKCiAgICAgICAgICAgIGNpcmNsZV9tYXJrZXJfNWZkYjcxZDM4YTcwNGY3MTg0MjFmOGRjY2RiNWNkYTQuYmluZFBvcHVwKHBvcHVwXzdlYTg0MzI3ZDYyYjQ2YmZiYjYxNjIwNjYzODM0NzM5KQogICAgICAgICAgICA7CgogICAgICAgICAgICAKICAgICAgICAKICAgIAogICAgICAgICAgICB2YXIgY2lyY2xlX21hcmtlcl8yNzgwNWVmMDAwNjg0ZjAwYmJiNDZlOWU3NzRiOGJkYyA9IEwuY2lyY2xlTWFya2VyKAogICAgICAgICAgICAgICAgWzQzLjY2MTYwODMsIC03OS40NjQ3NjMyOTk5OTk5OV0sCiAgICAgICAgICAgICAgICB7CiAgImJ1YmJsaW5nTW91c2VFdmVudHMiOiB0cnVlLAogICJjb2xvciI6ICJibHVlIiwKICAiZGFzaEFycmF5IjogbnVsbCwKICAiZGFzaE9mZnNldCI6IG51bGwsCiAgImZpbGwiOiB0cnVlLAogICJmaWxsQ29sb3IiOiAiIzMxODZjYyIsCiAgImZpbGxPcGFjaXR5IjogMC43LAogICJmaWxsUnVsZSI6ICJldmVub2RkIiwKICAibGluZUNhcCI6ICJyb3VuZCIsCiAgImxpbmVKb2luIjogInJvdW5kIiwKICAib3BhY2l0eSI6IDEuMCwKICAicmFkaXVzIjogNSwKICAic3Ryb2tlIjogdHJ1ZSwKICAid2VpZ2h0IjogMwp9CiAgICAgICAgICAgICAgICApCiAgICAgICAgICAgICAgICAuYWRkVG8obWFwXzE3YWFjYjJmZDhlODQ0NGU5Njc0YjYwMzVmMmZiM2RhKTsKICAgICAgICAgICAgCiAgICAKICAgICAgICAgICAgdmFyIHBvcHVwXzViM2Q2ZTg4NWI4NTQ4YTA5ZGE4MGJhOWYxN2YwNmI3ID0gTC5wb3B1cCh7bWF4V2lkdGg6ICcxMDAlJwogICAgICAgICAgICAKICAgICAgICAgICAgfSk7CgogICAgICAgICAgICAKICAgICAgICAgICAgICAgIHZhciBodG1sXzIxZGY3ZDkwNTY4MjQ5ZWRiYzY4NzE3NWFhZDlhMWRhID0gJChgPGRpdiBpZD0iaHRtbF8yMWRmN2Q5MDU2ODI0OWVkYmM2ODcxNzVhYWQ5YTFkYSIgc3R5bGU9IndpZHRoOiAxMDAuMCU7IGhlaWdodDogMTAwLjAlOyI+V2VzdCBUb3JvbnRvLCBIaWdoIFBhcmssIFRoZSBKdW5jdGlvbiBTb3V0aDwvZGl2PmApWzBdOwogICAgICAgICAgICAgICAgcG9wdXBfNWIzZDZlODg1Yjg1NDhhMDlkYTgwYmE5ZjE3ZjA2Yjcuc2V0Q29udGVudChodG1sXzIxZGY3ZDkwNTY4MjQ5ZWRiYzY4NzE3NWFhZDlhMWRhKTsKICAgICAgICAgICAgCgogICAgICAgICAgICBjaXJjbGVfbWFya2VyXzI3ODA1ZWYwMDA2ODRmMDBiYmI0NmU5ZTc3NGI4YmRjLmJpbmRQb3B1cChwb3B1cF81YjNkNmU4ODViODU0OGEwOWRhODBiYTlmMTdmMDZiNykKICAgICAgICAgICAgOwoKICAgICAgICAgICAgCiAgICAgICAgCiAgICAKICAgICAgICAgICAgdmFyIGNpcmNsZV9tYXJrZXJfZThjNWM1ZmFmM2JiNGM4MTlmYzRjNDU1ZGQ3ZTJhMzggPSBMLmNpcmNsZU1hcmtlcigKICAgICAgICAgICAgICAgIFs0My42NDg5NTk3LCAtNzkuNDU2MzI1XSwKICAgICAgICAgICAgICAgIHsKICAiYnViYmxpbmdNb3VzZUV2ZW50cyI6IHRydWUsCiAgImNvbG9yIjogImJsdWUiLAogICJkYXNoQXJyYXkiOiBudWxsLAogICJkYXNoT2Zmc2V0IjogbnVsbCwKICAiZmlsbCI6IHRydWUsCiAgImZpbGxDb2xvciI6ICIjMzE4NmNjIiwKICAiZmlsbE9wYWNpdHkiOiAwLjcsCiAgImZpbGxSdWxlIjogImV2ZW5vZGQiLAogICJsaW5lQ2FwIjogInJvdW5kIiwKICAibGluZUpvaW4iOiAicm91bmQiLAogICJvcGFjaXR5IjogMS4wLAogICJyYWRpdXMiOiA1LAogICJzdHJva2UiOiB0cnVlLAogICJ3ZWlnaHQiOiAzCn0KICAgICAgICAgICAgICAgICkKICAgICAgICAgICAgICAgIC5hZGRUbyhtYXBfMTdhYWNiMmZkOGU4NDQ0ZTk2NzRiNjAzNWYyZmIzZGEpOwogICAgICAgICAgICAKICAgIAogICAgICAgICAgICB2YXIgcG9wdXBfYWYzMzExMWE4YjkzNGQ3MDkwMDQ1NjY2MWI4ZGQ4Y2MgPSBMLnBvcHVwKHttYXhXaWR0aDogJzEwMCUnCiAgICAgICAgICAgIAogICAgICAgICAgICB9KTsKCiAgICAgICAgICAgIAogICAgICAgICAgICAgICAgdmFyIGh0bWxfODdlNTdjMTMzMDZjNDc5Mjk1ZjkwMzliNzEwZjA5MTYgPSAkKGA8ZGl2IGlkPSJodG1sXzg3ZTU3YzEzMzA2YzQ3OTI5NWY5MDM5YjcxMGYwOTE2IiBzdHlsZT0id2lkdGg6IDEwMC4wJTsgaGVpZ2h0OiAxMDAuMCU7Ij5XZXN0IFRvcm9udG8sIFBhcmtkYWxlLCBSb25jZXN2YWxsZXM8L2Rpdj5gKVswXTsKICAgICAgICAgICAgICAgIHBvcHVwX2FmMzMxMTFhOGI5MzRkNzA5MDA0NTY2NjFiOGRkOGNjLnNldENvbnRlbnQoaHRtbF84N2U1N2MxMzMwNmM0NzkyOTVmOTAzOWI3MTBmMDkxNik7CiAgICAgICAgICAgIAoKICAgICAgICAgICAgY2lyY2xlX21hcmtlcl9lOGM1YzVmYWYzYmI0YzgxOWZjNGM0NTVkZDdlMmEzOC5iaW5kUG9wdXAocG9wdXBfYWYzMzExMWE4YjkzNGQ3MDkwMDQ1NjY2MWI4ZGQ4Y2MpCiAgICAgICAgICAgIDsKCiAgICAgICAgICAgIAogICAgICAgIAogICAgCiAgICAgICAgICAgIHZhciBjaXJjbGVfbWFya2VyXzE1ZGQzYmIwNzk1ODQ0ZmZhNTE3OTY2NmNlYWM3NWZkID0gTC5jaXJjbGVNYXJrZXIoCiAgICAgICAgICAgICAgICBbNDMuNjUxNTcwNiwgLTc5LjQ4NDQ0OTldLAogICAgICAgICAgICAgICAgewogICJidWJibGluZ01vdXNlRXZlbnRzIjogdHJ1ZSwKICAiY29sb3IiOiAiYmx1ZSIsCiAgImRhc2hBcnJheSI6IG51bGwsCiAgImRhc2hPZmZzZXQiOiBudWxsLAogICJmaWxsIjogdHJ1ZSwKICAiZmlsbENvbG9yIjogIiMzMTg2Y2MiLAogICJmaWxsT3BhY2l0eSI6IDAuNywKICAiZmlsbFJ1bGUiOiAiZXZlbm9kZCIsCiAgImxpbmVDYXAiOiAicm91bmQiLAogICJsaW5lSm9pbiI6ICJyb3VuZCIsCiAgIm9wYWNpdHkiOiAxLjAsCiAgInJhZGl1cyI6IDUsCiAgInN0cm9rZSI6IHRydWUsCiAgIndlaWdodCI6IDMKfQogICAgICAgICAgICAgICAgKQogICAgICAgICAgICAgICAgLmFkZFRvKG1hcF8xN2FhY2IyZmQ4ZTg0NDRlOTY3NGI2MDM1ZjJmYjNkYSk7CiAgICAgICAgICAgIAogICAgCiAgICAgICAgICAgIHZhciBwb3B1cF8wMTVkOWJkZGQ5MmI0ZjdhYmVlN2JiNmM1ZmZjNjI1NSA9IEwucG9wdXAoe21heFdpZHRoOiAnMTAwJScKICAgICAgICAgICAgCiAgICAgICAgICAgIH0pOwoKICAgICAgICAgICAgCiAgICAgICAgICAgICAgICB2YXIgaHRtbF9kZTFiYzBiZWMxZjM0ODg0ODBkOWMxM2JlOGNiOWM4ZSA9ICQoYDxkaXYgaWQ9Imh0bWxfZGUxYmMwYmVjMWYzNDg4NDgwZDljMTNiZThjYjljOGUiIHN0eWxlPSJ3aWR0aDogMTAwLjAlOyBoZWlnaHQ6IDEwMC4wJTsiPldlc3QgVG9yb250bywgUnVubnltZWRlLCBTd2Fuc2VhPC9kaXY+YClbMF07CiAgICAgICAgICAgICAgICBwb3B1cF8wMTVkOWJkZGQ5MmI0ZjdhYmVlN2JiNmM1ZmZjNjI1NS5zZXRDb250ZW50KGh0bWxfZGUxYmMwYmVjMWYzNDg4NDgwZDljMTNiZThjYjljOGUpOwogICAgICAgICAgICAKCiAgICAgICAgICAgIGNpcmNsZV9tYXJrZXJfMTVkZDNiYjA3OTU4NDRmZmE1MTc5NjY2Y2VhYzc1ZmQuYmluZFBvcHVwKHBvcHVwXzAxNWQ5YmRkZDkyYjRmN2FiZWU3YmI2YzVmZmM2MjU1KQogICAgICAgICAgICA7CgogICAgICAgICAgICAKICAgICAgICAKICAgIAogICAgICAgICAgICB2YXIgY2lyY2xlX21hcmtlcl83NTYwNDQ4NmFhZDk0ZmEyYWVmMDJkMjE5MzEzMzUxMyA9IEwuY2lyY2xlTWFya2VyKAogICAgICAgICAgICAgICAgWzQzLjY2MjMwMTUsIC03OS4zODk0OTM4XSwKICAgICAgICAgICAgICAgIHsKICAiYnViYmxpbmdNb3VzZUV2ZW50cyI6IHRydWUsCiAgImNvbG9yIjogImJsdWUiLAogICJkYXNoQXJyYXkiOiBudWxsLAogICJkYXNoT2Zmc2V0IjogbnVsbCwKICAiZmlsbCI6IHRydWUsCiAgImZpbGxDb2xvciI6ICIjMzE4NmNjIiwKICAiZmlsbE9wYWNpdHkiOiAwLjcsCiAgImZpbGxSdWxlIjogImV2ZW5vZGQiLAogICJsaW5lQ2FwIjogInJvdW5kIiwKICAibGluZUpvaW4iOiAicm91bmQiLAogICJvcGFjaXR5IjogMS4wLAogICJyYWRpdXMiOiA1LAogICJzdHJva2UiOiB0cnVlLAogICJ3ZWlnaHQiOiAzCn0KICAgICAgICAgICAgICAgICkKICAgICAgICAgICAgICAgIC5hZGRUbyhtYXBfMTdhYWNiMmZkOGU4NDQ0ZTk2NzRiNjAzNWYyZmIzZGEpOwogICAgICAgICAgICAKICAgIAogICAgICAgICAgICB2YXIgcG9wdXBfOWRjNzE2NTYxZWY2NGMyNmE3YjM3NmVkMzVlZmI4NzcgPSBMLnBvcHVwKHttYXhXaWR0aDogJzEwMCUnCiAgICAgICAgICAgIAogICAgICAgICAgICB9KTsKCiAgICAgICAgICAgIAogICAgICAgICAgICAgICAgdmFyIGh0bWxfNjljYWY0OWRjMjIxNDJjZTliZThjMjc1YmNiNzI0N2UgPSAkKGA8ZGl2IGlkPSJodG1sXzY5Y2FmNDlkYzIyMTQyY2U5YmU4YzI3NWJjYjcyNDdlIiBzdHlsZT0id2lkdGg6IDEwMC4wJTsgaGVpZ2h0OiAxMDAuMCU7Ij5RdWVlbiYjMzk7cyBQYXJrLCBRdWVlbiYjMzk7cyBQYXJrPC9kaXY+YClbMF07CiAgICAgICAgICAgICAgICBwb3B1cF85ZGM3MTY1NjFlZjY0YzI2YTdiMzc2ZWQzNWVmYjg3Ny5zZXRDb250ZW50KGh0bWxfNjljYWY0OWRjMjIxNDJjZTliZThjMjc1YmNiNzI0N2UpOwogICAgICAgICAgICAKCiAgICAgICAgICAgIGNpcmNsZV9tYXJrZXJfNzU2MDQ0ODZhYWQ5NGZhMmFlZjAyZDIxOTMxMzM1MTMuYmluZFBvcHVwKHBvcHVwXzlkYzcxNjU2MWVmNjRjMjZhN2IzNzZlZDM1ZWZiODc3KQogICAgICAgICAgICA7CgogICAgICAgICAgICAKICAgICAgICAKICAgIAogICAgICAgICAgICB2YXIgY2lyY2xlX21hcmtlcl8wOWJjNzg4OGJlNTA0M2Q0Yjk2MDc0ZDljYWMyNDk1NyA9IEwuY2lyY2xlTWFya2VyKAogICAgICAgICAgICAgICAgWzQzLjYzNjk2NTYsIC03OS42MTU4MTg5OTk5OTk5OV0sCiAgICAgICAgICAgICAgICB7CiAgImJ1YmJsaW5nTW91c2VFdmVudHMiOiB0cnVlLAogICJjb2xvciI6ICJibHVlIiwKICAiZGFzaEFycmF5IjogbnVsbCwKICAiZGFzaE9mZnNldCI6IG51bGwsCiAgImZpbGwiOiB0cnVlLAogICJmaWxsQ29sb3IiOiAiIzMxODZjYyIsCiAgImZpbGxPcGFjaXR5IjogMC43LAogICJmaWxsUnVsZSI6ICJldmVub2RkIiwKICAibGluZUNhcCI6ICJyb3VuZCIsCiAgImxpbmVKb2luIjogInJvdW5kIiwKICAib3BhY2l0eSI6IDEuMCwKICAicmFkaXVzIjogNSwKICAic3Ryb2tlIjogdHJ1ZSwKICAid2VpZ2h0IjogMwp9CiAgICAgICAgICAgICAgICApCiAgICAgICAgICAgICAgICAuYWRkVG8obWFwXzE3YWFjYjJmZDhlODQ0NGU5Njc0YjYwMzVmMmZiM2RhKTsKICAgICAgICAgICAgCiAgICAKICAgICAgICAgICAgdmFyIHBvcHVwXzI5OTAxNWRkYjNhZDRkZjI4MzBmNmNmNGU5MDBhMDc5ID0gTC5wb3B1cCh7bWF4V2lkdGg6ICcxMDAlJwogICAgICAgICAgICAKICAgICAgICAgICAgfSk7CgogICAgICAgICAgICAKICAgICAgICAgICAgICAgIHZhciBodG1sX2ZjNThjYzFjYWRlMTQwYzZhNTBlYzYwY2Y5NzM0NTlmID0gJChgPGRpdiBpZD0iaHRtbF9mYzU4Y2MxY2FkZTE0MGM2YTUwZWM2MGNmOTczNDU5ZiIgc3R5bGU9IndpZHRoOiAxMDAuMCU7IGhlaWdodDogMTAwLjAlOyI+TWlzc2lzc2F1Z2EsIENhbmFkYSBQb3N0IEdhdGV3YXkgUHJvY2Vzc2luZyBDZW50cmU8L2Rpdj5gKVswXTsKICAgICAgICAgICAgICAgIHBvcHVwXzI5OTAxNWRkYjNhZDRkZjI4MzBmNmNmNGU5MDBhMDc5LnNldENvbnRlbnQoaHRtbF9mYzU4Y2MxY2FkZTE0MGM2YTUwZWM2MGNmOTczNDU5Zik7CiAgICAgICAgICAgIAoKICAgICAgICAgICAgY2lyY2xlX21hcmtlcl8wOWJjNzg4OGJlNTA0M2Q0Yjk2MDc0ZDljYWMyNDk1Ny5iaW5kUG9wdXAocG9wdXBfMjk5MDE1ZGRiM2FkNGRmMjgzMGY2Y2Y0ZTkwMGEwNzkpCiAgICAgICAgICAgIDsKCiAgICAgICAgICAgIAogICAgICAgIAogICAgCiAgICAgICAgICAgIHZhciBjaXJjbGVfbWFya2VyX2MyZDdiMTliMzYwNDQ3NGNhNGY1MTQ4YTNhZTExM2Q3ID0gTC5jaXJjbGVNYXJrZXIoCiAgICAgICAgICAgICAgICBbNDMuNjYyNzQzOSwgLTc5LjMyMTU1OF0sCiAgICAgICAgICAgICAgICB7CiAgImJ1YmJsaW5nTW91c2VFdmVudHMiOiB0cnVlLAogICJjb2xvciI6ICJibHVlIiwKICAiZGFzaEFycmF5IjogbnVsbCwKICAiZGFzaE9mZnNldCI6IG51bGwsCiAgImZpbGwiOiB0cnVlLAogICJmaWxsQ29sb3IiOiAiIzMxODZjYyIsCiAgImZpbGxPcGFjaXR5IjogMC43LAogICJmaWxsUnVsZSI6ICJldmVub2RkIiwKICAibGluZUNhcCI6ICJyb3VuZCIsCiAgImxpbmVKb2luIjogInJvdW5kIiwKICAib3BhY2l0eSI6IDEuMCwKICAicmFkaXVzIjogNSwKICAic3Ryb2tlIjogdHJ1ZSwKICAid2VpZ2h0IjogMwp9CiAgICAgICAgICAgICAgICApCiAgICAgICAgICAgICAgICAuYWRkVG8obWFwXzE3YWFjYjJmZDhlODQ0NGU5Njc0YjYwMzVmMmZiM2RhKTsKICAgICAgICAgICAgCiAgICAKICAgICAgICAgICAgdmFyIHBvcHVwXzE5MzE4MjhlZGEyZTRhODBhY2UzYmY2NGIzYTA3MjQ5ID0gTC5wb3B1cCh7bWF4V2lkdGg6ICcxMDAlJwogICAgICAgICAgICAKICAgICAgICAgICAgfSk7CgogICAgICAgICAgICAKICAgICAgICAgICAgICAgIHZhciBodG1sX2IwMjFiNmY5MDdiOTQ0OGI4NDZiZDIxY2ZjNGZjYWJmID0gJChgPGRpdiBpZD0iaHRtbF9iMDIxYjZmOTA3Yjk0NDhiODQ2YmQyMWNmYzRmY2FiZiIgc3R5bGU9IndpZHRoOiAxMDAuMCU7IGhlaWdodDogMTAwLjAlOyI+RWFzdCBUb3JvbnRvLCBCdXNpbmVzcyBSZXBseSBNYWlsIFByb2Nlc3NpbmcgQ2VudHJlIDk2OSBFYXN0ZXJuPC9kaXY+YClbMF07CiAgICAgICAgICAgICAgICBwb3B1cF8xOTMxODI4ZWRhMmU0YTgwYWNlM2JmNjRiM2EwNzI0OS5zZXRDb250ZW50KGh0bWxfYjAyMWI2ZjkwN2I5NDQ4Yjg0NmJkMjFjZmM0ZmNhYmYpOwogICAgICAgICAgICAKCiAgICAgICAgICAgIGNpcmNsZV9tYXJrZXJfYzJkN2IxOWIzNjA0NDc0Y2E0ZjUxNDhhM2FlMTEzZDcuYmluZFBvcHVwKHBvcHVwXzE5MzE4MjhlZGEyZTRhODBhY2UzYmY2NGIzYTA3MjQ5KQogICAgICAgICAgICA7CgogICAgICAgICAgICAKICAgICAgICAKICAgIAogICAgICAgICAgICB2YXIgY2lyY2xlX21hcmtlcl81ZGUzNDk0MGU1MmM0MjllYmM2NTVjMmVlMjJlNzI4YSA9IEwuY2lyY2xlTWFya2VyKAogICAgICAgICAgICAgICAgWzQzLjYwNTY0NjYsIC03OS41MDEzMjA3MDAwMDAwMV0sCiAgICAgICAgICAgICAgICB7CiAgImJ1YmJsaW5nTW91c2VFdmVudHMiOiB0cnVlLAogICJjb2xvciI6ICJibHVlIiwKICAiZGFzaEFycmF5IjogbnVsbCwKICAiZGFzaE9mZnNldCI6IG51bGwsCiAgImZpbGwiOiB0cnVlLAogICJmaWxsQ29sb3IiOiAiIzMxODZjYyIsCiAgImZpbGxPcGFjaXR5IjogMC43LAogICJmaWxsUnVsZSI6ICJldmVub2RkIiwKICAibGluZUNhcCI6ICJyb3VuZCIsCiAgImxpbmVKb2luIjogInJvdW5kIiwKICAib3BhY2l0eSI6IDEuMCwKICAicmFkaXVzIjogNSwKICAic3Ryb2tlIjogdHJ1ZSwKICAid2VpZ2h0IjogMwp9CiAgICAgICAgICAgICAgICApCiAgICAgICAgICAgICAgICAuYWRkVG8obWFwXzE3YWFjYjJmZDhlODQ0NGU5Njc0YjYwMzVmMmZiM2RhKTsKICAgICAgICAgICAgCiAgICAKICAgICAgICAgICAgdmFyIHBvcHVwXzYzMmRlYTcxZTczMjRjNDc5MDRkN2M3NWM5ZTA1NWE1ID0gTC5wb3B1cCh7bWF4V2lkdGg6ICcxMDAlJwogICAgICAgICAgICAKICAgICAgICAgICAgfSk7CgogICAgICAgICAgICAKICAgICAgICAgICAgICAgIHZhciBodG1sXzAxYzA0NjE0NDljODRhYjFiNWU0YzQ3MGU4YWUwMGRlID0gJChgPGRpdiBpZD0iaHRtbF8wMWMwNDYxNDQ5Yzg0YWIxYjVlNGM0NzBlOGFlMDBkZSIgc3R5bGU9IndpZHRoOiAxMDAuMCU7IGhlaWdodDogMTAwLjAlOyI+RXRvYmljb2tlLCBIdW1iZXIgQmF5IFNob3JlcywgTWltaWNvIFNvdXRoLCBOZXcgVG9yb250bzwvZGl2PmApWzBdOwogICAgICAgICAgICAgICAgcG9wdXBfNjMyZGVhNzFlNzMyNGM0NzkwNGQ3Yzc1YzllMDU1YTUuc2V0Q29udGVudChodG1sXzAxYzA0NjE0NDljODRhYjFiNWU0YzQ3MGU4YWUwMGRlKTsKICAgICAgICAgICAgCgogICAgICAgICAgICBjaXJjbGVfbWFya2VyXzVkZTM0OTQwZTUyYzQyOWViYzY1NWMyZWUyMmU3MjhhLmJpbmRQb3B1cChwb3B1cF82MzJkZWE3MWU3MzI0YzQ3OTA0ZDdjNzVjOWUwNTVhNSkKICAgICAgICAgICAgOwoKICAgICAgICAgICAgCiAgICAgICAgCiAgICAKICAgICAgICAgICAgdmFyIGNpcmNsZV9tYXJrZXJfZjMxNGUxZjlmZGM5NDVmYmE0MTg2ZmIyMzJkOGNmNGUgPSBMLmNpcmNsZU1hcmtlcigKICAgICAgICAgICAgICAgIFs0My42MDI0MTM3MDAwMDAwMSwgLTc5LjU0MzQ4NDA5OTk5OTk5XSwKICAgICAgICAgICAgICAgIHsKICAiYnViYmxpbmdNb3VzZUV2ZW50cyI6IHRydWUsCiAgImNvbG9yIjogImJsdWUiLAogICJkYXNoQXJyYXkiOiBudWxsLAogICJkYXNoT2Zmc2V0IjogbnVsbCwKICAiZmlsbCI6IHRydWUsCiAgImZpbGxDb2xvciI6ICIjMzE4NmNjIiwKICAiZmlsbE9wYWNpdHkiOiAwLjcsCiAgImZpbGxSdWxlIjogImV2ZW5vZGQiLAogICJsaW5lQ2FwIjogInJvdW5kIiwKICAibGluZUpvaW4iOiAicm91bmQiLAogICJvcGFjaXR5IjogMS4wLAogICJyYWRpdXMiOiA1LAogICJzdHJva2UiOiB0cnVlLAogICJ3ZWlnaHQiOiAzCn0KICAgICAgICAgICAgICAgICkKICAgICAgICAgICAgICAgIC5hZGRUbyhtYXBfMTdhYWNiMmZkOGU4NDQ0ZTk2NzRiNjAzNWYyZmIzZGEpOwogICAgICAgICAgICAKICAgIAogICAgICAgICAgICB2YXIgcG9wdXBfYjliMDM0OWFkOTRkNDAwOWE1ZTIxYjJhM2ZkY2QwNzAgPSBMLnBvcHVwKHttYXhXaWR0aDogJzEwMCUnCiAgICAgICAgICAgIAogICAgICAgICAgICB9KTsKCiAgICAgICAgICAgIAogICAgICAgICAgICAgICAgdmFyIGh0bWxfYzQ3Yzc3ODU1ZmM1NDgwNjgwNTQwNTExNDNjZTdhNjMgPSAkKGA8ZGl2IGlkPSJodG1sX2M0N2M3Nzg1NWZjNTQ4MDY4MDU0MDUxMTQzY2U3YTYzIiBzdHlsZT0id2lkdGg6IDEwMC4wJTsgaGVpZ2h0OiAxMDAuMCU7Ij5FdG9iaWNva2UsIEFsZGVyd29vZCwgTG9uZyBCcmFuY2g8L2Rpdj5gKVswXTsKICAgICAgICAgICAgICAgIHBvcHVwX2I5YjAzNDlhZDk0ZDQwMDlhNWUyMWIyYTNmZGNkMDcwLnNldENvbnRlbnQoaHRtbF9jNDdjNzc4NTVmYzU0ODA2ODA1NDA1MTE0M2NlN2E2Myk7CiAgICAgICAgICAgIAoKICAgICAgICAgICAgY2lyY2xlX21hcmtlcl9mMzE0ZTFmOWZkYzk0NWZiYTQxODZmYjIzMmQ4Y2Y0ZS5iaW5kUG9wdXAocG9wdXBfYjliMDM0OWFkOTRkNDAwOWE1ZTIxYjJhM2ZkY2QwNzApCiAgICAgICAgICAgIDsKCiAgICAgICAgICAgIAogICAgICAgIAogICAgCiAgICAgICAgICAgIHZhciBjaXJjbGVfbWFya2VyXzU3MWIxNjA0OGIxZjQ0OGNiYTIzN2QzYjQwYTczMzBhID0gTC5jaXJjbGVNYXJrZXIoCiAgICAgICAgICAgICAgICBbNDMuNjUzNjUzNjAwMDAwMDA1LCAtNzkuNTA2OTQzNl0sCiAgICAgICAgICAgICAgICB7CiAgImJ1YmJsaW5nTW91c2VFdmVudHMiOiB0cnVlLAogICJjb2xvciI6ICJibHVlIiwKICAiZGFzaEFycmF5IjogbnVsbCwKICAiZGFzaE9mZnNldCI6IG51bGwsCiAgImZpbGwiOiB0cnVlLAogICJmaWxsQ29sb3IiOiAiIzMxODZjYyIsCiAgImZpbGxPcGFjaXR5IjogMC43LAogICJmaWxsUnVsZSI6ICJldmVub2RkIiwKICAibGluZUNhcCI6ICJyb3VuZCIsCiAgImxpbmVKb2luIjogInJvdW5kIiwKICAib3BhY2l0eSI6IDEuMCwKICAicmFkaXVzIjogNSwKICAic3Ryb2tlIjogdHJ1ZSwKICAid2VpZ2h0IjogMwp9CiAgICAgICAgICAgICAgICApCiAgICAgICAgICAgICAgICAuYWRkVG8obWFwXzE3YWFjYjJmZDhlODQ0NGU5Njc0YjYwMzVmMmZiM2RhKTsKICAgICAgICAgICAgCiAgICAKICAgICAgICAgICAgdmFyIHBvcHVwXzY0MGQ4MTM4ZDFkZDRhNWRiMTk1ZWZiMzZmZWJkNjY0ID0gTC5wb3B1cCh7bWF4V2lkdGg6ICcxMDAlJwogICAgICAgICAgICAKICAgICAgICAgICAgfSk7CgogICAgICAgICAgICAKICAgICAgICAgICAgICAgIHZhciBodG1sX2QyMjA3YzRiMzFkMzRlNWU4ZGNkYmNlYzIyMTY1MGI2ID0gJChgPGRpdiBpZD0iaHRtbF9kMjIwN2M0YjMxZDM0ZTVlOGRjZGJjZWMyMjE2NTBiNiIgc3R5bGU9IndpZHRoOiAxMDAuMCU7IGhlaWdodDogMTAwLjAlOyI+RXRvYmljb2tlLCBUaGUgS2luZ3N3YXksIE1vbnRnb21lcnkgUm9hZCwgT2xkIE1pbGwgTm9ydGg8L2Rpdj5gKVswXTsKICAgICAgICAgICAgICAgIHBvcHVwXzY0MGQ4MTM4ZDFkZDRhNWRiMTk1ZWZiMzZmZWJkNjY0LnNldENvbnRlbnQoaHRtbF9kMjIwN2M0YjMxZDM0ZTVlOGRjZGJjZWMyMjE2NTBiNik7CiAgICAgICAgICAgIAoKICAgICAgICAgICAgY2lyY2xlX21hcmtlcl81NzFiMTYwNDhiMWY0NDhjYmEyMzdkM2I0MGE3MzMwYS5iaW5kUG9wdXAocG9wdXBfNjQwZDgxMzhkMWRkNGE1ZGIxOTVlZmIzNmZlYmQ2NjQpCiAgICAgICAgICAgIDsKCiAgICAgICAgICAgIAogICAgICAgIAogICAgCiAgICAgICAgICAgIHZhciBjaXJjbGVfbWFya2VyX2U5YTczOTg4OTAwODQ2NjRiZjI4OWRjNWJiNjk2ODkwID0gTC5jaXJjbGVNYXJrZXIoCiAgICAgICAgICAgICAgICBbNDMuNjM2MjU3OSwgLTc5LjQ5ODUwOTA5OTk5OTk5XSwKICAgICAgICAgICAgICAgIHsKICAiYnViYmxpbmdNb3VzZUV2ZW50cyI6IHRydWUsCiAgImNvbG9yIjogImJsdWUiLAogICJkYXNoQXJyYXkiOiBudWxsLAogICJkYXNoT2Zmc2V0IjogbnVsbCwKICAiZmlsbCI6IHRydWUsCiAgImZpbGxDb2xvciI6ICIjMzE4NmNjIiwKICAiZmlsbE9wYWNpdHkiOiAwLjcsCiAgImZpbGxSdWxlIjogImV2ZW5vZGQiLAogICJsaW5lQ2FwIjogInJvdW5kIiwKICAibGluZUpvaW4iOiAicm91bmQiLAogICJvcGFjaXR5IjogMS4wLAogICJyYWRpdXMiOiA1LAogICJzdHJva2UiOiB0cnVlLAogICJ3ZWlnaHQiOiAzCn0KICAgICAgICAgICAgICAgICkKICAgICAgICAgICAgICAgIC5hZGRUbyhtYXBfMTdhYWNiMmZkOGU4NDQ0ZTk2NzRiNjAzNWYyZmIzZGEpOwogICAgICAgICAgICAKICAgIAogICAgICAgICAgICB2YXIgcG9wdXBfZTBjOGRlNzVjYjdmNGM4NTkzM2RkOGU0YjlhYmViZmIgPSBMLnBvcHVwKHttYXhXaWR0aDogJzEwMCUnCiAgICAgICAgICAgIAogICAgICAgICAgICB9KTsKCiAgICAgICAgICAgIAogICAgICAgICAgICAgICAgdmFyIGh0bWxfOWUzZmI0YzU3MGRmNDJmNTgyNTJkY2VlM2ZkZThhYjQgPSAkKGA8ZGl2IGlkPSJodG1sXzllM2ZiNGM1NzBkZjQyZjU4MjUyZGNlZTNmZGU4YWI0IiBzdHlsZT0id2lkdGg6IDEwMC4wJTsgaGVpZ2h0OiAxMDAuMCU7Ij5FdG9iaWNva2UsIEh1bWJlciBCYXksIEtpbmcmIzM5O3MgTWlsbCBQYXJrLCBLaW5nc3dheSBQYXJrIFNvdXRoIEVhc3QsIE1pbWljbyBORSwgT2xkIE1pbGwgU291dGgsIFRoZSBRdWVlbnN3YXkgRWFzdCwgUm95YWwgWW9yayBTb3V0aCBFYXN0LCBTdW5ueWxlYTwvZGl2PmApWzBdOwogICAgICAgICAgICAgICAgcG9wdXBfZTBjOGRlNzVjYjdmNGM4NTkzM2RkOGU0YjlhYmViZmIuc2V0Q29udGVudChodG1sXzllM2ZiNGM1NzBkZjQyZjU4MjUyZGNlZTNmZGU4YWI0KTsKICAgICAgICAgICAgCgogICAgICAgICAgICBjaXJjbGVfbWFya2VyX2U5YTczOTg4OTAwODQ2NjRiZjI4OWRjNWJiNjk2ODkwLmJpbmRQb3B1cChwb3B1cF9lMGM4ZGU3NWNiN2Y0Yzg1OTMzZGQ4ZTRiOWFiZWJmYikKICAgICAgICAgICAgOwoKICAgICAgICAgICAgCiAgICAgICAgCiAgICAKICAgICAgICAgICAgdmFyIGNpcmNsZV9tYXJrZXJfOTlkOWZiZDU1ZTMxNGQ5N2ExNTAwN2M4YWMyMjFmYTAgPSBMLmNpcmNsZU1hcmtlcigKICAgICAgICAgICAgICAgIFs0My42Mjg4NDA4LCAtNzkuNTIwOTk5NDAwMDAwMDFdLAogICAgICAgICAgICAgICAgewogICJidWJibGluZ01vdXNlRXZlbnRzIjogdHJ1ZSwKICAiY29sb3IiOiAiYmx1ZSIsCiAgImRhc2hBcnJheSI6IG51bGwsCiAgImRhc2hPZmZzZXQiOiBudWxsLAogICJmaWxsIjogdHJ1ZSwKICAiZmlsbENvbG9yIjogIiMzMTg2Y2MiLAogICJmaWxsT3BhY2l0eSI6IDAuNywKICAiZmlsbFJ1bGUiOiAiZXZlbm9kZCIsCiAgImxpbmVDYXAiOiAicm91bmQiLAogICJsaW5lSm9pbiI6ICJyb3VuZCIsCiAgIm9wYWNpdHkiOiAxLjAsCiAgInJhZGl1cyI6IDUsCiAgInN0cm9rZSI6IHRydWUsCiAgIndlaWdodCI6IDMKfQogICAgICAgICAgICAgICAgKQogICAgICAgICAgICAgICAgLmFkZFRvKG1hcF8xN2FhY2IyZmQ4ZTg0NDRlOTY3NGI2MDM1ZjJmYjNkYSk7CiAgICAgICAgICAgIAogICAgCiAgICAgICAgICAgIHZhciBwb3B1cF82NWY1MjM4ZGY2NzU0MWJjYjM5NzkyMGE5MWI0NWMxYyA9IEwucG9wdXAoe21heFdpZHRoOiAnMTAwJScKICAgICAgICAgICAgCiAgICAgICAgICAgIH0pOwoKICAgICAgICAgICAgCiAgICAgICAgICAgICAgICB2YXIgaHRtbF9kNzgxYWEwYTRlN2I0YTdmOTdjZTJmNzdmMTUwNDU3OCA9ICQoYDxkaXYgaWQ9Imh0bWxfZDc4MWFhMGE0ZTdiNGE3Zjk3Y2UyZjc3ZjE1MDQ1NzgiIHN0eWxlPSJ3aWR0aDogMTAwLjAlOyBoZWlnaHQ6IDEwMC4wJTsiPkV0b2JpY29rZSwgS2luZ3N3YXkgUGFyayBTb3V0aCBXZXN0LCBNaW1pY28gTlcsIFRoZSBRdWVlbnN3YXkgV2VzdCwgUm95YWwgWW9yayBTb3V0aCBXZXN0LCBTb3V0aCBvZiBCbG9vcjwvZGl2PmApWzBdOwogICAgICAgICAgICAgICAgcG9wdXBfNjVmNTIzOGRmNjc1NDFiY2IzOTc5MjBhOTFiNDVjMWMuc2V0Q29udGVudChodG1sX2Q3ODFhYTBhNGU3YjRhN2Y5N2NlMmY3N2YxNTA0NTc4KTsKICAgICAgICAgICAgCgogICAgICAgICAgICBjaXJjbGVfbWFya2VyXzk5ZDlmYmQ1NWUzMTRkOTdhMTUwMDdjOGFjMjIxZmEwLmJpbmRQb3B1cChwb3B1cF82NWY1MjM4ZGY2NzU0MWJjYjM5NzkyMGE5MWI0NWMxYykKICAgICAgICAgICAgOwoKICAgICAgICAgICAgCiAgICAgICAgCiAgICAKICAgICAgICAgICAgdmFyIGNpcmNsZV9tYXJrZXJfYjhlMjYxN2NjODA0NDRjOWI3M2RiMmU2NTU1OGFhYjUgPSBMLmNpcmNsZU1hcmtlcigKICAgICAgICAgICAgICAgIFs0My42Njc4NTU2LCAtNzkuNTMyMjQyNDAwMDAwMDJdLAogICAgICAgICAgICAgICAgewogICJidWJibGluZ01vdXNlRXZlbnRzIjogdHJ1ZSwKICAiY29sb3IiOiAiYmx1ZSIsCiAgImRhc2hBcnJheSI6IG51bGwsCiAgImRhc2hPZmZzZXQiOiBudWxsLAogICJmaWxsIjogdHJ1ZSwKICAiZmlsbENvbG9yIjogIiMzMTg2Y2MiLAogICJmaWxsT3BhY2l0eSI6IDAuNywKICAiZmlsbFJ1bGUiOiAiZXZlbm9kZCIsCiAgImxpbmVDYXAiOiAicm91bmQiLAogICJsaW5lSm9pbiI6ICJyb3VuZCIsCiAgIm9wYWNpdHkiOiAxLjAsCiAgInJhZGl1cyI6IDUsCiAgInN0cm9rZSI6IHRydWUsCiAgIndlaWdodCI6IDMKfQogICAgICAgICAgICAgICAgKQogICAgICAgICAgICAgICAgLmFkZFRvKG1hcF8xN2FhY2IyZmQ4ZTg0NDRlOTY3NGI2MDM1ZjJmYjNkYSk7CiAgICAgICAgICAgIAogICAgCiAgICAgICAgICAgIHZhciBwb3B1cF8xY2NlNzI2YzQ4N2Y0MmFhOTZiMTA0OWU2YTBlYWY0NyA9IEwucG9wdXAoe21heFdpZHRoOiAnMTAwJScKICAgICAgICAgICAgCiAgICAgICAgICAgIH0pOwoKICAgICAgICAgICAgCiAgICAgICAgICAgICAgICB2YXIgaHRtbF9mZDJkYmU4ZTZjZTU0MTI1ODUyYjBkNDE2MmZmNmE2YSA9ICQoYDxkaXYgaWQ9Imh0bWxfZmQyZGJlOGU2Y2U1NDEyNTg1MmIwZDQxNjJmZjZhNmEiIHN0eWxlPSJ3aWR0aDogMTAwLjAlOyBoZWlnaHQ6IDEwMC4wJTsiPlF1ZWVuJiMzOTtzIFBhcmssIFF1ZWVuJiMzOTtzIFBhcms8L2Rpdj5gKVswXTsKICAgICAgICAgICAgICAgIHBvcHVwXzFjY2U3MjZjNDg3ZjQyYWE5NmIxMDQ5ZTZhMGVhZjQ3LnNldENvbnRlbnQoaHRtbF9mZDJkYmU4ZTZjZTU0MTI1ODUyYjBkNDE2MmZmNmE2YSk7CiAgICAgICAgICAgIAoKICAgICAgICAgICAgY2lyY2xlX21hcmtlcl9iOGUyNjE3Y2M4MDQ0NGM5YjczZGIyZTY1NTU4YWFiNS5iaW5kUG9wdXAocG9wdXBfMWNjZTcyNmM0ODdmNDJhYTk2YjEwNDllNmEwZWFmNDcpCiAgICAgICAgICAgIDsKCiAgICAgICAgICAgIAogICAgICAgIAogICAgCiAgICAgICAgICAgIHZhciBjaXJjbGVfbWFya2VyXzI5NTQ3MTlhNjUwNDQ5YzdiMmRkZDgwNDg4ODIyNmU3ID0gTC5jaXJjbGVNYXJrZXIoCiAgICAgICAgICAgICAgICBbNDMuNjUwOTQzMiwgLTc5LjU1NDcyNDQwMDAwMDAxXSwKICAgICAgICAgICAgICAgIHsKICAiYnViYmxpbmdNb3VzZUV2ZW50cyI6IHRydWUsCiAgImNvbG9yIjogImJsdWUiLAogICJkYXNoQXJyYXkiOiBudWxsLAogICJkYXNoT2Zmc2V0IjogbnVsbCwKICAiZmlsbCI6IHRydWUsCiAgImZpbGxDb2xvciI6ICIjMzE4NmNjIiwKICAiZmlsbE9wYWNpdHkiOiAwLjcsCiAgImZpbGxSdWxlIjogImV2ZW5vZGQiLAogICJsaW5lQ2FwIjogInJvdW5kIiwKICAibGluZUpvaW4iOiAicm91bmQiLAogICJvcGFjaXR5IjogMS4wLAogICJyYWRpdXMiOiA1LAogICJzdHJva2UiOiB0cnVlLAogICJ3ZWlnaHQiOiAzCn0KICAgICAgICAgICAgICAgICkKICAgICAgICAgICAgICAgIC5hZGRUbyhtYXBfMTdhYWNiMmZkOGU4NDQ0ZTk2NzRiNjAzNWYyZmIzZGEpOwogICAgICAgICAgICAKICAgIAogICAgICAgICAgICB2YXIgcG9wdXBfZTcyZWQ1MzY4NmQ1NGRjNjliNGU2MzZjMjFkNzhlMzYgPSBMLnBvcHVwKHttYXhXaWR0aDogJzEwMCUnCiAgICAgICAgICAgIAogICAgICAgICAgICB9KTsKCiAgICAgICAgICAgIAogICAgICAgICAgICAgICAgdmFyIGh0bWxfZGQzYmFmM2IyMjEwNDIwY2I1NjVmMTkxOTNlYzBlMzQgPSAkKGA8ZGl2IGlkPSJodG1sX2RkM2JhZjNiMjIxMDQyMGNiNTY1ZjE5MTkzZWMwZTM0IiBzdHlsZT0id2lkdGg6IDEwMC4wJTsgaGVpZ2h0OiAxMDAuMCU7Ij5FdG9iaWNva2UsIENsb3ZlcmRhbGUsIElzbGluZ3RvbiwgTWFydGluIEdyb3ZlLCBQcmluY2VzcyBHYXJkZW5zLCBXZXN0IERlYW5lIFBhcms8L2Rpdj5gKVswXTsKICAgICAgICAgICAgICAgIHBvcHVwX2U3MmVkNTM2ODZkNTRkYzY5YjRlNjM2YzIxZDc4ZTM2LnNldENvbnRlbnQoaHRtbF9kZDNiYWYzYjIyMTA0MjBjYjU2NWYxOTE5M2VjMGUzNCk7CiAgICAgICAgICAgIAoKICAgICAgICAgICAgY2lyY2xlX21hcmtlcl8yOTU0NzE5YTY1MDQ0OWM3YjJkZGQ4MDQ4ODgyMjZlNy5iaW5kUG9wdXAocG9wdXBfZTcyZWQ1MzY4NmQ1NGRjNjliNGU2MzZjMjFkNzhlMzYpCiAgICAgICAgICAgIDsKCiAgICAgICAgICAgIAogICAgICAgIAogICAgCiAgICAgICAgICAgIHZhciBjaXJjbGVfbWFya2VyXzMzZjFmZWZhNjU0OTQzZGFhYWI3OTE3YmM0YWM1MjM5ID0gTC5jaXJjbGVNYXJrZXIoCiAgICAgICAgICAgICAgICBbNDMuNjQzNTE1MiwgLTc5LjU3NzIwMDc5OTk5OTk5XSwKICAgICAgICAgICAgICAgIHsKICAiYnViYmxpbmdNb3VzZUV2ZW50cyI6IHRydWUsCiAgImNvbG9yIjogImJsdWUiLAogICJkYXNoQXJyYXkiOiBudWxsLAogICJkYXNoT2Zmc2V0IjogbnVsbCwKICAiZmlsbCI6IHRydWUsCiAgImZpbGxDb2xvciI6ICIjMzE4NmNjIiwKICAiZmlsbE9wYWNpdHkiOiAwLjcsCiAgImZpbGxSdWxlIjogImV2ZW5vZGQiLAogICJsaW5lQ2FwIjogInJvdW5kIiwKICAibGluZUpvaW4iOiAicm91bmQiLAogICJvcGFjaXR5IjogMS4wLAogICJyYWRpdXMiOiA1LAogICJzdHJva2UiOiB0cnVlLAogICJ3ZWlnaHQiOiAzCn0KICAgICAgICAgICAgICAgICkKICAgICAgICAgICAgICAgIC5hZGRUbyhtYXBfMTdhYWNiMmZkOGU4NDQ0ZTk2NzRiNjAzNWYyZmIzZGEpOwogICAgICAgICAgICAKICAgIAogICAgICAgICAgICB2YXIgcG9wdXBfODQ4NzI3MjQ3OTFkNDY0ZmE3N2ZlZDE4ZWEwMDhmNTcgPSBMLnBvcHVwKHttYXhXaWR0aDogJzEwMCUnCiAgICAgICAgICAgIAogICAgICAgICAgICB9KTsKCiAgICAgICAgICAgIAogICAgICAgICAgICAgICAgdmFyIGh0bWxfMjNkMzY2MDVlY2Q3NDc1N2IyYzk4MTYxNzNkMGVmZjEgPSAkKGA8ZGl2IGlkPSJodG1sXzIzZDM2NjA1ZWNkNzQ3NTdiMmM5ODE2MTczZDBlZmYxIiBzdHlsZT0id2lkdGg6IDEwMC4wJTsgaGVpZ2h0OiAxMDAuMCU7Ij5FdG9iaWNva2UsIEJsb29yZGFsZSBHYXJkZW5zLCBFcmluZ2F0ZSwgTWFya2xhbmQgV29vZCwgT2xkIEJ1cm5oYW10aG9ycGU8L2Rpdj5gKVswXTsKICAgICAgICAgICAgICAgIHBvcHVwXzg0ODcyNzI0NzkxZDQ2NGZhNzdmZWQxOGVhMDA4ZjU3LnNldENvbnRlbnQoaHRtbF8yM2QzNjYwNWVjZDc0NzU3YjJjOTgxNjE3M2QwZWZmMSk7CiAgICAgICAgICAgIAoKICAgICAgICAgICAgY2lyY2xlX21hcmtlcl8zM2YxZmVmYTY1NDk0M2RhYWFiNzkxN2JjNGFjNTIzOS5iaW5kUG9wdXAocG9wdXBfODQ4NzI3MjQ3OTFkNDY0ZmE3N2ZlZDE4ZWEwMDhmNTcpCiAgICAgICAgICAgIDsKCiAgICAgICAgICAgIAogICAgICAgIAogICAgCiAgICAgICAgICAgIHZhciBjaXJjbGVfbWFya2VyXzM2YjEwY2ZiZTg4YzQ0OTZhMjE3OGNmMGQyNzYwNWZiID0gTC5jaXJjbGVNYXJrZXIoCiAgICAgICAgICAgICAgICBbNDMuNzU2MzAzMywgLTc5LjU2NTk2MzI5OTk5OTk5XSwKICAgICAgICAgICAgICAgIHsKICAiYnViYmxpbmdNb3VzZUV2ZW50cyI6IHRydWUsCiAgImNvbG9yIjogImJsdWUiLAogICJkYXNoQXJyYXkiOiBudWxsLAogICJkYXNoT2Zmc2V0IjogbnVsbCwKICAiZmlsbCI6IHRydWUsCiAgImZpbGxDb2xvciI6ICIjMzE4NmNjIiwKICAiZmlsbE9wYWNpdHkiOiAwLjcsCiAgImZpbGxSdWxlIjogImV2ZW5vZGQiLAogICJsaW5lQ2FwIjogInJvdW5kIiwKICAibGluZUpvaW4iOiAicm91bmQiLAogICJvcGFjaXR5IjogMS4wLAogICJyYWRpdXMiOiA1LAogICJzdHJva2UiOiB0cnVlLAogICJ3ZWlnaHQiOiAzCn0KICAgICAgICAgICAgICAgICkKICAgICAgICAgICAgICAgIC5hZGRUbyhtYXBfMTdhYWNiMmZkOGU4NDQ0ZTk2NzRiNjAzNWYyZmIzZGEpOwogICAgICAgICAgICAKICAgIAogICAgICAgICAgICB2YXIgcG9wdXBfYTE5OWM5MGQzM2FmNGJhOWE5YzMwYzg0MzU5MDgyODkgPSBMLnBvcHVwKHttYXhXaWR0aDogJzEwMCUnCiAgICAgICAgICAgIAogICAgICAgICAgICB9KTsKCiAgICAgICAgICAgIAogICAgICAgICAgICAgICAgdmFyIGh0bWxfZTdlNGI1ODQ0MjY2NDk5N2EyMzBhNWQ1Y2Y1NWRlZWEgPSAkKGA8ZGl2IGlkPSJodG1sX2U3ZTRiNTg0NDI2NjQ5OTdhMjMwYTVkNWNmNTVkZWVhIiBzdHlsZT0id2lkdGg6IDEwMC4wJTsgaGVpZ2h0OiAxMDAuMCU7Ij5Ob3J0aCBZb3JrLCBIdW1iZXIgU3VtbWl0PC9kaXY+YClbMF07CiAgICAgICAgICAgICAgICBwb3B1cF9hMTk5YzkwZDMzYWY0YmE5YTljMzBjODQzNTkwODI4OS5zZXRDb250ZW50KGh0bWxfZTdlNGI1ODQ0MjY2NDk5N2EyMzBhNWQ1Y2Y1NWRlZWEpOwogICAgICAgICAgICAKCiAgICAgICAgICAgIGNpcmNsZV9tYXJrZXJfMzZiMTBjZmJlODhjNDQ5NmEyMTc4Y2YwZDI3NjA1ZmIuYmluZFBvcHVwKHBvcHVwX2ExOTljOTBkMzNhZjRiYTlhOWMzMGM4NDM1OTA4Mjg5KQogICAgICAgICAgICA7CgogICAgICAgICAgICAKICAgICAgICAKICAgIAogICAgICAgICAgICB2YXIgY2lyY2xlX21hcmtlcl8xMTFmOTIyZDY0MDk0YmM1ODhhZGRlMGNjNWM5NDg5OSA9IEwuY2lyY2xlTWFya2VyKAogICAgICAgICAgICAgICAgWzQzLjcyNDc2NTksIC03OS41MzIyNDI0MDAwMDAwMl0sCiAgICAgICAgICAgICAgICB7CiAgImJ1YmJsaW5nTW91c2VFdmVudHMiOiB0cnVlLAogICJjb2xvciI6ICJibHVlIiwKICAiZGFzaEFycmF5IjogbnVsbCwKICAiZGFzaE9mZnNldCI6IG51bGwsCiAgImZpbGwiOiB0cnVlLAogICJmaWxsQ29sb3IiOiAiIzMxODZjYyIsCiAgImZpbGxPcGFjaXR5IjogMC43LAogICJmaWxsUnVsZSI6ICJldmVub2RkIiwKICAibGluZUNhcCI6ICJyb3VuZCIsCiAgImxpbmVKb2luIjogInJvdW5kIiwKICAib3BhY2l0eSI6IDEuMCwKICAicmFkaXVzIjogNSwKICAic3Ryb2tlIjogdHJ1ZSwKICAid2VpZ2h0IjogMwp9CiAgICAgICAgICAgICAgICApCiAgICAgICAgICAgICAgICAuYWRkVG8obWFwXzE3YWFjYjJmZDhlODQ0NGU5Njc0YjYwMzVmMmZiM2RhKTsKICAgICAgICAgICAgCiAgICAKICAgICAgICAgICAgdmFyIHBvcHVwX2QyYWMxMzA2YTJjNjRjYjBhM2Q5ZmE5NjdjN2YwOGJiID0gTC5wb3B1cCh7bWF4V2lkdGg6ICcxMDAlJwogICAgICAgICAgICAKICAgICAgICAgICAgfSk7CgogICAgICAgICAgICAKICAgICAgICAgICAgICAgIHZhciBodG1sXzY4OWYyODIxMWZiZTRiN2VhYTFkNmNhZGRmZWRlMjM4ID0gJChgPGRpdiBpZD0iaHRtbF82ODlmMjgyMTFmYmU0YjdlYWExZDZjYWRkZmVkZTIzOCIgc3R5bGU9IndpZHRoOiAxMDAuMCU7IGhlaWdodDogMTAwLjAlOyI+Tm9ydGggWW9yaywgRW1lcnksIEh1bWJlcmxlYTwvZGl2PmApWzBdOwogICAgICAgICAgICAgICAgcG9wdXBfZDJhYzEzMDZhMmM2NGNiMGEzZDlmYTk2N2M3ZjA4YmIuc2V0Q29udGVudChodG1sXzY4OWYyODIxMWZiZTRiN2VhYTFkNmNhZGRmZWRlMjM4KTsKICAgICAgICAgICAgCgogICAgICAgICAgICBjaXJjbGVfbWFya2VyXzExMWY5MjJkNjQwOTRiYzU4OGFkZGUwY2M1Yzk0ODk5LmJpbmRQb3B1cChwb3B1cF9kMmFjMTMwNmEyYzY0Y2IwYTNkOWZhOTY3YzdmMDhiYikKICAgICAgICAgICAgOwoKICAgICAgICAgICAgCiAgICAgICAgCiAgICAKICAgICAgICAgICAgdmFyIGNpcmNsZV9tYXJrZXJfMzYxYjhhZjU0MDdiNDVmNDhiNDhkYWNiMDk2ZTdiZWEgPSBMLmNpcmNsZU1hcmtlcigKICAgICAgICAgICAgICAgIFs0My43MDY4NzYsIC03OS41MTgxODg0MDAwMDAwMV0sCiAgICAgICAgICAgICAgICB7CiAgImJ1YmJsaW5nTW91c2VFdmVudHMiOiB0cnVlLAogICJjb2xvciI6ICJibHVlIiwKICAiZGFzaEFycmF5IjogbnVsbCwKICAiZGFzaE9mZnNldCI6IG51bGwsCiAgImZpbGwiOiB0cnVlLAogICJmaWxsQ29sb3IiOiAiIzMxODZjYyIsCiAgImZpbGxPcGFjaXR5IjogMC43LAogICJmaWxsUnVsZSI6ICJldmVub2RkIiwKICAibGluZUNhcCI6ICJyb3VuZCIsCiAgImxpbmVKb2luIjogInJvdW5kIiwKICAib3BhY2l0eSI6IDEuMCwKICAicmFkaXVzIjogNSwKICAic3Ryb2tlIjogdHJ1ZSwKICAid2VpZ2h0IjogMwp9CiAgICAgICAgICAgICAgICApCiAgICAgICAgICAgICAgICAuYWRkVG8obWFwXzE3YWFjYjJmZDhlODQ0NGU5Njc0YjYwMzVmMmZiM2RhKTsKICAgICAgICAgICAgCiAgICAKICAgICAgICAgICAgdmFyIHBvcHVwX2Y5M2I2MDQ2ZjgyYTRjZDBiMWNmNDIwYTEzNDc5N2U3ID0gTC5wb3B1cCh7bWF4V2lkdGg6ICcxMDAlJwogICAgICAgICAgICAKICAgICAgICAgICAgfSk7CgogICAgICAgICAgICAKICAgICAgICAgICAgICAgIHZhciBodG1sXzZmNzc1NDY5MjM1OTRmYzlhMzVlMTJjZDcxYTc4NjdhID0gJChgPGRpdiBpZD0iaHRtbF82Zjc3NTQ2OTIzNTk0ZmM5YTM1ZTEyY2Q3MWE3ODY3YSIgc3R5bGU9IndpZHRoOiAxMDAuMCU7IGhlaWdodDogMTAwLjAlOyI+WW9yaywgV2VzdG9uPC9kaXY+YClbMF07CiAgICAgICAgICAgICAgICBwb3B1cF9mOTNiNjA0NmY4MmE0Y2QwYjFjZjQyMGExMzQ3OTdlNy5zZXRDb250ZW50KGh0bWxfNmY3NzU0NjkyMzU5NGZjOWEzNWUxMmNkNzFhNzg2N2EpOwogICAgICAgICAgICAKCiAgICAgICAgICAgIGNpcmNsZV9tYXJrZXJfMzYxYjhhZjU0MDdiNDVmNDhiNDhkYWNiMDk2ZTdiZWEuYmluZFBvcHVwKHBvcHVwX2Y5M2I2MDQ2ZjgyYTRjZDBiMWNmNDIwYTEzNDc5N2U3KQogICAgICAgICAgICA7CgogICAgICAgICAgICAKICAgICAgICAKICAgIAogICAgICAgICAgICB2YXIgY2lyY2xlX21hcmtlcl9jNWEyYjU0NjdmYmE0M2JmOGQzMWZmOTc2ZmM2Yjg3NiA9IEwuY2lyY2xlTWFya2VyKAogICAgICAgICAgICAgICAgWzQzLjY5NjMxOSwgLTc5LjUzMjI0MjQwMDAwMDAyXSwKICAgICAgICAgICAgICAgIHsKICAiYnViYmxpbmdNb3VzZUV2ZW50cyI6IHRydWUsCiAgImNvbG9yIjogImJsdWUiLAogICJkYXNoQXJyYXkiOiBudWxsLAogICJkYXNoT2Zmc2V0IjogbnVsbCwKICAiZmlsbCI6IHRydWUsCiAgImZpbGxDb2xvciI6ICIjMzE4NmNjIiwKICAiZmlsbE9wYWNpdHkiOiAwLjcsCiAgImZpbGxSdWxlIjogImV2ZW5vZGQiLAogICJsaW5lQ2FwIjogInJvdW5kIiwKICAibGluZUpvaW4iOiAicm91bmQiLAogICJvcGFjaXR5IjogMS4wLAogICJyYWRpdXMiOiA1LAogICJzdHJva2UiOiB0cnVlLAogICJ3ZWlnaHQiOiAzCn0KICAgICAgICAgICAgICAgICkKICAgICAgICAgICAgICAgIC5hZGRUbyhtYXBfMTdhYWNiMmZkOGU4NDQ0ZTk2NzRiNjAzNWYyZmIzZGEpOwogICAgICAgICAgICAKICAgIAogICAgICAgICAgICB2YXIgcG9wdXBfNDI3YmFiNGU5Njc4NGE1YTg4Y2E1MGZjOGFhYjQ0NGMgPSBMLnBvcHVwKHttYXhXaWR0aDogJzEwMCUnCiAgICAgICAgICAgIAogICAgICAgICAgICB9KTsKCiAgICAgICAgICAgIAogICAgICAgICAgICAgICAgdmFyIGh0bWxfMmMyZjJjZGZjNTA1NDA3MWFlZDNmZjliM2QzNDEwOGUgPSAkKGA8ZGl2IGlkPSJodG1sXzJjMmYyY2RmYzUwNTQwNzFhZWQzZmY5YjNkMzQxMDhlIiBzdHlsZT0id2lkdGg6IDEwMC4wJTsgaGVpZ2h0OiAxMDAuMCU7Ij5FdG9iaWNva2UsIFdlc3Rtb3VudDwvZGl2PmApWzBdOwogICAgICAgICAgICAgICAgcG9wdXBfNDI3YmFiNGU5Njc4NGE1YTg4Y2E1MGZjOGFhYjQ0NGMuc2V0Q29udGVudChodG1sXzJjMmYyY2RmYzUwNTQwNzFhZWQzZmY5YjNkMzQxMDhlKTsKICAgICAgICAgICAgCgogICAgICAgICAgICBjaXJjbGVfbWFya2VyX2M1YTJiNTQ2N2ZiYTQzYmY4ZDMxZmY5NzZmYzZiODc2LmJpbmRQb3B1cChwb3B1cF80MjdiYWI0ZTk2Nzg0YTVhODhjYTUwZmM4YWFiNDQ0YykKICAgICAgICAgICAgOwoKICAgICAgICAgICAgCiAgICAgICAgCiAgICAKICAgICAgICAgICAgdmFyIGNpcmNsZV9tYXJrZXJfYzkzYjMwNzAzZjZmNGZkMmI1ZmVlMjc5YTI2MzZkMTEgPSBMLmNpcmNsZU1hcmtlcigKICAgICAgICAgICAgICAgIFs0My42ODg5MDU0LCAtNzkuNTU0NzI0NDAwMDAwMDFdLAogICAgICAgICAgICAgICAgewogICJidWJibGluZ01vdXNlRXZlbnRzIjogdHJ1ZSwKICAiY29sb3IiOiAiYmx1ZSIsCiAgImRhc2hBcnJheSI6IG51bGwsCiAgImRhc2hPZmZzZXQiOiBudWxsLAogICJmaWxsIjogdHJ1ZSwKICAiZmlsbENvbG9yIjogIiMzMTg2Y2MiLAogICJmaWxsT3BhY2l0eSI6IDAuNywKICAiZmlsbFJ1bGUiOiAiZXZlbm9kZCIsCiAgImxpbmVDYXAiOiAicm91bmQiLAogICJsaW5lSm9pbiI6ICJyb3VuZCIsCiAgIm9wYWNpdHkiOiAxLjAsCiAgInJhZGl1cyI6IDUsCiAgInN0cm9rZSI6IHRydWUsCiAgIndlaWdodCI6IDMKfQogICAgICAgICAgICAgICAgKQogICAgICAgICAgICAgICAgLmFkZFRvKG1hcF8xN2FhY2IyZmQ4ZTg0NDRlOTY3NGI2MDM1ZjJmYjNkYSk7CiAgICAgICAgICAgIAogICAgCiAgICAgICAgICAgIHZhciBwb3B1cF80OTZiZGNiMmMwZTU0NjU2YWEwODFkMTEzZjcwNjg3YSA9IEwucG9wdXAoe21heFdpZHRoOiAnMTAwJScKICAgICAgICAgICAgCiAgICAgICAgICAgIH0pOwoKICAgICAgICAgICAgCiAgICAgICAgICAgICAgICB2YXIgaHRtbF9iY2U3ZTEyNTJjMDY0ZGNjOWMxMzg4MTVmOTM3YTZmOCA9ICQoYDxkaXYgaWQ9Imh0bWxfYmNlN2UxMjUyYzA2NGRjYzljMTM4ODE1ZjkzN2E2ZjgiIHN0eWxlPSJ3aWR0aDogMTAwLjAlOyBoZWlnaHQ6IDEwMC4wJTsiPkV0b2JpY29rZSwgS2luZ3N2aWV3IFZpbGxhZ2UsIE1hcnRpbiBHcm92ZSBHYXJkZW5zLCBSaWNodmlldyBHYXJkZW5zLCBTdC4gUGhpbGxpcHM8L2Rpdj5gKVswXTsKICAgICAgICAgICAgICAgIHBvcHVwXzQ5NmJkY2IyYzBlNTQ2NTZhYTA4MWQxMTNmNzA2ODdhLnNldENvbnRlbnQoaHRtbF9iY2U3ZTEyNTJjMDY0ZGNjOWMxMzg4MTVmOTM3YTZmOCk7CiAgICAgICAgICAgIAoKICAgICAgICAgICAgY2lyY2xlX21hcmtlcl9jOTNiMzA3MDNmNmY0ZmQyYjVmZWUyNzlhMjYzNmQxMS5iaW5kUG9wdXAocG9wdXBfNDk2YmRjYjJjMGU1NDY1NmFhMDgxZDExM2Y3MDY4N2EpCiAgICAgICAgICAgIDsKCiAgICAgICAgICAgIAogICAgICAgIAogICAgCiAgICAgICAgICAgIHZhciBjaXJjbGVfbWFya2VyXzdjNDg0NWFlM2U1MTQxNjRhMzFiNzM2NmZjN2U1MjMyID0gTC5jaXJjbGVNYXJrZXIoCiAgICAgICAgICAgICAgICBbNDMuNzM5NDE2Mzk5OTk5OTk2LCAtNzkuNTg4NDM2OV0sCiAgICAgICAgICAgICAgICB7CiAgImJ1YmJsaW5nTW91c2VFdmVudHMiOiB0cnVlLAogICJjb2xvciI6ICJibHVlIiwKICAiZGFzaEFycmF5IjogbnVsbCwKICAiZGFzaE9mZnNldCI6IG51bGwsCiAgImZpbGwiOiB0cnVlLAogICJmaWxsQ29sb3IiOiAiIzMxODZjYyIsCiAgImZpbGxPcGFjaXR5IjogMC43LAogICJmaWxsUnVsZSI6ICJldmVub2RkIiwKICAibGluZUNhcCI6ICJyb3VuZCIsCiAgImxpbmVKb2luIjogInJvdW5kIiwKICAib3BhY2l0eSI6IDEuMCwKICAicmFkaXVzIjogNSwKICAic3Ryb2tlIjogdHJ1ZSwKICAid2VpZ2h0IjogMwp9CiAgICAgICAgICAgICAgICApCiAgICAgICAgICAgICAgICAuYWRkVG8obWFwXzE3YWFjYjJmZDhlODQ0NGU5Njc0YjYwMzVmMmZiM2RhKTsKICAgICAgICAgICAgCiAgICAKICAgICAgICAgICAgdmFyIHBvcHVwXzQ4MDYzYWY2ZmIyMjQwOTViOGZkYjBhNmYwMDgxYzJkID0gTC5wb3B1cCh7bWF4V2lkdGg6ICcxMDAlJwogICAgICAgICAgICAKICAgICAgICAgICAgfSk7CgogICAgICAgICAgICAKICAgICAgICAgICAgICAgIHZhciBodG1sXzk2OTBkZmI1NTE0YzRjN2JhOTJjMGI0ZTRhMzdiODk0ID0gJChgPGRpdiBpZD0iaHRtbF85NjkwZGZiNTUxNGM0YzdiYTkyYzBiNGU0YTM3Yjg5NCIgc3R5bGU9IndpZHRoOiAxMDAuMCU7IGhlaWdodDogMTAwLjAlOyI+RXRvYmljb2tlLCBBbGJpb24gR2FyZGVucywgQmVhdW1vbmQgSGVpZ2h0cywgSHVtYmVyZ2F0ZSwgSmFtZXN0b3duLCBNb3VudCBPbGl2ZSwgU2lsdmVyc3RvbmUsIFNvdXRoIFN0ZWVsZXMsIFRoaXN0bGV0b3duPC9kaXY+YClbMF07CiAgICAgICAgICAgICAgICBwb3B1cF80ODA2M2FmNmZiMjI0MDk1YjhmZGIwYTZmMDA4MWMyZC5zZXRDb250ZW50KGh0bWxfOTY5MGRmYjU1MTRjNGM3YmE5MmMwYjRlNGEzN2I4OTQpOwogICAgICAgICAgICAKCiAgICAgICAgICAgIGNpcmNsZV9tYXJrZXJfN2M0ODQ1YWUzZTUxNDE2NGEzMWI3MzY2ZmM3ZTUyMzIuYmluZFBvcHVwKHBvcHVwXzQ4MDYzYWY2ZmIyMjQwOTViOGZkYjBhNmYwMDgxYzJkKQogICAgICAgICAgICA7CgogICAgICAgICAgICAKICAgICAgICAKICAgIAogICAgICAgICAgICB2YXIgY2lyY2xlX21hcmtlcl84ZDJmZDk1NzFlMWM0YzFlOGI5YmFmNjk3ZTE0MjFjMyA9IEwuY2lyY2xlTWFya2VyKAogICAgICAgICAgICAgICAgWzQzLjcwNjc0ODI5OTk5OTk5NCwgLTc5LjU5NDA1NDRdLAogICAgICAgICAgICAgICAgewogICJidWJibGluZ01vdXNlRXZlbnRzIjogdHJ1ZSwKICAiY29sb3IiOiAiYmx1ZSIsCiAgImRhc2hBcnJheSI6IG51bGwsCiAgImRhc2hPZmZzZXQiOiBudWxsLAogICJmaWxsIjogdHJ1ZSwKICAiZmlsbENvbG9yIjogIiMzMTg2Y2MiLAogICJmaWxsT3BhY2l0eSI6IDAuNywKICAiZmlsbFJ1bGUiOiAiZXZlbm9kZCIsCiAgImxpbmVDYXAiOiAicm91bmQiLAogICJsaW5lSm9pbiI6ICJyb3VuZCIsCiAgIm9wYWNpdHkiOiAxLjAsCiAgInJhZGl1cyI6IDUsCiAgInN0cm9rZSI6IHRydWUsCiAgIndlaWdodCI6IDMKfQogICAgICAgICAgICAgICAgKQogICAgICAgICAgICAgICAgLmFkZFRvKG1hcF8xN2FhY2IyZmQ4ZTg0NDRlOTY3NGI2MDM1ZjJmYjNkYSk7CiAgICAgICAgICAgIAogICAgCiAgICAgICAgICAgIHZhciBwb3B1cF85ODg5NjA2ZmEzZmY0MjZlYjRhNzJiMTliNmEyOTUzMiA9IEwucG9wdXAoe21heFdpZHRoOiAnMTAwJScKICAgICAgICAgICAgCiAgICAgICAgICAgIH0pOwoKICAgICAgICAgICAgCiAgICAgICAgICAgICAgICB2YXIgaHRtbF8xNDQ4MGE3Nzc3Yjk0NjEzOTNkMTI2MzFhNmQ5MTViZiA9ICQoYDxkaXYgaWQ9Imh0bWxfMTQ0ODBhNzc3N2I5NDYxMzkzZDEyNjMxYTZkOTE1YmYiIHN0eWxlPSJ3aWR0aDogMTAwLjAlOyBoZWlnaHQ6IDEwMC4wJTsiPkV0b2JpY29rZSwgTm9ydGh3ZXN0PC9kaXY+YClbMF07CiAgICAgICAgICAgICAgICBwb3B1cF85ODg5NjA2ZmEzZmY0MjZlYjRhNzJiMTliNmEyOTUzMi5zZXRDb250ZW50KGh0bWxfMTQ0ODBhNzc3N2I5NDYxMzkzZDEyNjMxYTZkOTE1YmYpOwogICAgICAgICAgICAKCiAgICAgICAgICAgIGNpcmNsZV9tYXJrZXJfOGQyZmQ5NTcxZTFjNGMxZThiOWJhZjY5N2UxNDIxYzMuYmluZFBvcHVwKHBvcHVwXzk4ODk2MDZmYTNmZjQyNmViNGE3MmIxOWI2YTI5NTMyKQogICAgICAgICAgICA7CgogICAgICAgICAgICAKICAgICAgICAKPC9zY3JpcHQ+\" style=\"position:absolute;width:100%;height:100%;left:0;top:0;border:none !important;\" allowfullscreen webkitallowfullscreen mozallowfullscreen></iframe></div></div>"
            ],
            "text/plain": [
              "<folium.folium.Map at 0x7f3c8e1baf28>"
            ]
          },
          "metadata": {
            "tags": []
          },
          "execution_count": 58
        }
      ]
    },
    {
      "cell_type": "markdown",
      "metadata": {
        "id": "EkL65sOIO7ol",
        "colab_type": "text"
      },
      "source": [
        "### 4.1 Foursquare credentials and version"
      ]
    },
    {
      "cell_type": "code",
      "metadata": {
        "id": "eAFwyjarLp40",
        "colab_type": "code",
        "colab": {
          "base_uri": "https://localhost:8080/",
          "height": 69
        },
        "outputId": "eb18d2b8-36e0-48a1-a32d-f274a92b00ba"
      },
      "source": [
        "CLIENT_ID = 'S52NPP2NCWKLHPGXFJLLGLUJEROEI32DGTYBGUDOM0XKLYGB' # your Foursquare ID\n",
        "CLIENT_SECRET = 'KVF0LGIYW1FNVD1WHD30WC1EGWMMX5ISCAACN2YJTTBVM2CJ' # your Foursquare Secret\n",
        "VERSION = '20180605' # Foursquare API version\n",
        "\n",
        "print('Your credentails:')\n",
        "print('CLIENT_ID: ' + CLIENT_ID)\n",
        "print('CLIENT_SECRET:' + CLIENT_SECRET)"
      ],
      "execution_count": 61,
      "outputs": [
        {
          "output_type": "stream",
          "text": [
            "Your credentails:\n",
            "CLIENT_ID: S52NPP2NCWKLHPGXFJLLGLUJEROEI32DGTYBGUDOM0XKLYGB\n",
            "CLIENT_SECRET:KVF0LGIYW1FNVD1WHD30WC1EGWMMX5ISCAACN2YJTTBVM2CJ\n"
          ],
          "name": "stdout"
        }
      ]
    },
    {
      "cell_type": "code",
      "metadata": {
        "id": "MN_CniLCPWOw",
        "colab_type": "code",
        "colab": {}
      },
      "source": [
        ""
      ],
      "execution_count": 0,
      "outputs": []
    }
  ]
}