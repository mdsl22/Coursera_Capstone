{
  "nbformat": 4,
  "nbformat_minor": 0,
  "metadata": {
    "colab": {
      "name": "Week_1.ipynb",
      "provenance": [],
      "collapsed_sections": [],
      "include_colab_link": true
    },
    "kernelspec": {
      "name": "python3",
      "display_name": "Python 3"
    }
  },
  "cells": [
    {
      "cell_type": "markdown",
      "metadata": {
        "id": "view-in-github",
        "colab_type": "text"
      },
      "source": [
        "<a href=\"https://colab.research.google.com/github/mdsl22/Coursera_Capstone/blob/master/Week_1.ipynb\" target=\"_parent\"><img src=\"https://colab.research.google.com/assets/colab-badge.svg\" alt=\"Open In Colab\"/></a>"
      ]
    },
    {
      "cell_type": "markdown",
      "metadata": {
        "id": "lTWET6OgM1Ci",
        "colab_type": "text"
      },
      "source": [
        "<h1><center>Battle of the neighborhoods</center></h1>"
      ]
    },
    {
      "cell_type": "markdown",
      "metadata": {
        "id": "qHneImbFZoDl",
        "colab_type": "text"
      },
      "source": [
        "## 1 Introduction\n",
        "\n",
        "This notebook will be used for the capstone project of the **IBM Data Science Specialization**.\n",
        "\n",
        "### 1.1 Case Study\n",
        "\n",
        "* City: Toronto, Canada\n",
        "\n",
        "* Objective: City Segmentation and Clustering\n",
        "\n",
        "* Location data: Foursquare\n",
        "\n",
        "### 1.3 Required Libraries"
      ]
    },
    {
      "cell_type": "code",
      "metadata": {
        "id": "TgOTNWr-aA4u",
        "colab_type": "code",
        "outputId": "b800b14d-b074-40a7-be5f-6ea266d96dea",
        "colab": {
          "base_uri": "https://localhost:8080/",
          "height": 33
        }
      },
      "source": [
        "import pandas as pd\n",
        "import numpy as np\n",
        "print ('Hello Capstone Project Course!')"
      ],
      "execution_count": 0,
      "outputs": [
        {
          "output_type": "stream",
          "text": [
            "Hello Capstone Project Course!\n"
          ],
          "name": "stdout"
        }
      ]
    },
    {
      "cell_type": "code",
      "metadata": {
        "id": "MQm8T2iGa7mA",
        "colab_type": "code",
        "colab": {}
      },
      "source": [
        ""
      ],
      "execution_count": 0,
      "outputs": []
    }
  ]
}