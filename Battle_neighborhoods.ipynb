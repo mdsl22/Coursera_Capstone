{
  "nbformat": 4,
  "nbformat_minor": 0,
  "metadata": {
    "colab": {
      "name": "Battle_neighborhoods.ipynb",
      "provenance": [],
      "collapsed_sections": [],
      "include_colab_link": true
    },
    "kernelspec": {
      "name": "python3",
      "display_name": "Python 3"
    }
  },
  "cells": [
    {
      "cell_type": "markdown",
      "metadata": {
        "id": "view-in-github",
        "colab_type": "text"
      },
      "source": [
        "<a href=\"https://colab.research.google.com/github/mdsl22/Coursera_Capstone/blob/master/Battle_neighborhoods.ipynb\" target=\"_parent\"><img src=\"https://colab.research.google.com/assets/colab-badge.svg\" alt=\"Open In Colab\"/></a>"
      ]
    },
    {
      "cell_type": "markdown",
      "metadata": {
        "id": "qHneImbFZoDl",
        "colab_type": "text"
      },
      "source": [
        "<h1><center>Battle of the neighborhoods</center></h1>\n",
        "\n",
        "## 1 Introduction\n",
        "\n",
        "This notebook will be used for the capstone project of the **IBM Data Science Specialization**.\n",
        "\n",
        "### 1.1 Case Study\n",
        "\n",
        "* City: Toronto, Canada\n",
        "\n",
        "* Objective: City Segmentation and Clustering\n",
        "\n",
        "* Location data: Foursquare\n",
        "\n",
        "### 1.3 Required Libraries"
      ]
    },
    {
      "cell_type": "code",
      "metadata": {
        "id": "TgOTNWr-aA4u",
        "colab_type": "code",
        "colab": {
          "base_uri": "https://localhost:8080/",
          "height": 33
        },
        "outputId": "95724bd3-de55-43a0-b5d2-e87700e21c47"
      },
      "source": [
        "import pandas as pd\n",
        "import numpy as np\n",
        "print ('Hello Capstone Project Course!')"
      ],
      "execution_count": 4,
      "outputs": [
        {
          "output_type": "stream",
          "text": [
            "Hello Capstone Project Course!\n"
          ],
          "name": "stdout"
        }
      ]
    },
    {
      "cell_type": "code",
      "metadata": {
        "id": "MQm8T2iGa7mA",
        "colab_type": "code",
        "colab": {}
      },
      "source": [
        ""
      ],
      "execution_count": 0,
      "outputs": []
    }
  ]
}